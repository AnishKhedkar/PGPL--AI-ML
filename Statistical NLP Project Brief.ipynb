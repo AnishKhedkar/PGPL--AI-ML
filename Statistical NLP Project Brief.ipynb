{
 "cells": [
  {
   "cell_type": "code",
   "execution_count": 0,
   "metadata": {
    "colab": {
     "base_uri": "https://localhost:8080/",
     "height": 86
    },
    "colab_type": "code",
    "id": "-5HzTlGpsJ-i",
    "outputId": "ce7de4df-7d3b-4365-d521-534c764f144b"
   },
   "outputs": [
    {
     "name": "stdout",
     "output_type": "stream",
     "text": [
      "[nltk_data] Downloading package punkt to /root/nltk_data...\n",
      "[nltk_data]   Package punkt is already up-to-date!\n",
      "[nltk_data] Downloading package wordnet to /root/nltk_data...\n",
      "[nltk_data]   Package wordnet is already up-to-date!\n"
     ]
    }
   ],
   "source": [
    "import pandas as pd\n",
    "import numpy as np\n",
    "import scipy as sp\n",
    "from sklearn.model_selection import train_test_split\n",
    "from sklearn.feature_extraction.text import CountVectorizer, TfidfVectorizer\n",
    "from sklearn.naive_bayes import MultinomialNB\n",
    "from sklearn.linear_model import LogisticRegression\n",
    "from sklearn import metrics\n",
    "import matplotlib.pyplot as plt\n",
    "%matplotlib inline\n",
    "import re\n",
    "import nltk\n",
    "nltk.download('punkt')\n",
    "nltk.download('wordnet')\n",
    "\n",
    "import warnings\n",
    "warnings.filterwarnings('ignore')"
   ]
  },
  {
   "cell_type": "markdown",
   "metadata": {
    "colab_type": "text",
    "id": "f4_tXWngawea"
   },
   "source": [
    "1.\tLoad the dataset (5 points)\n"
   ]
  },
  {
   "cell_type": "code",
   "execution_count": 0,
   "metadata": {
    "colab": {
     "base_uri": "https://localhost:8080/",
     "height": 34
    },
    "colab_type": "code",
    "id": "mBjdvGcdAlm4",
    "outputId": "1af63835-433d-43be-baf7-359c5cc6e475"
   },
   "outputs": [
    {
     "name": "stdout",
     "output_type": "stream",
     "text": [
      "Drive already mounted at /content/drive; to attempt to forcibly remount, call drive.mount(\"/content/drive\", force_remount=True).\n"
     ]
    }
   ],
   "source": [
    "from google.colab import drive\n",
    "drive.mount('/content/drive')"
   ]
  },
  {
   "cell_type": "code",
   "execution_count": 0,
   "metadata": {
    "colab": {},
    "colab_type": "code",
    "id": "M7xK9Ed-aLoj"
   },
   "outputs": [],
   "source": [
    "from zipfile import ZipFile\n",
    "with ZipFile('/content/drive/My Drive/NLP R8 Project /blog-authorship-corpus.zip', 'r') as z:\n",
    "  z.extractall()"
   ]
  },
  {
   "cell_type": "code",
   "execution_count": 0,
   "metadata": {
    "colab": {},
    "colab_type": "code",
    "id": "ZJ3--GUyaYel"
   },
   "outputs": [],
   "source": [
    "text = pd.read_csv('/content/blogtext.csv', nrows = 5000)"
   ]
  },
  {
   "cell_type": "code",
   "execution_count": 0,
   "metadata": {
    "colab": {
     "base_uri": "https://localhost:8080/",
     "height": 225
    },
    "colab_type": "code",
    "id": "HxmbePgLaqQ1",
    "outputId": "705363b6-9a6e-4fab-e411-692878fdd678"
   },
   "outputs": [
    {
     "name": "stdout",
     "output_type": "stream",
     "text": [
      "<class 'pandas.core.frame.DataFrame'>\n",
      "RangeIndex: 5000 entries, 0 to 4999\n",
      "Data columns (total 7 columns):\n",
      "id        5000 non-null int64\n",
      "gender    5000 non-null object\n",
      "age       5000 non-null int64\n",
      "topic     5000 non-null object\n",
      "sign      5000 non-null object\n",
      "date      5000 non-null object\n",
      "text      5000 non-null object\n",
      "dtypes: int64(2), object(5)\n",
      "memory usage: 273.6+ KB\n"
     ]
    }
   ],
   "source": [
    "text.info()"
   ]
  },
  {
   "cell_type": "code",
   "execution_count": 0,
   "metadata": {
    "colab": {
     "base_uri": "https://localhost:8080/",
     "height": 34
    },
    "colab_type": "code",
    "id": "L3YzHbw5ar1j",
    "outputId": "d9daacc1-8b15-427a-c91a-175e5e839d52"
   },
   "outputs": [
    {
     "data": {
      "text/plain": [
       "(5000, 7)"
      ]
     },
     "execution_count": 195,
     "metadata": {
      "tags": []
     },
     "output_type": "execute_result"
    }
   ],
   "source": [
    "text.shape"
   ]
  },
  {
   "cell_type": "code",
   "execution_count": 0,
   "metadata": {
    "colab": {
     "base_uri": "https://localhost:8080/",
     "height": 362
    },
    "colab_type": "code",
    "id": "72kE3xTna4P_",
    "outputId": "82122b97-ab9d-4d53-eb7c-4020fd8a30be"
   },
   "outputs": [
    {
     "data": {
      "text/html": [
       "<div>\n",
       "<style scoped>\n",
       "    .dataframe tbody tr th:only-of-type {\n",
       "        vertical-align: middle;\n",
       "    }\n",
       "\n",
       "    .dataframe tbody tr th {\n",
       "        vertical-align: top;\n",
       "    }\n",
       "\n",
       "    .dataframe thead th {\n",
       "        text-align: right;\n",
       "    }\n",
       "</style>\n",
       "<table border=\"1\" class=\"dataframe\">\n",
       "  <thead>\n",
       "    <tr style=\"text-align: right;\">\n",
       "      <th></th>\n",
       "      <th>id</th>\n",
       "      <th>gender</th>\n",
       "      <th>age</th>\n",
       "      <th>topic</th>\n",
       "      <th>sign</th>\n",
       "      <th>date</th>\n",
       "      <th>text</th>\n",
       "    </tr>\n",
       "  </thead>\n",
       "  <tbody>\n",
       "    <tr>\n",
       "      <th>0</th>\n",
       "      <td>2059027</td>\n",
       "      <td>male</td>\n",
       "      <td>15</td>\n",
       "      <td>Student</td>\n",
       "      <td>Leo</td>\n",
       "      <td>14,May,2004</td>\n",
       "      <td>Info has been found (+/- 100 pages,...</td>\n",
       "    </tr>\n",
       "    <tr>\n",
       "      <th>1</th>\n",
       "      <td>2059027</td>\n",
       "      <td>male</td>\n",
       "      <td>15</td>\n",
       "      <td>Student</td>\n",
       "      <td>Leo</td>\n",
       "      <td>13,May,2004</td>\n",
       "      <td>These are the team members:   Drewe...</td>\n",
       "    </tr>\n",
       "    <tr>\n",
       "      <th>2</th>\n",
       "      <td>2059027</td>\n",
       "      <td>male</td>\n",
       "      <td>15</td>\n",
       "      <td>Student</td>\n",
       "      <td>Leo</td>\n",
       "      <td>12,May,2004</td>\n",
       "      <td>In het kader van kernfusie op aarde...</td>\n",
       "    </tr>\n",
       "    <tr>\n",
       "      <th>3</th>\n",
       "      <td>2059027</td>\n",
       "      <td>male</td>\n",
       "      <td>15</td>\n",
       "      <td>Student</td>\n",
       "      <td>Leo</td>\n",
       "      <td>12,May,2004</td>\n",
       "      <td>testing!!!  testing!!!</td>\n",
       "    </tr>\n",
       "    <tr>\n",
       "      <th>4</th>\n",
       "      <td>3581210</td>\n",
       "      <td>male</td>\n",
       "      <td>33</td>\n",
       "      <td>InvestmentBanking</td>\n",
       "      <td>Aquarius</td>\n",
       "      <td>11,June,2004</td>\n",
       "      <td>Thanks to Yahoo!'s Toolbar I can ...</td>\n",
       "    </tr>\n",
       "    <tr>\n",
       "      <th>5</th>\n",
       "      <td>3581210</td>\n",
       "      <td>male</td>\n",
       "      <td>33</td>\n",
       "      <td>InvestmentBanking</td>\n",
       "      <td>Aquarius</td>\n",
       "      <td>10,June,2004</td>\n",
       "      <td>I had an interesting conversation...</td>\n",
       "    </tr>\n",
       "    <tr>\n",
       "      <th>6</th>\n",
       "      <td>3581210</td>\n",
       "      <td>male</td>\n",
       "      <td>33</td>\n",
       "      <td>InvestmentBanking</td>\n",
       "      <td>Aquarius</td>\n",
       "      <td>10,June,2004</td>\n",
       "      <td>Somehow Coca-Cola has a way of su...</td>\n",
       "    </tr>\n",
       "    <tr>\n",
       "      <th>7</th>\n",
       "      <td>3581210</td>\n",
       "      <td>male</td>\n",
       "      <td>33</td>\n",
       "      <td>InvestmentBanking</td>\n",
       "      <td>Aquarius</td>\n",
       "      <td>10,June,2004</td>\n",
       "      <td>If anything, Korea is a country o...</td>\n",
       "    </tr>\n",
       "    <tr>\n",
       "      <th>8</th>\n",
       "      <td>3581210</td>\n",
       "      <td>male</td>\n",
       "      <td>33</td>\n",
       "      <td>InvestmentBanking</td>\n",
       "      <td>Aquarius</td>\n",
       "      <td>10,June,2004</td>\n",
       "      <td>Take a read of this news article ...</td>\n",
       "    </tr>\n",
       "    <tr>\n",
       "      <th>9</th>\n",
       "      <td>3581210</td>\n",
       "      <td>male</td>\n",
       "      <td>33</td>\n",
       "      <td>InvestmentBanking</td>\n",
       "      <td>Aquarius</td>\n",
       "      <td>09,June,2004</td>\n",
       "      <td>I surf the English news sites a l...</td>\n",
       "    </tr>\n",
       "  </tbody>\n",
       "</table>\n",
       "</div>"
      ],
      "text/plain": [
       "        id  ...                                               text\n",
       "0  2059027  ...             Info has been found (+/- 100 pages,...\n",
       "1  2059027  ...             These are the team members:   Drewe...\n",
       "2  2059027  ...             In het kader van kernfusie op aarde...\n",
       "3  2059027  ...                   testing!!!  testing!!!          \n",
       "4  3581210  ...               Thanks to Yahoo!'s Toolbar I can ...\n",
       "5  3581210  ...               I had an interesting conversation...\n",
       "6  3581210  ...               Somehow Coca-Cola has a way of su...\n",
       "7  3581210  ...               If anything, Korea is a country o...\n",
       "8  3581210  ...               Take a read of this news article ...\n",
       "9  3581210  ...               I surf the English news sites a l...\n",
       "\n",
       "[10 rows x 7 columns]"
      ]
     },
     "execution_count": 196,
     "metadata": {
      "tags": []
     },
     "output_type": "execute_result"
    }
   ],
   "source": [
    "text.head(10)"
   ]
  },
  {
   "cell_type": "markdown",
   "metadata": {
    "colab_type": "text",
    "id": "LlOxwP4_cWFo"
   },
   "source": [
    "2.\tPreprocess rows of the “text” column (7.5 points)\n",
    "a.\tRemove unwanted characters\n",
    "b.\tConvert text to lowercase\n",
    "c.\tRemove unwanted spaces\n",
    "d.\tRemove stopwords\n"
   ]
  },
  {
   "cell_type": "code",
   "execution_count": 0,
   "metadata": {
    "colab": {},
    "colab_type": "code",
    "id": "DaZkPCRZrzO4"
   },
   "outputs": [],
   "source": [
    "#  Convert text to lowercase\n",
    "text = text.apply(lambda text: text.astype(str).str.lower())"
   ]
  },
  {
   "cell_type": "code",
   "execution_count": 0,
   "metadata": {
    "colab": {},
    "colab_type": "code",
    "id": "uurDTA8_hyHP"
   },
   "outputs": [],
   "source": [
    "# Remove unwanted characters\n",
    "text = text.applymap(lambda x:re.sub(\"[^0-9a-zA-Z#_]+\",\" \", x ))"
   ]
  },
  {
   "cell_type": "code",
   "execution_count": 0,
   "metadata": {
    "colab": {},
    "colab_type": "code",
    "id": "Jrzw_lnzrie-"
   },
   "outputs": [],
   "source": [
    "#  Remove unwanted spaces\n",
    "text =  text.applymap(lambda clean_data:clean_data.strip())"
   ]
  },
  {
   "cell_type": "code",
   "execution_count": 0,
   "metadata": {
    "colab": {
     "base_uri": "https://localhost:8080/",
     "height": 206
    },
    "colab_type": "code",
    "id": "A3-ukO11j0Xu",
    "outputId": "c7a2ab3e-89df-4240-db9c-2735756a0315"
   },
   "outputs": [
    {
     "data": {
      "text/html": [
       "<div>\n",
       "<style scoped>\n",
       "    .dataframe tbody tr th:only-of-type {\n",
       "        vertical-align: middle;\n",
       "    }\n",
       "\n",
       "    .dataframe tbody tr th {\n",
       "        vertical-align: top;\n",
       "    }\n",
       "\n",
       "    .dataframe thead th {\n",
       "        text-align: right;\n",
       "    }\n",
       "</style>\n",
       "<table border=\"1\" class=\"dataframe\">\n",
       "  <thead>\n",
       "    <tr style=\"text-align: right;\">\n",
       "      <th></th>\n",
       "      <th>id</th>\n",
       "      <th>gender</th>\n",
       "      <th>age</th>\n",
       "      <th>topic</th>\n",
       "      <th>sign</th>\n",
       "      <th>date</th>\n",
       "      <th>text</th>\n",
       "    </tr>\n",
       "  </thead>\n",
       "  <tbody>\n",
       "    <tr>\n",
       "      <th>0</th>\n",
       "      <td>2059027</td>\n",
       "      <td>male</td>\n",
       "      <td>15</td>\n",
       "      <td>student</td>\n",
       "      <td>leo</td>\n",
       "      <td>14 may 2004</td>\n",
       "      <td>info has been found 100 pages and 4 5 mb of pd...</td>\n",
       "    </tr>\n",
       "    <tr>\n",
       "      <th>1</th>\n",
       "      <td>2059027</td>\n",
       "      <td>male</td>\n",
       "      <td>15</td>\n",
       "      <td>student</td>\n",
       "      <td>leo</td>\n",
       "      <td>13 may 2004</td>\n",
       "      <td>these are the team members drewes van der laag...</td>\n",
       "    </tr>\n",
       "    <tr>\n",
       "      <th>2</th>\n",
       "      <td>2059027</td>\n",
       "      <td>male</td>\n",
       "      <td>15</td>\n",
       "      <td>student</td>\n",
       "      <td>leo</td>\n",
       "      <td>12 may 2004</td>\n",
       "      <td>in het kader van kernfusie op aarde maak je ei...</td>\n",
       "    </tr>\n",
       "    <tr>\n",
       "      <th>3</th>\n",
       "      <td>2059027</td>\n",
       "      <td>male</td>\n",
       "      <td>15</td>\n",
       "      <td>student</td>\n",
       "      <td>leo</td>\n",
       "      <td>12 may 2004</td>\n",
       "      <td>testing testing</td>\n",
       "    </tr>\n",
       "    <tr>\n",
       "      <th>4</th>\n",
       "      <td>3581210</td>\n",
       "      <td>male</td>\n",
       "      <td>33</td>\n",
       "      <td>investmentbanking</td>\n",
       "      <td>aquarius</td>\n",
       "      <td>11 june 2004</td>\n",
       "      <td>thanks to yahoo s toolbar i can now capture th...</td>\n",
       "    </tr>\n",
       "  </tbody>\n",
       "</table>\n",
       "</div>"
      ],
      "text/plain": [
       "        id  ...                                               text\n",
       "0  2059027  ...  info has been found 100 pages and 4 5 mb of pd...\n",
       "1  2059027  ...  these are the team members drewes van der laag...\n",
       "2  2059027  ...  in het kader van kernfusie op aarde maak je ei...\n",
       "3  2059027  ...                                    testing testing\n",
       "4  3581210  ...  thanks to yahoo s toolbar i can now capture th...\n",
       "\n",
       "[5 rows x 7 columns]"
      ]
     },
     "execution_count": 200,
     "metadata": {
      "tags": []
     },
     "output_type": "execute_result"
    }
   ],
   "source": [
    "text.head()"
   ]
  },
  {
   "cell_type": "code",
   "execution_count": 0,
   "metadata": {
    "colab": {},
    "colab_type": "code",
    "id": "36q6cOr7eLMd"
   },
   "outputs": [],
   "source": [
    "#Using my Own stopwords list\n",
    "stopwords1 = [\"a's\" , \"able\" , \"about\" , \"above\" , \"according\" , \"accordingly\" , \"across\" , \"actually\" , \"after\" , \"afterwards\" , \"again\" , \"against\" , \"ain't\" , \"all\" , \"allow\" , \"allows\" , \"almost\" , \"alone\" , \"along\" , \"already\" , \"also\" , \"although\" , \"always\" , \"am\" , \"among\" , \"amongst\" , \"an\" , \"and\" , \"another\" , \"any\" , \"anybody\" , \"anyhow\" , \"anyone\" , \"anything\" , \"anyway\" , \"anyways\" , \"anywhere\" , \"apart\" , \"appear\" , \"appreciate\" , \"appropriate\" , \"are\" , \"aren't\" , \"around\" , \"as\" , \"aside\" , \"ask\" , \"asking\" , \"associated\" , \"at\" , \"available\" , \"away\" , \"awfully\" , \"be\" , \"became\" , \"because\" , \"become\" , \"becomes\" , \"becoming\" , \"been\" , \"before\" , \"beforehand\" , \"behind\" , \"being\" , \"believe\" , \"below\" , \"beside\" , \"besides\" , \"best\" , \"better\" , \"between\" , \"beyond\" , \"both\" , \"brief\" , \"but\" , \"by\" , \"c'mon\" , \"c's\" , \"came\" , \"can\" , \"can't\" , \"cannot\" , \"cant\" , \"cause\" , \"causes\" , \"certain\" , \"certainly\" , \"changes\" , \"clearly\" , \"co\" , \"com\" , \"come\" , \"comes\" , \"concerning\" , \"consequently\" , \"consider\" , \"considering\" , \"contain\" , \"containing\" , \"contains\" , \"corresponding\" , \"could\" , \"couldn't\" , \"course\" , \"currently\" , \"definitely\" , \"described\" , \"despite\" , \"did\" , \"didn't\" , \"different\" , \"do\" , \"does\" , \"doesn't\" , \"doing\" , \"don't\" , \"done\" , \"down\" , \"downwards\" , \"during\" , \"each\" , \"edu\" , \"eg\" , \"eight\" , \"either\" , \"else\" , \"elsewhere\" , \"enough\" , \"entirely\" , \"especially\" , \"et\" , \"etc\" , \"even\" , \"ever\" , \"every\" , \"everybody\" , \"everyone\" , \"everything\" , \"everywhere\" , \"ex\" , \"exactly\" , \"example\" , \"except\" , \"far\" , \"few\" , \"fifth\" , \"first\" , \"five\" , \"followed\" , \"following\" , \"follows\" , \"for\" , \"former\" , \"formerly\" , \"forth\" , \"four\" , \"from\" , \"further\" , \"furthermore\" , \"get\" , \"gets\" , \"getting\" , \"given\" , \"gives\" , \"go\" , \"goes\" , \"going\" , \"gone\" , \"got\" , \"gotten\" , \"greetings\" , \"had\" , \"hadn't\" , \"happens\" , \"hardly\" , \"has\" , \"hasn't\" , \"have\" , \"haven't\" , \"having\" , \"he\" , \"he's\" , \"hello\" , \"help\" , \"hence\" , \"her\" , \"here\" , \"here's\" , \"hereafter\" , \"hereby\" , \"herein\" , \"hereupon\" , \"hers\" , \"herself\" , \"hi\" , \"him\" , \"himself\" , \"his\" , \"hither\" , \"hopefully\" , \"how\" , \"howbeit\" , \"however\" , \"i'd\" , \"i'll\" , \"i'm\" , \"i've\" , \"ie\" , \"if\" , \"ignored\" , \"immediate\" , \"in\" , \"inasmuch\" , \"inc\" , \"indeed\" , \"indicate\" , \"indicated\" , \"indicates\" , \"inner\" , \"insofar\" , \"instead\" , \"into\" , \"inward\" , \"is\" , \"isn't\" , \"it\" , \"it'd\" , \"it'll\" , \"it's\" , \"its\" , \"itself\" , \"just\" , \"keep\" , \"keeps\" , \"kept\" , \"know\" , \"known\" , \"knows\" , \"last\" , \"lately\" , \"later\" , \"latter\" , \"latterly\" , \"least\" , \"less\" , \"lest\" , \"let\" , \"let's\" , \"like\" , \"liked\" , \"likely\" , \"little\" , \"look\" , \"looking\" , \"looks\" , \"ltd\" , \"mainly\" , \"many\" , \"may\" , \"maybe\" , \"me\" , \"mean\" , \"meanwhile\" , \"merely\" , \"might\" , \"more\" , \"moreover\" , \"most\" , \"mostly\" , \"much\" , \"must\" , \"my\" , \"myself\" , \"name\" , \"namely\" , \"nd\" , \"near\" , \"nearly\" , \"necessary\" , \"need\" , \"needs\" , \"neither\" , \"never\" , \"nevertheless\" , \"new\" , \"next\" , \"nine\" , \"no\" , \"nobody\" , \"non\" , \"none\" , \"noone\" , \"nor\" , \"normally\" , \"not\" , \"nothing\" , \"novel\" , \"now\" , \"nowhere\" , \"obviously\" , \"of\" , \"off\" , \"often\" , \"oh\" , \"ok\" , \"okay\" , \"old\" , \"on\" , \"once\" , \"one\" , \"ones\" , \"only\" , \"onto\" , \"or\" , \"other\" , \"others\" , \"otherwise\" , \"ought\" , \"our\" , \"ours\" , \"ourselves\" , \"out\" , \"outside\" , \"over\" , \"overall\" , \"own\" , \"particular\" , \"particularly\" , \"per\" , \"perhaps\" , \"placed\" , \"please\" , \"plus\" , \"possible\" , \"presumably\" , \"probably\" , \"provides\" , \"que\" , \"quite\" , \"qv\" , \"rather\" , \"rd\" , \"re\" , \"really\" , \"reasonably\" , \"regarding\" , \"regardless\" , \"regards\" , \"relatively\" , \"respectively\" , \"right\" , \"said\" , \"same\" , \"saw\" , \"say\" , \"saying\" , \"says\" , \"second\" , \"secondly\" , \"see\" , \"seeing\" , \"seem\" , \"seemed\" , \"seeming\" , \"seems\" , \"seen\" , \"self\" , \"selves\" , \"sensible\" , \"sent\" , \"serious\" , \"seriously\" , \"seven\" , \"several\" , \"shall\" , \"she\" , \"should\" , \"shouldn't\" , \"since\" , \"six\" , \"so\" , \"some\" , \"somebody\" , \"somehow\" , \"someone\" , \"something\" , \"sometime\" , \"sometimes\" , \"somewhat\" , \"somewhere\" , \"soon\" , \"sorry\" , \"specified\" , \"specify\" , \"specifying\" , \"still\" , \"sub\" , \"such\" , \"sup\" , \"sure\" , \"t's\" , \"take\" , \"taken\" , \"tell\" , \"tends\" , \"th\" , \"than\" , \"thank\" , \"thanks\" , \"thanx\" , \"that\" , \"that's\" , \"thats\" , \"the\" , \"their\" , \"theirs\" , \"them\" , \"themselves\" , \"then\" , \"thence\" , \"there\" , \"there's\" , \"thereafter\" , \"thereby\" , \"therefore\" , \"therein\" , \"theres\" , \"thereupon\" , \"these\" , \"they\" , \"they'd\" , \"they'll\" , \"they're\" , \"they've\" , \"think\" , \"third\" , \"this\" , \"thorough\" , \"thoroughly\" , \"those\" , \"though\" , \"three\" , \"through\" , \"throughout\" , \"thru\" , \"thus\" , \"to\" , \"together\" , \"too\" , \"took\" , \"toward\" , \"towards\" , \"tried\" , \"tries\" , \"truly\" , \"try\" , \"trying\" , \"twice\" , \"two\" , \"un\" , \"under\" , \"unfortunately\" , \"unless\" , \"unlikely\" , \"until\" , \"unto\" , \"up\" , \"upon\" , \"us\" , \"use\" , \"used\" , \"useful\" , \"uses\" , \"using\" , \"usually\" , \"value\" , \"various\" , \"very\" , \"via\" , \"viz\" , \"vs\" , \"want\" , \"wants\" , \"was\" , \"wasn't\" , \"way\" , \"we\" , \"we'd\" , \"we'll\" , \"we're\" , \"we've\" , \"welcome\" , \"well\" , \"went\" , \"were\" , \"weren't\" , \"what\" , \"what's\" , \"whatever\" , \"when\" , \"whence\" , \"whenever\" , \"where\" , \"where's\" , \"whereafter\" , \"whereas\" , \"whereby\" , \"wherein\" , \"whereupon\" , \"wherever\" , \"whether\" , \"which\" , \"while\" , \"whither\" , \"who\" , \"who's\" , \"whoever\" , \"whole\" , \"whom\" , \"whose\" , \"why\" , \"will\" , \"willing\" , \"wish\" , \"with\" , \"within\" , \"without\" , \"won't\" , \"wonder\" , \"would\" , \"wouldn't\" , \"yes\" , \"yet\" , \"you\" , \"you'd\" , \"you'll\" , \"you're\" , \"you've\" , \"your\" , \"yours\" , \"yourself\" , \"yourselves\" , \"zero\"]\n"
   ]
  },
  {
   "cell_type": "code",
   "execution_count": 0,
   "metadata": {
    "colab": {},
    "colab_type": "code",
    "id": "eCQc-RNMguGh"
   },
   "outputs": [],
   "source": [
    "#import nltk\n",
    "#nltk.download(\"popular\")\n",
    "#from nltk.corpus import stopwords\n",
    "#len(stopwords.words('english'))"
   ]
  },
  {
   "cell_type": "code",
   "execution_count": 0,
   "metadata": {
    "colab": {},
    "colab_type": "code",
    "id": "x8xPYLxQuGeg"
   },
   "outputs": [],
   "source": [
    " #Remove stopwords\n",
    "text['text'] = text['text'].apply(lambda x: ' '.join([word for word in x.split() if word not in (stopwords1)]))"
   ]
  },
  {
   "cell_type": "markdown",
   "metadata": {
    "colab_type": "text",
    "id": "Yig3JtAgd36R"
   },
   "source": [
    "3.\tAs we want to make this into a multi-label classification problem, you are required to merge all the label columns together, so that we have all the labels together for a particular sentence (7.5 points)\n",
    "\n",
    "  a.\tLabel columns to merge: “gender”, “age”, “topic”, “sign”\n",
    "  \n",
    "  b.\tAfter completing the previous step, there should be only two columns in your data frame i.e. “text” and “labels” as shown in the below image"
   ]
  },
  {
   "cell_type": "code",
   "execution_count": 0,
   "metadata": {
    "colab": {},
    "colab_type": "code",
    "id": "3-2hEPcZ_Iuk"
   },
   "outputs": [],
   "source": [
    "text['labels']= text[['gender','age', 'topic', 'sign']].values.tolist()"
   ]
  },
  {
   "cell_type": "code",
   "execution_count": 0,
   "metadata": {
    "colab": {},
    "colab_type": "code",
    "id": "zu-zs6sK-GW3"
   },
   "outputs": [],
   "source": [
    "text.drop(labels = ['gender', 'age', 'topic', 'id', 'sign', 'date'], axis = 1, inplace = True)"
   ]
  },
  {
   "cell_type": "code",
   "execution_count": 0,
   "metadata": {
    "colab": {
     "base_uri": "https://localhost:8080/",
     "height": 206
    },
    "colab_type": "code",
    "id": "H5gBh616-awG",
    "outputId": "242d8f93-073e-4725-8628-9c7b151f24d5"
   },
   "outputs": [
    {
     "data": {
      "text/html": [
       "<div>\n",
       "<style scoped>\n",
       "    .dataframe tbody tr th:only-of-type {\n",
       "        vertical-align: middle;\n",
       "    }\n",
       "\n",
       "    .dataframe tbody tr th {\n",
       "        vertical-align: top;\n",
       "    }\n",
       "\n",
       "    .dataframe thead th {\n",
       "        text-align: right;\n",
       "    }\n",
       "</style>\n",
       "<table border=\"1\" class=\"dataframe\">\n",
       "  <thead>\n",
       "    <tr style=\"text-align: right;\">\n",
       "      <th></th>\n",
       "      <th>text</th>\n",
       "      <th>labels</th>\n",
       "    </tr>\n",
       "  </thead>\n",
       "  <tbody>\n",
       "    <tr>\n",
       "      <th>0</th>\n",
       "      <td>info found 100 pages 4 5 mb pdf files i wait u...</td>\n",
       "      <td>[male, 15, student, leo]</td>\n",
       "    </tr>\n",
       "    <tr>\n",
       "      <th>1</th>\n",
       "      <td>team members drewes van der laag urllink mail ...</td>\n",
       "      <td>[male, 15, student, leo]</td>\n",
       "    </tr>\n",
       "    <tr>\n",
       "      <th>2</th>\n",
       "      <td>het kader van kernfusie op aarde maak je eigen...</td>\n",
       "      <td>[male, 15, student, leo]</td>\n",
       "    </tr>\n",
       "    <tr>\n",
       "      <th>3</th>\n",
       "      <td>testing testing</td>\n",
       "      <td>[male, 15, student, leo]</td>\n",
       "    </tr>\n",
       "    <tr>\n",
       "      <th>4</th>\n",
       "      <td>yahoo s toolbar i capture urls popups means i ...</td>\n",
       "      <td>[male, 33, investmentbanking, aquarius]</td>\n",
       "    </tr>\n",
       "  </tbody>\n",
       "</table>\n",
       "</div>"
      ],
      "text/plain": [
       "                                                text                                   labels\n",
       "0  info found 100 pages 4 5 mb pdf files i wait u...                 [male, 15, student, leo]\n",
       "1  team members drewes van der laag urllink mail ...                 [male, 15, student, leo]\n",
       "2  het kader van kernfusie op aarde maak je eigen...                 [male, 15, student, leo]\n",
       "3                                    testing testing                 [male, 15, student, leo]\n",
       "4  yahoo s toolbar i capture urls popups means i ...  [male, 33, investmentbanking, aquarius]"
      ]
     },
     "execution_count": 206,
     "metadata": {
      "tags": []
     },
     "output_type": "execute_result"
    }
   ],
   "source": [
    "text.head()"
   ]
  },
  {
   "cell_type": "markdown",
   "metadata": {
    "colab_type": "text",
    "id": "sKKMyy86fMMv"
   },
   "source": [
    "4.\tSeparate features and labels, and split the data into training and testing (5 points)"
   ]
  },
  {
   "cell_type": "code",
   "execution_count": 0,
   "metadata": {
    "colab": {},
    "colab_type": "code",
    "id": "0wTGvu2_fQJh"
   },
   "outputs": [],
   "source": [
    "X = text.text\n",
    "y = text.labels"
   ]
  },
  {
   "cell_type": "code",
   "execution_count": 0,
   "metadata": {
    "colab": {},
    "colab_type": "code",
    "id": "r_-cRcGQfQNA"
   },
   "outputs": [],
   "source": [
    "X_train, X_test, y_train, y_test = train_test_split(X, y, random_state=1)"
   ]
  },
  {
   "cell_type": "code",
   "execution_count": 0,
   "metadata": {
    "colab": {
     "base_uri": "https://localhost:8080/",
     "height": 86
    },
    "colab_type": "code",
    "id": "vuO4ukBa3DwQ",
    "outputId": "fe0f71d6-1be3-44cc-98f1-81fd110e0665"
   },
   "outputs": [
    {
     "name": "stdout",
     "output_type": "stream",
     "text": [
      "Shape of XTrain :  (3750,)\n",
      "Shape of YTrain :  (3750,)\n",
      "Shape of XTest :  (1250,)\n",
      "Shape of YTest :  (1250,)\n"
     ]
    }
   ],
   "source": [
    "print(\"Shape of XTrain : \", X_train.shape)\n",
    "print(\"Shape of YTrain : \", y_train.shape)\n",
    "print(\"Shape of XTest : \", X_test.shape)\n",
    "print(\"Shape of YTest : \", y_test.shape)"
   ]
  },
  {
   "cell_type": "markdown",
   "metadata": {
    "colab_type": "text",
    "id": "E851nKNf3g-E"
   },
   "source": [
    "5.\tVectorize the features (5 points)\n",
    "    a.\tCreate a Bag of Words using count vectorizer\n",
    "\n",
    "      i.\tUse ngram_range=(1, 2)\n",
    "\n",
    "      ii.\tVectorize training and testing features\n",
    "\n",
    "    b.\tPrint the term-document matrix"
   ]
  },
  {
   "cell_type": "code",
   "execution_count": 0,
   "metadata": {
    "colab": {},
    "colab_type": "code",
    "id": "fhlvTy613z83"
   },
   "outputs": [],
   "source": [
    "vect = CountVectorizer(ngram_range=(1, 2), stop_words='english')"
   ]
  },
  {
   "cell_type": "code",
   "execution_count": 0,
   "metadata": {
    "colab": {},
    "colab_type": "code",
    "id": "ZUrOiDtY3z6z"
   },
   "outputs": [],
   "source": [
    "X_train_dtm = vect.fit_transform(X_train)\n",
    "X_test_dtm = vect.transform(X_test)"
   ]
  },
  {
   "cell_type": "code",
   "execution_count": 0,
   "metadata": {
    "colab": {
     "base_uri": "https://localhost:8080/",
     "height": 34
    },
    "colab_type": "code",
    "id": "WgDhrH2k3z4V",
    "outputId": "03a4bde6-c2c0-4ac5-bfa8-def5b28b3a10"
   },
   "outputs": [
    {
     "data": {
      "text/plain": [
       "(3750, 216138)"
      ]
     },
     "execution_count": 212,
     "metadata": {
      "tags": []
     },
     "output_type": "execute_result"
    }
   ],
   "source": [
    "X_train_dtm.shape"
   ]
  },
  {
   "cell_type": "code",
   "execution_count": 0,
   "metadata": {
    "colab": {
     "base_uri": "https://localhost:8080/",
     "height": 901
    },
    "colab_type": "code",
    "id": "rOL6UMFH9rjA",
    "outputId": "f42525fe-72e1-485d-efc1-898935119c88"
   },
   "outputs": [
    {
     "name": "stdout",
     "output_type": "stream",
     "text": [
      "  (0, 209965)\t1\n",
      "  (0, 94037)\t1\n",
      "  (0, 210010)\t1\n",
      "  (1, 207378)\t3\n",
      "  (1, 211530)\t1\n",
      "  (1, 85309)\t1\n",
      "  (1, 180032)\t1\n",
      "  (1, 58456)\t1\n",
      "  (1, 201509)\t2\n",
      "  (1, 31083)\t1\n",
      "  (1, 123436)\t1\n",
      "  (1, 110661)\t2\n",
      "  (1, 126607)\t1\n",
      "  (1, 49869)\t1\n",
      "  (1, 206644)\t1\n",
      "  (1, 57715)\t1\n",
      "  (1, 132630)\t2\n",
      "  (1, 207804)\t2\n",
      "  (1, 116550)\t1\n",
      "  (1, 84999)\t1\n",
      "  (1, 211469)\t1\n",
      "  (1, 28622)\t1\n",
      "  (1, 107094)\t1\n",
      "  (1, 173800)\t1\n",
      "  (1, 185225)\t2\n",
      "  :\t:\n",
      "  (3748, 134501)\t1\n",
      "  (3748, 192635)\t1\n",
      "  (3748, 76200)\t1\n",
      "  (3748, 105585)\t1\n",
      "  (3748, 209858)\t1\n",
      "  (3748, 105583)\t1\n",
      "  (3748, 89473)\t1\n",
      "  (3748, 79228)\t1\n",
      "  (3748, 108958)\t1\n",
      "  (3748, 161099)\t1\n",
      "  (3748, 53792)\t1\n",
      "  (3748, 133476)\t1\n",
      "  (3748, 23171)\t1\n",
      "  (3748, 111767)\t1\n",
      "  (3748, 168492)\t1\n",
      "  (3748, 105112)\t1\n",
      "  (3748, 61640)\t1\n",
      "  (3748, 7557)\t1\n",
      "  (3748, 161712)\t1\n",
      "  (3748, 152761)\t1\n",
      "  (3748, 214019)\t1\n",
      "  (3748, 105586)\t1\n",
      "  (3749, 56796)\t1\n",
      "  (3749, 209235)\t1\n",
      "  (3749, 56827)\t1\n"
     ]
    }
   ],
   "source": [
    "print(X_train_dtm)"
   ]
  },
  {
   "cell_type": "markdown",
   "metadata": {
    "colab_type": "text",
    "id": "IlAxU_fvt7cn"
   },
   "source": [
    "6.\tCreate a dictionary to get the count of every label i.e. the key will be label name and value will be the total count of the label. Check below image for reference (5 points) "
   ]
  },
  {
   "cell_type": "code",
   "execution_count": 0,
   "metadata": {
    "colab": {},
    "colab_type": "code",
    "id": "Wi_z-Dq63zy6"
   },
   "outputs": [],
   "source": [
    "z = text.labels\n",
    "from collections import Counter\n",
    "count =  Counter(x for xs in z for x in set(xs))\n"
   ]
  },
  {
   "cell_type": "code",
   "execution_count": 0,
   "metadata": {
    "colab": {
     "base_uri": "https://localhost:8080/",
     "height": 953
    },
    "colab_type": "code",
    "id": "TBy5HJ1AHGlL",
    "outputId": "d04dcbc8-bf79-4d97-f0cf-ac9cac6cc4f8"
   },
   "outputs": [
    {
     "data": {
      "text/plain": [
       "[('male', 3294),\n",
       " ('aries', 2483),\n",
       " ('technology', 2332),\n",
       " ('35', 2307),\n",
       " ('female', 1706),\n",
       " ('indunk', 1381),\n",
       " ('sagittarius', 704),\n",
       " ('student', 569),\n",
       " ('34', 540),\n",
       " ('libra', 414),\n",
       " ('scorpio', 408),\n",
       " ('24', 353),\n",
       " ('15', 339),\n",
       " ('17', 331),\n",
       " ('aquarius', 329),\n",
       " ('25', 268),\n",
       " ('leo', 190),\n",
       " ('14', 170),\n",
       " ('23', 137),\n",
       " ('engineering', 119),\n",
       " ('education', 118),\n",
       " ('33', 101),\n",
       " ('taurus', 100),\n",
       " ('26', 96),\n",
       " ('cancer', 94),\n",
       " ('businessservices', 87),\n",
       " ('gemini', 86),\n",
       " ('27', 86),\n",
       " ('capricorn', 84),\n",
       " ('39', 79),\n",
       " ('sports recreation', 75),\n",
       " ('investmentbanking', 70),\n",
       " ('pisces', 67),\n",
       " ('16', 67),\n",
       " ('communications media', 61),\n",
       " ('36', 60),\n",
       " ('non profit', 47),\n",
       " ('virgo', 41),\n",
       " ('science', 33),\n",
       " ('arts', 31),\n",
       " ('internet', 20),\n",
       " ('37', 19),\n",
       " ('banking', 16),\n",
       " ('consulting', 16),\n",
       " ('45', 14),\n",
       " ('41', 14),\n",
       " ('automotive', 14),\n",
       " ('42', 9),\n",
       " ('46', 7),\n",
       " ('religion', 4),\n",
       " ('44', 3),\n",
       " ('law', 3),\n",
       " ('museums libraries', 2),\n",
       " ('accounting', 2)]"
      ]
     },
     "execution_count": 215,
     "metadata": {
      "tags": []
     },
     "output_type": "execute_result"
    }
   ],
   "source": [
    "count.most_common()"
   ]
  },
  {
   "cell_type": "markdown",
   "metadata": {
    "colab_type": "text",
    "id": "Y-xkn3Yochct"
   },
   "source": [
    "Transform the labels - (7.5 points)\n",
    "\n",
    "a.\tConvert your train and test labels using MultiLabelBinarizer\n"
   ]
  },
  {
   "cell_type": "code",
   "execution_count": 0,
   "metadata": {
    "colab": {},
    "colab_type": "code",
    "id": "h0Gpm0bacgiY"
   },
   "outputs": [],
   "source": [
    "from sklearn.preprocessing import MultiLabelBinarizer\n",
    "mlb = MultiLabelBinarizer() #classes = count.elements"
   ]
  },
  {
   "cell_type": "code",
   "execution_count": 0,
   "metadata": {
    "colab": {},
    "colab_type": "code",
    "id": "g0M75NY4cggw"
   },
   "outputs": [],
   "source": [
    "ytrain = mlb.fit_transform(y_train)\n",
    "ytest = mlb.transform(y_test)"
   ]
  },
  {
   "cell_type": "code",
   "execution_count": 0,
   "metadata": {
    "colab": {
     "base_uri": "https://localhost:8080/",
     "height": 34
    },
    "colab_type": "code",
    "id": "EAUH7Ks95CLF",
    "outputId": "6a260df0-e501-45f5-95bb-0d6fd44dcd29"
   },
   "outputs": [
    {
     "data": {
      "text/plain": [
       "(3750, 54)"
      ]
     },
     "execution_count": 218,
     "metadata": {
      "tags": []
     },
     "output_type": "execute_result"
    }
   ],
   "source": [
    "ytrain.shape"
   ]
  },
  {
   "cell_type": "code",
   "execution_count": 0,
   "metadata": {
    "colab": {
     "base_uri": "https://localhost:8080/",
     "height": 34
    },
    "colab_type": "code",
    "id": "jx1pnpXI3-Gs",
    "outputId": "6d652410-e43b-474c-f04d-a752c0bf4621"
   },
   "outputs": [
    {
     "data": {
      "text/plain": [
       "(1250, 54)"
      ]
     },
     "execution_count": 219,
     "metadata": {
      "tags": []
     },
     "output_type": "execute_result"
    }
   ],
   "source": [
    "ytest.shape"
   ]
  },
  {
   "cell_type": "markdown",
   "metadata": {
    "colab_type": "text",
    "id": "m7oPiEeugT2l"
   },
   "source": [
    "Choose a classifier - (5 points)\n",
    "\n",
    "In this task, we suggest using the One-vs-Rest approach, which is implemented in OneVsRestClassifier class. In this approach k classifiers (= number of tags) are trained. As a basic classifier, use LogisticRegression. It is one of the simplest methods, but often it performs good enough in text classification tasks. It might take some time because the number of classifiers to train is large.\n",
    "\n",
    "a.\tUse a linear classifier of your choice, wrap it up in OneVsRestClassifier to train it on every label\n",
    "\n",
    "b.\tAs One-vs-Rest approach might not have been discussed in the sessions, we are providing you the code for that\n"
   ]
  },
  {
   "cell_type": "code",
   "execution_count": 0,
   "metadata": {
    "colab": {},
    "colab_type": "code",
    "id": "JbJQSb9hgZG_"
   },
   "outputs": [],
   "source": [
    "from sklearn.multiclass import OneVsRestClassifier\n",
    "from sklearn.linear_model import LogisticRegression"
   ]
  },
  {
   "cell_type": "code",
   "execution_count": 0,
   "metadata": {
    "colab": {},
    "colab_type": "code",
    "id": "sI3B9L7mcgb_"
   },
   "outputs": [],
   "source": [
    "clf = LogisticRegression(solver = 'lbfgs')\n",
    "clf = OneVsRestClassifier(clf)"
   ]
  },
  {
   "cell_type": "code",
   "execution_count": 0,
   "metadata": {
    "colab": {
     "base_uri": "https://localhost:8080/",
     "height": 190
    },
    "colab_type": "code",
    "id": "NSKy32oNcgVg",
    "outputId": "ee8123ea-d058-448f-d042-39da4374fb3f"
   },
   "outputs": [
    {
     "data": {
      "text/plain": [
       "OneVsRestClassifier(estimator=LogisticRegression(C=1.0, class_weight=None,\n",
       "                                                 dual=False, fit_intercept=True,\n",
       "                                                 intercept_scaling=1,\n",
       "                                                 l1_ratio=None, max_iter=100,\n",
       "                                                 multi_class='warn',\n",
       "                                                 n_jobs=None, penalty='l2',\n",
       "                                                 random_state=None,\n",
       "                                                 solver='lbfgs', tol=0.0001,\n",
       "                                                 verbose=0, warm_start=False),\n",
       "                    n_jobs=None)"
      ]
     },
     "execution_count": 222,
     "metadata": {
      "tags": []
     },
     "output_type": "execute_result"
    }
   ],
   "source": [
    "clf.fit(X_train_dtm, ytrain)"
   ]
  },
  {
   "cell_type": "code",
   "execution_count": 0,
   "metadata": {
    "colab": {},
    "colab_type": "code",
    "id": "A5sCaZrEmDdH"
   },
   "outputs": [],
   "source": [
    "y_pred_class = clf.predict(X_test_dtm)"
   ]
  },
  {
   "cell_type": "code",
   "execution_count": 0,
   "metadata": {
    "colab": {
     "base_uri": "https://localhost:8080/",
     "height": 34
    },
    "colab_type": "code",
    "id": "K0Dz7yIssUwy",
    "outputId": "3b6b2ad3-4201-43a4-de54-a7f044f397f9"
   },
   "outputs": [
    {
     "name": "stdout",
     "output_type": "stream",
     "text": [
      "0.5424\n"
     ]
    }
   ],
   "source": [
    "print(metrics.accuracy_score(ytest, y_pred_class))"
   ]
  },
  {
   "cell_type": "code",
   "execution_count": 0,
   "metadata": {
    "colab": {},
    "colab_type": "code",
    "id": "2D5Dj9bCWXoD"
   },
   "outputs": [],
   "source": [
    "# will attempt to see if parameter tuning for count vectorizer is improving the accuracy score\n",
    "def model(vect):\n",
    "    X_train_dtm = vect.fit_transform(X_train)\n",
    "    X_test_dtm = vect.transform(X_test)\n",
    "    print('Features: ', X_train_dtm.shape[1])\n",
    "    ytrain = mlb.fit_transform(y_train)\n",
    "    ytest = mlb.transform(y_test)\n",
    "    clf = LogisticRegression()\n",
    "    clf = OneVsRestClassifier(clf)\n",
    "    clf.fit(X_train_dtm, ytrain)\n",
    "    y_pred_class = clf.predict(X_test_dtm)\n",
    "    print(\"Accuracy : \", metrics.accuracy_score(ytest, y_pred_class))"
   ]
  },
  {
   "cell_type": "code",
   "execution_count": 0,
   "metadata": {
    "colab": {
     "base_uri": "https://localhost:8080/",
     "height": 51
    },
    "colab_type": "code",
    "id": "ZdBsBucvYaqA",
    "outputId": "fa4b489a-b374-4c53-c80e-dce2e348ad06"
   },
   "outputs": [
    {
     "name": "stdout",
     "output_type": "stream",
     "text": [
      "Features:  9671\n",
      "Accuracy :  0.5384\n"
     ]
    }
   ],
   "source": [
    "vect = CountVectorizer(max_features=10000, min_df=3 )\n",
    "model(vect)"
   ]
  },
  {
   "cell_type": "code",
   "execution_count": 0,
   "metadata": {
    "colab": {
     "base_uri": "https://localhost:8080/",
     "height": 51
    },
    "colab_type": "code",
    "id": "JsTY0KKYYamI",
    "outputId": "875d230f-6c46-46fe-d852-51e41e4d5c7f"
   },
   "outputs": [
    {
     "name": "stdout",
     "output_type": "stream",
     "text": [
      "Features:  10000\n",
      "Accuracy :  0.5456\n"
     ]
    }
   ],
   "source": [
    "vect = CountVectorizer(max_features=10000, ngram_range=(1, 3), min_df= 2 )\n",
    "model(vect)"
   ]
  },
  {
   "cell_type": "code",
   "execution_count": 0,
   "metadata": {
    "colab": {
     "base_uri": "https://localhost:8080/",
     "height": 51
    },
    "colab_type": "code",
    "id": "7TZV777FaqNo",
    "outputId": "f03a2bf4-69fa-4e2c-b6f9-51afb533cee0"
   },
   "outputs": [
    {
     "name": "stdout",
     "output_type": "stream",
     "text": [
      "Features:  20000\n",
      "Accuracy :  0.4304\n"
     ]
    }
   ],
   "source": [
    "vect = TfidfVectorizer(stop_words='english', max_features=20000, ngram_range=(1, 3))\n",
    "model(vect)"
   ]
  },
  {
   "cell_type": "code",
   "execution_count": 0,
   "metadata": {
    "colab": {},
    "colab_type": "code",
    "id": "WfZydZykS5HB"
   },
   "outputs": [],
   "source": [
    "import nltk"
   ]
  },
  {
   "cell_type": "code",
   "execution_count": 0,
   "metadata": {
    "colab": {},
    "colab_type": "code",
    "id": "5M8I92ZpR-5p"
   },
   "outputs": [],
   "source": [
    "from nltk import word_tokenize          \n",
    "from nltk.stem import WordNetLemmatizer \n",
    "class LemmaTokenizer(object):\n",
    "    def __init__(self):\n",
    "        self.wnl = WordNetLemmatizer()\n",
    "    def __call__(self, articles):\n",
    "        return [self.wnl.lemmatize(t) for t in word_tokenize(articles)]\n"
   ]
  },
  {
   "cell_type": "code",
   "execution_count": 0,
   "metadata": {
    "colab": {},
    "colab_type": "code",
    "id": "j1Tu851VTTMk"
   },
   "outputs": [],
   "source": [
    "tf_vectorizer = CountVectorizer(tokenizer=LemmaTokenizer(),\n",
    "                                strip_accents = 'unicode',  \n",
    "                                stop_words = 'english', \n",
    "                                #lowercase = True, \n",
    "                                #max_df = 0.5, # works\n",
    "                                min_df = 3,\n",
    "                                ngram_range=(1, 2),\n",
    "                                max_features=20000 \n",
    "                                ) # works"
   ]
  },
  {
   "cell_type": "code",
   "execution_count": 0,
   "metadata": {
    "colab": {
     "base_uri": "https://localhost:8080/",
     "height": 51
    },
    "colab_type": "code",
    "id": "Z3aU26tNUQfE",
    "outputId": "13667516-524c-407a-c7e3-39542e169668"
   },
   "outputs": [
    {
     "name": "stdout",
     "output_type": "stream",
     "text": [
      "Features:  13870\n",
      "Accuracy :  0.5352\n"
     ]
    }
   ],
   "source": [
    "model(tf_vectorizer)"
   ]
  },
  {
   "cell_type": "markdown",
   "metadata": {
    "colab_type": "text",
    "id": "G0z4x6d_djCX"
   },
   "source": [
    "Fit the classifier, make predictions and get the accuracy (5 points)\n",
    "a.\tPrint the following\n",
    "  \n",
    "  i.\tAccuracy score\n",
    "\n",
    "  ii.\tF1 score\n",
    "\n",
    "  iii.\tAverage precision score\n",
    "\n",
    "  iv.\tAverage recall scorev.\t\n",
    "  \n",
    "Tip: Make sure you are familiar with all of them. How would you expect the things to work for the multi-label scenario? \n",
    "Read about micro/macro/weighted averaging\n"
   ]
  },
  {
   "cell_type": "code",
   "execution_count": 0,
   "metadata": {
    "colab": {
     "base_uri": "https://localhost:8080/",
     "height": 190
    },
    "colab_type": "code",
    "id": "etd4Ob5gpEHe",
    "outputId": "1e44a191-505e-46e7-9fb2-81d75d89f51c"
   },
   "outputs": [
    {
     "data": {
      "text/plain": [
       "OneVsRestClassifier(estimator=LogisticRegression(C=1.0, class_weight=None,\n",
       "                                                 dual=False, fit_intercept=True,\n",
       "                                                 intercept_scaling=1,\n",
       "                                                 l1_ratio=None, max_iter=100,\n",
       "                                                 multi_class='warn',\n",
       "                                                 n_jobs=None, penalty='l2',\n",
       "                                                 random_state=None,\n",
       "                                                 solver='lbfgs', tol=0.0001,\n",
       "                                                 verbose=0, warm_start=False),\n",
       "                    n_jobs=None)"
      ]
     },
     "execution_count": 233,
     "metadata": {
      "tags": []
     },
     "output_type": "execute_result"
    }
   ],
   "source": [
    "clf.fit(X_train_dtm, ytrain)"
   ]
  },
  {
   "cell_type": "code",
   "execution_count": 0,
   "metadata": {
    "colab": {
     "base_uri": "https://localhost:8080/",
     "height": 34
    },
    "colab_type": "code",
    "id": "YOdoK9aDeYTb",
    "outputId": "2df73edf-630e-4ac0-f574-791e071a3c05"
   },
   "outputs": [
    {
     "name": "stdout",
     "output_type": "stream",
     "text": [
      "Accuracy score :  0.5424\n"
     ]
    }
   ],
   "source": [
    "print(\"Accuracy score : \", metrics.accuracy_score(ytest, y_pred_class))"
   ]
  },
  {
   "cell_type": "code",
   "execution_count": 0,
   "metadata": {
    "colab": {},
    "colab_type": "code",
    "id": "1gXCSjVrp-QF"
   },
   "outputs": [],
   "source": [
    "#from sklearn.metrics import multilabel_confusion_matrix"
   ]
  },
  {
   "cell_type": "code",
   "execution_count": 0,
   "metadata": {
    "colab": {
     "base_uri": "https://localhost:8080/",
     "height": 155
    },
    "colab_type": "code",
    "id": "FogGXTqqu2Fu",
    "outputId": "cfa20741-d42a-4681-da21-844dc36391e8"
   },
   "outputs": [
    {
     "name": "stdout",
     "output_type": "stream",
     "text": [
      "['14' '15' '16' '17' '23' '24' '25' '26' '27' '33' '34' '35' '36' '37'\n",
      " '39' '41' '42' '44' '45' '46' 'accounting' 'aquarius' 'aries' 'arts'\n",
      " 'automotive' 'banking' 'businessservices' 'cancer' 'capricorn'\n",
      " 'communications media' 'consulting' 'education' 'engineering' 'female'\n",
      " 'gemini' 'indunk' 'internet' 'investmentbanking' 'law' 'leo' 'libra'\n",
      " 'male' 'museums libraries' 'non profit' 'pisces' 'religion' 'sagittarius'\n",
      " 'science' 'scorpio' 'sports recreation' 'student' 'taurus' 'technology'\n",
      " 'virgo']\n"
     ]
    }
   ],
   "source": [
    "class1 = mlb.classes_\n",
    "#print(class1)"
   ]
  },
  {
   "cell_type": "code",
   "execution_count": 0,
   "metadata": {
    "colab": {
     "base_uri": "https://localhost:8080/",
     "height": 34
    },
    "colab_type": "code",
    "id": "eXm6oKojvu16",
    "outputId": "fe29e7d3-6a38-4e92-c6a8-a3cab65c0336"
   },
   "outputs": [
    {
     "name": "stdout",
     "output_type": "stream",
     "text": [
      "Weighted F1 Score of the model:  0.6870851267192734\n"
     ]
    }
   ],
   "source": [
    "from sklearn.metrics import f1_score\n",
    "print(\"Weighted F1 Score of the model: \" ,f1_score(ytest, y_pred_class, average='weighted'))"
   ]
  },
  {
   "cell_type": "code",
   "execution_count": 0,
   "metadata": {
    "colab": {
     "base_uri": "https://localhost:8080/",
     "height": 34
    },
    "colab_type": "code",
    "id": "YuxK4MQmABvg",
    "outputId": "224fd15a-4bf6-42f5-ff79-d988314e671e"
   },
   "outputs": [
    {
     "name": "stdout",
     "output_type": "stream",
     "text": [
      "Average precision score, micro-averaged over all classes: 0.57\n"
     ]
    }
   ],
   "source": [
    "from sklearn.metrics import precision_recall_curve\n",
    "from sklearn.metrics import average_precision_score\n",
    "\n",
    "# For each class\n",
    "precision = dict()\n",
    "recall = dict()\n",
    "average_precision = dict()\n",
    "for i in range(len(class1)):\n",
    "    precision[i], recall[i], _ = precision_recall_curve(ytest[:, i],\n",
    "                                                        y_pred_class[:, i])\n",
    "    average_precision[i] = average_precision_score(ytest[:, i], y_pred_class[:, i])\n",
    "\n",
    "# A \"micro-average\": quantifying score on all classes jointly\n",
    "precision[\"micro\"], recall[\"micro\"], _ = precision_recall_curve(ytest.ravel(),\n",
    "    y_pred_class.ravel())\n",
    "average_precision[\"micro\"] = average_precision_score(ytest, y_pred_class,\n",
    "                                                     average=\"micro\")\n",
    "print('Average precision score, micro-averaged over all classes: {0:0.2f}'\n",
    "      .format(average_precision[\"micro\"]))"
   ]
  },
  {
   "cell_type": "code",
   "execution_count": 0,
   "metadata": {
    "colab": {
     "base_uri": "https://localhost:8080/",
     "height": 312
    },
    "colab_type": "code",
    "id": "urKzKB-jEyHP",
    "outputId": "271aa349-d741-4dfa-dc0d-4bd214070b1f"
   },
   "outputs": [
    {
     "data": {
      "text/plain": [
       "Text(0.5, 1.0, 'Average precision score, micro-averaged over all classes: AP=0.57')"
      ]
     },
     "execution_count": 248,
     "metadata": {
      "tags": []
     },
     "output_type": "execute_result"
    },
    {
     "data": {
      "image/png": "[encoded data removed]",
      "text/plain": [
       "<Figure size 432x288 with 1 Axes>"
      ]
     },
     "metadata": {
      "tags": []
     },
     "output_type": "display_data"
    }
   ],
   "source": [
    "plt.figure()\n",
    "plt.step(recall['micro'], precision['micro'], color='b', alpha=0.2,\n",
    "         where='post')\n",
    "plt.fill_between(recall[\"micro\"], precision[\"micro\"], alpha=0.2, color='b')\n",
    "\n",
    "plt.xlabel('Recall')\n",
    "plt.ylabel('Precision')\n",
    "plt.ylim([0.0, 1.05])\n",
    "plt.xlim([0.0, 1.0])\n",
    "plt.title(\n",
    "    'Average precision score, micro-averaged over all classes: AP={0:0.2f}'\n",
    "    .format(average_precision[\"micro\"]))"
   ]
  },
  {
   "cell_type": "code",
   "execution_count": 0,
   "metadata": {
    "colab": {},
    "colab_type": "code",
    "id": "bDlM8YdNF0tk"
   },
   "outputs": [],
   "source": [
    "from sklearn.metrics import recall_score"
   ]
  },
  {
   "cell_type": "code",
   "execution_count": 0,
   "metadata": {
    "colab": {
     "base_uri": "https://localhost:8080/",
     "height": 34
    },
    "colab_type": "code",
    "id": "7y5vPqfHF0y7",
    "outputId": "c228230a-7bd4-490b-9ab5-4e5958f40083"
   },
   "outputs": [
    {
     "name": "stdout",
     "output_type": "stream",
     "text": [
      "Micro Avreaged REcall Score 0.665\n"
     ]
    }
   ],
   "source": [
    "print(\"Micro Avreaged REcall Score\", recall_score(ytest, y_pred_class, average='micro'))"
   ]
  },
  {
   "cell_type": "code",
   "execution_count": 0,
   "metadata": {
    "colab": {
     "base_uri": "https://localhost:8080/",
     "height": 34
    },
    "colab_type": "code",
    "id": "On6NpIZEGQnP",
    "outputId": "ba6b0401-a318-423f-d6e1-9902349eb663"
   },
   "outputs": [
    {
     "name": "stdout",
     "output_type": "stream",
     "text": [
      "weigthed Avreaged REcall Score 0.665\n"
     ]
    }
   ],
   "source": [
    "print(\"weigthed Avreaged REcall Score\", recall_score(ytest, y_pred_class, average='weighted'))"
   ]
  },
  {
   "cell_type": "markdown",
   "metadata": {
    "colab_type": "text",
    "id": "tUTxdJVxGunX"
   },
   "source": [
    "Print true label and predicted label for any five examples (7.5 points)"
   ]
  },
  {
   "cell_type": "code",
   "execution_count": 0,
   "metadata": {
    "colab": {
     "base_uri": "https://localhost:8080/",
     "height": 34
    },
    "colab_type": "code",
    "id": "eWvLffQeIvDP",
    "outputId": "e7b79c4e-2a74-4e91-8ff1-f4b86fa65ef6"
   },
   "outputs": [
    {
     "data": {
      "text/plain": [
       "(3750, 216138)"
      ]
     },
     "execution_count": 260,
     "metadata": {
      "tags": []
     },
     "output_type": "execute_result"
    }
   ],
   "source": [
    "X_train_dtm.shape"
   ]
  },
  {
   "cell_type": "code",
   "execution_count": 0,
   "metadata": {
    "colab": {
     "base_uri": "https://localhost:8080/",
     "height": 34
    },
    "colab_type": "code",
    "id": "iQiZ-LLyGto_",
    "outputId": "4c7d0e61-c5f4-4426-c66b-f5dbfe6162c0"
   },
   "outputs": [
    {
     "data": {
      "text/plain": [
       "(5, 216138)"
      ]
     },
     "execution_count": 262,
     "metadata": {
      "tags": []
     },
     "output_type": "execute_result"
    }
   ],
   "source": [
    "sample = X_train_dtm[:5]\n",
    "sample.shape"
   ]
  },
  {
   "cell_type": "code",
   "execution_count": 0,
   "metadata": {
    "colab": {
     "base_uri": "https://localhost:8080/",
     "height": 34
    },
    "colab_type": "code",
    "id": "8Q9wLxUsGt6S",
    "outputId": "af1bf85e-af1c-46a6-859f-82c0a9b73b6c"
   },
   "outputs": [
    {
     "data": {
      "text/plain": [
       "(5, 54)"
      ]
     },
     "execution_count": 264,
     "metadata": {
      "tags": []
     },
     "output_type": "execute_result"
    }
   ],
   "source": [
    "actual = ytest[:5]\n",
    "actual.shape"
   ]
  },
  {
   "cell_type": "code",
   "execution_count": 0,
   "metadata": {
    "colab": {},
    "colab_type": "code",
    "id": "YdohF2yUGt-z"
   },
   "outputs": [],
   "source": [
    "predict = clf.predict(sample)"
   ]
  },
  {
   "cell_type": "code",
   "execution_count": 0,
   "metadata": {
    "colab": {},
    "colab_type": "code",
    "id": "PndOontqGt3Z"
   },
   "outputs": [],
   "source": [
    "actual = pd.DataFrame(data = actual, columns = class1)\n",
    "predict = pd.DataFrame(data = predict, columns = class1)"
   ]
  },
  {
   "cell_type": "code",
   "execution_count": 0,
   "metadata": {
    "colab": {
     "base_uri": "https://localhost:8080/",
     "height": 312
    },
    "colab_type": "code",
    "id": "m1-8a3OCKtzj",
    "outputId": "b9404597-d238-4d36-8589-2e9a881d3137"
   },
   "outputs": [
    {
     "name": "stdout",
     "output_type": "stream",
     "text": [
      "Actual labels : \n",
      "\n",
      "\n",
      "\n"
     ]
    },
    {
     "data": {
      "text/html": [
       "<div>\n",
       "<style scoped>\n",
       "    .dataframe tbody tr th:only-of-type {\n",
       "        vertical-align: middle;\n",
       "    }\n",
       "\n",
       "    .dataframe tbody tr th {\n",
       "        vertical-align: top;\n",
       "    }\n",
       "\n",
       "    .dataframe thead th {\n",
       "        text-align: right;\n",
       "    }\n",
       "</style>\n",
       "<table border=\"1\" class=\"dataframe\">\n",
       "  <thead>\n",
       "    <tr style=\"text-align: right;\">\n",
       "      <th></th>\n",
       "      <th>14</th>\n",
       "      <th>15</th>\n",
       "      <th>16</th>\n",
       "      <th>17</th>\n",
       "      <th>23</th>\n",
       "      <th>24</th>\n",
       "      <th>25</th>\n",
       "      <th>26</th>\n",
       "      <th>27</th>\n",
       "      <th>33</th>\n",
       "      <th>34</th>\n",
       "      <th>35</th>\n",
       "      <th>36</th>\n",
       "      <th>37</th>\n",
       "      <th>39</th>\n",
       "      <th>41</th>\n",
       "      <th>42</th>\n",
       "      <th>44</th>\n",
       "      <th>45</th>\n",
       "      <th>46</th>\n",
       "      <th>accounting</th>\n",
       "      <th>aquarius</th>\n",
       "      <th>aries</th>\n",
       "      <th>arts</th>\n",
       "      <th>automotive</th>\n",
       "      <th>banking</th>\n",
       "      <th>businessservices</th>\n",
       "      <th>cancer</th>\n",
       "      <th>capricorn</th>\n",
       "      <th>communications media</th>\n",
       "      <th>consulting</th>\n",
       "      <th>education</th>\n",
       "      <th>engineering</th>\n",
       "      <th>female</th>\n",
       "      <th>gemini</th>\n",
       "      <th>indunk</th>\n",
       "      <th>internet</th>\n",
       "      <th>investmentbanking</th>\n",
       "      <th>law</th>\n",
       "      <th>leo</th>\n",
       "      <th>libra</th>\n",
       "      <th>male</th>\n",
       "      <th>museums libraries</th>\n",
       "      <th>non profit</th>\n",
       "      <th>pisces</th>\n",
       "      <th>religion</th>\n",
       "      <th>sagittarius</th>\n",
       "      <th>science</th>\n",
       "      <th>scorpio</th>\n",
       "      <th>sports recreation</th>\n",
       "      <th>student</th>\n",
       "      <th>taurus</th>\n",
       "      <th>technology</th>\n",
       "      <th>virgo</th>\n",
       "    </tr>\n",
       "  </thead>\n",
       "  <tbody>\n",
       "    <tr>\n",
       "      <th>0</th>\n",
       "      <td>0</td>\n",
       "      <td>0</td>\n",
       "      <td>0</td>\n",
       "      <td>0</td>\n",
       "      <td>0</td>\n",
       "      <td>0</td>\n",
       "      <td>0</td>\n",
       "      <td>0</td>\n",
       "      <td>0</td>\n",
       "      <td>0</td>\n",
       "      <td>0</td>\n",
       "      <td>1</td>\n",
       "      <td>0</td>\n",
       "      <td>0</td>\n",
       "      <td>0</td>\n",
       "      <td>0</td>\n",
       "      <td>0</td>\n",
       "      <td>0</td>\n",
       "      <td>0</td>\n",
       "      <td>0</td>\n",
       "      <td>0</td>\n",
       "      <td>0</td>\n",
       "      <td>1</td>\n",
       "      <td>0</td>\n",
       "      <td>0</td>\n",
       "      <td>0</td>\n",
       "      <td>0</td>\n",
       "      <td>0</td>\n",
       "      <td>0</td>\n",
       "      <td>0</td>\n",
       "      <td>0</td>\n",
       "      <td>0</td>\n",
       "      <td>0</td>\n",
       "      <td>0</td>\n",
       "      <td>0</td>\n",
       "      <td>0</td>\n",
       "      <td>0</td>\n",
       "      <td>0</td>\n",
       "      <td>0</td>\n",
       "      <td>0</td>\n",
       "      <td>0</td>\n",
       "      <td>1</td>\n",
       "      <td>0</td>\n",
       "      <td>0</td>\n",
       "      <td>0</td>\n",
       "      <td>0</td>\n",
       "      <td>0</td>\n",
       "      <td>0</td>\n",
       "      <td>0</td>\n",
       "      <td>0</td>\n",
       "      <td>0</td>\n",
       "      <td>0</td>\n",
       "      <td>1</td>\n",
       "      <td>0</td>\n",
       "    </tr>\n",
       "    <tr>\n",
       "      <th>1</th>\n",
       "      <td>0</td>\n",
       "      <td>0</td>\n",
       "      <td>1</td>\n",
       "      <td>0</td>\n",
       "      <td>0</td>\n",
       "      <td>0</td>\n",
       "      <td>0</td>\n",
       "      <td>0</td>\n",
       "      <td>0</td>\n",
       "      <td>0</td>\n",
       "      <td>0</td>\n",
       "      <td>0</td>\n",
       "      <td>0</td>\n",
       "      <td>0</td>\n",
       "      <td>0</td>\n",
       "      <td>0</td>\n",
       "      <td>0</td>\n",
       "      <td>0</td>\n",
       "      <td>0</td>\n",
       "      <td>0</td>\n",
       "      <td>0</td>\n",
       "      <td>0</td>\n",
       "      <td>0</td>\n",
       "      <td>0</td>\n",
       "      <td>0</td>\n",
       "      <td>0</td>\n",
       "      <td>0</td>\n",
       "      <td>0</td>\n",
       "      <td>0</td>\n",
       "      <td>0</td>\n",
       "      <td>0</td>\n",
       "      <td>0</td>\n",
       "      <td>0</td>\n",
       "      <td>1</td>\n",
       "      <td>0</td>\n",
       "      <td>0</td>\n",
       "      <td>0</td>\n",
       "      <td>0</td>\n",
       "      <td>0</td>\n",
       "      <td>0</td>\n",
       "      <td>1</td>\n",
       "      <td>0</td>\n",
       "      <td>0</td>\n",
       "      <td>0</td>\n",
       "      <td>0</td>\n",
       "      <td>0</td>\n",
       "      <td>0</td>\n",
       "      <td>0</td>\n",
       "      <td>0</td>\n",
       "      <td>0</td>\n",
       "      <td>1</td>\n",
       "      <td>0</td>\n",
       "      <td>0</td>\n",
       "      <td>0</td>\n",
       "    </tr>\n",
       "    <tr>\n",
       "      <th>2</th>\n",
       "      <td>1</td>\n",
       "      <td>0</td>\n",
       "      <td>0</td>\n",
       "      <td>0</td>\n",
       "      <td>0</td>\n",
       "      <td>0</td>\n",
       "      <td>0</td>\n",
       "      <td>0</td>\n",
       "      <td>0</td>\n",
       "      <td>0</td>\n",
       "      <td>0</td>\n",
       "      <td>0</td>\n",
       "      <td>0</td>\n",
       "      <td>0</td>\n",
       "      <td>0</td>\n",
       "      <td>0</td>\n",
       "      <td>0</td>\n",
       "      <td>0</td>\n",
       "      <td>0</td>\n",
       "      <td>0</td>\n",
       "      <td>0</td>\n",
       "      <td>0</td>\n",
       "      <td>0</td>\n",
       "      <td>0</td>\n",
       "      <td>0</td>\n",
       "      <td>0</td>\n",
       "      <td>0</td>\n",
       "      <td>0</td>\n",
       "      <td>0</td>\n",
       "      <td>0</td>\n",
       "      <td>0</td>\n",
       "      <td>0</td>\n",
       "      <td>0</td>\n",
       "      <td>0</td>\n",
       "      <td>0</td>\n",
       "      <td>1</td>\n",
       "      <td>0</td>\n",
       "      <td>0</td>\n",
       "      <td>0</td>\n",
       "      <td>0</td>\n",
       "      <td>0</td>\n",
       "      <td>1</td>\n",
       "      <td>0</td>\n",
       "      <td>0</td>\n",
       "      <td>0</td>\n",
       "      <td>0</td>\n",
       "      <td>0</td>\n",
       "      <td>0</td>\n",
       "      <td>1</td>\n",
       "      <td>0</td>\n",
       "      <td>0</td>\n",
       "      <td>0</td>\n",
       "      <td>0</td>\n",
       "      <td>0</td>\n",
       "    </tr>\n",
       "    <tr>\n",
       "      <th>3</th>\n",
       "      <td>0</td>\n",
       "      <td>0</td>\n",
       "      <td>0</td>\n",
       "      <td>0</td>\n",
       "      <td>0</td>\n",
       "      <td>0</td>\n",
       "      <td>0</td>\n",
       "      <td>0</td>\n",
       "      <td>0</td>\n",
       "      <td>0</td>\n",
       "      <td>0</td>\n",
       "      <td>1</td>\n",
       "      <td>0</td>\n",
       "      <td>0</td>\n",
       "      <td>0</td>\n",
       "      <td>0</td>\n",
       "      <td>0</td>\n",
       "      <td>0</td>\n",
       "      <td>0</td>\n",
       "      <td>0</td>\n",
       "      <td>0</td>\n",
       "      <td>0</td>\n",
       "      <td>1</td>\n",
       "      <td>0</td>\n",
       "      <td>0</td>\n",
       "      <td>0</td>\n",
       "      <td>0</td>\n",
       "      <td>0</td>\n",
       "      <td>0</td>\n",
       "      <td>0</td>\n",
       "      <td>0</td>\n",
       "      <td>0</td>\n",
       "      <td>0</td>\n",
       "      <td>0</td>\n",
       "      <td>0</td>\n",
       "      <td>0</td>\n",
       "      <td>0</td>\n",
       "      <td>0</td>\n",
       "      <td>0</td>\n",
       "      <td>0</td>\n",
       "      <td>0</td>\n",
       "      <td>1</td>\n",
       "      <td>0</td>\n",
       "      <td>0</td>\n",
       "      <td>0</td>\n",
       "      <td>0</td>\n",
       "      <td>0</td>\n",
       "      <td>0</td>\n",
       "      <td>0</td>\n",
       "      <td>0</td>\n",
       "      <td>0</td>\n",
       "      <td>0</td>\n",
       "      <td>1</td>\n",
       "      <td>0</td>\n",
       "    </tr>\n",
       "    <tr>\n",
       "      <th>4</th>\n",
       "      <td>0</td>\n",
       "      <td>0</td>\n",
       "      <td>0</td>\n",
       "      <td>0</td>\n",
       "      <td>0</td>\n",
       "      <td>0</td>\n",
       "      <td>0</td>\n",
       "      <td>0</td>\n",
       "      <td>0</td>\n",
       "      <td>0</td>\n",
       "      <td>0</td>\n",
       "      <td>1</td>\n",
       "      <td>0</td>\n",
       "      <td>0</td>\n",
       "      <td>0</td>\n",
       "      <td>0</td>\n",
       "      <td>0</td>\n",
       "      <td>0</td>\n",
       "      <td>0</td>\n",
       "      <td>0</td>\n",
       "      <td>0</td>\n",
       "      <td>0</td>\n",
       "      <td>1</td>\n",
       "      <td>0</td>\n",
       "      <td>0</td>\n",
       "      <td>0</td>\n",
       "      <td>0</td>\n",
       "      <td>0</td>\n",
       "      <td>0</td>\n",
       "      <td>0</td>\n",
       "      <td>0</td>\n",
       "      <td>0</td>\n",
       "      <td>0</td>\n",
       "      <td>0</td>\n",
       "      <td>0</td>\n",
       "      <td>0</td>\n",
       "      <td>0</td>\n",
       "      <td>0</td>\n",
       "      <td>0</td>\n",
       "      <td>0</td>\n",
       "      <td>0</td>\n",
       "      <td>1</td>\n",
       "      <td>0</td>\n",
       "      <td>0</td>\n",
       "      <td>0</td>\n",
       "      <td>0</td>\n",
       "      <td>0</td>\n",
       "      <td>0</td>\n",
       "      <td>0</td>\n",
       "      <td>0</td>\n",
       "      <td>0</td>\n",
       "      <td>0</td>\n",
       "      <td>1</td>\n",
       "      <td>0</td>\n",
       "    </tr>\n",
       "  </tbody>\n",
       "</table>\n",
       "</div>"
      ],
      "text/plain": [
       "   14  15  16  17  23  ...  sports recreation  student  taurus  technology  virgo\n",
       "0   0   0   0   0   0  ...                  0        0       0           1      0\n",
       "1   0   0   1   0   0  ...                  0        1       0           0      0\n",
       "2   1   0   0   0   0  ...                  0        0       0           0      0\n",
       "3   0   0   0   0   0  ...                  0        0       0           1      0\n",
       "4   0   0   0   0   0  ...                  0        0       0           1      0\n",
       "\n",
       "[5 rows x 54 columns]"
      ]
     },
     "execution_count": 273,
     "metadata": {
      "tags": []
     },
     "output_type": "execute_result"
    }
   ],
   "source": [
    "print(\"Actual labels : \\n\\n\\n\")\n",
    "actual"
   ]
  },
  {
   "cell_type": "code",
   "execution_count": 0,
   "metadata": {
    "colab": {
     "base_uri": "https://localhost:8080/",
     "height": 312
    },
    "colab_type": "code",
    "id": "XbEmAOhILKxv",
    "outputId": "be4a5330-59ed-4a2d-de38-0b0eddb86831"
   },
   "outputs": [
    {
     "name": "stdout",
     "output_type": "stream",
     "text": [
      "Predicted labels : \n",
      "\n",
      "\n",
      "\n"
     ]
    },
    {
     "data": {
      "text/html": [
       "<div>\n",
       "<style scoped>\n",
       "    .dataframe tbody tr th:only-of-type {\n",
       "        vertical-align: middle;\n",
       "    }\n",
       "\n",
       "    .dataframe tbody tr th {\n",
       "        vertical-align: top;\n",
       "    }\n",
       "\n",
       "    .dataframe thead th {\n",
       "        text-align: right;\n",
       "    }\n",
       "</style>\n",
       "<table border=\"1\" class=\"dataframe\">\n",
       "  <thead>\n",
       "    <tr style=\"text-align: right;\">\n",
       "      <th></th>\n",
       "      <th>14</th>\n",
       "      <th>15</th>\n",
       "      <th>16</th>\n",
       "      <th>17</th>\n",
       "      <th>23</th>\n",
       "      <th>24</th>\n",
       "      <th>25</th>\n",
       "      <th>26</th>\n",
       "      <th>27</th>\n",
       "      <th>33</th>\n",
       "      <th>34</th>\n",
       "      <th>35</th>\n",
       "      <th>36</th>\n",
       "      <th>37</th>\n",
       "      <th>39</th>\n",
       "      <th>41</th>\n",
       "      <th>42</th>\n",
       "      <th>44</th>\n",
       "      <th>45</th>\n",
       "      <th>46</th>\n",
       "      <th>accounting</th>\n",
       "      <th>aquarius</th>\n",
       "      <th>aries</th>\n",
       "      <th>arts</th>\n",
       "      <th>automotive</th>\n",
       "      <th>banking</th>\n",
       "      <th>businessservices</th>\n",
       "      <th>cancer</th>\n",
       "      <th>capricorn</th>\n",
       "      <th>communications media</th>\n",
       "      <th>consulting</th>\n",
       "      <th>education</th>\n",
       "      <th>engineering</th>\n",
       "      <th>female</th>\n",
       "      <th>gemini</th>\n",
       "      <th>indunk</th>\n",
       "      <th>internet</th>\n",
       "      <th>investmentbanking</th>\n",
       "      <th>law</th>\n",
       "      <th>leo</th>\n",
       "      <th>libra</th>\n",
       "      <th>male</th>\n",
       "      <th>museums libraries</th>\n",
       "      <th>non profit</th>\n",
       "      <th>pisces</th>\n",
       "      <th>religion</th>\n",
       "      <th>sagittarius</th>\n",
       "      <th>science</th>\n",
       "      <th>scorpio</th>\n",
       "      <th>sports recreation</th>\n",
       "      <th>student</th>\n",
       "      <th>taurus</th>\n",
       "      <th>technology</th>\n",
       "      <th>virgo</th>\n",
       "    </tr>\n",
       "  </thead>\n",
       "  <tbody>\n",
       "    <tr>\n",
       "      <th>0</th>\n",
       "      <td>0</td>\n",
       "      <td>0</td>\n",
       "      <td>0</td>\n",
       "      <td>0</td>\n",
       "      <td>0</td>\n",
       "      <td>0</td>\n",
       "      <td>0</td>\n",
       "      <td>0</td>\n",
       "      <td>0</td>\n",
       "      <td>0</td>\n",
       "      <td>0</td>\n",
       "      <td>1</td>\n",
       "      <td>0</td>\n",
       "      <td>0</td>\n",
       "      <td>0</td>\n",
       "      <td>0</td>\n",
       "      <td>0</td>\n",
       "      <td>0</td>\n",
       "      <td>0</td>\n",
       "      <td>0</td>\n",
       "      <td>0</td>\n",
       "      <td>0</td>\n",
       "      <td>1</td>\n",
       "      <td>0</td>\n",
       "      <td>0</td>\n",
       "      <td>0</td>\n",
       "      <td>0</td>\n",
       "      <td>0</td>\n",
       "      <td>0</td>\n",
       "      <td>0</td>\n",
       "      <td>0</td>\n",
       "      <td>0</td>\n",
       "      <td>0</td>\n",
       "      <td>0</td>\n",
       "      <td>0</td>\n",
       "      <td>0</td>\n",
       "      <td>0</td>\n",
       "      <td>0</td>\n",
       "      <td>0</td>\n",
       "      <td>0</td>\n",
       "      <td>0</td>\n",
       "      <td>1</td>\n",
       "      <td>0</td>\n",
       "      <td>0</td>\n",
       "      <td>0</td>\n",
       "      <td>0</td>\n",
       "      <td>0</td>\n",
       "      <td>0</td>\n",
       "      <td>0</td>\n",
       "      <td>0</td>\n",
       "      <td>0</td>\n",
       "      <td>0</td>\n",
       "      <td>1</td>\n",
       "      <td>0</td>\n",
       "    </tr>\n",
       "    <tr>\n",
       "      <th>1</th>\n",
       "      <td>0</td>\n",
       "      <td>0</td>\n",
       "      <td>0</td>\n",
       "      <td>0</td>\n",
       "      <td>0</td>\n",
       "      <td>1</td>\n",
       "      <td>0</td>\n",
       "      <td>0</td>\n",
       "      <td>0</td>\n",
       "      <td>0</td>\n",
       "      <td>0</td>\n",
       "      <td>0</td>\n",
       "      <td>0</td>\n",
       "      <td>0</td>\n",
       "      <td>0</td>\n",
       "      <td>0</td>\n",
       "      <td>0</td>\n",
       "      <td>0</td>\n",
       "      <td>0</td>\n",
       "      <td>0</td>\n",
       "      <td>0</td>\n",
       "      <td>0</td>\n",
       "      <td>0</td>\n",
       "      <td>0</td>\n",
       "      <td>0</td>\n",
       "      <td>0</td>\n",
       "      <td>0</td>\n",
       "      <td>0</td>\n",
       "      <td>0</td>\n",
       "      <td>0</td>\n",
       "      <td>0</td>\n",
       "      <td>0</td>\n",
       "      <td>1</td>\n",
       "      <td>0</td>\n",
       "      <td>0</td>\n",
       "      <td>0</td>\n",
       "      <td>0</td>\n",
       "      <td>0</td>\n",
       "      <td>0</td>\n",
       "      <td>0</td>\n",
       "      <td>1</td>\n",
       "      <td>1</td>\n",
       "      <td>0</td>\n",
       "      <td>0</td>\n",
       "      <td>0</td>\n",
       "      <td>0</td>\n",
       "      <td>0</td>\n",
       "      <td>0</td>\n",
       "      <td>0</td>\n",
       "      <td>0</td>\n",
       "      <td>0</td>\n",
       "      <td>0</td>\n",
       "      <td>0</td>\n",
       "      <td>0</td>\n",
       "    </tr>\n",
       "    <tr>\n",
       "      <th>2</th>\n",
       "      <td>0</td>\n",
       "      <td>0</td>\n",
       "      <td>0</td>\n",
       "      <td>0</td>\n",
       "      <td>0</td>\n",
       "      <td>1</td>\n",
       "      <td>0</td>\n",
       "      <td>0</td>\n",
       "      <td>0</td>\n",
       "      <td>0</td>\n",
       "      <td>0</td>\n",
       "      <td>0</td>\n",
       "      <td>0</td>\n",
       "      <td>0</td>\n",
       "      <td>0</td>\n",
       "      <td>0</td>\n",
       "      <td>0</td>\n",
       "      <td>0</td>\n",
       "      <td>0</td>\n",
       "      <td>0</td>\n",
       "      <td>0</td>\n",
       "      <td>0</td>\n",
       "      <td>0</td>\n",
       "      <td>0</td>\n",
       "      <td>0</td>\n",
       "      <td>0</td>\n",
       "      <td>0</td>\n",
       "      <td>0</td>\n",
       "      <td>0</td>\n",
       "      <td>0</td>\n",
       "      <td>0</td>\n",
       "      <td>0</td>\n",
       "      <td>1</td>\n",
       "      <td>0</td>\n",
       "      <td>0</td>\n",
       "      <td>0</td>\n",
       "      <td>0</td>\n",
       "      <td>0</td>\n",
       "      <td>0</td>\n",
       "      <td>0</td>\n",
       "      <td>1</td>\n",
       "      <td>1</td>\n",
       "      <td>0</td>\n",
       "      <td>0</td>\n",
       "      <td>0</td>\n",
       "      <td>0</td>\n",
       "      <td>0</td>\n",
       "      <td>0</td>\n",
       "      <td>0</td>\n",
       "      <td>0</td>\n",
       "      <td>0</td>\n",
       "      <td>0</td>\n",
       "      <td>0</td>\n",
       "      <td>0</td>\n",
       "    </tr>\n",
       "    <tr>\n",
       "      <th>3</th>\n",
       "      <td>0</td>\n",
       "      <td>0</td>\n",
       "      <td>0</td>\n",
       "      <td>0</td>\n",
       "      <td>0</td>\n",
       "      <td>0</td>\n",
       "      <td>0</td>\n",
       "      <td>0</td>\n",
       "      <td>0</td>\n",
       "      <td>0</td>\n",
       "      <td>0</td>\n",
       "      <td>1</td>\n",
       "      <td>0</td>\n",
       "      <td>0</td>\n",
       "      <td>0</td>\n",
       "      <td>0</td>\n",
       "      <td>0</td>\n",
       "      <td>0</td>\n",
       "      <td>0</td>\n",
       "      <td>0</td>\n",
       "      <td>0</td>\n",
       "      <td>0</td>\n",
       "      <td>1</td>\n",
       "      <td>0</td>\n",
       "      <td>0</td>\n",
       "      <td>0</td>\n",
       "      <td>0</td>\n",
       "      <td>0</td>\n",
       "      <td>0</td>\n",
       "      <td>0</td>\n",
       "      <td>0</td>\n",
       "      <td>0</td>\n",
       "      <td>0</td>\n",
       "      <td>0</td>\n",
       "      <td>0</td>\n",
       "      <td>0</td>\n",
       "      <td>0</td>\n",
       "      <td>0</td>\n",
       "      <td>0</td>\n",
       "      <td>0</td>\n",
       "      <td>0</td>\n",
       "      <td>1</td>\n",
       "      <td>0</td>\n",
       "      <td>0</td>\n",
       "      <td>0</td>\n",
       "      <td>0</td>\n",
       "      <td>0</td>\n",
       "      <td>0</td>\n",
       "      <td>0</td>\n",
       "      <td>0</td>\n",
       "      <td>0</td>\n",
       "      <td>0</td>\n",
       "      <td>1</td>\n",
       "      <td>0</td>\n",
       "    </tr>\n",
       "    <tr>\n",
       "      <th>4</th>\n",
       "      <td>0</td>\n",
       "      <td>0</td>\n",
       "      <td>0</td>\n",
       "      <td>1</td>\n",
       "      <td>0</td>\n",
       "      <td>0</td>\n",
       "      <td>0</td>\n",
       "      <td>0</td>\n",
       "      <td>0</td>\n",
       "      <td>0</td>\n",
       "      <td>0</td>\n",
       "      <td>0</td>\n",
       "      <td>0</td>\n",
       "      <td>0</td>\n",
       "      <td>0</td>\n",
       "      <td>0</td>\n",
       "      <td>0</td>\n",
       "      <td>0</td>\n",
       "      <td>0</td>\n",
       "      <td>0</td>\n",
       "      <td>0</td>\n",
       "      <td>1</td>\n",
       "      <td>0</td>\n",
       "      <td>0</td>\n",
       "      <td>0</td>\n",
       "      <td>0</td>\n",
       "      <td>0</td>\n",
       "      <td>0</td>\n",
       "      <td>0</td>\n",
       "      <td>0</td>\n",
       "      <td>0</td>\n",
       "      <td>0</td>\n",
       "      <td>0</td>\n",
       "      <td>0</td>\n",
       "      <td>0</td>\n",
       "      <td>1</td>\n",
       "      <td>0</td>\n",
       "      <td>0</td>\n",
       "      <td>0</td>\n",
       "      <td>0</td>\n",
       "      <td>0</td>\n",
       "      <td>1</td>\n",
       "      <td>0</td>\n",
       "      <td>0</td>\n",
       "      <td>0</td>\n",
       "      <td>0</td>\n",
       "      <td>0</td>\n",
       "      <td>0</td>\n",
       "      <td>0</td>\n",
       "      <td>0</td>\n",
       "      <td>0</td>\n",
       "      <td>0</td>\n",
       "      <td>0</td>\n",
       "      <td>0</td>\n",
       "    </tr>\n",
       "  </tbody>\n",
       "</table>\n",
       "</div>"
      ],
      "text/plain": [
       "   14  15  16  17  23  ...  sports recreation  student  taurus  technology  virgo\n",
       "0   0   0   0   0   0  ...                  0        0       0           1      0\n",
       "1   0   0   0   0   0  ...                  0        0       0           0      0\n",
       "2   0   0   0   0   0  ...                  0        0       0           0      0\n",
       "3   0   0   0   0   0  ...                  0        0       0           1      0\n",
       "4   0   0   0   1   0  ...                  0        0       0           0      0\n",
       "\n",
       "[5 rows x 54 columns]"
      ]
     },
     "execution_count": 274,
     "metadata": {
      "tags": []
     },
     "output_type": "execute_result"
    }
   ],
   "source": [
    "print(\"Predicted labels : \\n\\n\\n\")\n",
    "predict"
   ]
  },
  {
   "cell_type": "code",
   "execution_count": 0,
   "metadata": {
    "colab": {},
    "colab_type": "code",
    "id": "K78ITdcqNvCU"
   },
   "outputs": [],
   "source": [
    "difference = np.where(actual != predict)"
   ]
  },
  {
   "cell_type": "code",
   "execution_count": 0,
   "metadata": {
    "colab": {
     "base_uri": "https://localhost:8080/",
     "height": 121
    },
    "colab_type": "code",
    "id": "EiCzNeYLN2Pe",
    "outputId": "bc2139c4-e8be-49a7-c709-8a6927b5cd72"
   },
   "outputs": [
    {
     "data": {
      "text/plain": [
       "0    False\n",
       "1     True\n",
       "2     True\n",
       "3    False\n",
       "4     True\n",
       "dtype: bool"
      ]
     },
     "execution_count": 280,
     "metadata": {
      "tags": []
     },
     "output_type": "execute_result"
    }
   ],
   "source": [
    "difference"
   ]
  },
  {
   "cell_type": "code",
   "execution_count": 0,
   "metadata": {
    "colab": {},
    "colab_type": "code",
    "id": "2fKr1yobOuqO"
   },
   "outputs": [],
   "source": [
    "df_all = pd.concat([actual, predict], \n",
    "                   axis='columns', keys=['Actuals', 'Predicted'])"
   ]
  },
  {
   "cell_type": "code",
   "execution_count": 0,
   "metadata": {
    "colab": {
     "base_uri": "https://localhost:8080/",
     "height": 286
    },
    "colab_type": "code",
    "id": "UkMgdqAzPHj4",
    "outputId": "7745c963-6b08-4537-e5a9-da10b8c38582"
   },
   "outputs": [
    {
     "data": {
      "text/html": [
       "<div>\n",
       "<style scoped>\n",
       "    .dataframe tbody tr th:only-of-type {\n",
       "        vertical-align: middle;\n",
       "    }\n",
       "\n",
       "    .dataframe tbody tr th {\n",
       "        vertical-align: top;\n",
       "    }\n",
       "\n",
       "    .dataframe thead tr th {\n",
       "        text-align: left;\n",
       "    }\n",
       "</style>\n",
       "<table border=\"1\" class=\"dataframe\">\n",
       "  <thead>\n",
       "    <tr>\n",
       "      <th></th>\n",
       "      <th colspan=\"2\" halign=\"left\">15</th>\n",
       "      <th colspan=\"2\" halign=\"left\">16</th>\n",
       "      <th colspan=\"2\" halign=\"left\">17</th>\n",
       "      <th colspan=\"2\" halign=\"left\">23</th>\n",
       "      <th colspan=\"2\" halign=\"left\">24</th>\n",
       "      <th colspan=\"2\" halign=\"left\">25</th>\n",
       "      <th colspan=\"2\" halign=\"left\">26</th>\n",
       "      <th colspan=\"2\" halign=\"left\">27</th>\n",
       "      <th colspan=\"2\" halign=\"left\">33</th>\n",
       "      <th colspan=\"2\" halign=\"left\">34</th>\n",
       "      <th colspan=\"2\" halign=\"left\">35</th>\n",
       "      <th colspan=\"2\" halign=\"left\">36</th>\n",
       "      <th colspan=\"2\" halign=\"left\">37</th>\n",
       "      <th colspan=\"2\" halign=\"left\">39</th>\n",
       "      <th colspan=\"2\" halign=\"left\">41</th>\n",
       "      <th colspan=\"2\" halign=\"left\">42</th>\n",
       "      <th colspan=\"2\" halign=\"left\">44</th>\n",
       "      <th colspan=\"2\" halign=\"left\">45</th>\n",
       "      <th colspan=\"2\" halign=\"left\">46</th>\n",
       "      <th colspan=\"2\" halign=\"left\">accounting</th>\n",
       "      <th>...</th>\n",
       "      <th colspan=\"2\" halign=\"left\">gemini</th>\n",
       "      <th colspan=\"2\" halign=\"left\">indunk</th>\n",
       "      <th colspan=\"2\" halign=\"left\">internet</th>\n",
       "      <th colspan=\"2\" halign=\"left\">investmentbanking</th>\n",
       "      <th colspan=\"2\" halign=\"left\">law</th>\n",
       "      <th colspan=\"2\" halign=\"left\">leo</th>\n",
       "      <th colspan=\"2\" halign=\"left\">libra</th>\n",
       "      <th colspan=\"2\" halign=\"left\">male</th>\n",
       "      <th colspan=\"2\" halign=\"left\">museums libraries</th>\n",
       "      <th colspan=\"2\" halign=\"left\">non profit</th>\n",
       "      <th colspan=\"2\" halign=\"left\">pisces</th>\n",
       "      <th colspan=\"2\" halign=\"left\">religion</th>\n",
       "      <th colspan=\"2\" halign=\"left\">sagittarius</th>\n",
       "      <th colspan=\"2\" halign=\"left\">science</th>\n",
       "      <th colspan=\"2\" halign=\"left\">scorpio</th>\n",
       "      <th colspan=\"2\" halign=\"left\">sports recreation</th>\n",
       "      <th colspan=\"2\" halign=\"left\">student</th>\n",
       "      <th colspan=\"2\" halign=\"left\">taurus</th>\n",
       "      <th colspan=\"2\" halign=\"left\">technology</th>\n",
       "      <th colspan=\"2\" halign=\"left\">virgo</th>\n",
       "    </tr>\n",
       "    <tr>\n",
       "      <th></th>\n",
       "      <th>Actuals</th>\n",
       "      <th>Predicted</th>\n",
       "      <th>Actuals</th>\n",
       "      <th>Predicted</th>\n",
       "      <th>Actuals</th>\n",
       "      <th>Predicted</th>\n",
       "      <th>Actuals</th>\n",
       "      <th>Predicted</th>\n",
       "      <th>Actuals</th>\n",
       "      <th>Predicted</th>\n",
       "      <th>Actuals</th>\n",
       "      <th>Predicted</th>\n",
       "      <th>Actuals</th>\n",
       "      <th>Predicted</th>\n",
       "      <th>Actuals</th>\n",
       "      <th>Predicted</th>\n",
       "      <th>Actuals</th>\n",
       "      <th>Predicted</th>\n",
       "      <th>Actuals</th>\n",
       "      <th>Predicted</th>\n",
       "      <th>Actuals</th>\n",
       "      <th>Predicted</th>\n",
       "      <th>Actuals</th>\n",
       "      <th>Predicted</th>\n",
       "      <th>Actuals</th>\n",
       "      <th>Predicted</th>\n",
       "      <th>Actuals</th>\n",
       "      <th>Predicted</th>\n",
       "      <th>Actuals</th>\n",
       "      <th>Predicted</th>\n",
       "      <th>Actuals</th>\n",
       "      <th>Predicted</th>\n",
       "      <th>Actuals</th>\n",
       "      <th>Predicted</th>\n",
       "      <th>Actuals</th>\n",
       "      <th>Predicted</th>\n",
       "      <th>Actuals</th>\n",
       "      <th>Predicted</th>\n",
       "      <th>Actuals</th>\n",
       "      <th>Predicted</th>\n",
       "      <th>...</th>\n",
       "      <th>Actuals</th>\n",
       "      <th>Predicted</th>\n",
       "      <th>Actuals</th>\n",
       "      <th>Predicted</th>\n",
       "      <th>Actuals</th>\n",
       "      <th>Predicted</th>\n",
       "      <th>Actuals</th>\n",
       "      <th>Predicted</th>\n",
       "      <th>Actuals</th>\n",
       "      <th>Predicted</th>\n",
       "      <th>Actuals</th>\n",
       "      <th>Predicted</th>\n",
       "      <th>Actuals</th>\n",
       "      <th>Predicted</th>\n",
       "      <th>Actuals</th>\n",
       "      <th>Predicted</th>\n",
       "      <th>Actuals</th>\n",
       "      <th>Predicted</th>\n",
       "      <th>Actuals</th>\n",
       "      <th>Predicted</th>\n",
       "      <th>Actuals</th>\n",
       "      <th>Predicted</th>\n",
       "      <th>Actuals</th>\n",
       "      <th>Predicted</th>\n",
       "      <th>Actuals</th>\n",
       "      <th>Predicted</th>\n",
       "      <th>Actuals</th>\n",
       "      <th>Predicted</th>\n",
       "      <th>Actuals</th>\n",
       "      <th>Predicted</th>\n",
       "      <th>Actuals</th>\n",
       "      <th>Predicted</th>\n",
       "      <th>Actuals</th>\n",
       "      <th>Predicted</th>\n",
       "      <th>Actuals</th>\n",
       "      <th>Predicted</th>\n",
       "      <th>Actuals</th>\n",
       "      <th>Predicted</th>\n",
       "      <th>Actuals</th>\n",
       "      <th>Predicted</th>\n",
       "    </tr>\n",
       "  </thead>\n",
       "  <tbody>\n",
       "    <tr>\n",
       "      <th>0</th>\n",
       "      <td>0</td>\n",
       "      <td>0</td>\n",
       "      <td>0</td>\n",
       "      <td>0</td>\n",
       "      <td>0</td>\n",
       "      <td>0</td>\n",
       "      <td>0</td>\n",
       "      <td>0</td>\n",
       "      <td>0</td>\n",
       "      <td>0</td>\n",
       "      <td>0</td>\n",
       "      <td>0</td>\n",
       "      <td>0</td>\n",
       "      <td>0</td>\n",
       "      <td>0</td>\n",
       "      <td>0</td>\n",
       "      <td>0</td>\n",
       "      <td>0</td>\n",
       "      <td>0</td>\n",
       "      <td>0</td>\n",
       "      <td>1</td>\n",
       "      <td>1</td>\n",
       "      <td>0</td>\n",
       "      <td>0</td>\n",
       "      <td>0</td>\n",
       "      <td>0</td>\n",
       "      <td>0</td>\n",
       "      <td>0</td>\n",
       "      <td>0</td>\n",
       "      <td>0</td>\n",
       "      <td>0</td>\n",
       "      <td>0</td>\n",
       "      <td>0</td>\n",
       "      <td>0</td>\n",
       "      <td>0</td>\n",
       "      <td>0</td>\n",
       "      <td>0</td>\n",
       "      <td>0</td>\n",
       "      <td>0</td>\n",
       "      <td>0</td>\n",
       "      <td>...</td>\n",
       "      <td>0</td>\n",
       "      <td>0</td>\n",
       "      <td>0</td>\n",
       "      <td>0</td>\n",
       "      <td>0</td>\n",
       "      <td>0</td>\n",
       "      <td>0</td>\n",
       "      <td>0</td>\n",
       "      <td>0</td>\n",
       "      <td>0</td>\n",
       "      <td>0</td>\n",
       "      <td>0</td>\n",
       "      <td>0</td>\n",
       "      <td>0</td>\n",
       "      <td>1</td>\n",
       "      <td>1</td>\n",
       "      <td>0</td>\n",
       "      <td>0</td>\n",
       "      <td>0</td>\n",
       "      <td>0</td>\n",
       "      <td>0</td>\n",
       "      <td>0</td>\n",
       "      <td>0</td>\n",
       "      <td>0</td>\n",
       "      <td>0</td>\n",
       "      <td>0</td>\n",
       "      <td>0</td>\n",
       "      <td>0</td>\n",
       "      <td>0</td>\n",
       "      <td>0</td>\n",
       "      <td>0</td>\n",
       "      <td>0</td>\n",
       "      <td>0</td>\n",
       "      <td>0</td>\n",
       "      <td>0</td>\n",
       "      <td>0</td>\n",
       "      <td>1</td>\n",
       "      <td>1</td>\n",
       "      <td>0</td>\n",
       "      <td>0</td>\n",
       "    </tr>\n",
       "    <tr>\n",
       "      <th>1</th>\n",
       "      <td>0</td>\n",
       "      <td>0</td>\n",
       "      <td>1</td>\n",
       "      <td>0</td>\n",
       "      <td>0</td>\n",
       "      <td>0</td>\n",
       "      <td>0</td>\n",
       "      <td>0</td>\n",
       "      <td>0</td>\n",
       "      <td>1</td>\n",
       "      <td>0</td>\n",
       "      <td>0</td>\n",
       "      <td>0</td>\n",
       "      <td>0</td>\n",
       "      <td>0</td>\n",
       "      <td>0</td>\n",
       "      <td>0</td>\n",
       "      <td>0</td>\n",
       "      <td>0</td>\n",
       "      <td>0</td>\n",
       "      <td>0</td>\n",
       "      <td>0</td>\n",
       "      <td>0</td>\n",
       "      <td>0</td>\n",
       "      <td>0</td>\n",
       "      <td>0</td>\n",
       "      <td>0</td>\n",
       "      <td>0</td>\n",
       "      <td>0</td>\n",
       "      <td>0</td>\n",
       "      <td>0</td>\n",
       "      <td>0</td>\n",
       "      <td>0</td>\n",
       "      <td>0</td>\n",
       "      <td>0</td>\n",
       "      <td>0</td>\n",
       "      <td>0</td>\n",
       "      <td>0</td>\n",
       "      <td>0</td>\n",
       "      <td>0</td>\n",
       "      <td>...</td>\n",
       "      <td>0</td>\n",
       "      <td>0</td>\n",
       "      <td>0</td>\n",
       "      <td>0</td>\n",
       "      <td>0</td>\n",
       "      <td>0</td>\n",
       "      <td>0</td>\n",
       "      <td>0</td>\n",
       "      <td>0</td>\n",
       "      <td>0</td>\n",
       "      <td>0</td>\n",
       "      <td>0</td>\n",
       "      <td>1</td>\n",
       "      <td>1</td>\n",
       "      <td>0</td>\n",
       "      <td>1</td>\n",
       "      <td>0</td>\n",
       "      <td>0</td>\n",
       "      <td>0</td>\n",
       "      <td>0</td>\n",
       "      <td>0</td>\n",
       "      <td>0</td>\n",
       "      <td>0</td>\n",
       "      <td>0</td>\n",
       "      <td>0</td>\n",
       "      <td>0</td>\n",
       "      <td>0</td>\n",
       "      <td>0</td>\n",
       "      <td>0</td>\n",
       "      <td>0</td>\n",
       "      <td>0</td>\n",
       "      <td>0</td>\n",
       "      <td>1</td>\n",
       "      <td>0</td>\n",
       "      <td>0</td>\n",
       "      <td>0</td>\n",
       "      <td>0</td>\n",
       "      <td>0</td>\n",
       "      <td>0</td>\n",
       "      <td>0</td>\n",
       "    </tr>\n",
       "    <tr>\n",
       "      <th>2</th>\n",
       "      <td>0</td>\n",
       "      <td>0</td>\n",
       "      <td>0</td>\n",
       "      <td>0</td>\n",
       "      <td>0</td>\n",
       "      <td>0</td>\n",
       "      <td>0</td>\n",
       "      <td>0</td>\n",
       "      <td>0</td>\n",
       "      <td>1</td>\n",
       "      <td>0</td>\n",
       "      <td>0</td>\n",
       "      <td>0</td>\n",
       "      <td>0</td>\n",
       "      <td>0</td>\n",
       "      <td>0</td>\n",
       "      <td>0</td>\n",
       "      <td>0</td>\n",
       "      <td>0</td>\n",
       "      <td>0</td>\n",
       "      <td>0</td>\n",
       "      <td>0</td>\n",
       "      <td>0</td>\n",
       "      <td>0</td>\n",
       "      <td>0</td>\n",
       "      <td>0</td>\n",
       "      <td>0</td>\n",
       "      <td>0</td>\n",
       "      <td>0</td>\n",
       "      <td>0</td>\n",
       "      <td>0</td>\n",
       "      <td>0</td>\n",
       "      <td>0</td>\n",
       "      <td>0</td>\n",
       "      <td>0</td>\n",
       "      <td>0</td>\n",
       "      <td>0</td>\n",
       "      <td>0</td>\n",
       "      <td>0</td>\n",
       "      <td>0</td>\n",
       "      <td>...</td>\n",
       "      <td>0</td>\n",
       "      <td>0</td>\n",
       "      <td>1</td>\n",
       "      <td>0</td>\n",
       "      <td>0</td>\n",
       "      <td>0</td>\n",
       "      <td>0</td>\n",
       "      <td>0</td>\n",
       "      <td>0</td>\n",
       "      <td>0</td>\n",
       "      <td>0</td>\n",
       "      <td>0</td>\n",
       "      <td>0</td>\n",
       "      <td>1</td>\n",
       "      <td>1</td>\n",
       "      <td>1</td>\n",
       "      <td>0</td>\n",
       "      <td>0</td>\n",
       "      <td>0</td>\n",
       "      <td>0</td>\n",
       "      <td>0</td>\n",
       "      <td>0</td>\n",
       "      <td>0</td>\n",
       "      <td>0</td>\n",
       "      <td>0</td>\n",
       "      <td>0</td>\n",
       "      <td>0</td>\n",
       "      <td>0</td>\n",
       "      <td>1</td>\n",
       "      <td>0</td>\n",
       "      <td>0</td>\n",
       "      <td>0</td>\n",
       "      <td>0</td>\n",
       "      <td>0</td>\n",
       "      <td>0</td>\n",
       "      <td>0</td>\n",
       "      <td>0</td>\n",
       "      <td>0</td>\n",
       "      <td>0</td>\n",
       "      <td>0</td>\n",
       "    </tr>\n",
       "    <tr>\n",
       "      <th>3</th>\n",
       "      <td>0</td>\n",
       "      <td>0</td>\n",
       "      <td>0</td>\n",
       "      <td>0</td>\n",
       "      <td>0</td>\n",
       "      <td>0</td>\n",
       "      <td>0</td>\n",
       "      <td>0</td>\n",
       "      <td>0</td>\n",
       "      <td>0</td>\n",
       "      <td>0</td>\n",
       "      <td>0</td>\n",
       "      <td>0</td>\n",
       "      <td>0</td>\n",
       "      <td>0</td>\n",
       "      <td>0</td>\n",
       "      <td>0</td>\n",
       "      <td>0</td>\n",
       "      <td>0</td>\n",
       "      <td>0</td>\n",
       "      <td>1</td>\n",
       "      <td>1</td>\n",
       "      <td>0</td>\n",
       "      <td>0</td>\n",
       "      <td>0</td>\n",
       "      <td>0</td>\n",
       "      <td>0</td>\n",
       "      <td>0</td>\n",
       "      <td>0</td>\n",
       "      <td>0</td>\n",
       "      <td>0</td>\n",
       "      <td>0</td>\n",
       "      <td>0</td>\n",
       "      <td>0</td>\n",
       "      <td>0</td>\n",
       "      <td>0</td>\n",
       "      <td>0</td>\n",
       "      <td>0</td>\n",
       "      <td>0</td>\n",
       "      <td>0</td>\n",
       "      <td>...</td>\n",
       "      <td>0</td>\n",
       "      <td>0</td>\n",
       "      <td>0</td>\n",
       "      <td>0</td>\n",
       "      <td>0</td>\n",
       "      <td>0</td>\n",
       "      <td>0</td>\n",
       "      <td>0</td>\n",
       "      <td>0</td>\n",
       "      <td>0</td>\n",
       "      <td>0</td>\n",
       "      <td>0</td>\n",
       "      <td>0</td>\n",
       "      <td>0</td>\n",
       "      <td>1</td>\n",
       "      <td>1</td>\n",
       "      <td>0</td>\n",
       "      <td>0</td>\n",
       "      <td>0</td>\n",
       "      <td>0</td>\n",
       "      <td>0</td>\n",
       "      <td>0</td>\n",
       "      <td>0</td>\n",
       "      <td>0</td>\n",
       "      <td>0</td>\n",
       "      <td>0</td>\n",
       "      <td>0</td>\n",
       "      <td>0</td>\n",
       "      <td>0</td>\n",
       "      <td>0</td>\n",
       "      <td>0</td>\n",
       "      <td>0</td>\n",
       "      <td>0</td>\n",
       "      <td>0</td>\n",
       "      <td>0</td>\n",
       "      <td>0</td>\n",
       "      <td>1</td>\n",
       "      <td>1</td>\n",
       "      <td>0</td>\n",
       "      <td>0</td>\n",
       "    </tr>\n",
       "    <tr>\n",
       "      <th>4</th>\n",
       "      <td>0</td>\n",
       "      <td>0</td>\n",
       "      <td>0</td>\n",
       "      <td>0</td>\n",
       "      <td>0</td>\n",
       "      <td>1</td>\n",
       "      <td>0</td>\n",
       "      <td>0</td>\n",
       "      <td>0</td>\n",
       "      <td>0</td>\n",
       "      <td>0</td>\n",
       "      <td>0</td>\n",
       "      <td>0</td>\n",
       "      <td>0</td>\n",
       "      <td>0</td>\n",
       "      <td>0</td>\n",
       "      <td>0</td>\n",
       "      <td>0</td>\n",
       "      <td>0</td>\n",
       "      <td>0</td>\n",
       "      <td>1</td>\n",
       "      <td>0</td>\n",
       "      <td>0</td>\n",
       "      <td>0</td>\n",
       "      <td>0</td>\n",
       "      <td>0</td>\n",
       "      <td>0</td>\n",
       "      <td>0</td>\n",
       "      <td>0</td>\n",
       "      <td>0</td>\n",
       "      <td>0</td>\n",
       "      <td>0</td>\n",
       "      <td>0</td>\n",
       "      <td>0</td>\n",
       "      <td>0</td>\n",
       "      <td>0</td>\n",
       "      <td>0</td>\n",
       "      <td>0</td>\n",
       "      <td>0</td>\n",
       "      <td>0</td>\n",
       "      <td>...</td>\n",
       "      <td>0</td>\n",
       "      <td>0</td>\n",
       "      <td>0</td>\n",
       "      <td>1</td>\n",
       "      <td>0</td>\n",
       "      <td>0</td>\n",
       "      <td>0</td>\n",
       "      <td>0</td>\n",
       "      <td>0</td>\n",
       "      <td>0</td>\n",
       "      <td>0</td>\n",
       "      <td>0</td>\n",
       "      <td>0</td>\n",
       "      <td>0</td>\n",
       "      <td>1</td>\n",
       "      <td>1</td>\n",
       "      <td>0</td>\n",
       "      <td>0</td>\n",
       "      <td>0</td>\n",
       "      <td>0</td>\n",
       "      <td>0</td>\n",
       "      <td>0</td>\n",
       "      <td>0</td>\n",
       "      <td>0</td>\n",
       "      <td>0</td>\n",
       "      <td>0</td>\n",
       "      <td>0</td>\n",
       "      <td>0</td>\n",
       "      <td>0</td>\n",
       "      <td>0</td>\n",
       "      <td>0</td>\n",
       "      <td>0</td>\n",
       "      <td>0</td>\n",
       "      <td>0</td>\n",
       "      <td>0</td>\n",
       "      <td>0</td>\n",
       "      <td>1</td>\n",
       "      <td>0</td>\n",
       "      <td>0</td>\n",
       "      <td>0</td>\n",
       "    </tr>\n",
       "  </tbody>\n",
       "</table>\n",
       "<p>5 rows × 106 columns</p>\n",
       "</div>"
      ],
      "text/plain": [
       "       15                16            ... technology             virgo          \n",
       "  Actuals Predicted Actuals Predicted  ...    Actuals Predicted Actuals Predicted\n",
       "0       0         0       0         0  ...          1         1       0         0\n",
       "1       0         0       1         0  ...          0         0       0         0\n",
       "2       0         0       0         0  ...          0         0       0         0\n",
       "3       0         0       0         0  ...          1         1       0         0\n",
       "4       0         0       0         0  ...          1         0       0         0\n",
       "\n",
       "[5 rows x 106 columns]"
      ]
     },
     "execution_count": 285,
     "metadata": {
      "tags": []
     },
     "output_type": "execute_result"
    }
   ],
   "source": [
    "df_final = df_all.swaplevel(axis='columns')[actual.columns[1:]]\n",
    "df_final"
   ]
  },
  {
   "cell_type": "code",
   "execution_count": 0,
   "metadata": {
    "colab": {
     "base_uri": "https://localhost:8080/",
     "height": 240
    },
    "colab_type": "code",
    "id": "GKzbo6aKPUA_",
    "outputId": "2e70099e-bef8-4a74-8d43-602a247c0cde"
   },
   "outputs": [
    {
     "name": "stdout",
     "output_type": "stream",
     "text": [
      "Highlited columns which are incorrectly classified: \n",
      "\n"
     ]
    },
    {
     "data": {
      "text/html": [
       "<style  type=\"text/css\" >\n",
       "    #T_895256b0_0ed7_11ea_9683_0242ac1c0002row1_col3 {\n",
       "            background-color:  yellow;\n",
       "        }    #T_895256b0_0ed7_11ea_9683_0242ac1c0002row1_col9 {\n",
       "            background-color:  yellow;\n",
       "        }    #T_895256b0_0ed7_11ea_9683_0242ac1c0002row1_col63 {\n",
       "            background-color:  yellow;\n",
       "        }    #T_895256b0_0ed7_11ea_9683_0242ac1c0002row1_col65 {\n",
       "            background-color:  yellow;\n",
       "        }    #T_895256b0_0ed7_11ea_9683_0242ac1c0002row1_col81 {\n",
       "            background-color:  yellow;\n",
       "        }    #T_895256b0_0ed7_11ea_9683_0242ac1c0002row1_col99 {\n",
       "            background-color:  yellow;\n",
       "        }    #T_895256b0_0ed7_11ea_9683_0242ac1c0002row2_col9 {\n",
       "            background-color:  yellow;\n",
       "        }    #T_895256b0_0ed7_11ea_9683_0242ac1c0002row2_col63 {\n",
       "            background-color:  yellow;\n",
       "        }    #T_895256b0_0ed7_11ea_9683_0242ac1c0002row2_col69 {\n",
       "            background-color:  yellow;\n",
       "        }    #T_895256b0_0ed7_11ea_9683_0242ac1c0002row2_col79 {\n",
       "            background-color:  yellow;\n",
       "        }    #T_895256b0_0ed7_11ea_9683_0242ac1c0002row2_col95 {\n",
       "            background-color:  yellow;\n",
       "        }    #T_895256b0_0ed7_11ea_9683_0242ac1c0002row4_col5 {\n",
       "            background-color:  yellow;\n",
       "        }    #T_895256b0_0ed7_11ea_9683_0242ac1c0002row4_col21 {\n",
       "            background-color:  yellow;\n",
       "        }    #T_895256b0_0ed7_11ea_9683_0242ac1c0002row4_col41 {\n",
       "            background-color:  yellow;\n",
       "        }    #T_895256b0_0ed7_11ea_9683_0242ac1c0002row4_col43 {\n",
       "            background-color:  yellow;\n",
       "        }    #T_895256b0_0ed7_11ea_9683_0242ac1c0002row4_col69 {\n",
       "            background-color:  yellow;\n",
       "        }    #T_895256b0_0ed7_11ea_9683_0242ac1c0002row4_col103 {\n",
       "            background-color:  yellow;\n",
       "        }</style><table id=\"T_895256b0_0ed7_11ea_9683_0242ac1c0002\" ><thead>    <tr>        <th class=\"blank level0\" ></th>        <th class=\"col_heading level0 col0\" colspan=2>15</th>        <th class=\"col_heading level0 col2\" colspan=2>16</th>        <th class=\"col_heading level0 col4\" colspan=2>17</th>        <th class=\"col_heading level0 col6\" colspan=2>23</th>        <th class=\"col_heading level0 col8\" colspan=2>24</th>        <th class=\"col_heading level0 col10\" colspan=2>25</th>        <th class=\"col_heading level0 col12\" colspan=2>26</th>        <th class=\"col_heading level0 col14\" colspan=2>27</th>        <th class=\"col_heading level0 col16\" colspan=2>33</th>        <th class=\"col_heading level0 col18\" colspan=2>34</th>        <th class=\"col_heading level0 col20\" colspan=2>35</th>        <th class=\"col_heading level0 col22\" colspan=2>36</th>        <th class=\"col_heading level0 col24\" colspan=2>37</th>        <th class=\"col_heading level0 col26\" colspan=2>39</th>        <th class=\"col_heading level0 col28\" colspan=2>41</th>        <th class=\"col_heading level0 col30\" colspan=2>42</th>        <th class=\"col_heading level0 col32\" colspan=2>44</th>        <th class=\"col_heading level0 col34\" colspan=2>45</th>        <th class=\"col_heading level0 col36\" colspan=2>46</th>        <th class=\"col_heading level0 col38\" colspan=2>accounting</th>        <th class=\"col_heading level0 col40\" colspan=2>aquarius</th>        <th class=\"col_heading level0 col42\" colspan=2>aries</th>        <th class=\"col_heading level0 col44\" colspan=2>arts</th>        <th class=\"col_heading level0 col46\" colspan=2>automotive</th>        <th class=\"col_heading level0 col48\" colspan=2>banking</th>        <th class=\"col_heading level0 col50\" colspan=2>businessservices</th>        <th class=\"col_heading level0 col52\" colspan=2>cancer</th>        <th class=\"col_heading level0 col54\" colspan=2>capricorn</th>        <th class=\"col_heading level0 col56\" colspan=2>communications media</th>        <th class=\"col_heading level0 col58\" colspan=2>consulting</th>        <th class=\"col_heading level0 col60\" colspan=2>education</th>        <th class=\"col_heading level0 col62\" colspan=2>engineering</th>        <th class=\"col_heading level0 col64\" colspan=2>female</th>        <th class=\"col_heading level0 col66\" colspan=2>gemini</th>        <th class=\"col_heading level0 col68\" colspan=2>indunk</th>        <th class=\"col_heading level0 col70\" colspan=2>internet</th>        <th class=\"col_heading level0 col72\" colspan=2>investmentbanking</th>        <th class=\"col_heading level0 col74\" colspan=2>law</th>        <th class=\"col_heading level0 col76\" colspan=2>leo</th>        <th class=\"col_heading level0 col78\" colspan=2>libra</th>        <th class=\"col_heading level0 col80\" colspan=2>male</th>        <th class=\"col_heading level0 col82\" colspan=2>museums libraries</th>        <th class=\"col_heading level0 col84\" colspan=2>non profit</th>        <th class=\"col_heading level0 col86\" colspan=2>pisces</th>        <th class=\"col_heading level0 col88\" colspan=2>religion</th>        <th class=\"col_heading level0 col90\" colspan=2>sagittarius</th>        <th class=\"col_heading level0 col92\" colspan=2>science</th>        <th class=\"col_heading level0 col94\" colspan=2>scorpio</th>        <th class=\"col_heading level0 col96\" colspan=2>sports recreation</th>        <th class=\"col_heading level0 col98\" colspan=2>student</th>        <th class=\"col_heading level0 col100\" colspan=2>taurus</th>        <th class=\"col_heading level0 col102\" colspan=2>technology</th>        <th class=\"col_heading level0 col104\" colspan=2>virgo</th>    </tr>    <tr>        <th class=\"blank level1\" ></th>        <th class=\"col_heading level1 col0\" >Actuals</th>        <th class=\"col_heading level1 col1\" >Predicted</th>        <th class=\"col_heading level1 col2\" >Actuals</th>        <th class=\"col_heading level1 col3\" >Predicted</th>        <th class=\"col_heading level1 col4\" >Actuals</th>        <th class=\"col_heading level1 col5\" >Predicted</th>        <th class=\"col_heading level1 col6\" >Actuals</th>        <th class=\"col_heading level1 col7\" >Predicted</th>        <th class=\"col_heading level1 col8\" >Actuals</th>        <th class=\"col_heading level1 col9\" >Predicted</th>        <th class=\"col_heading level1 col10\" >Actuals</th>        <th class=\"col_heading level1 col11\" >Predicted</th>        <th class=\"col_heading level1 col12\" >Actuals</th>        <th class=\"col_heading level1 col13\" >Predicted</th>        <th class=\"col_heading level1 col14\" >Actuals</th>        <th class=\"col_heading level1 col15\" >Predicted</th>        <th class=\"col_heading level1 col16\" >Actuals</th>        <th class=\"col_heading level1 col17\" >Predicted</th>        <th class=\"col_heading level1 col18\" >Actuals</th>        <th class=\"col_heading level1 col19\" >Predicted</th>        <th class=\"col_heading level1 col20\" >Actuals</th>        <th class=\"col_heading level1 col21\" >Predicted</th>        <th class=\"col_heading level1 col22\" >Actuals</th>        <th class=\"col_heading level1 col23\" >Predicted</th>        <th class=\"col_heading level1 col24\" >Actuals</th>        <th class=\"col_heading level1 col25\" >Predicted</th>        <th class=\"col_heading level1 col26\" >Actuals</th>        <th class=\"col_heading level1 col27\" >Predicted</th>        <th class=\"col_heading level1 col28\" >Actuals</th>        <th class=\"col_heading level1 col29\" >Predicted</th>        <th class=\"col_heading level1 col30\" >Actuals</th>        <th class=\"col_heading level1 col31\" >Predicted</th>        <th class=\"col_heading level1 col32\" >Actuals</th>        <th class=\"col_heading level1 col33\" >Predicted</th>        <th class=\"col_heading level1 col34\" >Actuals</th>        <th class=\"col_heading level1 col35\" >Predicted</th>        <th class=\"col_heading level1 col36\" >Actuals</th>        <th class=\"col_heading level1 col37\" >Predicted</th>        <th class=\"col_heading level1 col38\" >Actuals</th>        <th class=\"col_heading level1 col39\" >Predicted</th>        <th class=\"col_heading level1 col40\" >Actuals</th>        <th class=\"col_heading level1 col41\" >Predicted</th>        <th class=\"col_heading level1 col42\" >Actuals</th>        <th class=\"col_heading level1 col43\" >Predicted</th>        <th class=\"col_heading level1 col44\" >Actuals</th>        <th class=\"col_heading level1 col45\" >Predicted</th>        <th class=\"col_heading level1 col46\" >Actuals</th>        <th class=\"col_heading level1 col47\" >Predicted</th>        <th class=\"col_heading level1 col48\" >Actuals</th>        <th class=\"col_heading level1 col49\" >Predicted</th>        <th class=\"col_heading level1 col50\" >Actuals</th>        <th class=\"col_heading level1 col51\" >Predicted</th>        <th class=\"col_heading level1 col52\" >Actuals</th>        <th class=\"col_heading level1 col53\" >Predicted</th>        <th class=\"col_heading level1 col54\" >Actuals</th>        <th class=\"col_heading level1 col55\" >Predicted</th>        <th class=\"col_heading level1 col56\" >Actuals</th>        <th class=\"col_heading level1 col57\" >Predicted</th>        <th class=\"col_heading level1 col58\" >Actuals</th>        <th class=\"col_heading level1 col59\" >Predicted</th>        <th class=\"col_heading level1 col60\" >Actuals</th>        <th class=\"col_heading level1 col61\" >Predicted</th>        <th class=\"col_heading level1 col62\" >Actuals</th>        <th class=\"col_heading level1 col63\" >Predicted</th>        <th class=\"col_heading level1 col64\" >Actuals</th>        <th class=\"col_heading level1 col65\" >Predicted</th>        <th class=\"col_heading level1 col66\" >Actuals</th>        <th class=\"col_heading level1 col67\" >Predicted</th>        <th class=\"col_heading level1 col68\" >Actuals</th>        <th class=\"col_heading level1 col69\" >Predicted</th>        <th class=\"col_heading level1 col70\" >Actuals</th>        <th class=\"col_heading level1 col71\" >Predicted</th>        <th class=\"col_heading level1 col72\" >Actuals</th>        <th class=\"col_heading level1 col73\" >Predicted</th>        <th class=\"col_heading level1 col74\" >Actuals</th>        <th class=\"col_heading level1 col75\" >Predicted</th>        <th class=\"col_heading level1 col76\" >Actuals</th>        <th class=\"col_heading level1 col77\" >Predicted</th>        <th class=\"col_heading level1 col78\" >Actuals</th>        <th class=\"col_heading level1 col79\" >Predicted</th>        <th class=\"col_heading level1 col80\" >Actuals</th>        <th class=\"col_heading level1 col81\" >Predicted</th>        <th class=\"col_heading level1 col82\" >Actuals</th>        <th class=\"col_heading level1 col83\" >Predicted</th>        <th class=\"col_heading level1 col84\" >Actuals</th>        <th class=\"col_heading level1 col85\" >Predicted</th>        <th class=\"col_heading level1 col86\" >Actuals</th>        <th class=\"col_heading level1 col87\" >Predicted</th>        <th class=\"col_heading level1 col88\" >Actuals</th>        <th class=\"col_heading level1 col89\" >Predicted</th>        <th class=\"col_heading level1 col90\" >Actuals</th>        <th class=\"col_heading level1 col91\" >Predicted</th>        <th class=\"col_heading level1 col92\" >Actuals</th>        <th class=\"col_heading level1 col93\" >Predicted</th>        <th class=\"col_heading level1 col94\" >Actuals</th>        <th class=\"col_heading level1 col95\" >Predicted</th>        <th class=\"col_heading level1 col96\" >Actuals</th>        <th class=\"col_heading level1 col97\" >Predicted</th>        <th class=\"col_heading level1 col98\" >Actuals</th>        <th class=\"col_heading level1 col99\" >Predicted</th>        <th class=\"col_heading level1 col100\" >Actuals</th>        <th class=\"col_heading level1 col101\" >Predicted</th>        <th class=\"col_heading level1 col102\" >Actuals</th>        <th class=\"col_heading level1 col103\" >Predicted</th>        <th class=\"col_heading level1 col104\" >Actuals</th>        <th class=\"col_heading level1 col105\" >Predicted</th>    </tr></thead><tbody>\n",
       "                <tr>\n",
       "                        <th id=\"T_895256b0_0ed7_11ea_9683_0242ac1c0002level0_row0\" class=\"row_heading level0 row0\" >0</th>\n",
       "                        <td id=\"T_895256b0_0ed7_11ea_9683_0242ac1c0002row0_col0\" class=\"data row0 col0\" >0</td>\n",
       "                        <td id=\"T_895256b0_0ed7_11ea_9683_0242ac1c0002row0_col1\" class=\"data row0 col1\" >0</td>\n",
       "                        <td id=\"T_895256b0_0ed7_11ea_9683_0242ac1c0002row0_col2\" class=\"data row0 col2\" >0</td>\n",
       "                        <td id=\"T_895256b0_0ed7_11ea_9683_0242ac1c0002row0_col3\" class=\"data row0 col3\" >0</td>\n",
       "                        <td id=\"T_895256b0_0ed7_11ea_9683_0242ac1c0002row0_col4\" class=\"data row0 col4\" >0</td>\n",
       "                        <td id=\"T_895256b0_0ed7_11ea_9683_0242ac1c0002row0_col5\" class=\"data row0 col5\" >0</td>\n",
       "                        <td id=\"T_895256b0_0ed7_11ea_9683_0242ac1c0002row0_col6\" class=\"data row0 col6\" >0</td>\n",
       "                        <td id=\"T_895256b0_0ed7_11ea_9683_0242ac1c0002row0_col7\" class=\"data row0 col7\" >0</td>\n",
       "                        <td id=\"T_895256b0_0ed7_11ea_9683_0242ac1c0002row0_col8\" class=\"data row0 col8\" >0</td>\n",
       "                        <td id=\"T_895256b0_0ed7_11ea_9683_0242ac1c0002row0_col9\" class=\"data row0 col9\" >0</td>\n",
       "                        <td id=\"T_895256b0_0ed7_11ea_9683_0242ac1c0002row0_col10\" class=\"data row0 col10\" >0</td>\n",
       "                        <td id=\"T_895256b0_0ed7_11ea_9683_0242ac1c0002row0_col11\" class=\"data row0 col11\" >0</td>\n",
       "                        <td id=\"T_895256b0_0ed7_11ea_9683_0242ac1c0002row0_col12\" class=\"data row0 col12\" >0</td>\n",
       "                        <td id=\"T_895256b0_0ed7_11ea_9683_0242ac1c0002row0_col13\" class=\"data row0 col13\" >0</td>\n",
       "                        <td id=\"T_895256b0_0ed7_11ea_9683_0242ac1c0002row0_col14\" class=\"data row0 col14\" >0</td>\n",
       "                        <td id=\"T_895256b0_0ed7_11ea_9683_0242ac1c0002row0_col15\" class=\"data row0 col15\" >0</td>\n",
       "                        <td id=\"T_895256b0_0ed7_11ea_9683_0242ac1c0002row0_col16\" class=\"data row0 col16\" >0</td>\n",
       "                        <td id=\"T_895256b0_0ed7_11ea_9683_0242ac1c0002row0_col17\" class=\"data row0 col17\" >0</td>\n",
       "                        <td id=\"T_895256b0_0ed7_11ea_9683_0242ac1c0002row0_col18\" class=\"data row0 col18\" >0</td>\n",
       "                        <td id=\"T_895256b0_0ed7_11ea_9683_0242ac1c0002row0_col19\" class=\"data row0 col19\" >0</td>\n",
       "                        <td id=\"T_895256b0_0ed7_11ea_9683_0242ac1c0002row0_col20\" class=\"data row0 col20\" >1</td>\n",
       "                        <td id=\"T_895256b0_0ed7_11ea_9683_0242ac1c0002row0_col21\" class=\"data row0 col21\" >1</td>\n",
       "                        <td id=\"T_895256b0_0ed7_11ea_9683_0242ac1c0002row0_col22\" class=\"data row0 col22\" >0</td>\n",
       "                        <td id=\"T_895256b0_0ed7_11ea_9683_0242ac1c0002row0_col23\" class=\"data row0 col23\" >0</td>\n",
       "                        <td id=\"T_895256b0_0ed7_11ea_9683_0242ac1c0002row0_col24\" class=\"data row0 col24\" >0</td>\n",
       "                        <td id=\"T_895256b0_0ed7_11ea_9683_0242ac1c0002row0_col25\" class=\"data row0 col25\" >0</td>\n",
       "                        <td id=\"T_895256b0_0ed7_11ea_9683_0242ac1c0002row0_col26\" class=\"data row0 col26\" >0</td>\n",
       "                        <td id=\"T_895256b0_0ed7_11ea_9683_0242ac1c0002row0_col27\" class=\"data row0 col27\" >0</td>\n",
       "                        <td id=\"T_895256b0_0ed7_11ea_9683_0242ac1c0002row0_col28\" class=\"data row0 col28\" >0</td>\n",
       "                        <td id=\"T_895256b0_0ed7_11ea_9683_0242ac1c0002row0_col29\" class=\"data row0 col29\" >0</td>\n",
       "                        <td id=\"T_895256b0_0ed7_11ea_9683_0242ac1c0002row0_col30\" class=\"data row0 col30\" >0</td>\n",
       "                        <td id=\"T_895256b0_0ed7_11ea_9683_0242ac1c0002row0_col31\" class=\"data row0 col31\" >0</td>\n",
       "                        <td id=\"T_895256b0_0ed7_11ea_9683_0242ac1c0002row0_col32\" class=\"data row0 col32\" >0</td>\n",
       "                        <td id=\"T_895256b0_0ed7_11ea_9683_0242ac1c0002row0_col33\" class=\"data row0 col33\" >0</td>\n",
       "                        <td id=\"T_895256b0_0ed7_11ea_9683_0242ac1c0002row0_col34\" class=\"data row0 col34\" >0</td>\n",
       "                        <td id=\"T_895256b0_0ed7_11ea_9683_0242ac1c0002row0_col35\" class=\"data row0 col35\" >0</td>\n",
       "                        <td id=\"T_895256b0_0ed7_11ea_9683_0242ac1c0002row0_col36\" class=\"data row0 col36\" >0</td>\n",
       "                        <td id=\"T_895256b0_0ed7_11ea_9683_0242ac1c0002row0_col37\" class=\"data row0 col37\" >0</td>\n",
       "                        <td id=\"T_895256b0_0ed7_11ea_9683_0242ac1c0002row0_col38\" class=\"data row0 col38\" >0</td>\n",
       "                        <td id=\"T_895256b0_0ed7_11ea_9683_0242ac1c0002row0_col39\" class=\"data row0 col39\" >0</td>\n",
       "                        <td id=\"T_895256b0_0ed7_11ea_9683_0242ac1c0002row0_col40\" class=\"data row0 col40\" >0</td>\n",
       "                        <td id=\"T_895256b0_0ed7_11ea_9683_0242ac1c0002row0_col41\" class=\"data row0 col41\" >0</td>\n",
       "                        <td id=\"T_895256b0_0ed7_11ea_9683_0242ac1c0002row0_col42\" class=\"data row0 col42\" >1</td>\n",
       "                        <td id=\"T_895256b0_0ed7_11ea_9683_0242ac1c0002row0_col43\" class=\"data row0 col43\" >1</td>\n",
       "                        <td id=\"T_895256b0_0ed7_11ea_9683_0242ac1c0002row0_col44\" class=\"data row0 col44\" >0</td>\n",
       "                        <td id=\"T_895256b0_0ed7_11ea_9683_0242ac1c0002row0_col45\" class=\"data row0 col45\" >0</td>\n",
       "                        <td id=\"T_895256b0_0ed7_11ea_9683_0242ac1c0002row0_col46\" class=\"data row0 col46\" >0</td>\n",
       "                        <td id=\"T_895256b0_0ed7_11ea_9683_0242ac1c0002row0_col47\" class=\"data row0 col47\" >0</td>\n",
       "                        <td id=\"T_895256b0_0ed7_11ea_9683_0242ac1c0002row0_col48\" class=\"data row0 col48\" >0</td>\n",
       "                        <td id=\"T_895256b0_0ed7_11ea_9683_0242ac1c0002row0_col49\" class=\"data row0 col49\" >0</td>\n",
       "                        <td id=\"T_895256b0_0ed7_11ea_9683_0242ac1c0002row0_col50\" class=\"data row0 col50\" >0</td>\n",
       "                        <td id=\"T_895256b0_0ed7_11ea_9683_0242ac1c0002row0_col51\" class=\"data row0 col51\" >0</td>\n",
       "                        <td id=\"T_895256b0_0ed7_11ea_9683_0242ac1c0002row0_col52\" class=\"data row0 col52\" >0</td>\n",
       "                        <td id=\"T_895256b0_0ed7_11ea_9683_0242ac1c0002row0_col53\" class=\"data row0 col53\" >0</td>\n",
       "                        <td id=\"T_895256b0_0ed7_11ea_9683_0242ac1c0002row0_col54\" class=\"data row0 col54\" >0</td>\n",
       "                        <td id=\"T_895256b0_0ed7_11ea_9683_0242ac1c0002row0_col55\" class=\"data row0 col55\" >0</td>\n",
       "                        <td id=\"T_895256b0_0ed7_11ea_9683_0242ac1c0002row0_col56\" class=\"data row0 col56\" >0</td>\n",
       "                        <td id=\"T_895256b0_0ed7_11ea_9683_0242ac1c0002row0_col57\" class=\"data row0 col57\" >0</td>\n",
       "                        <td id=\"T_895256b0_0ed7_11ea_9683_0242ac1c0002row0_col58\" class=\"data row0 col58\" >0</td>\n",
       "                        <td id=\"T_895256b0_0ed7_11ea_9683_0242ac1c0002row0_col59\" class=\"data row0 col59\" >0</td>\n",
       "                        <td id=\"T_895256b0_0ed7_11ea_9683_0242ac1c0002row0_col60\" class=\"data row0 col60\" >0</td>\n",
       "                        <td id=\"T_895256b0_0ed7_11ea_9683_0242ac1c0002row0_col61\" class=\"data row0 col61\" >0</td>\n",
       "                        <td id=\"T_895256b0_0ed7_11ea_9683_0242ac1c0002row0_col62\" class=\"data row0 col62\" >0</td>\n",
       "                        <td id=\"T_895256b0_0ed7_11ea_9683_0242ac1c0002row0_col63\" class=\"data row0 col63\" >0</td>\n",
       "                        <td id=\"T_895256b0_0ed7_11ea_9683_0242ac1c0002row0_col64\" class=\"data row0 col64\" >0</td>\n",
       "                        <td id=\"T_895256b0_0ed7_11ea_9683_0242ac1c0002row0_col65\" class=\"data row0 col65\" >0</td>\n",
       "                        <td id=\"T_895256b0_0ed7_11ea_9683_0242ac1c0002row0_col66\" class=\"data row0 col66\" >0</td>\n",
       "                        <td id=\"T_895256b0_0ed7_11ea_9683_0242ac1c0002row0_col67\" class=\"data row0 col67\" >0</td>\n",
       "                        <td id=\"T_895256b0_0ed7_11ea_9683_0242ac1c0002row0_col68\" class=\"data row0 col68\" >0</td>\n",
       "                        <td id=\"T_895256b0_0ed7_11ea_9683_0242ac1c0002row0_col69\" class=\"data row0 col69\" >0</td>\n",
       "                        <td id=\"T_895256b0_0ed7_11ea_9683_0242ac1c0002row0_col70\" class=\"data row0 col70\" >0</td>\n",
       "                        <td id=\"T_895256b0_0ed7_11ea_9683_0242ac1c0002row0_col71\" class=\"data row0 col71\" >0</td>\n",
       "                        <td id=\"T_895256b0_0ed7_11ea_9683_0242ac1c0002row0_col72\" class=\"data row0 col72\" >0</td>\n",
       "                        <td id=\"T_895256b0_0ed7_11ea_9683_0242ac1c0002row0_col73\" class=\"data row0 col73\" >0</td>\n",
       "                        <td id=\"T_895256b0_0ed7_11ea_9683_0242ac1c0002row0_col74\" class=\"data row0 col74\" >0</td>\n",
       "                        <td id=\"T_895256b0_0ed7_11ea_9683_0242ac1c0002row0_col75\" class=\"data row0 col75\" >0</td>\n",
       "                        <td id=\"T_895256b0_0ed7_11ea_9683_0242ac1c0002row0_col76\" class=\"data row0 col76\" >0</td>\n",
       "                        <td id=\"T_895256b0_0ed7_11ea_9683_0242ac1c0002row0_col77\" class=\"data row0 col77\" >0</td>\n",
       "                        <td id=\"T_895256b0_0ed7_11ea_9683_0242ac1c0002row0_col78\" class=\"data row0 col78\" >0</td>\n",
       "                        <td id=\"T_895256b0_0ed7_11ea_9683_0242ac1c0002row0_col79\" class=\"data row0 col79\" >0</td>\n",
       "                        <td id=\"T_895256b0_0ed7_11ea_9683_0242ac1c0002row0_col80\" class=\"data row0 col80\" >1</td>\n",
       "                        <td id=\"T_895256b0_0ed7_11ea_9683_0242ac1c0002row0_col81\" class=\"data row0 col81\" >1</td>\n",
       "                        <td id=\"T_895256b0_0ed7_11ea_9683_0242ac1c0002row0_col82\" class=\"data row0 col82\" >0</td>\n",
       "                        <td id=\"T_895256b0_0ed7_11ea_9683_0242ac1c0002row0_col83\" class=\"data row0 col83\" >0</td>\n",
       "                        <td id=\"T_895256b0_0ed7_11ea_9683_0242ac1c0002row0_col84\" class=\"data row0 col84\" >0</td>\n",
       "                        <td id=\"T_895256b0_0ed7_11ea_9683_0242ac1c0002row0_col85\" class=\"data row0 col85\" >0</td>\n",
       "                        <td id=\"T_895256b0_0ed7_11ea_9683_0242ac1c0002row0_col86\" class=\"data row0 col86\" >0</td>\n",
       "                        <td id=\"T_895256b0_0ed7_11ea_9683_0242ac1c0002row0_col87\" class=\"data row0 col87\" >0</td>\n",
       "                        <td id=\"T_895256b0_0ed7_11ea_9683_0242ac1c0002row0_col88\" class=\"data row0 col88\" >0</td>\n",
       "                        <td id=\"T_895256b0_0ed7_11ea_9683_0242ac1c0002row0_col89\" class=\"data row0 col89\" >0</td>\n",
       "                        <td id=\"T_895256b0_0ed7_11ea_9683_0242ac1c0002row0_col90\" class=\"data row0 col90\" >0</td>\n",
       "                        <td id=\"T_895256b0_0ed7_11ea_9683_0242ac1c0002row0_col91\" class=\"data row0 col91\" >0</td>\n",
       "                        <td id=\"T_895256b0_0ed7_11ea_9683_0242ac1c0002row0_col92\" class=\"data row0 col92\" >0</td>\n",
       "                        <td id=\"T_895256b0_0ed7_11ea_9683_0242ac1c0002row0_col93\" class=\"data row0 col93\" >0</td>\n",
       "                        <td id=\"T_895256b0_0ed7_11ea_9683_0242ac1c0002row0_col94\" class=\"data row0 col94\" >0</td>\n",
       "                        <td id=\"T_895256b0_0ed7_11ea_9683_0242ac1c0002row0_col95\" class=\"data row0 col95\" >0</td>\n",
       "                        <td id=\"T_895256b0_0ed7_11ea_9683_0242ac1c0002row0_col96\" class=\"data row0 col96\" >0</td>\n",
       "                        <td id=\"T_895256b0_0ed7_11ea_9683_0242ac1c0002row0_col97\" class=\"data row0 col97\" >0</td>\n",
       "                        <td id=\"T_895256b0_0ed7_11ea_9683_0242ac1c0002row0_col98\" class=\"data row0 col98\" >0</td>\n",
       "                        <td id=\"T_895256b0_0ed7_11ea_9683_0242ac1c0002row0_col99\" class=\"data row0 col99\" >0</td>\n",
       "                        <td id=\"T_895256b0_0ed7_11ea_9683_0242ac1c0002row0_col100\" class=\"data row0 col100\" >0</td>\n",
       "                        <td id=\"T_895256b0_0ed7_11ea_9683_0242ac1c0002row0_col101\" class=\"data row0 col101\" >0</td>\n",
       "                        <td id=\"T_895256b0_0ed7_11ea_9683_0242ac1c0002row0_col102\" class=\"data row0 col102\" >1</td>\n",
       "                        <td id=\"T_895256b0_0ed7_11ea_9683_0242ac1c0002row0_col103\" class=\"data row0 col103\" >1</td>\n",
       "                        <td id=\"T_895256b0_0ed7_11ea_9683_0242ac1c0002row0_col104\" class=\"data row0 col104\" >0</td>\n",
       "                        <td id=\"T_895256b0_0ed7_11ea_9683_0242ac1c0002row0_col105\" class=\"data row0 col105\" >0</td>\n",
       "            </tr>\n",
       "            <tr>\n",
       "                        <th id=\"T_895256b0_0ed7_11ea_9683_0242ac1c0002level0_row1\" class=\"row_heading level0 row1\" >1</th>\n",
       "                        <td id=\"T_895256b0_0ed7_11ea_9683_0242ac1c0002row1_col0\" class=\"data row1 col0\" >0</td>\n",
       "                        <td id=\"T_895256b0_0ed7_11ea_9683_0242ac1c0002row1_col1\" class=\"data row1 col1\" >0</td>\n",
       "                        <td id=\"T_895256b0_0ed7_11ea_9683_0242ac1c0002row1_col2\" class=\"data row1 col2\" >1</td>\n",
       "                        <td id=\"T_895256b0_0ed7_11ea_9683_0242ac1c0002row1_col3\" class=\"data row1 col3\" >0</td>\n",
       "                        <td id=\"T_895256b0_0ed7_11ea_9683_0242ac1c0002row1_col4\" class=\"data row1 col4\" >0</td>\n",
       "                        <td id=\"T_895256b0_0ed7_11ea_9683_0242ac1c0002row1_col5\" class=\"data row1 col5\" >0</td>\n",
       "                        <td id=\"T_895256b0_0ed7_11ea_9683_0242ac1c0002row1_col6\" class=\"data row1 col6\" >0</td>\n",
       "                        <td id=\"T_895256b0_0ed7_11ea_9683_0242ac1c0002row1_col7\" class=\"data row1 col7\" >0</td>\n",
       "                        <td id=\"T_895256b0_0ed7_11ea_9683_0242ac1c0002row1_col8\" class=\"data row1 col8\" >0</td>\n",
       "                        <td id=\"T_895256b0_0ed7_11ea_9683_0242ac1c0002row1_col9\" class=\"data row1 col9\" >1</td>\n",
       "                        <td id=\"T_895256b0_0ed7_11ea_9683_0242ac1c0002row1_col10\" class=\"data row1 col10\" >0</td>\n",
       "                        <td id=\"T_895256b0_0ed7_11ea_9683_0242ac1c0002row1_col11\" class=\"data row1 col11\" >0</td>\n",
       "                        <td id=\"T_895256b0_0ed7_11ea_9683_0242ac1c0002row1_col12\" class=\"data row1 col12\" >0</td>\n",
       "                        <td id=\"T_895256b0_0ed7_11ea_9683_0242ac1c0002row1_col13\" class=\"data row1 col13\" >0</td>\n",
       "                        <td id=\"T_895256b0_0ed7_11ea_9683_0242ac1c0002row1_col14\" class=\"data row1 col14\" >0</td>\n",
       "                        <td id=\"T_895256b0_0ed7_11ea_9683_0242ac1c0002row1_col15\" class=\"data row1 col15\" >0</td>\n",
       "                        <td id=\"T_895256b0_0ed7_11ea_9683_0242ac1c0002row1_col16\" class=\"data row1 col16\" >0</td>\n",
       "                        <td id=\"T_895256b0_0ed7_11ea_9683_0242ac1c0002row1_col17\" class=\"data row1 col17\" >0</td>\n",
       "                        <td id=\"T_895256b0_0ed7_11ea_9683_0242ac1c0002row1_col18\" class=\"data row1 col18\" >0</td>\n",
       "                        <td id=\"T_895256b0_0ed7_11ea_9683_0242ac1c0002row1_col19\" class=\"data row1 col19\" >0</td>\n",
       "                        <td id=\"T_895256b0_0ed7_11ea_9683_0242ac1c0002row1_col20\" class=\"data row1 col20\" >0</td>\n",
       "                        <td id=\"T_895256b0_0ed7_11ea_9683_0242ac1c0002row1_col21\" class=\"data row1 col21\" >0</td>\n",
       "                        <td id=\"T_895256b0_0ed7_11ea_9683_0242ac1c0002row1_col22\" class=\"data row1 col22\" >0</td>\n",
       "                        <td id=\"T_895256b0_0ed7_11ea_9683_0242ac1c0002row1_col23\" class=\"data row1 col23\" >0</td>\n",
       "                        <td id=\"T_895256b0_0ed7_11ea_9683_0242ac1c0002row1_col24\" class=\"data row1 col24\" >0</td>\n",
       "                        <td id=\"T_895256b0_0ed7_11ea_9683_0242ac1c0002row1_col25\" class=\"data row1 col25\" >0</td>\n",
       "                        <td id=\"T_895256b0_0ed7_11ea_9683_0242ac1c0002row1_col26\" class=\"data row1 col26\" >0</td>\n",
       "                        <td id=\"T_895256b0_0ed7_11ea_9683_0242ac1c0002row1_col27\" class=\"data row1 col27\" >0</td>\n",
       "                        <td id=\"T_895256b0_0ed7_11ea_9683_0242ac1c0002row1_col28\" class=\"data row1 col28\" >0</td>\n",
       "                        <td id=\"T_895256b0_0ed7_11ea_9683_0242ac1c0002row1_col29\" class=\"data row1 col29\" >0</td>\n",
       "                        <td id=\"T_895256b0_0ed7_11ea_9683_0242ac1c0002row1_col30\" class=\"data row1 col30\" >0</td>\n",
       "                        <td id=\"T_895256b0_0ed7_11ea_9683_0242ac1c0002row1_col31\" class=\"data row1 col31\" >0</td>\n",
       "                        <td id=\"T_895256b0_0ed7_11ea_9683_0242ac1c0002row1_col32\" class=\"data row1 col32\" >0</td>\n",
       "                        <td id=\"T_895256b0_0ed7_11ea_9683_0242ac1c0002row1_col33\" class=\"data row1 col33\" >0</td>\n",
       "                        <td id=\"T_895256b0_0ed7_11ea_9683_0242ac1c0002row1_col34\" class=\"data row1 col34\" >0</td>\n",
       "                        <td id=\"T_895256b0_0ed7_11ea_9683_0242ac1c0002row1_col35\" class=\"data row1 col35\" >0</td>\n",
       "                        <td id=\"T_895256b0_0ed7_11ea_9683_0242ac1c0002row1_col36\" class=\"data row1 col36\" >0</td>\n",
       "                        <td id=\"T_895256b0_0ed7_11ea_9683_0242ac1c0002row1_col37\" class=\"data row1 col37\" >0</td>\n",
       "                        <td id=\"T_895256b0_0ed7_11ea_9683_0242ac1c0002row1_col38\" class=\"data row1 col38\" >0</td>\n",
       "                        <td id=\"T_895256b0_0ed7_11ea_9683_0242ac1c0002row1_col39\" class=\"data row1 col39\" >0</td>\n",
       "                        <td id=\"T_895256b0_0ed7_11ea_9683_0242ac1c0002row1_col40\" class=\"data row1 col40\" >0</td>\n",
       "                        <td id=\"T_895256b0_0ed7_11ea_9683_0242ac1c0002row1_col41\" class=\"data row1 col41\" >0</td>\n",
       "                        <td id=\"T_895256b0_0ed7_11ea_9683_0242ac1c0002row1_col42\" class=\"data row1 col42\" >0</td>\n",
       "                        <td id=\"T_895256b0_0ed7_11ea_9683_0242ac1c0002row1_col43\" class=\"data row1 col43\" >0</td>\n",
       "                        <td id=\"T_895256b0_0ed7_11ea_9683_0242ac1c0002row1_col44\" class=\"data row1 col44\" >0</td>\n",
       "                        <td id=\"T_895256b0_0ed7_11ea_9683_0242ac1c0002row1_col45\" class=\"data row1 col45\" >0</td>\n",
       "                        <td id=\"T_895256b0_0ed7_11ea_9683_0242ac1c0002row1_col46\" class=\"data row1 col46\" >0</td>\n",
       "                        <td id=\"T_895256b0_0ed7_11ea_9683_0242ac1c0002row1_col47\" class=\"data row1 col47\" >0</td>\n",
       "                        <td id=\"T_895256b0_0ed7_11ea_9683_0242ac1c0002row1_col48\" class=\"data row1 col48\" >0</td>\n",
       "                        <td id=\"T_895256b0_0ed7_11ea_9683_0242ac1c0002row1_col49\" class=\"data row1 col49\" >0</td>\n",
       "                        <td id=\"T_895256b0_0ed7_11ea_9683_0242ac1c0002row1_col50\" class=\"data row1 col50\" >0</td>\n",
       "                        <td id=\"T_895256b0_0ed7_11ea_9683_0242ac1c0002row1_col51\" class=\"data row1 col51\" >0</td>\n",
       "                        <td id=\"T_895256b0_0ed7_11ea_9683_0242ac1c0002row1_col52\" class=\"data row1 col52\" >0</td>\n",
       "                        <td id=\"T_895256b0_0ed7_11ea_9683_0242ac1c0002row1_col53\" class=\"data row1 col53\" >0</td>\n",
       "                        <td id=\"T_895256b0_0ed7_11ea_9683_0242ac1c0002row1_col54\" class=\"data row1 col54\" >0</td>\n",
       "                        <td id=\"T_895256b0_0ed7_11ea_9683_0242ac1c0002row1_col55\" class=\"data row1 col55\" >0</td>\n",
       "                        <td id=\"T_895256b0_0ed7_11ea_9683_0242ac1c0002row1_col56\" class=\"data row1 col56\" >0</td>\n",
       "                        <td id=\"T_895256b0_0ed7_11ea_9683_0242ac1c0002row1_col57\" class=\"data row1 col57\" >0</td>\n",
       "                        <td id=\"T_895256b0_0ed7_11ea_9683_0242ac1c0002row1_col58\" class=\"data row1 col58\" >0</td>\n",
       "                        <td id=\"T_895256b0_0ed7_11ea_9683_0242ac1c0002row1_col59\" class=\"data row1 col59\" >0</td>\n",
       "                        <td id=\"T_895256b0_0ed7_11ea_9683_0242ac1c0002row1_col60\" class=\"data row1 col60\" >0</td>\n",
       "                        <td id=\"T_895256b0_0ed7_11ea_9683_0242ac1c0002row1_col61\" class=\"data row1 col61\" >0</td>\n",
       "                        <td id=\"T_895256b0_0ed7_11ea_9683_0242ac1c0002row1_col62\" class=\"data row1 col62\" >0</td>\n",
       "                        <td id=\"T_895256b0_0ed7_11ea_9683_0242ac1c0002row1_col63\" class=\"data row1 col63\" >1</td>\n",
       "                        <td id=\"T_895256b0_0ed7_11ea_9683_0242ac1c0002row1_col64\" class=\"data row1 col64\" >1</td>\n",
       "                        <td id=\"T_895256b0_0ed7_11ea_9683_0242ac1c0002row1_col65\" class=\"data row1 col65\" >0</td>\n",
       "                        <td id=\"T_895256b0_0ed7_11ea_9683_0242ac1c0002row1_col66\" class=\"data row1 col66\" >0</td>\n",
       "                        <td id=\"T_895256b0_0ed7_11ea_9683_0242ac1c0002row1_col67\" class=\"data row1 col67\" >0</td>\n",
       "                        <td id=\"T_895256b0_0ed7_11ea_9683_0242ac1c0002row1_col68\" class=\"data row1 col68\" >0</td>\n",
       "                        <td id=\"T_895256b0_0ed7_11ea_9683_0242ac1c0002row1_col69\" class=\"data row1 col69\" >0</td>\n",
       "                        <td id=\"T_895256b0_0ed7_11ea_9683_0242ac1c0002row1_col70\" class=\"data row1 col70\" >0</td>\n",
       "                        <td id=\"T_895256b0_0ed7_11ea_9683_0242ac1c0002row1_col71\" class=\"data row1 col71\" >0</td>\n",
       "                        <td id=\"T_895256b0_0ed7_11ea_9683_0242ac1c0002row1_col72\" class=\"data row1 col72\" >0</td>\n",
       "                        <td id=\"T_895256b0_0ed7_11ea_9683_0242ac1c0002row1_col73\" class=\"data row1 col73\" >0</td>\n",
       "                        <td id=\"T_895256b0_0ed7_11ea_9683_0242ac1c0002row1_col74\" class=\"data row1 col74\" >0</td>\n",
       "                        <td id=\"T_895256b0_0ed7_11ea_9683_0242ac1c0002row1_col75\" class=\"data row1 col75\" >0</td>\n",
       "                        <td id=\"T_895256b0_0ed7_11ea_9683_0242ac1c0002row1_col76\" class=\"data row1 col76\" >0</td>\n",
       "                        <td id=\"T_895256b0_0ed7_11ea_9683_0242ac1c0002row1_col77\" class=\"data row1 col77\" >0</td>\n",
       "                        <td id=\"T_895256b0_0ed7_11ea_9683_0242ac1c0002row1_col78\" class=\"data row1 col78\" >1</td>\n",
       "                        <td id=\"T_895256b0_0ed7_11ea_9683_0242ac1c0002row1_col79\" class=\"data row1 col79\" >1</td>\n",
       "                        <td id=\"T_895256b0_0ed7_11ea_9683_0242ac1c0002row1_col80\" class=\"data row1 col80\" >0</td>\n",
       "                        <td id=\"T_895256b0_0ed7_11ea_9683_0242ac1c0002row1_col81\" class=\"data row1 col81\" >1</td>\n",
       "                        <td id=\"T_895256b0_0ed7_11ea_9683_0242ac1c0002row1_col82\" class=\"data row1 col82\" >0</td>\n",
       "                        <td id=\"T_895256b0_0ed7_11ea_9683_0242ac1c0002row1_col83\" class=\"data row1 col83\" >0</td>\n",
       "                        <td id=\"T_895256b0_0ed7_11ea_9683_0242ac1c0002row1_col84\" class=\"data row1 col84\" >0</td>\n",
       "                        <td id=\"T_895256b0_0ed7_11ea_9683_0242ac1c0002row1_col85\" class=\"data row1 col85\" >0</td>\n",
       "                        <td id=\"T_895256b0_0ed7_11ea_9683_0242ac1c0002row1_col86\" class=\"data row1 col86\" >0</td>\n",
       "                        <td id=\"T_895256b0_0ed7_11ea_9683_0242ac1c0002row1_col87\" class=\"data row1 col87\" >0</td>\n",
       "                        <td id=\"T_895256b0_0ed7_11ea_9683_0242ac1c0002row1_col88\" class=\"data row1 col88\" >0</td>\n",
       "                        <td id=\"T_895256b0_0ed7_11ea_9683_0242ac1c0002row1_col89\" class=\"data row1 col89\" >0</td>\n",
       "                        <td id=\"T_895256b0_0ed7_11ea_9683_0242ac1c0002row1_col90\" class=\"data row1 col90\" >0</td>\n",
       "                        <td id=\"T_895256b0_0ed7_11ea_9683_0242ac1c0002row1_col91\" class=\"data row1 col91\" >0</td>\n",
       "                        <td id=\"T_895256b0_0ed7_11ea_9683_0242ac1c0002row1_col92\" class=\"data row1 col92\" >0</td>\n",
       "                        <td id=\"T_895256b0_0ed7_11ea_9683_0242ac1c0002row1_col93\" class=\"data row1 col93\" >0</td>\n",
       "                        <td id=\"T_895256b0_0ed7_11ea_9683_0242ac1c0002row1_col94\" class=\"data row1 col94\" >0</td>\n",
       "                        <td id=\"T_895256b0_0ed7_11ea_9683_0242ac1c0002row1_col95\" class=\"data row1 col95\" >0</td>\n",
       "                        <td id=\"T_895256b0_0ed7_11ea_9683_0242ac1c0002row1_col96\" class=\"data row1 col96\" >0</td>\n",
       "                        <td id=\"T_895256b0_0ed7_11ea_9683_0242ac1c0002row1_col97\" class=\"data row1 col97\" >0</td>\n",
       "                        <td id=\"T_895256b0_0ed7_11ea_9683_0242ac1c0002row1_col98\" class=\"data row1 col98\" >1</td>\n",
       "                        <td id=\"T_895256b0_0ed7_11ea_9683_0242ac1c0002row1_col99\" class=\"data row1 col99\" >0</td>\n",
       "                        <td id=\"T_895256b0_0ed7_11ea_9683_0242ac1c0002row1_col100\" class=\"data row1 col100\" >0</td>\n",
       "                        <td id=\"T_895256b0_0ed7_11ea_9683_0242ac1c0002row1_col101\" class=\"data row1 col101\" >0</td>\n",
       "                        <td id=\"T_895256b0_0ed7_11ea_9683_0242ac1c0002row1_col102\" class=\"data row1 col102\" >0</td>\n",
       "                        <td id=\"T_895256b0_0ed7_11ea_9683_0242ac1c0002row1_col103\" class=\"data row1 col103\" >0</td>\n",
       "                        <td id=\"T_895256b0_0ed7_11ea_9683_0242ac1c0002row1_col104\" class=\"data row1 col104\" >0</td>\n",
       "                        <td id=\"T_895256b0_0ed7_11ea_9683_0242ac1c0002row1_col105\" class=\"data row1 col105\" >0</td>\n",
       "            </tr>\n",
       "            <tr>\n",
       "                        <th id=\"T_895256b0_0ed7_11ea_9683_0242ac1c0002level0_row2\" class=\"row_heading level0 row2\" >2</th>\n",
       "                        <td id=\"T_895256b0_0ed7_11ea_9683_0242ac1c0002row2_col0\" class=\"data row2 col0\" >0</td>\n",
       "                        <td id=\"T_895256b0_0ed7_11ea_9683_0242ac1c0002row2_col1\" class=\"data row2 col1\" >0</td>\n",
       "                        <td id=\"T_895256b0_0ed7_11ea_9683_0242ac1c0002row2_col2\" class=\"data row2 col2\" >0</td>\n",
       "                        <td id=\"T_895256b0_0ed7_11ea_9683_0242ac1c0002row2_col3\" class=\"data row2 col3\" >0</td>\n",
       "                        <td id=\"T_895256b0_0ed7_11ea_9683_0242ac1c0002row2_col4\" class=\"data row2 col4\" >0</td>\n",
       "                        <td id=\"T_895256b0_0ed7_11ea_9683_0242ac1c0002row2_col5\" class=\"data row2 col5\" >0</td>\n",
       "                        <td id=\"T_895256b0_0ed7_11ea_9683_0242ac1c0002row2_col6\" class=\"data row2 col6\" >0</td>\n",
       "                        <td id=\"T_895256b0_0ed7_11ea_9683_0242ac1c0002row2_col7\" class=\"data row2 col7\" >0</td>\n",
       "                        <td id=\"T_895256b0_0ed7_11ea_9683_0242ac1c0002row2_col8\" class=\"data row2 col8\" >0</td>\n",
       "                        <td id=\"T_895256b0_0ed7_11ea_9683_0242ac1c0002row2_col9\" class=\"data row2 col9\" >1</td>\n",
       "                        <td id=\"T_895256b0_0ed7_11ea_9683_0242ac1c0002row2_col10\" class=\"data row2 col10\" >0</td>\n",
       "                        <td id=\"T_895256b0_0ed7_11ea_9683_0242ac1c0002row2_col11\" class=\"data row2 col11\" >0</td>\n",
       "                        <td id=\"T_895256b0_0ed7_11ea_9683_0242ac1c0002row2_col12\" class=\"data row2 col12\" >0</td>\n",
       "                        <td id=\"T_895256b0_0ed7_11ea_9683_0242ac1c0002row2_col13\" class=\"data row2 col13\" >0</td>\n",
       "                        <td id=\"T_895256b0_0ed7_11ea_9683_0242ac1c0002row2_col14\" class=\"data row2 col14\" >0</td>\n",
       "                        <td id=\"T_895256b0_0ed7_11ea_9683_0242ac1c0002row2_col15\" class=\"data row2 col15\" >0</td>\n",
       "                        <td id=\"T_895256b0_0ed7_11ea_9683_0242ac1c0002row2_col16\" class=\"data row2 col16\" >0</td>\n",
       "                        <td id=\"T_895256b0_0ed7_11ea_9683_0242ac1c0002row2_col17\" class=\"data row2 col17\" >0</td>\n",
       "                        <td id=\"T_895256b0_0ed7_11ea_9683_0242ac1c0002row2_col18\" class=\"data row2 col18\" >0</td>\n",
       "                        <td id=\"T_895256b0_0ed7_11ea_9683_0242ac1c0002row2_col19\" class=\"data row2 col19\" >0</td>\n",
       "                        <td id=\"T_895256b0_0ed7_11ea_9683_0242ac1c0002row2_col20\" class=\"data row2 col20\" >0</td>\n",
       "                        <td id=\"T_895256b0_0ed7_11ea_9683_0242ac1c0002row2_col21\" class=\"data row2 col21\" >0</td>\n",
       "                        <td id=\"T_895256b0_0ed7_11ea_9683_0242ac1c0002row2_col22\" class=\"data row2 col22\" >0</td>\n",
       "                        <td id=\"T_895256b0_0ed7_11ea_9683_0242ac1c0002row2_col23\" class=\"data row2 col23\" >0</td>\n",
       "                        <td id=\"T_895256b0_0ed7_11ea_9683_0242ac1c0002row2_col24\" class=\"data row2 col24\" >0</td>\n",
       "                        <td id=\"T_895256b0_0ed7_11ea_9683_0242ac1c0002row2_col25\" class=\"data row2 col25\" >0</td>\n",
       "                        <td id=\"T_895256b0_0ed7_11ea_9683_0242ac1c0002row2_col26\" class=\"data row2 col26\" >0</td>\n",
       "                        <td id=\"T_895256b0_0ed7_11ea_9683_0242ac1c0002row2_col27\" class=\"data row2 col27\" >0</td>\n",
       "                        <td id=\"T_895256b0_0ed7_11ea_9683_0242ac1c0002row2_col28\" class=\"data row2 col28\" >0</td>\n",
       "                        <td id=\"T_895256b0_0ed7_11ea_9683_0242ac1c0002row2_col29\" class=\"data row2 col29\" >0</td>\n",
       "                        <td id=\"T_895256b0_0ed7_11ea_9683_0242ac1c0002row2_col30\" class=\"data row2 col30\" >0</td>\n",
       "                        <td id=\"T_895256b0_0ed7_11ea_9683_0242ac1c0002row2_col31\" class=\"data row2 col31\" >0</td>\n",
       "                        <td id=\"T_895256b0_0ed7_11ea_9683_0242ac1c0002row2_col32\" class=\"data row2 col32\" >0</td>\n",
       "                        <td id=\"T_895256b0_0ed7_11ea_9683_0242ac1c0002row2_col33\" class=\"data row2 col33\" >0</td>\n",
       "                        <td id=\"T_895256b0_0ed7_11ea_9683_0242ac1c0002row2_col34\" class=\"data row2 col34\" >0</td>\n",
       "                        <td id=\"T_895256b0_0ed7_11ea_9683_0242ac1c0002row2_col35\" class=\"data row2 col35\" >0</td>\n",
       "                        <td id=\"T_895256b0_0ed7_11ea_9683_0242ac1c0002row2_col36\" class=\"data row2 col36\" >0</td>\n",
       "                        <td id=\"T_895256b0_0ed7_11ea_9683_0242ac1c0002row2_col37\" class=\"data row2 col37\" >0</td>\n",
       "                        <td id=\"T_895256b0_0ed7_11ea_9683_0242ac1c0002row2_col38\" class=\"data row2 col38\" >0</td>\n",
       "                        <td id=\"T_895256b0_0ed7_11ea_9683_0242ac1c0002row2_col39\" class=\"data row2 col39\" >0</td>\n",
       "                        <td id=\"T_895256b0_0ed7_11ea_9683_0242ac1c0002row2_col40\" class=\"data row2 col40\" >0</td>\n",
       "                        <td id=\"T_895256b0_0ed7_11ea_9683_0242ac1c0002row2_col41\" class=\"data row2 col41\" >0</td>\n",
       "                        <td id=\"T_895256b0_0ed7_11ea_9683_0242ac1c0002row2_col42\" class=\"data row2 col42\" >0</td>\n",
       "                        <td id=\"T_895256b0_0ed7_11ea_9683_0242ac1c0002row2_col43\" class=\"data row2 col43\" >0</td>\n",
       "                        <td id=\"T_895256b0_0ed7_11ea_9683_0242ac1c0002row2_col44\" class=\"data row2 col44\" >0</td>\n",
       "                        <td id=\"T_895256b0_0ed7_11ea_9683_0242ac1c0002row2_col45\" class=\"data row2 col45\" >0</td>\n",
       "                        <td id=\"T_895256b0_0ed7_11ea_9683_0242ac1c0002row2_col46\" class=\"data row2 col46\" >0</td>\n",
       "                        <td id=\"T_895256b0_0ed7_11ea_9683_0242ac1c0002row2_col47\" class=\"data row2 col47\" >0</td>\n",
       "                        <td id=\"T_895256b0_0ed7_11ea_9683_0242ac1c0002row2_col48\" class=\"data row2 col48\" >0</td>\n",
       "                        <td id=\"T_895256b0_0ed7_11ea_9683_0242ac1c0002row2_col49\" class=\"data row2 col49\" >0</td>\n",
       "                        <td id=\"T_895256b0_0ed7_11ea_9683_0242ac1c0002row2_col50\" class=\"data row2 col50\" >0</td>\n",
       "                        <td id=\"T_895256b0_0ed7_11ea_9683_0242ac1c0002row2_col51\" class=\"data row2 col51\" >0</td>\n",
       "                        <td id=\"T_895256b0_0ed7_11ea_9683_0242ac1c0002row2_col52\" class=\"data row2 col52\" >0</td>\n",
       "                        <td id=\"T_895256b0_0ed7_11ea_9683_0242ac1c0002row2_col53\" class=\"data row2 col53\" >0</td>\n",
       "                        <td id=\"T_895256b0_0ed7_11ea_9683_0242ac1c0002row2_col54\" class=\"data row2 col54\" >0</td>\n",
       "                        <td id=\"T_895256b0_0ed7_11ea_9683_0242ac1c0002row2_col55\" class=\"data row2 col55\" >0</td>\n",
       "                        <td id=\"T_895256b0_0ed7_11ea_9683_0242ac1c0002row2_col56\" class=\"data row2 col56\" >0</td>\n",
       "                        <td id=\"T_895256b0_0ed7_11ea_9683_0242ac1c0002row2_col57\" class=\"data row2 col57\" >0</td>\n",
       "                        <td id=\"T_895256b0_0ed7_11ea_9683_0242ac1c0002row2_col58\" class=\"data row2 col58\" >0</td>\n",
       "                        <td id=\"T_895256b0_0ed7_11ea_9683_0242ac1c0002row2_col59\" class=\"data row2 col59\" >0</td>\n",
       "                        <td id=\"T_895256b0_0ed7_11ea_9683_0242ac1c0002row2_col60\" class=\"data row2 col60\" >0</td>\n",
       "                        <td id=\"T_895256b0_0ed7_11ea_9683_0242ac1c0002row2_col61\" class=\"data row2 col61\" >0</td>\n",
       "                        <td id=\"T_895256b0_0ed7_11ea_9683_0242ac1c0002row2_col62\" class=\"data row2 col62\" >0</td>\n",
       "                        <td id=\"T_895256b0_0ed7_11ea_9683_0242ac1c0002row2_col63\" class=\"data row2 col63\" >1</td>\n",
       "                        <td id=\"T_895256b0_0ed7_11ea_9683_0242ac1c0002row2_col64\" class=\"data row2 col64\" >0</td>\n",
       "                        <td id=\"T_895256b0_0ed7_11ea_9683_0242ac1c0002row2_col65\" class=\"data row2 col65\" >0</td>\n",
       "                        <td id=\"T_895256b0_0ed7_11ea_9683_0242ac1c0002row2_col66\" class=\"data row2 col66\" >0</td>\n",
       "                        <td id=\"T_895256b0_0ed7_11ea_9683_0242ac1c0002row2_col67\" class=\"data row2 col67\" >0</td>\n",
       "                        <td id=\"T_895256b0_0ed7_11ea_9683_0242ac1c0002row2_col68\" class=\"data row2 col68\" >1</td>\n",
       "                        <td id=\"T_895256b0_0ed7_11ea_9683_0242ac1c0002row2_col69\" class=\"data row2 col69\" >0</td>\n",
       "                        <td id=\"T_895256b0_0ed7_11ea_9683_0242ac1c0002row2_col70\" class=\"data row2 col70\" >0</td>\n",
       "                        <td id=\"T_895256b0_0ed7_11ea_9683_0242ac1c0002row2_col71\" class=\"data row2 col71\" >0</td>\n",
       "                        <td id=\"T_895256b0_0ed7_11ea_9683_0242ac1c0002row2_col72\" class=\"data row2 col72\" >0</td>\n",
       "                        <td id=\"T_895256b0_0ed7_11ea_9683_0242ac1c0002row2_col73\" class=\"data row2 col73\" >0</td>\n",
       "                        <td id=\"T_895256b0_0ed7_11ea_9683_0242ac1c0002row2_col74\" class=\"data row2 col74\" >0</td>\n",
       "                        <td id=\"T_895256b0_0ed7_11ea_9683_0242ac1c0002row2_col75\" class=\"data row2 col75\" >0</td>\n",
       "                        <td id=\"T_895256b0_0ed7_11ea_9683_0242ac1c0002row2_col76\" class=\"data row2 col76\" >0</td>\n",
       "                        <td id=\"T_895256b0_0ed7_11ea_9683_0242ac1c0002row2_col77\" class=\"data row2 col77\" >0</td>\n",
       "                        <td id=\"T_895256b0_0ed7_11ea_9683_0242ac1c0002row2_col78\" class=\"data row2 col78\" >0</td>\n",
       "                        <td id=\"T_895256b0_0ed7_11ea_9683_0242ac1c0002row2_col79\" class=\"data row2 col79\" >1</td>\n",
       "                        <td id=\"T_895256b0_0ed7_11ea_9683_0242ac1c0002row2_col80\" class=\"data row2 col80\" >1</td>\n",
       "                        <td id=\"T_895256b0_0ed7_11ea_9683_0242ac1c0002row2_col81\" class=\"data row2 col81\" >1</td>\n",
       "                        <td id=\"T_895256b0_0ed7_11ea_9683_0242ac1c0002row2_col82\" class=\"data row2 col82\" >0</td>\n",
       "                        <td id=\"T_895256b0_0ed7_11ea_9683_0242ac1c0002row2_col83\" class=\"data row2 col83\" >0</td>\n",
       "                        <td id=\"T_895256b0_0ed7_11ea_9683_0242ac1c0002row2_col84\" class=\"data row2 col84\" >0</td>\n",
       "                        <td id=\"T_895256b0_0ed7_11ea_9683_0242ac1c0002row2_col85\" class=\"data row2 col85\" >0</td>\n",
       "                        <td id=\"T_895256b0_0ed7_11ea_9683_0242ac1c0002row2_col86\" class=\"data row2 col86\" >0</td>\n",
       "                        <td id=\"T_895256b0_0ed7_11ea_9683_0242ac1c0002row2_col87\" class=\"data row2 col87\" >0</td>\n",
       "                        <td id=\"T_895256b0_0ed7_11ea_9683_0242ac1c0002row2_col88\" class=\"data row2 col88\" >0</td>\n",
       "                        <td id=\"T_895256b0_0ed7_11ea_9683_0242ac1c0002row2_col89\" class=\"data row2 col89\" >0</td>\n",
       "                        <td id=\"T_895256b0_0ed7_11ea_9683_0242ac1c0002row2_col90\" class=\"data row2 col90\" >0</td>\n",
       "                        <td id=\"T_895256b0_0ed7_11ea_9683_0242ac1c0002row2_col91\" class=\"data row2 col91\" >0</td>\n",
       "                        <td id=\"T_895256b0_0ed7_11ea_9683_0242ac1c0002row2_col92\" class=\"data row2 col92\" >0</td>\n",
       "                        <td id=\"T_895256b0_0ed7_11ea_9683_0242ac1c0002row2_col93\" class=\"data row2 col93\" >0</td>\n",
       "                        <td id=\"T_895256b0_0ed7_11ea_9683_0242ac1c0002row2_col94\" class=\"data row2 col94\" >1</td>\n",
       "                        <td id=\"T_895256b0_0ed7_11ea_9683_0242ac1c0002row2_col95\" class=\"data row2 col95\" >0</td>\n",
       "                        <td id=\"T_895256b0_0ed7_11ea_9683_0242ac1c0002row2_col96\" class=\"data row2 col96\" >0</td>\n",
       "                        <td id=\"T_895256b0_0ed7_11ea_9683_0242ac1c0002row2_col97\" class=\"data row2 col97\" >0</td>\n",
       "                        <td id=\"T_895256b0_0ed7_11ea_9683_0242ac1c0002row2_col98\" class=\"data row2 col98\" >0</td>\n",
       "                        <td id=\"T_895256b0_0ed7_11ea_9683_0242ac1c0002row2_col99\" class=\"data row2 col99\" >0</td>\n",
       "                        <td id=\"T_895256b0_0ed7_11ea_9683_0242ac1c0002row2_col100\" class=\"data row2 col100\" >0</td>\n",
       "                        <td id=\"T_895256b0_0ed7_11ea_9683_0242ac1c0002row2_col101\" class=\"data row2 col101\" >0</td>\n",
       "                        <td id=\"T_895256b0_0ed7_11ea_9683_0242ac1c0002row2_col102\" class=\"data row2 col102\" >0</td>\n",
       "                        <td id=\"T_895256b0_0ed7_11ea_9683_0242ac1c0002row2_col103\" class=\"data row2 col103\" >0</td>\n",
       "                        <td id=\"T_895256b0_0ed7_11ea_9683_0242ac1c0002row2_col104\" class=\"data row2 col104\" >0</td>\n",
       "                        <td id=\"T_895256b0_0ed7_11ea_9683_0242ac1c0002row2_col105\" class=\"data row2 col105\" >0</td>\n",
       "            </tr>\n",
       "            <tr>\n",
       "                        <th id=\"T_895256b0_0ed7_11ea_9683_0242ac1c0002level0_row3\" class=\"row_heading level0 row3\" >3</th>\n",
       "                        <td id=\"T_895256b0_0ed7_11ea_9683_0242ac1c0002row3_col0\" class=\"data row3 col0\" >0</td>\n",
       "                        <td id=\"T_895256b0_0ed7_11ea_9683_0242ac1c0002row3_col1\" class=\"data row3 col1\" >0</td>\n",
       "                        <td id=\"T_895256b0_0ed7_11ea_9683_0242ac1c0002row3_col2\" class=\"data row3 col2\" >0</td>\n",
       "                        <td id=\"T_895256b0_0ed7_11ea_9683_0242ac1c0002row3_col3\" class=\"data row3 col3\" >0</td>\n",
       "                        <td id=\"T_895256b0_0ed7_11ea_9683_0242ac1c0002row3_col4\" class=\"data row3 col4\" >0</td>\n",
       "                        <td id=\"T_895256b0_0ed7_11ea_9683_0242ac1c0002row3_col5\" class=\"data row3 col5\" >0</td>\n",
       "                        <td id=\"T_895256b0_0ed7_11ea_9683_0242ac1c0002row3_col6\" class=\"data row3 col6\" >0</td>\n",
       "                        <td id=\"T_895256b0_0ed7_11ea_9683_0242ac1c0002row3_col7\" class=\"data row3 col7\" >0</td>\n",
       "                        <td id=\"T_895256b0_0ed7_11ea_9683_0242ac1c0002row3_col8\" class=\"data row3 col8\" >0</td>\n",
       "                        <td id=\"T_895256b0_0ed7_11ea_9683_0242ac1c0002row3_col9\" class=\"data row3 col9\" >0</td>\n",
       "                        <td id=\"T_895256b0_0ed7_11ea_9683_0242ac1c0002row3_col10\" class=\"data row3 col10\" >0</td>\n",
       "                        <td id=\"T_895256b0_0ed7_11ea_9683_0242ac1c0002row3_col11\" class=\"data row3 col11\" >0</td>\n",
       "                        <td id=\"T_895256b0_0ed7_11ea_9683_0242ac1c0002row3_col12\" class=\"data row3 col12\" >0</td>\n",
       "                        <td id=\"T_895256b0_0ed7_11ea_9683_0242ac1c0002row3_col13\" class=\"data row3 col13\" >0</td>\n",
       "                        <td id=\"T_895256b0_0ed7_11ea_9683_0242ac1c0002row3_col14\" class=\"data row3 col14\" >0</td>\n",
       "                        <td id=\"T_895256b0_0ed7_11ea_9683_0242ac1c0002row3_col15\" class=\"data row3 col15\" >0</td>\n",
       "                        <td id=\"T_895256b0_0ed7_11ea_9683_0242ac1c0002row3_col16\" class=\"data row3 col16\" >0</td>\n",
       "                        <td id=\"T_895256b0_0ed7_11ea_9683_0242ac1c0002row3_col17\" class=\"data row3 col17\" >0</td>\n",
       "                        <td id=\"T_895256b0_0ed7_11ea_9683_0242ac1c0002row3_col18\" class=\"data row3 col18\" >0</td>\n",
       "                        <td id=\"T_895256b0_0ed7_11ea_9683_0242ac1c0002row3_col19\" class=\"data row3 col19\" >0</td>\n",
       "                        <td id=\"T_895256b0_0ed7_11ea_9683_0242ac1c0002row3_col20\" class=\"data row3 col20\" >1</td>\n",
       "                        <td id=\"T_895256b0_0ed7_11ea_9683_0242ac1c0002row3_col21\" class=\"data row3 col21\" >1</td>\n",
       "                        <td id=\"T_895256b0_0ed7_11ea_9683_0242ac1c0002row3_col22\" class=\"data row3 col22\" >0</td>\n",
       "                        <td id=\"T_895256b0_0ed7_11ea_9683_0242ac1c0002row3_col23\" class=\"data row3 col23\" >0</td>\n",
       "                        <td id=\"T_895256b0_0ed7_11ea_9683_0242ac1c0002row3_col24\" class=\"data row3 col24\" >0</td>\n",
       "                        <td id=\"T_895256b0_0ed7_11ea_9683_0242ac1c0002row3_col25\" class=\"data row3 col25\" >0</td>\n",
       "                        <td id=\"T_895256b0_0ed7_11ea_9683_0242ac1c0002row3_col26\" class=\"data row3 col26\" >0</td>\n",
       "                        <td id=\"T_895256b0_0ed7_11ea_9683_0242ac1c0002row3_col27\" class=\"data row3 col27\" >0</td>\n",
       "                        <td id=\"T_895256b0_0ed7_11ea_9683_0242ac1c0002row3_col28\" class=\"data row3 col28\" >0</td>\n",
       "                        <td id=\"T_895256b0_0ed7_11ea_9683_0242ac1c0002row3_col29\" class=\"data row3 col29\" >0</td>\n",
       "                        <td id=\"T_895256b0_0ed7_11ea_9683_0242ac1c0002row3_col30\" class=\"data row3 col30\" >0</td>\n",
       "                        <td id=\"T_895256b0_0ed7_11ea_9683_0242ac1c0002row3_col31\" class=\"data row3 col31\" >0</td>\n",
       "                        <td id=\"T_895256b0_0ed7_11ea_9683_0242ac1c0002row3_col32\" class=\"data row3 col32\" >0</td>\n",
       "                        <td id=\"T_895256b0_0ed7_11ea_9683_0242ac1c0002row3_col33\" class=\"data row3 col33\" >0</td>\n",
       "                        <td id=\"T_895256b0_0ed7_11ea_9683_0242ac1c0002row3_col34\" class=\"data row3 col34\" >0</td>\n",
       "                        <td id=\"T_895256b0_0ed7_11ea_9683_0242ac1c0002row3_col35\" class=\"data row3 col35\" >0</td>\n",
       "                        <td id=\"T_895256b0_0ed7_11ea_9683_0242ac1c0002row3_col36\" class=\"data row3 col36\" >0</td>\n",
       "                        <td id=\"T_895256b0_0ed7_11ea_9683_0242ac1c0002row3_col37\" class=\"data row3 col37\" >0</td>\n",
       "                        <td id=\"T_895256b0_0ed7_11ea_9683_0242ac1c0002row3_col38\" class=\"data row3 col38\" >0</td>\n",
       "                        <td id=\"T_895256b0_0ed7_11ea_9683_0242ac1c0002row3_col39\" class=\"data row3 col39\" >0</td>\n",
       "                        <td id=\"T_895256b0_0ed7_11ea_9683_0242ac1c0002row3_col40\" class=\"data row3 col40\" >0</td>\n",
       "                        <td id=\"T_895256b0_0ed7_11ea_9683_0242ac1c0002row3_col41\" class=\"data row3 col41\" >0</td>\n",
       "                        <td id=\"T_895256b0_0ed7_11ea_9683_0242ac1c0002row3_col42\" class=\"data row3 col42\" >1</td>\n",
       "                        <td id=\"T_895256b0_0ed7_11ea_9683_0242ac1c0002row3_col43\" class=\"data row3 col43\" >1</td>\n",
       "                        <td id=\"T_895256b0_0ed7_11ea_9683_0242ac1c0002row3_col44\" class=\"data row3 col44\" >0</td>\n",
       "                        <td id=\"T_895256b0_0ed7_11ea_9683_0242ac1c0002row3_col45\" class=\"data row3 col45\" >0</td>\n",
       "                        <td id=\"T_895256b0_0ed7_11ea_9683_0242ac1c0002row3_col46\" class=\"data row3 col46\" >0</td>\n",
       "                        <td id=\"T_895256b0_0ed7_11ea_9683_0242ac1c0002row3_col47\" class=\"data row3 col47\" >0</td>\n",
       "                        <td id=\"T_895256b0_0ed7_11ea_9683_0242ac1c0002row3_col48\" class=\"data row3 col48\" >0</td>\n",
       "                        <td id=\"T_895256b0_0ed7_11ea_9683_0242ac1c0002row3_col49\" class=\"data row3 col49\" >0</td>\n",
       "                        <td id=\"T_895256b0_0ed7_11ea_9683_0242ac1c0002row3_col50\" class=\"data row3 col50\" >0</td>\n",
       "                        <td id=\"T_895256b0_0ed7_11ea_9683_0242ac1c0002row3_col51\" class=\"data row3 col51\" >0</td>\n",
       "                        <td id=\"T_895256b0_0ed7_11ea_9683_0242ac1c0002row3_col52\" class=\"data row3 col52\" >0</td>\n",
       "                        <td id=\"T_895256b0_0ed7_11ea_9683_0242ac1c0002row3_col53\" class=\"data row3 col53\" >0</td>\n",
       "                        <td id=\"T_895256b0_0ed7_11ea_9683_0242ac1c0002row3_col54\" class=\"data row3 col54\" >0</td>\n",
       "                        <td id=\"T_895256b0_0ed7_11ea_9683_0242ac1c0002row3_col55\" class=\"data row3 col55\" >0</td>\n",
       "                        <td id=\"T_895256b0_0ed7_11ea_9683_0242ac1c0002row3_col56\" class=\"data row3 col56\" >0</td>\n",
       "                        <td id=\"T_895256b0_0ed7_11ea_9683_0242ac1c0002row3_col57\" class=\"data row3 col57\" >0</td>\n",
       "                        <td id=\"T_895256b0_0ed7_11ea_9683_0242ac1c0002row3_col58\" class=\"data row3 col58\" >0</td>\n",
       "                        <td id=\"T_895256b0_0ed7_11ea_9683_0242ac1c0002row3_col59\" class=\"data row3 col59\" >0</td>\n",
       "                        <td id=\"T_895256b0_0ed7_11ea_9683_0242ac1c0002row3_col60\" class=\"data row3 col60\" >0</td>\n",
       "                        <td id=\"T_895256b0_0ed7_11ea_9683_0242ac1c0002row3_col61\" class=\"data row3 col61\" >0</td>\n",
       "                        <td id=\"T_895256b0_0ed7_11ea_9683_0242ac1c0002row3_col62\" class=\"data row3 col62\" >0</td>\n",
       "                        <td id=\"T_895256b0_0ed7_11ea_9683_0242ac1c0002row3_col63\" class=\"data row3 col63\" >0</td>\n",
       "                        <td id=\"T_895256b0_0ed7_11ea_9683_0242ac1c0002row3_col64\" class=\"data row3 col64\" >0</td>\n",
       "                        <td id=\"T_895256b0_0ed7_11ea_9683_0242ac1c0002row3_col65\" class=\"data row3 col65\" >0</td>\n",
       "                        <td id=\"T_895256b0_0ed7_11ea_9683_0242ac1c0002row3_col66\" class=\"data row3 col66\" >0</td>\n",
       "                        <td id=\"T_895256b0_0ed7_11ea_9683_0242ac1c0002row3_col67\" class=\"data row3 col67\" >0</td>\n",
       "                        <td id=\"T_895256b0_0ed7_11ea_9683_0242ac1c0002row3_col68\" class=\"data row3 col68\" >0</td>\n",
       "                        <td id=\"T_895256b0_0ed7_11ea_9683_0242ac1c0002row3_col69\" class=\"data row3 col69\" >0</td>\n",
       "                        <td id=\"T_895256b0_0ed7_11ea_9683_0242ac1c0002row3_col70\" class=\"data row3 col70\" >0</td>\n",
       "                        <td id=\"T_895256b0_0ed7_11ea_9683_0242ac1c0002row3_col71\" class=\"data row3 col71\" >0</td>\n",
       "                        <td id=\"T_895256b0_0ed7_11ea_9683_0242ac1c0002row3_col72\" class=\"data row3 col72\" >0</td>\n",
       "                        <td id=\"T_895256b0_0ed7_11ea_9683_0242ac1c0002row3_col73\" class=\"data row3 col73\" >0</td>\n",
       "                        <td id=\"T_895256b0_0ed7_11ea_9683_0242ac1c0002row3_col74\" class=\"data row3 col74\" >0</td>\n",
       "                        <td id=\"T_895256b0_0ed7_11ea_9683_0242ac1c0002row3_col75\" class=\"data row3 col75\" >0</td>\n",
       "                        <td id=\"T_895256b0_0ed7_11ea_9683_0242ac1c0002row3_col76\" class=\"data row3 col76\" >0</td>\n",
       "                        <td id=\"T_895256b0_0ed7_11ea_9683_0242ac1c0002row3_col77\" class=\"data row3 col77\" >0</td>\n",
       "                        <td id=\"T_895256b0_0ed7_11ea_9683_0242ac1c0002row3_col78\" class=\"data row3 col78\" >0</td>\n",
       "                        <td id=\"T_895256b0_0ed7_11ea_9683_0242ac1c0002row3_col79\" class=\"data row3 col79\" >0</td>\n",
       "                        <td id=\"T_895256b0_0ed7_11ea_9683_0242ac1c0002row3_col80\" class=\"data row3 col80\" >1</td>\n",
       "                        <td id=\"T_895256b0_0ed7_11ea_9683_0242ac1c0002row3_col81\" class=\"data row3 col81\" >1</td>\n",
       "                        <td id=\"T_895256b0_0ed7_11ea_9683_0242ac1c0002row3_col82\" class=\"data row3 col82\" >0</td>\n",
       "                        <td id=\"T_895256b0_0ed7_11ea_9683_0242ac1c0002row3_col83\" class=\"data row3 col83\" >0</td>\n",
       "                        <td id=\"T_895256b0_0ed7_11ea_9683_0242ac1c0002row3_col84\" class=\"data row3 col84\" >0</td>\n",
       "                        <td id=\"T_895256b0_0ed7_11ea_9683_0242ac1c0002row3_col85\" class=\"data row3 col85\" >0</td>\n",
       "                        <td id=\"T_895256b0_0ed7_11ea_9683_0242ac1c0002row3_col86\" class=\"data row3 col86\" >0</td>\n",
       "                        <td id=\"T_895256b0_0ed7_11ea_9683_0242ac1c0002row3_col87\" class=\"data row3 col87\" >0</td>\n",
       "                        <td id=\"T_895256b0_0ed7_11ea_9683_0242ac1c0002row3_col88\" class=\"data row3 col88\" >0</td>\n",
       "                        <td id=\"T_895256b0_0ed7_11ea_9683_0242ac1c0002row3_col89\" class=\"data row3 col89\" >0</td>\n",
       "                        <td id=\"T_895256b0_0ed7_11ea_9683_0242ac1c0002row3_col90\" class=\"data row3 col90\" >0</td>\n",
       "                        <td id=\"T_895256b0_0ed7_11ea_9683_0242ac1c0002row3_col91\" class=\"data row3 col91\" >0</td>\n",
       "                        <td id=\"T_895256b0_0ed7_11ea_9683_0242ac1c0002row3_col92\" class=\"data row3 col92\" >0</td>\n",
       "                        <td id=\"T_895256b0_0ed7_11ea_9683_0242ac1c0002row3_col93\" class=\"data row3 col93\" >0</td>\n",
       "                        <td id=\"T_895256b0_0ed7_11ea_9683_0242ac1c0002row3_col94\" class=\"data row3 col94\" >0</td>\n",
       "                        <td id=\"T_895256b0_0ed7_11ea_9683_0242ac1c0002row3_col95\" class=\"data row3 col95\" >0</td>\n",
       "                        <td id=\"T_895256b0_0ed7_11ea_9683_0242ac1c0002row3_col96\" class=\"data row3 col96\" >0</td>\n",
       "                        <td id=\"T_895256b0_0ed7_11ea_9683_0242ac1c0002row3_col97\" class=\"data row3 col97\" >0</td>\n",
       "                        <td id=\"T_895256b0_0ed7_11ea_9683_0242ac1c0002row3_col98\" class=\"data row3 col98\" >0</td>\n",
       "                        <td id=\"T_895256b0_0ed7_11ea_9683_0242ac1c0002row3_col99\" class=\"data row3 col99\" >0</td>\n",
       "                        <td id=\"T_895256b0_0ed7_11ea_9683_0242ac1c0002row3_col100\" class=\"data row3 col100\" >0</td>\n",
       "                        <td id=\"T_895256b0_0ed7_11ea_9683_0242ac1c0002row3_col101\" class=\"data row3 col101\" >0</td>\n",
       "                        <td id=\"T_895256b0_0ed7_11ea_9683_0242ac1c0002row3_col102\" class=\"data row3 col102\" >1</td>\n",
       "                        <td id=\"T_895256b0_0ed7_11ea_9683_0242ac1c0002row3_col103\" class=\"data row3 col103\" >1</td>\n",
       "                        <td id=\"T_895256b0_0ed7_11ea_9683_0242ac1c0002row3_col104\" class=\"data row3 col104\" >0</td>\n",
       "                        <td id=\"T_895256b0_0ed7_11ea_9683_0242ac1c0002row3_col105\" class=\"data row3 col105\" >0</td>\n",
       "            </tr>\n",
       "            <tr>\n",
       "                        <th id=\"T_895256b0_0ed7_11ea_9683_0242ac1c0002level0_row4\" class=\"row_heading level0 row4\" >4</th>\n",
       "                        <td id=\"T_895256b0_0ed7_11ea_9683_0242ac1c0002row4_col0\" class=\"data row4 col0\" >0</td>\n",
       "                        <td id=\"T_895256b0_0ed7_11ea_9683_0242ac1c0002row4_col1\" class=\"data row4 col1\" >0</td>\n",
       "                        <td id=\"T_895256b0_0ed7_11ea_9683_0242ac1c0002row4_col2\" class=\"data row4 col2\" >0</td>\n",
       "                        <td id=\"T_895256b0_0ed7_11ea_9683_0242ac1c0002row4_col3\" class=\"data row4 col3\" >0</td>\n",
       "                        <td id=\"T_895256b0_0ed7_11ea_9683_0242ac1c0002row4_col4\" class=\"data row4 col4\" >0</td>\n",
       "                        <td id=\"T_895256b0_0ed7_11ea_9683_0242ac1c0002row4_col5\" class=\"data row4 col5\" >1</td>\n",
       "                        <td id=\"T_895256b0_0ed7_11ea_9683_0242ac1c0002row4_col6\" class=\"data row4 col6\" >0</td>\n",
       "                        <td id=\"T_895256b0_0ed7_11ea_9683_0242ac1c0002row4_col7\" class=\"data row4 col7\" >0</td>\n",
       "                        <td id=\"T_895256b0_0ed7_11ea_9683_0242ac1c0002row4_col8\" class=\"data row4 col8\" >0</td>\n",
       "                        <td id=\"T_895256b0_0ed7_11ea_9683_0242ac1c0002row4_col9\" class=\"data row4 col9\" >0</td>\n",
       "                        <td id=\"T_895256b0_0ed7_11ea_9683_0242ac1c0002row4_col10\" class=\"data row4 col10\" >0</td>\n",
       "                        <td id=\"T_895256b0_0ed7_11ea_9683_0242ac1c0002row4_col11\" class=\"data row4 col11\" >0</td>\n",
       "                        <td id=\"T_895256b0_0ed7_11ea_9683_0242ac1c0002row4_col12\" class=\"data row4 col12\" >0</td>\n",
       "                        <td id=\"T_895256b0_0ed7_11ea_9683_0242ac1c0002row4_col13\" class=\"data row4 col13\" >0</td>\n",
       "                        <td id=\"T_895256b0_0ed7_11ea_9683_0242ac1c0002row4_col14\" class=\"data row4 col14\" >0</td>\n",
       "                        <td id=\"T_895256b0_0ed7_11ea_9683_0242ac1c0002row4_col15\" class=\"data row4 col15\" >0</td>\n",
       "                        <td id=\"T_895256b0_0ed7_11ea_9683_0242ac1c0002row4_col16\" class=\"data row4 col16\" >0</td>\n",
       "                        <td id=\"T_895256b0_0ed7_11ea_9683_0242ac1c0002row4_col17\" class=\"data row4 col17\" >0</td>\n",
       "                        <td id=\"T_895256b0_0ed7_11ea_9683_0242ac1c0002row4_col18\" class=\"data row4 col18\" >0</td>\n",
       "                        <td id=\"T_895256b0_0ed7_11ea_9683_0242ac1c0002row4_col19\" class=\"data row4 col19\" >0</td>\n",
       "                        <td id=\"T_895256b0_0ed7_11ea_9683_0242ac1c0002row4_col20\" class=\"data row4 col20\" >1</td>\n",
       "                        <td id=\"T_895256b0_0ed7_11ea_9683_0242ac1c0002row4_col21\" class=\"data row4 col21\" >0</td>\n",
       "                        <td id=\"T_895256b0_0ed7_11ea_9683_0242ac1c0002row4_col22\" class=\"data row4 col22\" >0</td>\n",
       "                        <td id=\"T_895256b0_0ed7_11ea_9683_0242ac1c0002row4_col23\" class=\"data row4 col23\" >0</td>\n",
       "                        <td id=\"T_895256b0_0ed7_11ea_9683_0242ac1c0002row4_col24\" class=\"data row4 col24\" >0</td>\n",
       "                        <td id=\"T_895256b0_0ed7_11ea_9683_0242ac1c0002row4_col25\" class=\"data row4 col25\" >0</td>\n",
       "                        <td id=\"T_895256b0_0ed7_11ea_9683_0242ac1c0002row4_col26\" class=\"data row4 col26\" >0</td>\n",
       "                        <td id=\"T_895256b0_0ed7_11ea_9683_0242ac1c0002row4_col27\" class=\"data row4 col27\" >0</td>\n",
       "                        <td id=\"T_895256b0_0ed7_11ea_9683_0242ac1c0002row4_col28\" class=\"data row4 col28\" >0</td>\n",
       "                        <td id=\"T_895256b0_0ed7_11ea_9683_0242ac1c0002row4_col29\" class=\"data row4 col29\" >0</td>\n",
       "                        <td id=\"T_895256b0_0ed7_11ea_9683_0242ac1c0002row4_col30\" class=\"data row4 col30\" >0</td>\n",
       "                        <td id=\"T_895256b0_0ed7_11ea_9683_0242ac1c0002row4_col31\" class=\"data row4 col31\" >0</td>\n",
       "                        <td id=\"T_895256b0_0ed7_11ea_9683_0242ac1c0002row4_col32\" class=\"data row4 col32\" >0</td>\n",
       "                        <td id=\"T_895256b0_0ed7_11ea_9683_0242ac1c0002row4_col33\" class=\"data row4 col33\" >0</td>\n",
       "                        <td id=\"T_895256b0_0ed7_11ea_9683_0242ac1c0002row4_col34\" class=\"data row4 col34\" >0</td>\n",
       "                        <td id=\"T_895256b0_0ed7_11ea_9683_0242ac1c0002row4_col35\" class=\"data row4 col35\" >0</td>\n",
       "                        <td id=\"T_895256b0_0ed7_11ea_9683_0242ac1c0002row4_col36\" class=\"data row4 col36\" >0</td>\n",
       "                        <td id=\"T_895256b0_0ed7_11ea_9683_0242ac1c0002row4_col37\" class=\"data row4 col37\" >0</td>\n",
       "                        <td id=\"T_895256b0_0ed7_11ea_9683_0242ac1c0002row4_col38\" class=\"data row4 col38\" >0</td>\n",
       "                        <td id=\"T_895256b0_0ed7_11ea_9683_0242ac1c0002row4_col39\" class=\"data row4 col39\" >0</td>\n",
       "                        <td id=\"T_895256b0_0ed7_11ea_9683_0242ac1c0002row4_col40\" class=\"data row4 col40\" >0</td>\n",
       "                        <td id=\"T_895256b0_0ed7_11ea_9683_0242ac1c0002row4_col41\" class=\"data row4 col41\" >1</td>\n",
       "                        <td id=\"T_895256b0_0ed7_11ea_9683_0242ac1c0002row4_col42\" class=\"data row4 col42\" >1</td>\n",
       "                        <td id=\"T_895256b0_0ed7_11ea_9683_0242ac1c0002row4_col43\" class=\"data row4 col43\" >0</td>\n",
       "                        <td id=\"T_895256b0_0ed7_11ea_9683_0242ac1c0002row4_col44\" class=\"data row4 col44\" >0</td>\n",
       "                        <td id=\"T_895256b0_0ed7_11ea_9683_0242ac1c0002row4_col45\" class=\"data row4 col45\" >0</td>\n",
       "                        <td id=\"T_895256b0_0ed7_11ea_9683_0242ac1c0002row4_col46\" class=\"data row4 col46\" >0</td>\n",
       "                        <td id=\"T_895256b0_0ed7_11ea_9683_0242ac1c0002row4_col47\" class=\"data row4 col47\" >0</td>\n",
       "                        <td id=\"T_895256b0_0ed7_11ea_9683_0242ac1c0002row4_col48\" class=\"data row4 col48\" >0</td>\n",
       "                        <td id=\"T_895256b0_0ed7_11ea_9683_0242ac1c0002row4_col49\" class=\"data row4 col49\" >0</td>\n",
       "                        <td id=\"T_895256b0_0ed7_11ea_9683_0242ac1c0002row4_col50\" class=\"data row4 col50\" >0</td>\n",
       "                        <td id=\"T_895256b0_0ed7_11ea_9683_0242ac1c0002row4_col51\" class=\"data row4 col51\" >0</td>\n",
       "                        <td id=\"T_895256b0_0ed7_11ea_9683_0242ac1c0002row4_col52\" class=\"data row4 col52\" >0</td>\n",
       "                        <td id=\"T_895256b0_0ed7_11ea_9683_0242ac1c0002row4_col53\" class=\"data row4 col53\" >0</td>\n",
       "                        <td id=\"T_895256b0_0ed7_11ea_9683_0242ac1c0002row4_col54\" class=\"data row4 col54\" >0</td>\n",
       "                        <td id=\"T_895256b0_0ed7_11ea_9683_0242ac1c0002row4_col55\" class=\"data row4 col55\" >0</td>\n",
       "                        <td id=\"T_895256b0_0ed7_11ea_9683_0242ac1c0002row4_col56\" class=\"data row4 col56\" >0</td>\n",
       "                        <td id=\"T_895256b0_0ed7_11ea_9683_0242ac1c0002row4_col57\" class=\"data row4 col57\" >0</td>\n",
       "                        <td id=\"T_895256b0_0ed7_11ea_9683_0242ac1c0002row4_col58\" class=\"data row4 col58\" >0</td>\n",
       "                        <td id=\"T_895256b0_0ed7_11ea_9683_0242ac1c0002row4_col59\" class=\"data row4 col59\" >0</td>\n",
       "                        <td id=\"T_895256b0_0ed7_11ea_9683_0242ac1c0002row4_col60\" class=\"data row4 col60\" >0</td>\n",
       "                        <td id=\"T_895256b0_0ed7_11ea_9683_0242ac1c0002row4_col61\" class=\"data row4 col61\" >0</td>\n",
       "                        <td id=\"T_895256b0_0ed7_11ea_9683_0242ac1c0002row4_col62\" class=\"data row4 col62\" >0</td>\n",
       "                        <td id=\"T_895256b0_0ed7_11ea_9683_0242ac1c0002row4_col63\" class=\"data row4 col63\" >0</td>\n",
       "                        <td id=\"T_895256b0_0ed7_11ea_9683_0242ac1c0002row4_col64\" class=\"data row4 col64\" >0</td>\n",
       "                        <td id=\"T_895256b0_0ed7_11ea_9683_0242ac1c0002row4_col65\" class=\"data row4 col65\" >0</td>\n",
       "                        <td id=\"T_895256b0_0ed7_11ea_9683_0242ac1c0002row4_col66\" class=\"data row4 col66\" >0</td>\n",
       "                        <td id=\"T_895256b0_0ed7_11ea_9683_0242ac1c0002row4_col67\" class=\"data row4 col67\" >0</td>\n",
       "                        <td id=\"T_895256b0_0ed7_11ea_9683_0242ac1c0002row4_col68\" class=\"data row4 col68\" >0</td>\n",
       "                        <td id=\"T_895256b0_0ed7_11ea_9683_0242ac1c0002row4_col69\" class=\"data row4 col69\" >1</td>\n",
       "                        <td id=\"T_895256b0_0ed7_11ea_9683_0242ac1c0002row4_col70\" class=\"data row4 col70\" >0</td>\n",
       "                        <td id=\"T_895256b0_0ed7_11ea_9683_0242ac1c0002row4_col71\" class=\"data row4 col71\" >0</td>\n",
       "                        <td id=\"T_895256b0_0ed7_11ea_9683_0242ac1c0002row4_col72\" class=\"data row4 col72\" >0</td>\n",
       "                        <td id=\"T_895256b0_0ed7_11ea_9683_0242ac1c0002row4_col73\" class=\"data row4 col73\" >0</td>\n",
       "                        <td id=\"T_895256b0_0ed7_11ea_9683_0242ac1c0002row4_col74\" class=\"data row4 col74\" >0</td>\n",
       "                        <td id=\"T_895256b0_0ed7_11ea_9683_0242ac1c0002row4_col75\" class=\"data row4 col75\" >0</td>\n",
       "                        <td id=\"T_895256b0_0ed7_11ea_9683_0242ac1c0002row4_col76\" class=\"data row4 col76\" >0</td>\n",
       "                        <td id=\"T_895256b0_0ed7_11ea_9683_0242ac1c0002row4_col77\" class=\"data row4 col77\" >0</td>\n",
       "                        <td id=\"T_895256b0_0ed7_11ea_9683_0242ac1c0002row4_col78\" class=\"data row4 col78\" >0</td>\n",
       "                        <td id=\"T_895256b0_0ed7_11ea_9683_0242ac1c0002row4_col79\" class=\"data row4 col79\" >0</td>\n",
       "                        <td id=\"T_895256b0_0ed7_11ea_9683_0242ac1c0002row4_col80\" class=\"data row4 col80\" >1</td>\n",
       "                        <td id=\"T_895256b0_0ed7_11ea_9683_0242ac1c0002row4_col81\" class=\"data row4 col81\" >1</td>\n",
       "                        <td id=\"T_895256b0_0ed7_11ea_9683_0242ac1c0002row4_col82\" class=\"data row4 col82\" >0</td>\n",
       "                        <td id=\"T_895256b0_0ed7_11ea_9683_0242ac1c0002row4_col83\" class=\"data row4 col83\" >0</td>\n",
       "                        <td id=\"T_895256b0_0ed7_11ea_9683_0242ac1c0002row4_col84\" class=\"data row4 col84\" >0</td>\n",
       "                        <td id=\"T_895256b0_0ed7_11ea_9683_0242ac1c0002row4_col85\" class=\"data row4 col85\" >0</td>\n",
       "                        <td id=\"T_895256b0_0ed7_11ea_9683_0242ac1c0002row4_col86\" class=\"data row4 col86\" >0</td>\n",
       "                        <td id=\"T_895256b0_0ed7_11ea_9683_0242ac1c0002row4_col87\" class=\"data row4 col87\" >0</td>\n",
       "                        <td id=\"T_895256b0_0ed7_11ea_9683_0242ac1c0002row4_col88\" class=\"data row4 col88\" >0</td>\n",
       "                        <td id=\"T_895256b0_0ed7_11ea_9683_0242ac1c0002row4_col89\" class=\"data row4 col89\" >0</td>\n",
       "                        <td id=\"T_895256b0_0ed7_11ea_9683_0242ac1c0002row4_col90\" class=\"data row4 col90\" >0</td>\n",
       "                        <td id=\"T_895256b0_0ed7_11ea_9683_0242ac1c0002row4_col91\" class=\"data row4 col91\" >0</td>\n",
       "                        <td id=\"T_895256b0_0ed7_11ea_9683_0242ac1c0002row4_col92\" class=\"data row4 col92\" >0</td>\n",
       "                        <td id=\"T_895256b0_0ed7_11ea_9683_0242ac1c0002row4_col93\" class=\"data row4 col93\" >0</td>\n",
       "                        <td id=\"T_895256b0_0ed7_11ea_9683_0242ac1c0002row4_col94\" class=\"data row4 col94\" >0</td>\n",
       "                        <td id=\"T_895256b0_0ed7_11ea_9683_0242ac1c0002row4_col95\" class=\"data row4 col95\" >0</td>\n",
       "                        <td id=\"T_895256b0_0ed7_11ea_9683_0242ac1c0002row4_col96\" class=\"data row4 col96\" >0</td>\n",
       "                        <td id=\"T_895256b0_0ed7_11ea_9683_0242ac1c0002row4_col97\" class=\"data row4 col97\" >0</td>\n",
       "                        <td id=\"T_895256b0_0ed7_11ea_9683_0242ac1c0002row4_col98\" class=\"data row4 col98\" >0</td>\n",
       "                        <td id=\"T_895256b0_0ed7_11ea_9683_0242ac1c0002row4_col99\" class=\"data row4 col99\" >0</td>\n",
       "                        <td id=\"T_895256b0_0ed7_11ea_9683_0242ac1c0002row4_col100\" class=\"data row4 col100\" >0</td>\n",
       "                        <td id=\"T_895256b0_0ed7_11ea_9683_0242ac1c0002row4_col101\" class=\"data row4 col101\" >0</td>\n",
       "                        <td id=\"T_895256b0_0ed7_11ea_9683_0242ac1c0002row4_col102\" class=\"data row4 col102\" >1</td>\n",
       "                        <td id=\"T_895256b0_0ed7_11ea_9683_0242ac1c0002row4_col103\" class=\"data row4 col103\" >0</td>\n",
       "                        <td id=\"T_895256b0_0ed7_11ea_9683_0242ac1c0002row4_col104\" class=\"data row4 col104\" >0</td>\n",
       "                        <td id=\"T_895256b0_0ed7_11ea_9683_0242ac1c0002row4_col105\" class=\"data row4 col105\" >0</td>\n",
       "            </tr>\n",
       "    </tbody></table>"
      ],
      "text/plain": [
       "<pandas.io.formats.style.Styler at 0x7f60796a0cc0>"
      ]
     },
     "execution_count": 288,
     "metadata": {
      "tags": []
     },
     "output_type": "execute_result"
    }
   ],
   "source": [
    "def highlight_diff(data, color='yellow'):\n",
    "    attr = 'background-color: {}'.format(color)\n",
    "    other = data.xs('Actuals', axis='columns', level=-1)\n",
    "    return pd.DataFrame(np.where(data.ne(other, level=0), attr, ''),\n",
    "                        index=data.index, columns=data.columns)\n",
    "print(\"Highlited columns which are incorrectly classified: \\n\")\n",
    "df_final.style.apply(highlight_diff, axis=None)"
   ]
  }
 ],
 "metadata": {
  "accelerator": "GPU",
  "colab": {
   "collapsed_sections": [],
   "name": "NLP_R8_Project (1).ipynb",
   "provenance": []
  },
  "kernelspec": {
   "display_name": "Python 3",
   "language": "python",
   "name": "python3"
  },
  "language_info": {
   "codemirror_mode": {
    "name": "ipython",
    "version": 3
   },
   "file_extension": ".py",
   "mimetype": "text/x-python",
   "name": "python",
   "nbconvert_exporter": "python",
   "pygments_lexer": "ipython3",
   "version": "3.7.3"
  }
 },
 "nbformat": 4,
 "nbformat_minor": 1
}
