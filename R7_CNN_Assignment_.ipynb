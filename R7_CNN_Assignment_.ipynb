{
  "nbformat": 4,
  "nbformat_minor": 0,
  "metadata": {
    "colab": {
      "name": "R7 CNN Assignment .ipynb",
      "provenance": [],
      "collapsed_sections": []
    },
    "kernelspec": {
      "name": "python3",
      "display_name": "Python 3"
    }
  },
  "cells": [
    {
      "cell_type": "code",
      "metadata": {
        "id": "IyhIc22H0a2s",
        "colab_type": "code",
        "colab": {}
      },
      "source": [
        "import tensorflow as tf\n",
        "import numpy as np\n",
        "import h5py\n",
        "import math\n",
        "import time\n",
        "from random import shuffle\n",
        "import matplotlib.pyplot as plt\n",
        "from tensorflow.contrib.layers import fully_connected, l2_regularizer\n",
        "from tensorflow.contrib.framework import arg_scope\n",
        "from sklearn.preprocessing import MinMaxScaler\n",
        "import seaborn as sns\n",
        "from sklearn.metrics import classification_report,confusion_matrix\n",
        "from sklearn import metrics\n",
        "%matplotlib inline\n",
        "import os\n",
        "from glob import glob\n",
        "import cv2\n"
      ],
      "execution_count": 0,
      "outputs": []
    },
    {
      "cell_type": "code",
      "metadata": {
        "id": "3oToTnCC1EdV",
        "colab_type": "code",
        "outputId": "974f37ab-966a-450c-f3c7-47ba88ae6e67",
        "colab": {
          "base_uri": "https://localhost:8080/",
          "height": 125
        }
      },
      "source": [
        "from google.colab import drive\n",
        "drive.mount('/content/drive')"
      ],
      "execution_count": 0,
      "outputs": [
        {
          "output_type": "stream",
          "text": [
            "Go to this URL in a browser: https://accounts.google.com/o/oauth2/auth?client_id=947318989803-6bn6qk8qdgf4n4g3pfee6491hc0brc4i.apps.googleusercontent.com&redirect_uri=urn%3Aietf%3Awg%3Aoauth%3A2.0%3Aoob&scope=email%20https%3A%2F%2Fwww.googleapis.com%2Fauth%2Fdocs.test%20https%3A%2F%2Fwww.googleapis.com%2Fauth%2Fdrive%20https%3A%2F%2Fwww.googleapis.com%2Fauth%2Fdrive.photos.readonly%20https%3A%2F%2Fwww.googleapis.com%2Fauth%2Fpeopleapi.readonly&response_type=code\n",
            "\n",
            "Enter your authorization code:\n",
            "··········\n",
            "Mounted at /content/drive\n"
          ],
          "name": "stdout"
        }
      ]
    },
    {
      "cell_type": "code",
      "metadata": {
        "id": "-0g8Hb0M1EaW",
        "colab_type": "code",
        "colab": {}
      },
      "source": [
        "from zipfile import ZipFile "
      ],
      "execution_count": 0,
      "outputs": []
    },
    {
      "cell_type": "code",
      "metadata": {
        "id": "B9DZSPWX84BH",
        "colab_type": "code",
        "colab": {}
      },
      "source": [
        "Xtrain = \"/content/drive/My Drive/CNN R7 Project /train.zip\""
      ],
      "execution_count": 0,
      "outputs": []
    },
    {
      "cell_type": "code",
      "metadata": {
        "id": "_DDn-cyj1EXq",
        "colab_type": "code",
        "outputId": "ea43fb1b-a11e-477d-d1db-7dcd98729456",
        "colab": {
          "base_uri": "https://localhost:8080/",
          "height": 34
        }
      },
      "source": [
        "with ZipFile(Xtrain, 'r') as zip: \n",
        "  #zip.printdir()\n",
        "  zip.extractall()\n",
        "  !ls"
      ],
      "execution_count": 0,
      "outputs": [
        {
          "output_type": "stream",
          "text": [
            "drive  sample_data  train\n"
          ],
          "name": "stdout"
        }
      ]
    },
    {
      "cell_type": "code",
      "metadata": {
        "id": "olAPmICR_fgI",
        "colab_type": "code",
        "outputId": "c4bb51e1-eac6-4006-8bad-5eb348c43eec",
        "colab": {
          "base_uri": "https://localhost:8080/",
          "height": 87
        }
      },
      "source": [
        "!ls train"
      ],
      "execution_count": 0,
      "outputs": [
        {
          "output_type": "stream",
          "text": [
            " Black-grass\t    'Common wheat'\t'Scentless Mayweed'\n",
            " Charlock\t    'Fat Hen'\t\t'Shepherds Purse'\n",
            " Cleavers\t    'Loose Silky-bent'\t'Small-flowered Cranesbill'\n",
            "'Common Chickweed'   Maize\t\t'Sugar beet'\n"
          ],
          "name": "stdout"
        }
      ]
    },
    {
      "cell_type": "code",
      "metadata": {
        "id": "i8wy9EYDAJNw",
        "colab_type": "code",
        "colab": {}
      },
      "source": [
        "#save the path into variable to use it easily next times.\n",
        "TRAin_DATA_FOLDER= \"train\""
      ],
      "execution_count": 0,
      "outputs": []
    },
    {
      "cell_type": "code",
      "metadata": {
        "id": "e3jXd1JP-su-",
        "colab_type": "code",
        "colab": {}
      },
      "source": [
        "images = []\n",
        "classes=[]\n",
        "missing=0\n",
        "for class_folder_name in os.listdir(TRAin_DATA_FOLDER):\n",
        "    class_folder_path = os.path.join(TRAin_DATA_FOLDER, class_folder_name)\n",
        "    class_label = class_folder_name\n",
        "    \n",
        "    for image_path in glob(os.path.join(class_folder_path, \"*.png\")):\n",
        "        image_bgr = cv2.imread(image_path, cv2.IMREAD_COLOR)\n",
        "        if image_bgr is None: # if the file contain any missig value ignore it\n",
        "          missing += 1\n",
        "          continue\n",
        "        images.append(image_bgr)\n",
        "        classes.append(class_label)"
      ],
      "execution_count": 0,
      "outputs": []
    },
    {
      "cell_type": "code",
      "metadata": {
        "id": "rB4dtIcYBdbt",
        "colab_type": "code",
        "outputId": "98d64d1d-5943-4195-8f51-dda96c911ea7",
        "colab": {
          "base_uri": "https://localhost:8080/",
          "height": 34
        }
      },
      "source": [
        "len(images)"
      ],
      "execution_count": 0,
      "outputs": [
        {
          "output_type": "execute_result",
          "data": {
            "text/plain": [
              "4750"
            ]
          },
          "metadata": {
            "tags": []
          },
          "execution_count": 9
        }
      ]
    },
    {
      "cell_type": "code",
      "metadata": {
        "id": "6UwN8DmpTV_Z",
        "colab_type": "code",
        "colab": {}
      },
      "source": [
        "# Resizing Images\n",
        "def resize_images(img):\n",
        "\n",
        "  img = np.array(img).astype(np.uint8)\n",
        "  #print(img.dtype)\n",
        "  res = cv2.resize(img,(256,256), interpolation = cv2.INTER_CUBIC)\n",
        "  return res"
      ],
      "execution_count": 0,
      "outputs": []
    },
    {
      "cell_type": "code",
      "metadata": {
        "id": "_wKdnVV4TV5u",
        "colab_type": "code",
        "colab": {}
      },
      "source": [
        "#save resized images into images.\n",
        "images = [resize_images(img) for img in images]"
      ],
      "execution_count": 0,
      "outputs": []
    },
    {
      "cell_type": "code",
      "metadata": {
        "id": "Hk-UWlARTVqM",
        "colab_type": "code",
        "outputId": "ad3cfdca-6e08-4f5c-ae60-8ac43c2fa094",
        "colab": {
          "base_uri": "https://localhost:8080/",
          "height": 34
        }
      },
      "source": [
        "images[0].shape"
      ],
      "execution_count": 0,
      "outputs": [
        {
          "output_type": "execute_result",
          "data": {
            "text/plain": [
              "(256, 256, 3)"
            ]
          },
          "metadata": {
            "tags": []
          },
          "execution_count": 12
        }
      ]
    },
    {
      "cell_type": "code",
      "metadata": {
        "id": "Q1Mz1y7JV1M7",
        "colab_type": "code",
        "outputId": "700eed38-cc80-490a-8856-2cd77ecd7220",
        "colab": {
          "base_uri": "https://localhost:8080/",
          "height": 265
        }
      },
      "source": [
        "\n",
        "#see number of images in each lablel\n",
        "images = np.array(images)\n",
        "classes = np.array(classes)\n",
        "print(\"images shape: \", images.shape)\n",
        "print(\"classes shape: \", classes.shape)\n",
        "#for key,value in images_per_class.items():\n",
        "   # print(\"number of {0} images is  -> {1}\".format(key, len(value)))\n",
        "  \n",
        "for label in set(classes):\n",
        "\n",
        "  print(\"number of {} images is  -> {}\".format(\n",
        "        label, \n",
        "        len(images[classes == label])))"
      ],
      "execution_count": 0,
      "outputs": [
        {
          "output_type": "stream",
          "text": [
            "images shape:  (4750, 256, 256, 3)\n",
            "classes shape:  (4750,)\n",
            "number of Fat Hen images is  -> 475\n",
            "number of Common Chickweed images is  -> 611\n",
            "number of Maize images is  -> 221\n",
            "number of Scentless Mayweed images is  -> 516\n",
            "number of Loose Silky-bent images is  -> 654\n",
            "number of Cleavers images is  -> 287\n",
            "number of Shepherds Purse images is  -> 231\n",
            "number of Small-flowered Cranesbill images is  -> 496\n",
            "number of Common wheat images is  -> 221\n",
            "number of Black-grass images is  -> 263\n",
            "number of Charlock images is  -> 390\n",
            "number of Sugar beet images is  -> 385\n"
          ],
          "name": "stdout"
        }
      ]
    },
    {
      "cell_type": "code",
      "metadata": {
        "id": "iN08xmPeV1J0",
        "colab_type": "code",
        "colab": {}
      },
      "source": [
        "def create_mask_for_plant(image):\n",
        "    image_hsv = cv2.cvtColor(image, cv2.COLOR_BGR2HSV)\n",
        "\n",
        "    sensitivity = 40\n",
        "    lower_hsv = np.array([40 - sensitivity, 80, 40])\n",
        "    upper_hsv = np.array([40 + sensitivity, 255, 255])\n",
        "\n",
        "    mask = cv2.inRange(image_hsv, lower_hsv, upper_hsv)\n",
        "    kernel = cv2.getStructuringElement(cv2.MORPH_ELLIPSE, (11,11))\n",
        "    mask = cv2.morphologyEx(mask, cv2.MORPH_CLOSE, kernel)\n",
        "    \n",
        "    return mask\n",
        "\n",
        "def segment_plant(image):\n",
        "    mask = create_mask_for_plant(image)\n",
        "    output = cv2.bitwise_and(image, image, mask = mask)\n",
        "    return output\n",
        "\n",
        "def sharpen_image(image):\n",
        "    image_blurred = cv2.GaussianBlur(image, (0, 0), 3)\n",
        "    image_sharp = cv2.addWeighted(image, 1.5, image_blurred, -0.5, 0)\n",
        "    return image_sharp"
      ],
      "execution_count": 0,
      "outputs": []
    },
    {
      "cell_type": "code",
      "metadata": {
        "id": "hTsKNA8MV1HV",
        "colab_type": "code",
        "colab": {}
      },
      "source": [
        "def segment(img):\n",
        "\n",
        "  image_mask = create_mask_for_plant(img)\n",
        "  image_segmented = segment_plant(img)\n",
        "  image_sharpen = sharpen_image(image_segmented)\n",
        "  return image_sharpen"
      ],
      "execution_count": 0,
      "outputs": []
    },
    {
      "cell_type": "code",
      "metadata": {
        "id": "kjXnvzxdV1D9",
        "colab_type": "code",
        "colab": {}
      },
      "source": [
        "for indx, image in enumerate(images):\n",
        "  try:\n",
        "     images[indx] = segment(image)\n",
        "      \n",
        "  except:\n",
        "    print(indx)\n",
        "    continue"
      ],
      "execution_count": 0,
      "outputs": []
    },
    {
      "cell_type": "code",
      "metadata": {
        "id": "fHGUhg1YXpqi",
        "colab_type": "code",
        "colab": {}
      },
      "source": [
        "from sklearn.preprocessing import LabelBinarizer\n",
        "enc = LabelBinarizer()\n",
        "y = enc.fit_transform(classes)"
      ],
      "execution_count": 0,
      "outputs": []
    },
    {
      "cell_type": "code",
      "metadata": {
        "id": "4INgZhkKXqLH",
        "colab_type": "code",
        "colab": {}
      },
      "source": [
        "from sklearn.model_selection import train_test_split\n",
        "X_train, X_test, y_train, y_test = train_test_split(images, y, test_size=0.2, random_state=00)"
      ],
      "execution_count": 0,
      "outputs": []
    },
    {
      "cell_type": "code",
      "metadata": {
        "id": "sHxX8oMKXplq",
        "colab_type": "code",
        "outputId": "0aba9339-42a7-428a-9187-071f3ffe4b44",
        "colab": {
          "base_uri": "https://localhost:8080/",
          "height": 34
        }
      },
      "source": [
        "X_train.shape"
      ],
      "execution_count": 0,
      "outputs": [
        {
          "output_type": "execute_result",
          "data": {
            "text/plain": [
              "(3800, 256, 256, 3)"
            ]
          },
          "metadata": {
            "tags": []
          },
          "execution_count": 30
        }
      ]
    },
    {
      "cell_type": "code",
      "metadata": {
        "id": "a27Ew5m-XpjI",
        "colab_type": "code",
        "colab": {}
      },
      "source": [
        "from sklearn.model_selection import train_test_split\n",
        "X_test, X_val, y_test, Y_val = train_test_split(X_test,y_test, test_size = 0.6, random_state=00)"
      ],
      "execution_count": 0,
      "outputs": []
    },
    {
      "cell_type": "code",
      "metadata": {
        "id": "qTg29fmwXpe2",
        "colab_type": "code",
        "outputId": "fc2fdcb3-ee1a-4ee9-87b2-f8e638c25e2f",
        "colab": {
          "base_uri": "https://localhost:8080/",
          "height": 621
        }
      },
      "source": [
        "from keras.utils.np_utils import to_categorical # convert to one-hot-encoding\n",
        "from keras.models import Sequential\n",
        "from keras.layers import Dense, Dropout, Flatten, Conv2D, MaxPool2D, GlobalMaxPooling2D\n",
        "from keras.optimizers import RMSprop\n",
        "from keras.preprocessing.image import ImageDataGenerator\n",
        "from keras.optimizers import Adam\n",
        "from keras.layers import Flatten\n",
        "\n",
        "# Set the CNN model \n",
        "\n",
        "batch_size = None\n",
        "\n",
        "model = Sequential()\n",
        "model.add(Conv2D(filters = 64, kernel_size = (3,3),padding = 'Same', activation ='relu', batch_input_shape = (batch_size,256, 256, 3)))\n",
        "model.add(MaxPool2D())\n",
        "model.add(Conv2D(filters = 128, kernel_size = (3,3),padding = 'Same', activation ='relu'))\n",
        "model.add(MaxPool2D())\n",
        "model.add(Conv2D(filters = 64, kernel_size = (1,1),padding = 'Same', activation ='relu'))\n",
        "model.add(MaxPool2D())\n",
        "model.add(Conv2D(filters = 32, kernel_size = (3,3),padding = 'Same', activation ='relu'))\n",
        "model.add(MaxPool2D())\n",
        "model.add(Conv2D(filters = 64, kernel_size = (1,1),padding = 'Same', activation ='relu'))\n",
        "model.add(MaxPool2D())\n",
        "model.add(Flatten())\n",
        "model.add(Dense(25, activation = \"relu\"))\n",
        "model.add(Dense(12, activation = \"softmax\"))\n",
        "model.summary()\n"
      ],
      "execution_count": 0,
      "outputs": [
        {
          "output_type": "stream",
          "text": [
            "Model: \"sequential_4\"\n",
            "_________________________________________________________________\n",
            "Layer (type)                 Output Shape              Param #   \n",
            "=================================================================\n",
            "conv2d_12 (Conv2D)           (None, 256, 256, 64)      1792      \n",
            "_________________________________________________________________\n",
            "max_pooling2d_8 (MaxPooling2 (None, 128, 128, 64)      0         \n",
            "_________________________________________________________________\n",
            "conv2d_13 (Conv2D)           (None, 128, 128, 128)     73856     \n",
            "_________________________________________________________________\n",
            "max_pooling2d_9 (MaxPooling2 (None, 64, 64, 128)       0         \n",
            "_________________________________________________________________\n",
            "conv2d_14 (Conv2D)           (None, 64, 64, 64)        8256      \n",
            "_________________________________________________________________\n",
            "max_pooling2d_10 (MaxPooling (None, 32, 32, 64)        0         \n",
            "_________________________________________________________________\n",
            "conv2d_15 (Conv2D)           (None, 32, 32, 32)        18464     \n",
            "_________________________________________________________________\n",
            "max_pooling2d_11 (MaxPooling (None, 16, 16, 32)        0         \n",
            "_________________________________________________________________\n",
            "conv2d_16 (Conv2D)           (None, 16, 16, 64)        2112      \n",
            "_________________________________________________________________\n",
            "max_pooling2d_12 (MaxPooling (None, 8, 8, 64)          0         \n",
            "_________________________________________________________________\n",
            "flatten_4 (Flatten)          (None, 4096)              0         \n",
            "_________________________________________________________________\n",
            "dense_7 (Dense)              (None, 25)                102425    \n",
            "_________________________________________________________________\n",
            "dense_8 (Dense)              (None, 12)                312       \n",
            "=================================================================\n",
            "Total params: 207,217\n",
            "Trainable params: 207,217\n",
            "Non-trainable params: 0\n",
            "_________________________________________________________________\n"
          ],
          "name": "stdout"
        }
      ]
    },
    {
      "cell_type": "code",
      "metadata": {
        "id": "35O9dMb-XpZh",
        "colab_type": "code",
        "colab": {}
      },
      "source": [
        "optimizer = RMSprop(lr=0.001, rho=0.9, epsilon=1e-08, decay=0.0)\n",
        "model.compile(optimizer = 'adam', loss = \"categorical_crossentropy\", metrics = [\"accuracy\"])"
      ],
      "execution_count": 0,
      "outputs": []
    },
    {
      "cell_type": "code",
      "metadata": {
        "id": "A78X7rmpenI0",
        "colab_type": "code",
        "colab": {}
      },
      "source": [
        ""
      ],
      "execution_count": 0,
      "outputs": []
    },
    {
      "cell_type": "code",
      "metadata": {
        "id": "2rvUfd-jem_J",
        "colab_type": "code",
        "outputId": "4f8196d4-0870-440e-c9ad-e17e0c259fc6",
        "colab": {
          "base_uri": "https://localhost:8080/",
          "height": 941
        }
      },
      "source": [
        "model.fit(X_train, y_train, epochs = 25, validation_data = (X_val,Y_val))"
      ],
      "execution_count": 0,
      "outputs": [
        {
          "output_type": "stream",
          "text": [
            "Train on 3800 samples, validate on 570 samples\n",
            "Epoch 1/25\n",
            "3800/3800 [==============================] - 900s 237ms/step - loss: 2.6041 - acc: 0.1234 - val_loss: 2.4605 - val_acc: 0.1298\n",
            "Epoch 2/25\n",
            "3800/3800 [==============================] - 894s 235ms/step - loss: 2.4497 - acc: 0.1321 - val_loss: 2.4430 - val_acc: 0.1298\n",
            "Epoch 3/25\n",
            "3800/3800 [==============================] - 901s 237ms/step - loss: 2.4333 - acc: 0.1511 - val_loss: 2.4914 - val_acc: 0.1789\n",
            "Epoch 4/25\n",
            "3800/3800 [==============================] - 897s 236ms/step - loss: 2.4167 - acc: 0.1637 - val_loss: 2.5086 - val_acc: 0.2070\n",
            "Epoch 5/25\n",
            "3800/3800 [==============================] - 905s 238ms/step - loss: 2.3381 - acc: 0.2045 - val_loss: 2.2500 - val_acc: 0.2614\n",
            "Epoch 6/25\n",
            "3800/3800 [==============================] - 907s 239ms/step - loss: 2.1381 - acc: 0.2763 - val_loss: 2.0871 - val_acc: 0.2772\n",
            "Epoch 7/25\n",
            "3800/3800 [==============================] - 887s 234ms/step - loss: 1.9845 - acc: 0.3234 - val_loss: 2.0331 - val_acc: 0.3088\n",
            "Epoch 8/25\n",
            "3800/3800 [==============================] - 914s 241ms/step - loss: 1.8838 - acc: 0.3553 - val_loss: 1.9542 - val_acc: 0.3474\n",
            "Epoch 9/25\n",
            "3800/3800 [==============================] - 896s 236ms/step - loss: 1.8357 - acc: 0.3655 - val_loss: 2.0924 - val_acc: 0.3333\n",
            "Epoch 10/25\n",
            "3800/3800 [==============================] - 898s 236ms/step - loss: 1.7648 - acc: 0.3797 - val_loss: 1.9284 - val_acc: 0.3368\n",
            "Epoch 11/25\n",
            "3800/3800 [==============================] - 886s 233ms/step - loss: 1.7494 - acc: 0.3805 - val_loss: 1.9685 - val_acc: 0.3544\n",
            "Epoch 12/25\n",
            "3800/3800 [==============================] - 886s 233ms/step - loss: 1.6959 - acc: 0.4003 - val_loss: 1.8565 - val_acc: 0.3807\n",
            "Epoch 13/25\n",
            "3800/3800 [==============================] - 921s 242ms/step - loss: 1.5991 - acc: 0.4408 - val_loss: 1.7586 - val_acc: 0.4298\n",
            "Epoch 14/25\n",
            "3800/3800 [==============================] - 935s 246ms/step - loss: 1.4779 - acc: 0.4763 - val_loss: 1.6068 - val_acc: 0.4474\n",
            "Epoch 15/25\n",
            "3800/3800 [==============================] - 936s 246ms/step - loss: 1.2755 - acc: 0.5266 - val_loss: 1.4780 - val_acc: 0.4807\n",
            "Epoch 16/25\n",
            "3800/3800 [==============================] - 887s 233ms/step - loss: 1.1065 - acc: 0.5758 - val_loss: 1.4242 - val_acc: 0.5193\n",
            "Epoch 17/25\n",
            "3800/3800 [==============================] - 874s 230ms/step - loss: 0.9186 - acc: 0.6682 - val_loss: 1.4066 - val_acc: 0.5561\n",
            "Epoch 18/25\n",
            "3800/3800 [==============================] - 916s 241ms/step - loss: 0.7419 - acc: 0.7332 - val_loss: 1.2091 - val_acc: 0.6281\n",
            "Epoch 19/25\n",
            "3800/3800 [==============================] - 920s 242ms/step - loss: 0.6018 - acc: 0.7947 - val_loss: 1.2939 - val_acc: 0.6491\n",
            "Epoch 20/25\n",
            "3800/3800 [==============================] - 910s 239ms/step - loss: 0.4950 - acc: 0.8345 - val_loss: 1.4283 - val_acc: 0.6544\n",
            "Epoch 21/25\n",
            "3800/3800 [==============================] - 914s 241ms/step - loss: 0.4461 - acc: 0.8516 - val_loss: 1.3868 - val_acc: 0.6298\n",
            "Epoch 22/25\n",
            "3800/3800 [==============================] - 898s 236ms/step - loss: 0.3699 - acc: 0.8734 - val_loss: 1.5230 - val_acc: 0.6754\n",
            "Epoch 23/25\n",
            "3800/3800 [==============================] - 880s 231ms/step - loss: 0.3124 - acc: 0.8892 - val_loss: 1.5927 - val_acc: 0.6140\n",
            "Epoch 24/25\n",
            "3800/3800 [==============================] - 918s 242ms/step - loss: 0.2911 - acc: 0.9013 - val_loss: 1.5815 - val_acc: 0.6561\n",
            "Epoch 25/25\n",
            "3800/3800 [==============================] - 918s 241ms/step - loss: 0.2239 - acc: 0.9187 - val_loss: 1.8811 - val_acc: 0.6316\n"
          ],
          "name": "stdout"
        },
        {
          "output_type": "execute_result",
          "data": {
            "text/plain": [
              "<keras.callbacks.History at 0x7f3a08e9d240>"
            ]
          },
          "metadata": {
            "tags": []
          },
          "execution_count": 38
        }
      ]
    },
    {
      "cell_type": "code",
      "metadata": {
        "id": "zVS6xZANenOl",
        "colab_type": "code",
        "colab": {}
      },
      "source": [
        ""
      ],
      "execution_count": 0,
      "outputs": []
    },
    {
      "cell_type": "code",
      "metadata": {
        "id": "uZ-BVWJGenUu",
        "colab_type": "code",
        "colab": {}
      },
      "source": [
        ""
      ],
      "execution_count": 0,
      "outputs": []
    },
    {
      "cell_type": "code",
      "metadata": {
        "id": "6F6eGFGrenFk",
        "colab_type": "code",
        "colab": {}
      },
      "source": [
        ""
      ],
      "execution_count": 0,
      "outputs": []
    }
  ]
}