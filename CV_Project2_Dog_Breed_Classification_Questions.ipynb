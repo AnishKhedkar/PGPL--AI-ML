{
 "cells": [
  {
   "cell_type": "markdown",
   "metadata": {
    "colab_type": "text",
    "id": "2kIWaR5ZpKlJ"
   },
   "source": [
    "## Dog Breed Classification\n",
    "\n",
    "In this project we will use traditional CNN, CNN with data augmentation and finally transfer Learning by VGG16 model with weights pre-trained on Imagenet to solve the dog breed classification problem"
   ]
  },
  {
   "cell_type": "code",
   "execution_count": 0,
   "metadata": {
    "colab": {
     "base_uri": "https://localhost:8080/",
     "height": 81
    },
    "colab_type": "code",
    "id": "9urwwmbgEZiv",
    "outputId": "73a9f1a6-df01-45d4-a330-2a98d3206a0c"
   },
   "outputs": [
    {
     "name": "stderr",
     "output_type": "stream",
     "text": [
      "Using TensorFlow backend.\n"
     ]
    },
    {
     "data": {
      "text/html": [
       "<p style=\"color: red;\">\n",
       "The default version of TensorFlow in Colab will soon switch to TensorFlow 2.x.<br>\n",
       "We recommend you <a href=\"https://www.tensorflow.org/guide/migrate\" target=\"_blank\">upgrade</a> now \n",
       "or ensure your notebook will continue to use TensorFlow 1.x via the <code>%tensorflow_version 1.x</code> magic:\n",
       "<a href=\"https://colab.research.google.com/notebooks/tensorflow_version.ipynb\" target=\"_blank\">more info</a>.</p>\n"
      ],
      "text/plain": [
       "<IPython.core.display.HTML object>"
      ]
     },
     "metadata": {
      "tags": []
     },
     "output_type": "display_data"
    }
   ],
   "source": [
    "from keras.models import Sequential, Model\n",
    "from keras.layers import Dense, Activation, Flatten, Dropout, BatchNormalization, Input\n",
    "from keras.constraints import maxnorm\n",
    "from keras.optimizers import SGD\n",
    "from keras.layers.convolutional import Conv2D\n",
    "from keras.layers.convolutional import MaxPooling2D\n",
    "from keras.utils import np_utils\n",
    "import numpy as np\n",
    "import pandas as pd \n",
    "from keras.callbacks import EarlyStopping\n",
    "import tensorflow as tf\n",
    "\n",
    "import warnings\n",
    "warnings.filterwarnings('ignore')"
   ]
  },
  {
   "cell_type": "markdown",
   "metadata": {
    "colab_type": "text",
    "id": "F7MDmaAw2xGO"
   },
   "source": [
    "### Load Dataset Files"
   ]
  },
  {
   "cell_type": "code",
   "execution_count": 0,
   "metadata": {
    "colab": {
     "base_uri": "https://localhost:8080/",
     "height": 124
    },
    "colab_type": "code",
    "id": "_csn5X9XeMmh",
    "outputId": "00063caf-2cec-4820-92d7-e7a261cbef30"
   },
   "outputs": [
    {
     "name": "stdout",
     "output_type": "stream",
     "text": [
      "Go to this URL in a browser: https://accounts.google.com/o/oauth2/auth?client_id=947318989803-6bn6qk8qdgf4n4g3pfee6491hc0brc4i.apps.googleusercontent.com&redirect_uri=urn%3aietf%3awg%3aoauth%3a2.0%3aoob&response_type=code&scope=email%20https%3a%2f%2fwww.googleapis.com%2fauth%2fdocs.test%20https%3a%2f%2fwww.googleapis.com%2fauth%2fdrive%20https%3a%2f%2fwww.googleapis.com%2fauth%2fdrive.photos.readonly%20https%3a%2f%2fwww.googleapis.com%2fauth%2fpeopleapi.readonly\n",
      "\n",
      "Enter your authorization code:\n",
      "··········\n",
      "Mounted at /content/drive\n"
     ]
    }
   ],
   "source": [
    "from google.colab import drive\n",
    "drive.mount('/content/drive')"
   ]
  },
  {
   "cell_type": "markdown",
   "metadata": {
    "colab_type": "text",
    "id": "1q2zzIaUprk_"
   },
   "source": [
    "Now, upload the given dataset file shared with you in your google drive and give its path for the below given `project_path` variable. For example, a path is given below according to the file path in our google drive. You need to change this to match the path of yours."
   ]
  },
  {
   "cell_type": "markdown",
   "metadata": {
    "colab_type": "text",
    "id": "rydR_j8lqUei"
   },
   "source": [
    "Run the below code to extract all the images in the train.zip files given in the dataset. We are going to use these images as train and validation sets and their labels in further steps."
   ]
  },
  {
   "cell_type": "code",
   "execution_count": 0,
   "metadata": {
    "colab": {},
    "colab_type": "code",
    "id": "3350WZM4w4EL"
   },
   "outputs": [],
   "source": [
    "from zipfile import ZipFile\n",
    "with ZipFile('/content/drive/My Drive/CNN Assignment 2 /DogBreed_Classification/train.zip', 'r') as z:\n",
    "  z.extractall()"
   ]
  },
  {
   "cell_type": "markdown",
   "metadata": {
    "colab_type": "text",
    "id": "3NHq1iBCfFjE"
   },
   "source": [
    "Repeat the same step for test.zip"
   ]
  },
  {
   "cell_type": "code",
   "execution_count": 0,
   "metadata": {
    "colab": {},
    "colab_type": "code",
    "id": "_fxzynvB2YCb"
   },
   "outputs": [],
   "source": [
    "from zipfile import ZipFile\n",
    "with ZipFile('/content/drive/My Drive/CNN Assignment 2 /DogBreed_Classification/test.zip', 'r') as z:\n",
    "  z.extractall()"
   ]
  },
  {
   "cell_type": "markdown",
   "metadata": {
    "colab_type": "text",
    "id": "jnUMhQrDfJmz"
   },
   "source": [
    "Repeat the same step for sample_submission.csv.zip"
   ]
  },
  {
   "cell_type": "code",
   "execution_count": 0,
   "metadata": {
    "colab": {},
    "colab_type": "code",
    "id": "4PyTxE8q2jLf"
   },
   "outputs": [],
   "source": [
    "from zipfile import ZipFile\n",
    "with ZipFile('/content/drive/My Drive/CNN Assignment 2 /DogBreed_Classification/sample_submission.csv.zip', 'r') as z:\n",
    "  z.extractall()"
   ]
  },
  {
   "cell_type": "markdown",
   "metadata": {
    "colab_type": "text",
    "id": "2G9RIxB-fOLT"
   },
   "source": [
    "Repeat the same step for labels.csv.zip"
   ]
  },
  {
   "cell_type": "code",
   "execution_count": 0,
   "metadata": {
    "colab": {},
    "colab_type": "code",
    "id": "rXtnEoEixbgi"
   },
   "outputs": [],
   "source": [
    "from zipfile import ZipFile\n",
    "with ZipFile('/content/drive/My Drive/CNN Assignment 2 /DogBreed_Classification/labels.csv.zip', 'r') as z:\n",
    "  z.extractall()"
   ]
  },
  {
   "cell_type": "markdown",
   "metadata": {
    "colab_type": "text",
    "id": "sJc1lVrW_jmL"
   },
   "source": [
    "After this process, we will have 4 files - Train folder, test folder and labels.csv and sample_submission.csv as part of your google drive"
   ]
  },
  {
   "cell_type": "markdown",
   "metadata": {
    "colab_type": "text",
    "id": "aYmJKmDqqpng"
   },
   "source": [
    "### Read labels.csv file using pandas"
   ]
  },
  {
   "cell_type": "code",
   "execution_count": 0,
   "metadata": {
    "colab": {},
    "colab_type": "code",
    "id": "WmlJ2VMY96IZ"
   },
   "outputs": [],
   "source": [
    "label = pd.read_csv(\"/content/labels.csv\")"
   ]
  },
  {
   "cell_type": "code",
   "execution_count": 0,
   "metadata": {
    "colab": {
     "base_uri": "https://localhost:8080/",
     "height": 202
    },
    "colab_type": "code",
    "id": "hPvb1RSc96If",
    "outputId": "4d62b47b-eb05-4ffb-834b-19321a7a08ee"
   },
   "outputs": [
    {
     "data": {
      "text/html": [
       "<div>\n",
       "<style scoped>\n",
       "    .dataframe tbody tr th:only-of-type {\n",
       "        vertical-align: middle;\n",
       "    }\n",
       "\n",
       "    .dataframe tbody tr th {\n",
       "        vertical-align: top;\n",
       "    }\n",
       "\n",
       "    .dataframe thead th {\n",
       "        text-align: right;\n",
       "    }\n",
       "</style>\n",
       "<table border=\"1\" class=\"dataframe\">\n",
       "  <thead>\n",
       "    <tr style=\"text-align: right;\">\n",
       "      <th></th>\n",
       "      <th>id</th>\n",
       "      <th>breed</th>\n",
       "    </tr>\n",
       "  </thead>\n",
       "  <tbody>\n",
       "    <tr>\n",
       "      <th>0</th>\n",
       "      <td>000bec180eb18c7604dcecc8fe0dba07</td>\n",
       "      <td>boston_bull</td>\n",
       "    </tr>\n",
       "    <tr>\n",
       "      <th>1</th>\n",
       "      <td>001513dfcb2ffafc82cccf4d8bbaba97</td>\n",
       "      <td>dingo</td>\n",
       "    </tr>\n",
       "    <tr>\n",
       "      <th>2</th>\n",
       "      <td>001cdf01b096e06d78e9e5112d419397</td>\n",
       "      <td>pekinese</td>\n",
       "    </tr>\n",
       "    <tr>\n",
       "      <th>3</th>\n",
       "      <td>00214f311d5d2247d5dfe4fe24b2303d</td>\n",
       "      <td>bluetick</td>\n",
       "    </tr>\n",
       "    <tr>\n",
       "      <th>4</th>\n",
       "      <td>0021f9ceb3235effd7fcde7f7538ed62</td>\n",
       "      <td>golden_retriever</td>\n",
       "    </tr>\n",
       "  </tbody>\n",
       "</table>\n",
       "</div>"
      ],
      "text/plain": [
       "                                 id             breed\n",
       "0  000bec180eb18c7604dcecc8fe0dba07       boston_bull\n",
       "1  001513dfcb2ffafc82cccf4d8bbaba97             dingo\n",
       "2  001cdf01b096e06d78e9e5112d419397          pekinese\n",
       "3  00214f311d5d2247d5dfe4fe24b2303d          bluetick\n",
       "4  0021f9ceb3235effd7fcde7f7538ed62  golden_retriever"
      ]
     },
     "execution_count": 8,
     "metadata": {
      "tags": []
     },
     "output_type": "execute_result"
    }
   ],
   "source": [
    "label.head()"
   ]
  },
  {
   "cell_type": "code",
   "execution_count": 0,
   "metadata": {
    "colab": {
     "base_uri": "https://localhost:8080/",
     "height": 34
    },
    "colab_type": "code",
    "id": "sYk5MnpJwNeC",
    "outputId": "a9095d2a-be2a-4337-c0a9-e95ae868494a"
   },
   "outputs": [
    {
     "data": {
      "text/plain": [
       "(10222, 2)"
      ]
     },
     "execution_count": 9,
     "metadata": {
      "tags": []
     },
     "output_type": "execute_result"
    }
   ],
   "source": [
    "label.shape"
   ]
  },
  {
   "cell_type": "markdown",
   "metadata": {
    "colab_type": "text",
    "id": "QP8YAzQvqyK-"
   },
   "source": [
    "### Print the count of each category of Dogs given in the dataset\n",
    "\n"
   ]
  },
  {
   "cell_type": "code",
   "execution_count": 0,
   "metadata": {
    "colab": {
     "base_uri": "https://localhost:8080/",
     "height": 225
    },
    "colab_type": "code",
    "id": "3L2naXlr96Im",
    "outputId": "8b298656-e190-49b3-94b9-e115cedad934"
   },
   "outputs": [
    {
     "data": {
      "text/plain": [
       "scottish_deerhound      126\n",
       "maltese_dog             117\n",
       "afghan_hound            116\n",
       "entlebucher             115\n",
       "bernese_mountain_dog    114\n",
       "                       ... \n",
       "brabancon_griffon        67\n",
       "golden_retriever         67\n",
       "komondor                 67\n",
       "briard                   66\n",
       "eskimo_dog               66\n",
       "Name: breed, Length: 120, dtype: int64"
      ]
     },
     "execution_count": 10,
     "metadata": {
      "tags": []
     },
     "output_type": "execute_result"
    }
   ],
   "source": [
    "label['breed'].value_counts()"
   ]
  },
  {
   "cell_type": "markdown",
   "metadata": {
    "colab_type": "text",
    "id": "WI94_Qcc0D4M"
   },
   "source": [
    "### Get one-hot encodings of labels"
   ]
  },
  {
   "cell_type": "code",
   "execution_count": 0,
   "metadata": {
    "colab": {},
    "colab_type": "code",
    "id": "yBsBo7DAIVDV"
   },
   "outputs": [],
   "source": [
    "label1  = pd.get_dummies( data = label.breed,drop_first=True)"
   ]
  },
  {
   "cell_type": "code",
   "execution_count": 0,
   "metadata": {
    "colab": {
     "base_uri": "https://localhost:8080/",
     "height": 269
    },
    "colab_type": "code",
    "id": "WevzIJHl2DT8",
    "outputId": "0aff8dc8-3dbe-4f0b-b3f1-75c0664374bb"
   },
   "outputs": [
    {
     "data": {
      "text/html": [
       "<div>\n",
       "<style scoped>\n",
       "    .dataframe tbody tr th:only-of-type {\n",
       "        vertical-align: middle;\n",
       "    }\n",
       "\n",
       "    .dataframe tbody tr th {\n",
       "        vertical-align: top;\n",
       "    }\n",
       "\n",
       "    .dataframe thead th {\n",
       "        text-align: right;\n",
       "    }\n",
       "</style>\n",
       "<table border=\"1\" class=\"dataframe\">\n",
       "  <thead>\n",
       "    <tr style=\"text-align: right;\">\n",
       "      <th></th>\n",
       "      <th>afghan_hound</th>\n",
       "      <th>african_hunting_dog</th>\n",
       "      <th>airedale</th>\n",
       "      <th>american_staffordshire_terrier</th>\n",
       "      <th>appenzeller</th>\n",
       "      <th>australian_terrier</th>\n",
       "      <th>basenji</th>\n",
       "      <th>basset</th>\n",
       "      <th>beagle</th>\n",
       "      <th>bedlington_terrier</th>\n",
       "      <th>bernese_mountain_dog</th>\n",
       "      <th>black-and-tan_coonhound</th>\n",
       "      <th>blenheim_spaniel</th>\n",
       "      <th>bloodhound</th>\n",
       "      <th>bluetick</th>\n",
       "      <th>border_collie</th>\n",
       "      <th>border_terrier</th>\n",
       "      <th>borzoi</th>\n",
       "      <th>boston_bull</th>\n",
       "      <th>bouvier_des_flandres</th>\n",
       "      <th>boxer</th>\n",
       "      <th>brabancon_griffon</th>\n",
       "      <th>briard</th>\n",
       "      <th>brittany_spaniel</th>\n",
       "      <th>bull_mastiff</th>\n",
       "      <th>cairn</th>\n",
       "      <th>cardigan</th>\n",
       "      <th>chesapeake_bay_retriever</th>\n",
       "      <th>chihuahua</th>\n",
       "      <th>chow</th>\n",
       "      <th>clumber</th>\n",
       "      <th>cocker_spaniel</th>\n",
       "      <th>collie</th>\n",
       "      <th>curly-coated_retriever</th>\n",
       "      <th>dandie_dinmont</th>\n",
       "      <th>dhole</th>\n",
       "      <th>dingo</th>\n",
       "      <th>doberman</th>\n",
       "      <th>english_foxhound</th>\n",
       "      <th>english_setter</th>\n",
       "      <th>...</th>\n",
       "      <th>norwegian_elkhound</th>\n",
       "      <th>norwich_terrier</th>\n",
       "      <th>old_english_sheepdog</th>\n",
       "      <th>otterhound</th>\n",
       "      <th>papillon</th>\n",
       "      <th>pekinese</th>\n",
       "      <th>pembroke</th>\n",
       "      <th>pomeranian</th>\n",
       "      <th>pug</th>\n",
       "      <th>redbone</th>\n",
       "      <th>rhodesian_ridgeback</th>\n",
       "      <th>rottweiler</th>\n",
       "      <th>saint_bernard</th>\n",
       "      <th>saluki</th>\n",
       "      <th>samoyed</th>\n",
       "      <th>schipperke</th>\n",
       "      <th>scotch_terrier</th>\n",
       "      <th>scottish_deerhound</th>\n",
       "      <th>sealyham_terrier</th>\n",
       "      <th>shetland_sheepdog</th>\n",
       "      <th>shih-tzu</th>\n",
       "      <th>siberian_husky</th>\n",
       "      <th>silky_terrier</th>\n",
       "      <th>soft-coated_wheaten_terrier</th>\n",
       "      <th>staffordshire_bullterrier</th>\n",
       "      <th>standard_poodle</th>\n",
       "      <th>standard_schnauzer</th>\n",
       "      <th>sussex_spaniel</th>\n",
       "      <th>tibetan_mastiff</th>\n",
       "      <th>tibetan_terrier</th>\n",
       "      <th>toy_poodle</th>\n",
       "      <th>toy_terrier</th>\n",
       "      <th>vizsla</th>\n",
       "      <th>walker_hound</th>\n",
       "      <th>weimaraner</th>\n",
       "      <th>welsh_springer_spaniel</th>\n",
       "      <th>west_highland_white_terrier</th>\n",
       "      <th>whippet</th>\n",
       "      <th>wire-haired_fox_terrier</th>\n",
       "      <th>yorkshire_terrier</th>\n",
       "    </tr>\n",
       "  </thead>\n",
       "  <tbody>\n",
       "    <tr>\n",
       "      <th>0</th>\n",
       "      <td>0</td>\n",
       "      <td>0</td>\n",
       "      <td>0</td>\n",
       "      <td>0</td>\n",
       "      <td>0</td>\n",
       "      <td>0</td>\n",
       "      <td>0</td>\n",
       "      <td>0</td>\n",
       "      <td>0</td>\n",
       "      <td>0</td>\n",
       "      <td>0</td>\n",
       "      <td>0</td>\n",
       "      <td>0</td>\n",
       "      <td>0</td>\n",
       "      <td>0</td>\n",
       "      <td>0</td>\n",
       "      <td>0</td>\n",
       "      <td>0</td>\n",
       "      <td>1</td>\n",
       "      <td>0</td>\n",
       "      <td>0</td>\n",
       "      <td>0</td>\n",
       "      <td>0</td>\n",
       "      <td>0</td>\n",
       "      <td>0</td>\n",
       "      <td>0</td>\n",
       "      <td>0</td>\n",
       "      <td>0</td>\n",
       "      <td>0</td>\n",
       "      <td>0</td>\n",
       "      <td>0</td>\n",
       "      <td>0</td>\n",
       "      <td>0</td>\n",
       "      <td>0</td>\n",
       "      <td>0</td>\n",
       "      <td>0</td>\n",
       "      <td>0</td>\n",
       "      <td>0</td>\n",
       "      <td>0</td>\n",
       "      <td>0</td>\n",
       "      <td>...</td>\n",
       "      <td>0</td>\n",
       "      <td>0</td>\n",
       "      <td>0</td>\n",
       "      <td>0</td>\n",
       "      <td>0</td>\n",
       "      <td>0</td>\n",
       "      <td>0</td>\n",
       "      <td>0</td>\n",
       "      <td>0</td>\n",
       "      <td>0</td>\n",
       "      <td>0</td>\n",
       "      <td>0</td>\n",
       "      <td>0</td>\n",
       "      <td>0</td>\n",
       "      <td>0</td>\n",
       "      <td>0</td>\n",
       "      <td>0</td>\n",
       "      <td>0</td>\n",
       "      <td>0</td>\n",
       "      <td>0</td>\n",
       "      <td>0</td>\n",
       "      <td>0</td>\n",
       "      <td>0</td>\n",
       "      <td>0</td>\n",
       "      <td>0</td>\n",
       "      <td>0</td>\n",
       "      <td>0</td>\n",
       "      <td>0</td>\n",
       "      <td>0</td>\n",
       "      <td>0</td>\n",
       "      <td>0</td>\n",
       "      <td>0</td>\n",
       "      <td>0</td>\n",
       "      <td>0</td>\n",
       "      <td>0</td>\n",
       "      <td>0</td>\n",
       "      <td>0</td>\n",
       "      <td>0</td>\n",
       "      <td>0</td>\n",
       "      <td>0</td>\n",
       "    </tr>\n",
       "    <tr>\n",
       "      <th>1</th>\n",
       "      <td>0</td>\n",
       "      <td>0</td>\n",
       "      <td>0</td>\n",
       "      <td>0</td>\n",
       "      <td>0</td>\n",
       "      <td>0</td>\n",
       "      <td>0</td>\n",
       "      <td>0</td>\n",
       "      <td>0</td>\n",
       "      <td>0</td>\n",
       "      <td>0</td>\n",
       "      <td>0</td>\n",
       "      <td>0</td>\n",
       "      <td>0</td>\n",
       "      <td>0</td>\n",
       "      <td>0</td>\n",
       "      <td>0</td>\n",
       "      <td>0</td>\n",
       "      <td>0</td>\n",
       "      <td>0</td>\n",
       "      <td>0</td>\n",
       "      <td>0</td>\n",
       "      <td>0</td>\n",
       "      <td>0</td>\n",
       "      <td>0</td>\n",
       "      <td>0</td>\n",
       "      <td>0</td>\n",
       "      <td>0</td>\n",
       "      <td>0</td>\n",
       "      <td>0</td>\n",
       "      <td>0</td>\n",
       "      <td>0</td>\n",
       "      <td>0</td>\n",
       "      <td>0</td>\n",
       "      <td>0</td>\n",
       "      <td>0</td>\n",
       "      <td>1</td>\n",
       "      <td>0</td>\n",
       "      <td>0</td>\n",
       "      <td>0</td>\n",
       "      <td>...</td>\n",
       "      <td>0</td>\n",
       "      <td>0</td>\n",
       "      <td>0</td>\n",
       "      <td>0</td>\n",
       "      <td>0</td>\n",
       "      <td>0</td>\n",
       "      <td>0</td>\n",
       "      <td>0</td>\n",
       "      <td>0</td>\n",
       "      <td>0</td>\n",
       "      <td>0</td>\n",
       "      <td>0</td>\n",
       "      <td>0</td>\n",
       "      <td>0</td>\n",
       "      <td>0</td>\n",
       "      <td>0</td>\n",
       "      <td>0</td>\n",
       "      <td>0</td>\n",
       "      <td>0</td>\n",
       "      <td>0</td>\n",
       "      <td>0</td>\n",
       "      <td>0</td>\n",
       "      <td>0</td>\n",
       "      <td>0</td>\n",
       "      <td>0</td>\n",
       "      <td>0</td>\n",
       "      <td>0</td>\n",
       "      <td>0</td>\n",
       "      <td>0</td>\n",
       "      <td>0</td>\n",
       "      <td>0</td>\n",
       "      <td>0</td>\n",
       "      <td>0</td>\n",
       "      <td>0</td>\n",
       "      <td>0</td>\n",
       "      <td>0</td>\n",
       "      <td>0</td>\n",
       "      <td>0</td>\n",
       "      <td>0</td>\n",
       "      <td>0</td>\n",
       "    </tr>\n",
       "    <tr>\n",
       "      <th>2</th>\n",
       "      <td>0</td>\n",
       "      <td>0</td>\n",
       "      <td>0</td>\n",
       "      <td>0</td>\n",
       "      <td>0</td>\n",
       "      <td>0</td>\n",
       "      <td>0</td>\n",
       "      <td>0</td>\n",
       "      <td>0</td>\n",
       "      <td>0</td>\n",
       "      <td>0</td>\n",
       "      <td>0</td>\n",
       "      <td>0</td>\n",
       "      <td>0</td>\n",
       "      <td>0</td>\n",
       "      <td>0</td>\n",
       "      <td>0</td>\n",
       "      <td>0</td>\n",
       "      <td>0</td>\n",
       "      <td>0</td>\n",
       "      <td>0</td>\n",
       "      <td>0</td>\n",
       "      <td>0</td>\n",
       "      <td>0</td>\n",
       "      <td>0</td>\n",
       "      <td>0</td>\n",
       "      <td>0</td>\n",
       "      <td>0</td>\n",
       "      <td>0</td>\n",
       "      <td>0</td>\n",
       "      <td>0</td>\n",
       "      <td>0</td>\n",
       "      <td>0</td>\n",
       "      <td>0</td>\n",
       "      <td>0</td>\n",
       "      <td>0</td>\n",
       "      <td>0</td>\n",
       "      <td>0</td>\n",
       "      <td>0</td>\n",
       "      <td>0</td>\n",
       "      <td>...</td>\n",
       "      <td>0</td>\n",
       "      <td>0</td>\n",
       "      <td>0</td>\n",
       "      <td>0</td>\n",
       "      <td>0</td>\n",
       "      <td>1</td>\n",
       "      <td>0</td>\n",
       "      <td>0</td>\n",
       "      <td>0</td>\n",
       "      <td>0</td>\n",
       "      <td>0</td>\n",
       "      <td>0</td>\n",
       "      <td>0</td>\n",
       "      <td>0</td>\n",
       "      <td>0</td>\n",
       "      <td>0</td>\n",
       "      <td>0</td>\n",
       "      <td>0</td>\n",
       "      <td>0</td>\n",
       "      <td>0</td>\n",
       "      <td>0</td>\n",
       "      <td>0</td>\n",
       "      <td>0</td>\n",
       "      <td>0</td>\n",
       "      <td>0</td>\n",
       "      <td>0</td>\n",
       "      <td>0</td>\n",
       "      <td>0</td>\n",
       "      <td>0</td>\n",
       "      <td>0</td>\n",
       "      <td>0</td>\n",
       "      <td>0</td>\n",
       "      <td>0</td>\n",
       "      <td>0</td>\n",
       "      <td>0</td>\n",
       "      <td>0</td>\n",
       "      <td>0</td>\n",
       "      <td>0</td>\n",
       "      <td>0</td>\n",
       "      <td>0</td>\n",
       "    </tr>\n",
       "    <tr>\n",
       "      <th>3</th>\n",
       "      <td>0</td>\n",
       "      <td>0</td>\n",
       "      <td>0</td>\n",
       "      <td>0</td>\n",
       "      <td>0</td>\n",
       "      <td>0</td>\n",
       "      <td>0</td>\n",
       "      <td>0</td>\n",
       "      <td>0</td>\n",
       "      <td>0</td>\n",
       "      <td>0</td>\n",
       "      <td>0</td>\n",
       "      <td>0</td>\n",
       "      <td>0</td>\n",
       "      <td>1</td>\n",
       "      <td>0</td>\n",
       "      <td>0</td>\n",
       "      <td>0</td>\n",
       "      <td>0</td>\n",
       "      <td>0</td>\n",
       "      <td>0</td>\n",
       "      <td>0</td>\n",
       "      <td>0</td>\n",
       "      <td>0</td>\n",
       "      <td>0</td>\n",
       "      <td>0</td>\n",
       "      <td>0</td>\n",
       "      <td>0</td>\n",
       "      <td>0</td>\n",
       "      <td>0</td>\n",
       "      <td>0</td>\n",
       "      <td>0</td>\n",
       "      <td>0</td>\n",
       "      <td>0</td>\n",
       "      <td>0</td>\n",
       "      <td>0</td>\n",
       "      <td>0</td>\n",
       "      <td>0</td>\n",
       "      <td>0</td>\n",
       "      <td>0</td>\n",
       "      <td>...</td>\n",
       "      <td>0</td>\n",
       "      <td>0</td>\n",
       "      <td>0</td>\n",
       "      <td>0</td>\n",
       "      <td>0</td>\n",
       "      <td>0</td>\n",
       "      <td>0</td>\n",
       "      <td>0</td>\n",
       "      <td>0</td>\n",
       "      <td>0</td>\n",
       "      <td>0</td>\n",
       "      <td>0</td>\n",
       "      <td>0</td>\n",
       "      <td>0</td>\n",
       "      <td>0</td>\n",
       "      <td>0</td>\n",
       "      <td>0</td>\n",
       "      <td>0</td>\n",
       "      <td>0</td>\n",
       "      <td>0</td>\n",
       "      <td>0</td>\n",
       "      <td>0</td>\n",
       "      <td>0</td>\n",
       "      <td>0</td>\n",
       "      <td>0</td>\n",
       "      <td>0</td>\n",
       "      <td>0</td>\n",
       "      <td>0</td>\n",
       "      <td>0</td>\n",
       "      <td>0</td>\n",
       "      <td>0</td>\n",
       "      <td>0</td>\n",
       "      <td>0</td>\n",
       "      <td>0</td>\n",
       "      <td>0</td>\n",
       "      <td>0</td>\n",
       "      <td>0</td>\n",
       "      <td>0</td>\n",
       "      <td>0</td>\n",
       "      <td>0</td>\n",
       "    </tr>\n",
       "    <tr>\n",
       "      <th>4</th>\n",
       "      <td>0</td>\n",
       "      <td>0</td>\n",
       "      <td>0</td>\n",
       "      <td>0</td>\n",
       "      <td>0</td>\n",
       "      <td>0</td>\n",
       "      <td>0</td>\n",
       "      <td>0</td>\n",
       "      <td>0</td>\n",
       "      <td>0</td>\n",
       "      <td>0</td>\n",
       "      <td>0</td>\n",
       "      <td>0</td>\n",
       "      <td>0</td>\n",
       "      <td>0</td>\n",
       "      <td>0</td>\n",
       "      <td>0</td>\n",
       "      <td>0</td>\n",
       "      <td>0</td>\n",
       "      <td>0</td>\n",
       "      <td>0</td>\n",
       "      <td>0</td>\n",
       "      <td>0</td>\n",
       "      <td>0</td>\n",
       "      <td>0</td>\n",
       "      <td>0</td>\n",
       "      <td>0</td>\n",
       "      <td>0</td>\n",
       "      <td>0</td>\n",
       "      <td>0</td>\n",
       "      <td>0</td>\n",
       "      <td>0</td>\n",
       "      <td>0</td>\n",
       "      <td>0</td>\n",
       "      <td>0</td>\n",
       "      <td>0</td>\n",
       "      <td>0</td>\n",
       "      <td>0</td>\n",
       "      <td>0</td>\n",
       "      <td>0</td>\n",
       "      <td>...</td>\n",
       "      <td>0</td>\n",
       "      <td>0</td>\n",
       "      <td>0</td>\n",
       "      <td>0</td>\n",
       "      <td>0</td>\n",
       "      <td>0</td>\n",
       "      <td>0</td>\n",
       "      <td>0</td>\n",
       "      <td>0</td>\n",
       "      <td>0</td>\n",
       "      <td>0</td>\n",
       "      <td>0</td>\n",
       "      <td>0</td>\n",
       "      <td>0</td>\n",
       "      <td>0</td>\n",
       "      <td>0</td>\n",
       "      <td>0</td>\n",
       "      <td>0</td>\n",
       "      <td>0</td>\n",
       "      <td>0</td>\n",
       "      <td>0</td>\n",
       "      <td>0</td>\n",
       "      <td>0</td>\n",
       "      <td>0</td>\n",
       "      <td>0</td>\n",
       "      <td>0</td>\n",
       "      <td>0</td>\n",
       "      <td>0</td>\n",
       "      <td>0</td>\n",
       "      <td>0</td>\n",
       "      <td>0</td>\n",
       "      <td>0</td>\n",
       "      <td>0</td>\n",
       "      <td>0</td>\n",
       "      <td>0</td>\n",
       "      <td>0</td>\n",
       "      <td>0</td>\n",
       "      <td>0</td>\n",
       "      <td>0</td>\n",
       "      <td>0</td>\n",
       "    </tr>\n",
       "  </tbody>\n",
       "</table>\n",
       "<p>5 rows × 119 columns</p>\n",
       "</div>"
      ],
      "text/plain": [
       "   afghan_hound  ...  yorkshire_terrier\n",
       "0             0  ...                  0\n",
       "1             0  ...                  0\n",
       "2             0  ...                  0\n",
       "3             0  ...                  0\n",
       "4             0  ...                  0\n",
       "\n",
       "[5 rows x 119 columns]"
      ]
     },
     "execution_count": 12,
     "metadata": {
      "tags": []
     },
     "output_type": "execute_result"
    }
   ],
   "source": [
    "label1.head()"
   ]
  },
  {
   "cell_type": "code",
   "execution_count": 0,
   "metadata": {
    "colab": {
     "base_uri": "https://localhost:8080/",
     "height": 34
    },
    "colab_type": "code",
    "id": "6sQHkdQT3kty",
    "outputId": "e4126996-22de-4421-c6fa-df087244fab9"
   },
   "outputs": [
    {
     "data": {
      "text/plain": [
       "(10222, 119)"
      ]
     },
     "execution_count": 13,
     "metadata": {
      "tags": []
     },
     "output_type": "execute_result"
    }
   ],
   "source": [
    "label1.shape"
   ]
  },
  {
   "cell_type": "code",
   "execution_count": 0,
   "metadata": {
    "colab": {},
    "colab_type": "code",
    "id": "uGNBEtXPRbGS"
   },
   "outputs": [],
   "source": [
    "# inserting ID as the first columns\n",
    "label1.insert(0, 'id', label.id)"
   ]
  },
  {
   "cell_type": "markdown",
   "metadata": {
    "colab_type": "text",
    "id": "VWaJ9naXfoiU"
   },
   "source": [
    "## Preparing training dataset\n",
    "1. Write a code which reads each and every id from labels.csv file and loads the corresponding image (in RGB - 128, 128, 3) from the train folder. <br>\n",
    "2. Create 2 variables <br> \n",
    "     a.  x_train - Should have all the images of the dogs from train folder <br>\n",
    "     b.  y_train - Corresponding label of the dog <br>\n",
    "<u>Note:</u> The id of the dog images and its corresponding labels are available in labels.csv file   \n",
    "<u>Hint:</u> Watch the video shared on \"Preparing the training dataset\" if you face issue on creating the training dataset"
   ]
  },
  {
   "cell_type": "code",
   "execution_count": 0,
   "metadata": {
    "colab": {
     "base_uri": "https://localhost:8080/",
     "height": 34
    },
    "colab_type": "code",
    "id": "nkkZEpOe0ipk",
    "outputId": "c65d7447-de7c-4891-fb69-16c8266a788b"
   },
   "outputs": [
    {
     "name": "stderr",
     "output_type": "stream",
     "text": [
      "100%|██████████| 10222/10222 [00:23<00:00, 440.33it/s]\n"
     ]
    }
   ],
   "source": [
    "from tqdm import tqdm \n",
    "import cv2 \n",
    "x_train = []\n",
    "y_train = []\n",
    "for f,i in tqdm(label.values):\n",
    "    train = cv2.imread('./train/{}.jpg'.format(f),1)\n",
    "    train_resize = cv2.resize(train, (128,128))\n",
    "    x_train.append(train_resize)\n",
    "    y_train.append(i)"
   ]
  },
  {
   "cell_type": "markdown",
   "metadata": {
    "colab_type": "text",
    "id": "6ioWDEgElBOs"
   },
   "source": [
    "Normalize the training data and convert into 4 dimensions so that it can be used as an input to conv layers in the model"
   ]
  },
  {
   "cell_type": "code",
   "execution_count": 0,
   "metadata": {
    "colab": {},
    "colab_type": "code",
    "id": "ARn76j3U1CDa"
   },
   "outputs": [],
   "source": [
    "# data is already in 4 dimensions and hence not doing any dimension changes\n",
    "x_train = np.array(x_train)\n",
    "y_train = np.array(y_train)"
   ]
  },
  {
   "cell_type": "code",
   "execution_count": 0,
   "metadata": {
    "colab": {},
    "colab_type": "code",
    "id": "boRxuoNQWhsV"
   },
   "outputs": [],
   "source": [
    "x_train=x_train.reshape(x_train.shape[0],128,128,3).astype('float32')\n",
    "x_train/=255 "
   ]
  },
  {
   "cell_type": "code",
   "execution_count": 0,
   "metadata": {
    "colab": {},
    "colab_type": "code",
    "id": "pwdUZYGnbd8X"
   },
   "outputs": [],
   "source": [
    "y_train  = pd.get_dummies( y_train,drop_first=False)"
   ]
  },
  {
   "cell_type": "markdown",
   "metadata": {
    "colab_type": "text",
    "id": "bdCXuAE11gZL"
   },
   "source": [
    "### Split the training and validation data from `x_train_data` and `y_train_data` obtained from above step"
   ]
  },
  {
   "cell_type": "code",
   "execution_count": 0,
   "metadata": {
    "colab": {},
    "colab_type": "code",
    "id": "kpWx-pgV96Jv"
   },
   "outputs": [],
   "source": [
    "from sklearn.model_selection import train_test_split\n",
    "x_train, x_val, y_train, y_val = train_test_split(x_train, y_train, test_size=0.20, random_state=242)"
   ]
  },
  {
   "cell_type": "markdown",
   "metadata": {
    "colab_type": "text",
    "id": "XkL-N1jDsU8m"
   },
   "source": [
    "### Loading the test data\n",
    "Read the id column from the samples_submission.csv and store it in test_img"
   ]
  },
  {
   "cell_type": "code",
   "execution_count": 0,
   "metadata": {
    "colab": {},
    "colab_type": "code",
    "id": "DnpXdpd9b3E7"
   },
   "outputs": [],
   "source": [
    "sample = pd.read_csv('/content/sample_submission.csv')"
   ]
  },
  {
   "cell_type": "code",
   "execution_count": 0,
   "metadata": {
    "colab": {},
    "colab_type": "code",
    "id": "6DNA0YxGheR1"
   },
   "outputs": [],
   "source": [
    "sample2=sample['id']"
   ]
  },
  {
   "cell_type": "markdown",
   "metadata": {
    "colab_type": "text",
    "id": "DEJqZIMbm0Jo"
   },
   "source": [
    "Run the below code to load the test image files in x_test_feature"
   ]
  },
  {
   "cell_type": "code",
   "execution_count": 0,
   "metadata": {
    "colab": {
     "base_uri": "https://localhost:8080/",
     "height": 34
    },
    "colab_type": "code",
    "id": "zf7n4WG-b3Hv",
    "outputId": "8a9a2125-226b-4f0c-8a54-90f1ea6d266c"
   },
   "outputs": [
    {
     "name": "stderr",
     "output_type": "stream",
     "text": [
      "100%|██████████| 10357/10357 [00:22<00:00, 452.59it/s]\n"
     ]
    }
   ],
   "source": [
    "x_test = []\n",
    "i = 0 # initialisation\n",
    "for f in tqdm(sample2.values): # f for format ,jpg\n",
    "    #print(f)\n",
    "    img = cv2.imread('./test/{}.jpg'.format(f),1)\n",
    "    img_resize = cv2.resize(img, (128, 128)) \n",
    "    x_test.append(img_resize)"
   ]
  },
  {
   "cell_type": "markdown",
   "metadata": {
    "colab_type": "text",
    "id": "9My6qSyDnE-_"
   },
   "source": [
    "Normalize the test data and convert it into 4 dimensions"
   ]
  },
  {
   "cell_type": "code",
   "execution_count": 0,
   "metadata": {
    "colab": {},
    "colab_type": "code",
    "id": "93n-IntMnJGI"
   },
   "outputs": [],
   "source": [
    "x_test = np.array(x_test)\n",
    "x_test=x_test.reshape(x_test.shape[0],128,128,3).astype('float32')\n",
    "x_test/=255 "
   ]
  },
  {
   "cell_type": "code",
   "execution_count": 0,
   "metadata": {
    "colab": {},
    "colab_type": "code",
    "id": "8_Og7NBGk_5r"
   },
   "outputs": [],
   "source": [
    "y_test = sample.drop(['id'], axis = 1)"
   ]
  },
  {
   "cell_type": "code",
   "execution_count": 0,
   "metadata": {
    "colab": {
     "base_uri": "https://localhost:8080/",
     "height": 121
    },
    "colab_type": "code",
    "id": "bCMmQrRBlWEZ",
    "outputId": "7a9eb32d-12b7-4db0-87bf-92f50acc5bb3"
   },
   "outputs": [
    {
     "name": "stdout",
     "output_type": "stream",
     "text": [
      "Shape of training features :  (8177, 128, 128, 3)\n",
      "Shape of training target :  (8177, 120)\n",
      "Shape of test features :  (10357, 128, 128, 3)\n",
      "Shape of test targets :  (10357, 120)\n",
      "Shape of Validation features :  (2045, 128, 128, 3)\n",
      "Shape of Validation targets :  (2045, 120)\n"
     ]
    }
   ],
   "source": [
    "print('Shape of training features : ' , x_train.shape)\n",
    "print('Shape of training target : ' , y_train.shape)\n",
    "print('Shape of test features : ' , x_test.shape)\n",
    "print('Shape of test targets : ' , y_test.shape)\n",
    "print('Shape of Validation features : ' , x_val.shape)\n",
    "print('Shape of Validation targets : ' , y_val.shape)"
   ]
  },
  {
   "cell_type": "markdown",
   "metadata": {
    "colab_type": "text",
    "id": "zKezNJVMsocP"
   },
   "source": [
    "### Build a basic conv neural network with 2 conv layers (kernel sizes - 5 and 3) add layers as mentioned below for classification.\n",
    "\n",
    "1. Add a Dense layer with 256 neurons with `relu` activation\n",
    "\n",
    "2. Add a Dense layer with 120 neurons as final layer (as there are 120 classes in the given dataset) with `softmax` activation for classifiaction. "
   ]
  },
  {
   "cell_type": "code",
   "execution_count": 0,
   "metadata": {
    "colab": {
     "base_uri": "https://localhost:8080/",
     "height": 401
    },
    "colab_type": "code",
    "id": "D2jxTY2S96J4",
    "outputId": "ebb059c4-1152-4d37-8975-980ab670789e"
   },
   "outputs": [
    {
     "name": "stdout",
     "output_type": "stream",
     "text": [
      "WARNING:tensorflow:From /usr/local/lib/python3.6/dist-packages/tensorflow_core/python/ops/resource_variable_ops.py:1630: calling BaseResourceVariable.__init__ (from tensorflow.python.ops.resource_variable_ops) with constraint is deprecated and will be removed in a future version.\n",
      "Instructions for updating:\n",
      "If using Keras pass *_constraint arguments to layers.\n",
      "Model: \"sequential\"\n",
      "_________________________________________________________________\n",
      "Layer (type)                 Output Shape              Param #   \n",
      "=================================================================\n",
      "conv2d (Conv2D)              (None, 128, 128, 64)      4864      \n",
      "_________________________________________________________________\n",
      "conv2d_1 (Conv2D)            (None, 128, 128, 32)      18464     \n",
      "_________________________________________________________________\n",
      "flatten (Flatten)            (None, 524288)            0         \n",
      "_________________________________________________________________\n",
      "dense (Dense)                (None, 256)               134217984 \n",
      "_________________________________________________________________\n",
      "dense_1 (Dense)              (None, 120)               30840     \n",
      "=================================================================\n",
      "Total params: 134,272,152\n",
      "Trainable params: 134,272,152\n",
      "Non-trainable params: 0\n",
      "_________________________________________________________________\n"
     ]
    }
   ],
   "source": [
    "model = tf.keras.Sequential()\n",
    "model.add(tf.keras.layers.Conv2D(filters=64, kernel_size=5, padding='same', activation='relu', input_shape=(128,128,3))) \n",
    "model.add(tf.keras.layers.Conv2D(filters=32, kernel_size=3, padding='same', activation='relu'))\n",
    "model.add(tf.keras.layers.Flatten())\n",
    "model.add(tf.keras.layers.Dense(256, activation='relu'))\n",
    "model.add(tf.keras.layers.Dense(120, activation='softmax'))\n",
    "model.summary()"
   ]
  },
  {
   "cell_type": "code",
   "execution_count": 0,
   "metadata": {
    "colab": {},
    "colab_type": "code",
    "id": "f_BAvCzo96J6"
   },
   "outputs": [],
   "source": [
    "model.compile(loss='categorical_crossentropy',\n",
    "             optimizer='sgd',\n",
    "             metrics=['accuracy'])"
   ]
  },
  {
   "cell_type": "markdown",
   "metadata": {
    "colab_type": "text",
    "id": "ui8EXw6_oqpR"
   },
   "source": [
    "### Use batch_size = 128 and epochs = 10 and execute the model"
   ]
  },
  {
   "cell_type": "code",
   "execution_count": 0,
   "metadata": {
    "colab": {
     "base_uri": "https://localhost:8080/",
     "height": 416
    },
    "colab_type": "code",
    "id": "IriIc37NozbK",
    "outputId": "8bc830be-b25c-4fd6-f992-89b8c546624b"
   },
   "outputs": [
    {
     "name": "stdout",
     "output_type": "stream",
     "text": [
      "WARNING:tensorflow:The `nb_epoch` argument in `fit` has been renamed `epochs`.\n",
      "Train on 8177 samples, validate on 2045 samples\n",
      "Epoch 1/10\n",
      "8177/8177 [==============================] - 11s 1ms/sample - loss: 4.7823 - acc: 0.0130 - val_loss: 4.7708 - val_acc: 0.0112\n",
      "Epoch 2/10\n",
      "8177/8177 [==============================] - 7s 892us/sample - loss: 4.7527 - acc: 0.0165 - val_loss: 4.7444 - val_acc: 0.0147\n",
      "Epoch 3/10\n",
      "8177/8177 [==============================] - 7s 894us/sample - loss: 4.7060 - acc: 0.0210 - val_loss: 4.7064 - val_acc: 0.0200\n",
      "Epoch 4/10\n",
      "8177/8177 [==============================] - 7s 895us/sample - loss: 4.6412 - acc: 0.0335 - val_loss: 4.6623 - val_acc: 0.0264\n",
      "Epoch 5/10\n",
      "8177/8177 [==============================] - 7s 895us/sample - loss: 4.5524 - acc: 0.0428 - val_loss: 4.6369 - val_acc: 0.0323\n",
      "Epoch 6/10\n",
      "8177/8177 [==============================] - 7s 893us/sample - loss: 4.4524 - acc: 0.0514 - val_loss: 4.6175 - val_acc: 0.0298\n",
      "Epoch 7/10\n",
      "8177/8177 [==============================] - 7s 894us/sample - loss: 4.3376 - acc: 0.0624 - val_loss: 4.5351 - val_acc: 0.0377\n",
      "Epoch 8/10\n",
      "8177/8177 [==============================] - 7s 896us/sample - loss: 4.2104 - acc: 0.0813 - val_loss: 4.5890 - val_acc: 0.0367\n",
      "Epoch 9/10\n",
      "8177/8177 [==============================] - 7s 895us/sample - loss: 4.1021 - acc: 0.0958 - val_loss: 4.6614 - val_acc: 0.0367\n",
      "Epoch 10/10\n",
      "8177/8177 [==============================] - 7s 895us/sample - loss: 3.9712 - acc: 0.1202 - val_loss: 4.5882 - val_acc: 0.0509\n"
     ]
    },
    {
     "data": {
      "text/plain": [
       "<tensorflow.python.keras.callbacks.History at 0x7ff15d88e0f0>"
      ]
     },
     "execution_count": 28,
     "metadata": {
      "tags": []
     },
     "output_type": "execute_result"
    }
   ],
   "source": [
    "  model.fit(x_train, y_train ,batch_size=128,nb_epoch=10,verbose=1,validation_data=(x_val, y_val))"
   ]
  },
  {
   "cell_type": "markdown",
   "metadata": {
    "colab_type": "text",
    "id": "Z8hWaKmjoz69"
   },
   "source": [
    "#The model accuracy is very poor !!!!"
   ]
  },
  {
   "cell_type": "markdown",
   "metadata": {
    "colab_type": "text",
    "id": "agJKkc6xtKiq"
   },
   "source": [
    "### Use Data Augmentation in the above model to see if the accuracy improves\n"
   ]
  },
  {
   "cell_type": "code",
   "execution_count": 0,
   "metadata": {
    "colab": {},
    "colab_type": "code",
    "id": "31Mn8qnZb3Ru"
   },
   "outputs": [],
   "source": [
    "from keras.preprocessing.image import load_img\n",
    "from keras.preprocessing.image import img_to_array\n",
    "from keras.preprocessing.image import ImageDataGenerator\n"
   ]
  },
  {
   "cell_type": "code",
   "execution_count": 0,
   "metadata": {
    "colab": {},
    "colab_type": "code",
    "id": "gDLQVFDP96KI"
   },
   "outputs": [],
   "source": [
    "datagen = ImageDataGenerator(\n",
    "    featurewise_center=True,\n",
    "    featurewise_std_normalization=True,\n",
    "    rotation_range=40,\n",
    "    #width_shift_range=0.2,\n",
    "    #height_shift_range=0.2,\n",
    "    horizontal_flip=True)"
   ]
  },
  {
   "cell_type": "code",
   "execution_count": 0,
   "metadata": {
    "colab": {},
    "colab_type": "code",
    "id": "yQqZDGCRX4pS"
   },
   "outputs": [],
   "source": [
    "x_train1 = x_train"
   ]
  },
  {
   "cell_type": "code",
   "execution_count": 0,
   "metadata": {
    "colab": {},
    "colab_type": "code",
    "id": "bqTlW0qHb3Xb"
   },
   "outputs": [],
   "source": [
    "datagen.fit(x_train1)"
   ]
  },
  {
   "cell_type": "markdown",
   "metadata": {
    "colab_type": "text",
    "id": "6sssbaTfxlkk"
   },
   "source": [
    "### Using the above objects, create the image generators with variable names `train_generator` and `val_generator`\n",
    "\n",
    "You need to use train_datagen.flow() and val_datagen.flow()"
   ]
  },
  {
   "cell_type": "markdown",
   "metadata": {
    "colab_type": "text",
    "id": "TVFQJZw3x4-C"
   },
   "source": [
    "### Fit the model using fit_generator() using `train_generator` and `val_generator` from the above step with 10 epochs"
   ]
  },
  {
   "cell_type": "code",
   "execution_count": 0,
   "metadata": {
    "colab": {
     "base_uri": "https://localhost:8080/",
     "height": 381
    },
    "colab_type": "code",
    "id": "J1K2MqHbuPUa",
    "outputId": "adb819ee-c924-4654-90ec-1feb30e07798"
   },
   "outputs": [
    {
     "name": "stdout",
     "output_type": "stream",
     "text": [
      "Epoch 1/10\n",
      "256/256 [==============================] - 27s 107ms/step - loss: 4.7775 - acc: 0.0186\n",
      "Epoch 2/10\n",
      "256/256 [==============================] - 28s 108ms/step - loss: 4.5490 - acc: 0.0363\n",
      "Epoch 3/10\n",
      "256/256 [==============================] - 27s 107ms/step - loss: 4.3794 - acc: 0.0517\n",
      "Epoch 4/10\n",
      "256/256 [==============================] - 28s 108ms/step - loss: 4.2632 - acc: 0.0671\n",
      "Epoch 5/10\n",
      "256/256 [==============================] - 28s 110ms/step - loss: 4.1646 - acc: 0.0832\n",
      "Epoch 6/10\n",
      "256/256 [==============================] - 29s 112ms/step - loss: 4.0707 - acc: 0.0999\n",
      "Epoch 7/10\n",
      "256/256 [==============================] - 28s 109ms/step - loss: 3.9687 - acc: 0.1102\n",
      "Epoch 8/10\n",
      "256/256 [==============================] - 28s 108ms/step - loss: 3.8753 - acc: 0.1251\n",
      "Epoch 9/10\n",
      "256/256 [==============================] - 28s 108ms/step - loss: 3.7740 - acc: 0.1437\n",
      "Epoch 10/10\n",
      "256/256 [==============================] - 28s 109ms/step - loss: 3.6758 - acc: 0.1598\n"
     ]
    },
    {
     "data": {
      "text/plain": [
       "<tensorflow.python.keras.callbacks.History at 0x7ff150276550>"
      ]
     },
     "execution_count": 33,
     "metadata": {
      "tags": []
     },
     "output_type": "execute_result"
    }
   ],
   "source": [
    "model.fit_generator(datagen.flow(x_train1, y_train, batch_size=32),\n",
    "                     epochs=10) #steps_per_epoch=len(x_train) / 32"
   ]
  },
  {
   "cell_type": "code",
   "execution_count": 0,
   "metadata": {
    "colab": {
     "base_uri": "https://localhost:8080/",
     "height": 34
    },
    "colab_type": "code",
    "id": "RhXTmZDJ7x7R",
    "outputId": "63f516b0-19fd-46c5-e5c3-3810c44f030b"
   },
   "outputs": [
    {
     "data": {
      "text/plain": [
       "(8177, 128, 128, 3)"
      ]
     },
     "execution_count": 34,
     "metadata": {
      "tags": []
     },
     "output_type": "execute_result"
    }
   ],
   "source": [
    "x_train.shape"
   ]
  },
  {
   "cell_type": "markdown",
   "metadata": {
    "colab_type": "text",
    "id": "Q2zmLztqo5DY"
   },
   "source": [
    "# Model accuracy is still poor!!!"
   ]
  },
  {
   "cell_type": "markdown",
   "metadata": {
    "colab_type": "text",
    "id": "rSTATrhsAo7L"
   },
   "source": [
    "### Lets use Transfer Learning\n",
    "\n",
    "Download the vgg wieght file from here : https://github.com/MinerKasch/applied_deep_learning/blob/master/vgg16_weights_tf_dim_ordering_tf_kernels_notop.h5"
   ]
  },
  {
   "cell_type": "markdown",
   "metadata": {
    "colab_type": "text",
    "id": "zy5JdbW6pIvD"
   },
   "source": [
    "Use the below code to load VGG16 weights trained on ImageNet"
   ]
  },
  {
   "cell_type": "code",
   "execution_count": 0,
   "metadata": {
    "colab": {
     "base_uri": "https://localhost:8080/",
     "height": 384
    },
    "colab_type": "code",
    "id": "yrqs0zg7ApNw",
    "outputId": "39bad558-a7b2-4774-8e42-bef27f058fa4"
   },
   "outputs": [
    {
     "name": "stdout",
     "output_type": "stream",
     "text": [
      "WARNING:tensorflow:From /usr/local/lib/python3.6/dist-packages/keras/backend/tensorflow_backend.py:66: The name tf.get_default_graph is deprecated. Please use tf.compat.v1.get_default_graph instead.\n",
      "\n",
      "WARNING:tensorflow:From /usr/local/lib/python3.6/dist-packages/keras/backend/tensorflow_backend.py:541: The name tf.placeholder is deprecated. Please use tf.compat.v1.placeholder instead.\n",
      "\n",
      "WARNING:tensorflow:From /usr/local/lib/python3.6/dist-packages/keras/backend/tensorflow_backend.py:4432: The name tf.random_uniform is deprecated. Please use tf.random.uniform instead.\n",
      "\n",
      "WARNING:tensorflow:From /usr/local/lib/python3.6/dist-packages/keras/backend/tensorflow_backend.py:4267: The name tf.nn.max_pool is deprecated. Please use tf.nn.max_pool2d instead.\n",
      "\n",
      "WARNING:tensorflow:From /usr/local/lib/python3.6/dist-packages/keras/backend/tensorflow_backend.py:190: The name tf.get_default_session is deprecated. Please use tf.compat.v1.get_default_session instead.\n",
      "\n",
      "WARNING:tensorflow:From /usr/local/lib/python3.6/dist-packages/keras/backend/tensorflow_backend.py:197: The name tf.ConfigProto is deprecated. Please use tf.compat.v1.ConfigProto instead.\n",
      "\n",
      "WARNING:tensorflow:From /usr/local/lib/python3.6/dist-packages/keras/backend/tensorflow_backend.py:203: The name tf.Session is deprecated. Please use tf.compat.v1.Session instead.\n",
      "\n",
      "WARNING:tensorflow:From /usr/local/lib/python3.6/dist-packages/keras/backend/tensorflow_backend.py:207: The name tf.global_variables is deprecated. Please use tf.compat.v1.global_variables instead.\n",
      "\n",
      "WARNING:tensorflow:From /usr/local/lib/python3.6/dist-packages/keras/backend/tensorflow_backend.py:216: The name tf.is_variable_initialized is deprecated. Please use tf.compat.v1.is_variable_initialized instead.\n",
      "\n",
      "WARNING:tensorflow:From /usr/local/lib/python3.6/dist-packages/keras/backend/tensorflow_backend.py:223: The name tf.variables_initializer is deprecated. Please use tf.compat.v1.variables_initializer instead.\n",
      "\n"
     ]
    }
   ],
   "source": [
    "from keras.applications.vgg16 import VGG16, preprocess_input\n",
    "base_model= VGG16(weights=('/content/drive/My Drive/CNN Assignment 2 /vgg16_weights_tf_dim_ordering_tf_kernels_notop.h5'),\n",
    "                 include_top=False, pooling='avg', input_shape = (128,128,3))"
   ]
  },
  {
   "cell_type": "markdown",
   "metadata": {
    "colab_type": "text",
    "id": "EItOlRBGpV_A"
   },
   "source": [
    "Print the summary of the base_model"
   ]
  },
  {
   "cell_type": "code",
   "execution_count": 0,
   "metadata": {
    "colab": {
     "base_uri": "https://localhost:8080/",
     "height": 849
    },
    "colab_type": "code",
    "id": "lQsEBgnlpHjH",
    "outputId": "813896f9-b281-4a95-b68a-8e704da41dcd"
   },
   "outputs": [
    {
     "name": "stdout",
     "output_type": "stream",
     "text": [
      "Model: \"vgg16\"\n",
      "_________________________________________________________________\n",
      "Layer (type)                 Output Shape              Param #   \n",
      "=================================================================\n",
      "input_1 (InputLayer)         (None, 128, 128, 3)       0         \n",
      "_________________________________________________________________\n",
      "block1_conv1 (Conv2D)        (None, 128, 128, 64)      1792      \n",
      "_________________________________________________________________\n",
      "block1_conv2 (Conv2D)        (None, 128, 128, 64)      36928     \n",
      "_________________________________________________________________\n",
      "block1_pool (MaxPooling2D)   (None, 64, 64, 64)        0         \n",
      "_________________________________________________________________\n",
      "block2_conv1 (Conv2D)        (None, 64, 64, 128)       73856     \n",
      "_________________________________________________________________\n",
      "block2_conv2 (Conv2D)        (None, 64, 64, 128)       147584    \n",
      "_________________________________________________________________\n",
      "block2_pool (MaxPooling2D)   (None, 32, 32, 128)       0         \n",
      "_________________________________________________________________\n",
      "block3_conv1 (Conv2D)        (None, 32, 32, 256)       295168    \n",
      "_________________________________________________________________\n",
      "block3_conv2 (Conv2D)        (None, 32, 32, 256)       590080    \n",
      "_________________________________________________________________\n",
      "block3_conv3 (Conv2D)        (None, 32, 32, 256)       590080    \n",
      "_________________________________________________________________\n",
      "block3_pool (MaxPooling2D)   (None, 16, 16, 256)       0         \n",
      "_________________________________________________________________\n",
      "block4_conv1 (Conv2D)        (None, 16, 16, 512)       1180160   \n",
      "_________________________________________________________________\n",
      "block4_conv2 (Conv2D)        (None, 16, 16, 512)       2359808   \n",
      "_________________________________________________________________\n",
      "block4_conv3 (Conv2D)        (None, 16, 16, 512)       2359808   \n",
      "_________________________________________________________________\n",
      "block4_pool (MaxPooling2D)   (None, 8, 8, 512)         0         \n",
      "_________________________________________________________________\n",
      "block5_conv1 (Conv2D)        (None, 8, 8, 512)         2359808   \n",
      "_________________________________________________________________\n",
      "block5_conv2 (Conv2D)        (None, 8, 8, 512)         2359808   \n",
      "_________________________________________________________________\n",
      "block5_conv3 (Conv2D)        (None, 8, 8, 512)         2359808   \n",
      "_________________________________________________________________\n",
      "block5_pool (MaxPooling2D)   (None, 4, 4, 512)         0         \n",
      "_________________________________________________________________\n",
      "global_average_pooling2d_1 ( (None, 512)               0         \n",
      "=================================================================\n",
      "Total params: 14,714,688\n",
      "Trainable params: 14,714,688\n",
      "Non-trainable params: 0\n",
      "_________________________________________________________________\n"
     ]
    }
   ],
   "source": [
    "base_model.summary()"
   ]
  },
  {
   "cell_type": "markdown",
   "metadata": {
    "colab_type": "text",
    "id": "fHpeOyW0qauW"
   },
   "source": [
    "\n",
    "### Add the following classification layers to the imported VGG Model <br>\n",
    "1. Flatten Layer\n",
    "2. Dense layer with 1024 neurons with activation as Relu\n",
    "3. Dense layer with 256 neurons with activation as Relu\n",
    "4. Dense layer with 120 neurons with activation as Softmax"
   ]
  },
  {
   "cell_type": "code",
   "execution_count": 0,
   "metadata": {
    "colab": {
     "base_uri": "https://localhost:8080/",
     "height": 34
    },
    "colab_type": "code",
    "id": "Dc9TsesdcpU4",
    "outputId": "9f7f7e73-c2ed-462f-b256-fe5db7221e68"
   },
   "outputs": [
    {
     "data": {
      "text/plain": [
       "<tf.Tensor 'block5_pool/MaxPool:0' shape=(?, 4, 4, 512) dtype=float32>"
      ]
     },
     "execution_count": 37,
     "metadata": {
      "tags": []
     },
     "output_type": "execute_result"
    }
   ],
   "source": [
    "base_model.layers[-2].output"
   ]
  },
  {
   "cell_type": "code",
   "execution_count": 0,
   "metadata": {
    "colab": {
     "base_uri": "https://localhost:8080/",
     "height": 953
    },
    "colab_type": "code",
    "id": "dc_nEEOJbdKG",
    "outputId": "9a9f4727-f83a-4aa4-b1aa-18950d7ace68"
   },
   "outputs": [
    {
     "name": "stdout",
     "output_type": "stream",
     "text": [
      "Model: \"model_1\"\n",
      "_________________________________________________________________\n",
      "Layer (type)                 Output Shape              Param #   \n",
      "=================================================================\n",
      "input_1 (InputLayer)         (None, 128, 128, 3)       0         \n",
      "_________________________________________________________________\n",
      "block1_conv1 (Conv2D)        (None, 128, 128, 64)      1792      \n",
      "_________________________________________________________________\n",
      "block1_conv2 (Conv2D)        (None, 128, 128, 64)      36928     \n",
      "_________________________________________________________________\n",
      "block1_pool (MaxPooling2D)   (None, 64, 64, 64)        0         \n",
      "_________________________________________________________________\n",
      "block2_conv1 (Conv2D)        (None, 64, 64, 128)       73856     \n",
      "_________________________________________________________________\n",
      "block2_conv2 (Conv2D)        (None, 64, 64, 128)       147584    \n",
      "_________________________________________________________________\n",
      "block2_pool (MaxPooling2D)   (None, 32, 32, 128)       0         \n",
      "_________________________________________________________________\n",
      "block3_conv1 (Conv2D)        (None, 32, 32, 256)       295168    \n",
      "_________________________________________________________________\n",
      "block3_conv2 (Conv2D)        (None, 32, 32, 256)       590080    \n",
      "_________________________________________________________________\n",
      "block3_conv3 (Conv2D)        (None, 32, 32, 256)       590080    \n",
      "_________________________________________________________________\n",
      "block3_pool (MaxPooling2D)   (None, 16, 16, 256)       0         \n",
      "_________________________________________________________________\n",
      "block4_conv1 (Conv2D)        (None, 16, 16, 512)       1180160   \n",
      "_________________________________________________________________\n",
      "block4_conv2 (Conv2D)        (None, 16, 16, 512)       2359808   \n",
      "_________________________________________________________________\n",
      "block4_conv3 (Conv2D)        (None, 16, 16, 512)       2359808   \n",
      "_________________________________________________________________\n",
      "block4_pool (MaxPooling2D)   (None, 8, 8, 512)         0         \n",
      "_________________________________________________________________\n",
      "block5_conv1 (Conv2D)        (None, 8, 8, 512)         2359808   \n",
      "_________________________________________________________________\n",
      "block5_conv2 (Conv2D)        (None, 8, 8, 512)         2359808   \n",
      "_________________________________________________________________\n",
      "block5_conv3 (Conv2D)        (None, 8, 8, 512)         2359808   \n",
      "_________________________________________________________________\n",
      "block5_pool (MaxPooling2D)   (None, 4, 4, 512)         0         \n",
      "_________________________________________________________________\n",
      "flatten_1 (Flatten)          (None, 8192)              0         \n",
      "_________________________________________________________________\n",
      "dense_1 (Dense)              (None, 1024)              8389632   \n",
      "_________________________________________________________________\n",
      "dense_2 (Dense)              (None, 256)               262400    \n",
      "_________________________________________________________________\n",
      "dense_3 (Dense)              (None, 120)               30840     \n",
      "=================================================================\n",
      "Total params: 23,397,560\n",
      "Trainable params: 23,397,560\n",
      "Non-trainable params: 0\n",
      "_________________________________________________________________\n"
     ]
    }
   ],
   "source": [
    "x = base_model.layers[-2].output\n",
    "x = Flatten()(x)\n",
    "x = Dense(1024, activation='relu')(x)\n",
    "x = Dense(256, activation='relu')(x)\n",
    "predictions = Dense(120, activation='softmax')(x)\n",
    "\n",
    "# this is the model we will train\n",
    "model1 = Model(input=base_model.input, output=predictions)\n",
    "\n",
    "model1.summary()"
   ]
  },
  {
   "cell_type": "markdown",
   "metadata": {
    "colab_type": "text",
    "id": "LeQem0pHITIj"
   },
   "source": [
    "### Make all the layers in the base_model (VGG16) to be non-trainable"
   ]
  },
  {
   "cell_type": "code",
   "execution_count": 0,
   "metadata": {
    "colab": {},
    "colab_type": "code",
    "id": "b8cE43VvbdH5"
   },
   "outputs": [],
   "source": [
    "# i.e. freeze all convolutional InceptionV3 layers\n",
    "for layer in base_model.layers:\n",
    "    layer.trainable = False\n"
   ]
  },
  {
   "cell_type": "code",
   "execution_count": 0,
   "metadata": {
    "colab": {
     "base_uri": "https://localhost:8080/",
     "height": 814
    },
    "colab_type": "code",
    "id": "MeUJfEU7bdDP",
    "outputId": "ed3b68c9-5ed4-4241-f7b9-d511ef77a314"
   },
   "outputs": [
    {
     "name": "stdout",
     "output_type": "stream",
     "text": [
      "\u001b[34minput_1\u001b[0m\n",
      "\u001b[31mFalse\u001b[0m\n",
      "\u001b[34mblock1_conv1\u001b[0m\n",
      "\u001b[31mFalse\u001b[0m\n",
      "\u001b[34mblock1_conv2\u001b[0m\n",
      "\u001b[31mFalse\u001b[0m\n",
      "\u001b[34mblock1_pool\u001b[0m\n",
      "\u001b[31mFalse\u001b[0m\n",
      "\u001b[34mblock2_conv1\u001b[0m\n",
      "\u001b[31mFalse\u001b[0m\n",
      "\u001b[34mblock2_conv2\u001b[0m\n",
      "\u001b[31mFalse\u001b[0m\n",
      "\u001b[34mblock2_pool\u001b[0m\n",
      "\u001b[31mFalse\u001b[0m\n",
      "\u001b[34mblock3_conv1\u001b[0m\n",
      "\u001b[31mFalse\u001b[0m\n",
      "\u001b[34mblock3_conv2\u001b[0m\n",
      "\u001b[31mFalse\u001b[0m\n",
      "\u001b[34mblock3_conv3\u001b[0m\n",
      "\u001b[31mFalse\u001b[0m\n",
      "\u001b[34mblock3_pool\u001b[0m\n",
      "\u001b[31mFalse\u001b[0m\n",
      "\u001b[34mblock4_conv1\u001b[0m\n",
      "\u001b[31mFalse\u001b[0m\n",
      "\u001b[34mblock4_conv2\u001b[0m\n",
      "\u001b[31mFalse\u001b[0m\n",
      "\u001b[34mblock4_conv3\u001b[0m\n",
      "\u001b[31mFalse\u001b[0m\n",
      "\u001b[34mblock4_pool\u001b[0m\n",
      "\u001b[31mFalse\u001b[0m\n",
      "\u001b[34mblock5_conv1\u001b[0m\n",
      "\u001b[31mFalse\u001b[0m\n",
      "\u001b[34mblock5_conv2\u001b[0m\n",
      "\u001b[31mFalse\u001b[0m\n",
      "\u001b[34mblock5_conv3\u001b[0m\n",
      "\u001b[31mFalse\u001b[0m\n",
      "\u001b[34mblock5_pool\u001b[0m\n",
      "\u001b[31mFalse\u001b[0m\n",
      "\u001b[34mflatten_1\u001b[0m\n",
      "\u001b[31mTrue\u001b[0m\n",
      "\u001b[34mdense_1\u001b[0m\n",
      "\u001b[31mTrue\u001b[0m\n",
      "\u001b[34mdense_2\u001b[0m\n",
      "\u001b[31mTrue\u001b[0m\n",
      "\u001b[34mdense_3\u001b[0m\n",
      "\u001b[31mTrue\u001b[0m\n"
     ]
    }
   ],
   "source": [
    "from termcolor import colored    #  python module for ANSII Color formatting for output in terminal\n",
    "#Check which layers have been frozen \n",
    "for layer in model1.layers:\n",
    "  print (colored(layer.name, 'blue'))\n",
    "  print (colored(layer.trainable, 'red'))"
   ]
  },
  {
   "cell_type": "markdown",
   "metadata": {
    "colab_type": "text",
    "id": "kj-BwqgfIkdv"
   },
   "source": [
    "### Fit and compile the model with batch_size = 128 and epochs = 10 and execute the model"
   ]
  },
  {
   "cell_type": "markdown",
   "metadata": {
    "colab_type": "text",
    "id": "YD5fAgVQIpKZ"
   },
   "source": [
    "Try to get training and validation accuracy to be more than 90%"
   ]
  },
  {
   "cell_type": "code",
   "execution_count": 0,
   "metadata": {
    "colab": {
     "base_uri": "https://localhost:8080/",
     "height": 106
    },
    "colab_type": "code",
    "id": "SZk2SWvjIoRP",
    "outputId": "fc9bc251-c1b4-43a3-fcb6-3254a4b1a282"
   },
   "outputs": [
    {
     "name": "stdout",
     "output_type": "stream",
     "text": [
      "WARNING:tensorflow:From /usr/local/lib/python3.6/dist-packages/keras/optimizers.py:793: The name tf.train.Optimizer is deprecated. Please use tf.compat.v1.train.Optimizer instead.\n",
      "\n",
      "WARNING:tensorflow:From /usr/local/lib/python3.6/dist-packages/keras/backend/tensorflow_backend.py:3576: The name tf.log is deprecated. Please use tf.math.log instead.\n",
      "\n"
     ]
    }
   ],
   "source": [
    "model1.compile(loss='categorical_crossentropy',\n",
    "             optimizer='sgd',\n",
    "             metrics=['accuracy'])"
   ]
  },
  {
   "cell_type": "code",
   "execution_count": 0,
   "metadata": {
    "colab": {},
    "colab_type": "code",
    "id": "2A2wZWJne9LY"
   },
   "outputs": [],
   "source": [
    "from keras.callbacks import EarlyStopping\n",
    "early_stopping = EarlyStopping(monitor='val_acc', patience=6, mode='auto')\n",
    "callback_list = [early_stopping]"
   ]
  },
  {
   "cell_type": "code",
   "execution_count": 0,
   "metadata": {
    "colab": {
     "base_uri": "https://localhost:8080/",
     "height": 1000
    },
    "colab_type": "code",
    "id": "LmjYS93GeY97",
    "outputId": "ca7b6e1c-93b3-4280-c912-2f932d0af659"
   },
   "outputs": [
    {
     "name": "stdout",
     "output_type": "stream",
     "text": [
      "WARNING:tensorflow:From /usr/local/lib/python3.6/dist-packages/tensorflow_core/python/ops/math_grad.py:1424: where (from tensorflow.python.ops.array_ops) is deprecated and will be removed in a future version.\n",
      "Instructions for updating:\n",
      "Use tf.where in 2.0, which has the same broadcast rule as np.where\n",
      "WARNING:tensorflow:From /usr/local/lib/python3.6/dist-packages/keras/backend/tensorflow_backend.py:1033: The name tf.assign_add is deprecated. Please use tf.compat.v1.assign_add instead.\n",
      "\n",
      "WARNING:tensorflow:From /usr/local/lib/python3.6/dist-packages/keras/backend/tensorflow_backend.py:1020: The name tf.assign is deprecated. Please use tf.compat.v1.assign instead.\n",
      "\n",
      "Train on 8177 samples, validate on 2045 samples\n",
      "Epoch 1/30\n",
      "8177/8177 [==============================] - 11s 1ms/step - loss: 4.7968 - acc: 0.0104 - val_loss: 4.7583 - val_acc: 0.0152\n",
      "Epoch 2/30\n",
      "8177/8177 [==============================] - 8s 999us/step - loss: 4.7088 - acc: 0.0303 - val_loss: 4.7069 - val_acc: 0.0298\n",
      "Epoch 3/30\n",
      "8177/8177 [==============================] - 8s 999us/step - loss: 4.6285 - acc: 0.0434 - val_loss: 4.6454 - val_acc: 0.0401\n",
      "Epoch 4/30\n",
      "8177/8177 [==============================] - 8s 996us/step - loss: 4.5364 - acc: 0.0633 - val_loss: 4.5687 - val_acc: 0.0504\n",
      "Epoch 5/30\n",
      "8177/8177 [==============================] - 8s 1ms/step - loss: 4.4291 - acc: 0.0791 - val_loss: 4.4796 - val_acc: 0.0689\n",
      "Epoch 6/30\n",
      "8177/8177 [==============================] - 8s 1ms/step - loss: 4.3011 - acc: 0.0972 - val_loss: 4.3834 - val_acc: 0.0753\n",
      "Epoch 7/30\n",
      "8177/8177 [==============================] - 8s 1ms/step - loss: 4.1731 - acc: 0.1148 - val_loss: 4.2989 - val_acc: 0.0836\n",
      "Epoch 8/30\n",
      "8177/8177 [==============================] - 8s 1ms/step - loss: 4.0320 - acc: 0.1381 - val_loss: 4.2364 - val_acc: 0.0846\n",
      "Epoch 9/30\n",
      "8177/8177 [==============================] - 8s 1ms/step - loss: 3.8937 - acc: 0.1525 - val_loss: 4.1068 - val_acc: 0.1017\n",
      "Epoch 10/30\n",
      "8177/8177 [==============================] - 8s 1ms/step - loss: 3.7648 - acc: 0.1739 - val_loss: 4.0426 - val_acc: 0.1046\n",
      "Epoch 11/30\n",
      "8177/8177 [==============================] - 8s 1ms/step - loss: 3.6421 - acc: 0.1903 - val_loss: 3.9008 - val_acc: 0.1311\n",
      "Epoch 12/30\n",
      "8177/8177 [==============================] - 8s 1ms/step - loss: 3.5215 - acc: 0.2135 - val_loss: 3.8659 - val_acc: 0.1315\n",
      "Epoch 13/30\n",
      "8177/8177 [==============================] - 8s 1ms/step - loss: 3.4009 - acc: 0.2306 - val_loss: 3.8396 - val_acc: 0.1325\n",
      "Epoch 14/30\n",
      "8177/8177 [==============================] - 8s 1ms/step - loss: 3.2971 - acc: 0.2509 - val_loss: 3.7279 - val_acc: 0.1555\n",
      "Epoch 15/30\n",
      "8177/8177 [==============================] - 8s 1ms/step - loss: 3.2081 - acc: 0.2667 - val_loss: 3.6857 - val_acc: 0.1594\n",
      "Epoch 16/30\n",
      "8177/8177 [==============================] - 8s 1ms/step - loss: 3.1025 - acc: 0.2873 - val_loss: 3.6573 - val_acc: 0.1565\n",
      "Epoch 17/30\n",
      "8177/8177 [==============================] - 8s 1ms/step - loss: 3.0166 - acc: 0.2980 - val_loss: 3.6211 - val_acc: 0.1643\n",
      "Epoch 18/30\n",
      "8177/8177 [==============================] - 8s 1ms/step - loss: 2.9362 - acc: 0.3251 - val_loss: 3.6056 - val_acc: 0.1570\n",
      "Epoch 19/30\n",
      "8177/8177 [==============================] - 8s 1ms/step - loss: 2.8515 - acc: 0.3389 - val_loss: 3.5369 - val_acc: 0.1726\n",
      "Epoch 20/30\n",
      "8177/8177 [==============================] - 8s 1ms/step - loss: 2.7772 - acc: 0.3550 - val_loss: 3.5320 - val_acc: 0.1785\n",
      "Epoch 21/30\n",
      "8177/8177 [==============================] - 8s 1ms/step - loss: 2.7039 - acc: 0.3674 - val_loss: 3.4975 - val_acc: 0.1716\n",
      "Epoch 22/30\n",
      "8177/8177 [==============================] - 8s 1ms/step - loss: 2.6413 - acc: 0.3770 - val_loss: 3.4205 - val_acc: 0.1932\n",
      "Epoch 23/30\n",
      "8177/8177 [==============================] - 8s 1ms/step - loss: 2.5745 - acc: 0.3883 - val_loss: 3.4148 - val_acc: 0.2034\n",
      "Epoch 24/30\n",
      "8177/8177 [==============================] - 8s 1ms/step - loss: 2.5069 - acc: 0.4071 - val_loss: 3.4807 - val_acc: 0.1888\n",
      "Epoch 25/30\n",
      "8177/8177 [==============================] - 8s 1ms/step - loss: 2.4458 - acc: 0.4162 - val_loss: 3.3180 - val_acc: 0.2156\n",
      "Epoch 26/30\n",
      "8177/8177 [==============================] - 8s 1ms/step - loss: 2.3988 - acc: 0.4293 - val_loss: 3.3304 - val_acc: 0.2073\n",
      "Epoch 27/30\n",
      "8177/8177 [==============================] - 8s 999us/step - loss: 2.3486 - acc: 0.4396 - val_loss: 3.3208 - val_acc: 0.2020\n",
      "Epoch 28/30\n",
      "8177/8177 [==============================] - 8s 1ms/step - loss: 2.2873 - acc: 0.4587 - val_loss: 3.3436 - val_acc: 0.1922\n",
      "Epoch 29/30\n",
      "8177/8177 [==============================] - 8s 1ms/step - loss: 2.2165 - acc: 0.4765 - val_loss: 3.2870 - val_acc: 0.2142\n",
      "Epoch 30/30\n",
      "8177/8177 [==============================] - 8s 1ms/step - loss: 2.1725 - acc: 0.4768 - val_loss: 3.2798 - val_acc: 0.1980\n"
     ]
    },
    {
     "data": {
      "text/plain": [
       "<keras.callbacks.History at 0x7ff150119390>"
      ]
     },
     "execution_count": 43,
     "metadata": {
      "tags": []
     },
     "output_type": "execute_result"
    }
   ],
   "source": [
    "model1.fit(x_train, y_train ,batch_size=128,validation_data=(x_val, y_val), epochs = 30, callbacks=callback_list)"
   ]
  },
  {
   "cell_type": "markdown",
   "metadata": {
    "colab_type": "text",
    "id": "82nGVlM2L_Y6"
   },
   "source": [
    "## **Even with VGG16 as feature extractor and dense layers the validation accuracy is very poor and the model is overfitting. **"
   ]
  },
  {
   "cell_type": "code",
   "execution_count": 0,
   "metadata": {
    "colab": {},
    "colab_type": "code",
    "id": "spmigWw6rIXt"
   },
   "outputs": [],
   "source": [
    "####  attempt to increase accuracy by adding more trainable dense layers with conv layers as non trainable"
   ]
  },
  {
   "cell_type": "code",
   "execution_count": 0,
   "metadata": {
    "colab": {
     "base_uri": "https://localhost:8080/",
     "height": 1000
    },
    "colab_type": "code",
    "id": "_d6A03S_MNzJ",
    "outputId": "ff81ea33-8269-415a-c65e-ccaa68f02118"
   },
   "outputs": [
    {
     "name": "stdout",
     "output_type": "stream",
     "text": [
      "WARNING:tensorflow:From /usr/local/lib/python3.6/dist-packages/keras/backend/tensorflow_backend.py:148: The name tf.placeholder_with_default is deprecated. Please use tf.compat.v1.placeholder_with_default instead.\n",
      "\n",
      "WARNING:tensorflow:From /usr/local/lib/python3.6/dist-packages/keras/backend/tensorflow_backend.py:3733: calling dropout (from tensorflow.python.ops.nn_ops) with keep_prob is deprecated and will be removed in a future version.\n",
      "Instructions for updating:\n",
      "Please use `rate` instead of `keep_prob`. Rate should be set to `rate = 1 - keep_prob`.\n",
      "Model: \"model_2\"\n",
      "_________________________________________________________________\n",
      "Layer (type)                 Output Shape              Param #   \n",
      "=================================================================\n",
      "input_1 (InputLayer)         (None, 128, 128, 3)       0         \n",
      "_________________________________________________________________\n",
      "block1_conv1 (Conv2D)        (None, 128, 128, 64)      1792      \n",
      "_________________________________________________________________\n",
      "block1_conv2 (Conv2D)        (None, 128, 128, 64)      36928     \n",
      "_________________________________________________________________\n",
      "block1_pool (MaxPooling2D)   (None, 64, 64, 64)        0         \n",
      "_________________________________________________________________\n",
      "block2_conv1 (Conv2D)        (None, 64, 64, 128)       73856     \n",
      "_________________________________________________________________\n",
      "block2_conv2 (Conv2D)        (None, 64, 64, 128)       147584    \n",
      "_________________________________________________________________\n",
      "block2_pool (MaxPooling2D)   (None, 32, 32, 128)       0         \n",
      "_________________________________________________________________\n",
      "block3_conv1 (Conv2D)        (None, 32, 32, 256)       295168    \n",
      "_________________________________________________________________\n",
      "block3_conv2 (Conv2D)        (None, 32, 32, 256)       590080    \n",
      "_________________________________________________________________\n",
      "block3_conv3 (Conv2D)        (None, 32, 32, 256)       590080    \n",
      "_________________________________________________________________\n",
      "block3_pool (MaxPooling2D)   (None, 16, 16, 256)       0         \n",
      "_________________________________________________________________\n",
      "block4_conv1 (Conv2D)        (None, 16, 16, 512)       1180160   \n",
      "_________________________________________________________________\n",
      "block4_conv2 (Conv2D)        (None, 16, 16, 512)       2359808   \n",
      "_________________________________________________________________\n",
      "block4_conv3 (Conv2D)        (None, 16, 16, 512)       2359808   \n",
      "_________________________________________________________________\n",
      "block4_pool (MaxPooling2D)   (None, 8, 8, 512)         0         \n",
      "_________________________________________________________________\n",
      "block5_conv1 (Conv2D)        (None, 8, 8, 512)         2359808   \n",
      "_________________________________________________________________\n",
      "block5_conv2 (Conv2D)        (None, 8, 8, 512)         2359808   \n",
      "_________________________________________________________________\n",
      "block5_conv3 (Conv2D)        (None, 8, 8, 512)         2359808   \n",
      "_________________________________________________________________\n",
      "flatten_2 (Flatten)          (None, 32768)             0         \n",
      "_________________________________________________________________\n",
      "dense_4 (Dense)              (None, 1024)              33555456  \n",
      "_________________________________________________________________\n",
      "dropout_1 (Dropout)          (None, 1024)              0         \n",
      "_________________________________________________________________\n",
      "dense_5 (Dense)              (None, 512)               524800    \n",
      "_________________________________________________________________\n",
      "dropout_2 (Dropout)          (None, 512)               0         \n",
      "_________________________________________________________________\n",
      "dense_6 (Dense)              (None, 256)               131328    \n",
      "_________________________________________________________________\n",
      "dense_7 (Dense)              (None, 120)               30840     \n",
      "_________________________________________________________________\n",
      "dense_8 (Dense)              (None, 120)               14520     \n",
      "=================================================================\n",
      "Total params: 48,971,632\n",
      "Trainable params: 34,256,944\n",
      "Non-trainable params: 14,714,688\n",
      "_________________________________________________________________\n"
     ]
    }
   ],
   "source": [
    "x1 = base_model.layers[-3].output\n",
    "x1 = Flatten()(x1)\n",
    "x1 = Dense(1024, activation='relu')(x1)\n",
    "x1 = Dropout(0.25)(x1)\n",
    "#x1 = Dense(512, activation='relu')(x1)\n",
    "#x1 = Dropout(0.5)(x1)\n",
    "x1 = Dense(512, activation='relu')(x1)\n",
    "x1 = Dropout(0.25)(x1)\n",
    "#x1 = Dense(256, activation='relu')(x1)\n",
    "x1 = Dense(256, activation='relu')(x1)\n",
    "#x1 = Dropout(0.25)(x1)\n",
    "x1 = Dense(120, activation='relu')(x1)\n",
    "predictions1 = Dense(120, activation='softmax')(x1)\n",
    "\n",
    "# this is the model we will train\n",
    "model2 = Model(input=base_model.input, output=predictions1)\n",
    "\n",
    "model2.summary()"
   ]
  },
  {
   "cell_type": "code",
   "execution_count": 0,
   "metadata": {
    "colab": {
     "base_uri": "https://localhost:8080/",
     "height": 918
    },
    "colab_type": "code",
    "id": "f8_4yFG3MOLk",
    "outputId": "5fc9685e-3521-44c5-f91c-e2af09f9a27f"
   },
   "outputs": [
    {
     "name": "stdout",
     "output_type": "stream",
     "text": [
      "\u001b[34minput_1\u001b[0m\n",
      "\u001b[31mFalse\u001b[0m\n",
      "\u001b[34mblock1_conv1\u001b[0m\n",
      "\u001b[31mFalse\u001b[0m\n",
      "\u001b[34mblock1_conv2\u001b[0m\n",
      "\u001b[31mFalse\u001b[0m\n",
      "\u001b[34mblock1_pool\u001b[0m\n",
      "\u001b[31mFalse\u001b[0m\n",
      "\u001b[34mblock2_conv1\u001b[0m\n",
      "\u001b[31mFalse\u001b[0m\n",
      "\u001b[34mblock2_conv2\u001b[0m\n",
      "\u001b[31mFalse\u001b[0m\n",
      "\u001b[34mblock2_pool\u001b[0m\n",
      "\u001b[31mFalse\u001b[0m\n",
      "\u001b[34mblock3_conv1\u001b[0m\n",
      "\u001b[31mFalse\u001b[0m\n",
      "\u001b[34mblock3_conv2\u001b[0m\n",
      "\u001b[31mFalse\u001b[0m\n",
      "\u001b[34mblock3_conv3\u001b[0m\n",
      "\u001b[31mFalse\u001b[0m\n",
      "\u001b[34mblock3_pool\u001b[0m\n",
      "\u001b[31mFalse\u001b[0m\n",
      "\u001b[34mblock4_conv1\u001b[0m\n",
      "\u001b[31mFalse\u001b[0m\n",
      "\u001b[34mblock4_conv2\u001b[0m\n",
      "\u001b[31mFalse\u001b[0m\n",
      "\u001b[34mblock4_conv3\u001b[0m\n",
      "\u001b[31mFalse\u001b[0m\n",
      "\u001b[34mblock4_pool\u001b[0m\n",
      "\u001b[31mFalse\u001b[0m\n",
      "\u001b[34mblock5_conv1\u001b[0m\n",
      "\u001b[31mFalse\u001b[0m\n",
      "\u001b[34mblock5_conv2\u001b[0m\n",
      "\u001b[31mFalse\u001b[0m\n",
      "\u001b[34mblock5_conv3\u001b[0m\n",
      "\u001b[31mFalse\u001b[0m\n",
      "\u001b[34mflatten_2\u001b[0m\n",
      "\u001b[31mTrue\u001b[0m\n",
      "\u001b[34mdense_4\u001b[0m\n",
      "\u001b[31mTrue\u001b[0m\n",
      "\u001b[34mdropout_1\u001b[0m\n",
      "\u001b[31mTrue\u001b[0m\n",
      "\u001b[34mdense_5\u001b[0m\n",
      "\u001b[31mTrue\u001b[0m\n",
      "\u001b[34mdropout_2\u001b[0m\n",
      "\u001b[31mTrue\u001b[0m\n",
      "\u001b[34mdense_6\u001b[0m\n",
      "\u001b[31mTrue\u001b[0m\n",
      "\u001b[34mdense_7\u001b[0m\n",
      "\u001b[31mTrue\u001b[0m\n",
      "\u001b[34mdense_8\u001b[0m\n",
      "\u001b[31mTrue\u001b[0m\n"
     ]
    }
   ],
   "source": [
    "from termcolor import colored    #  python module for ANSII Color formatting for output in terminal\n",
    "#Check which layers have been frozen \n",
    "for layer in model2.layers:\n",
    "  print (colored(layer.name, 'blue'))\n",
    "  print (colored(layer.trainable, 'red'))"
   ]
  },
  {
   "cell_type": "code",
   "execution_count": 0,
   "metadata": {
    "colab": {},
    "colab_type": "code",
    "id": "WYgnNClXT_fC"
   },
   "outputs": [],
   "source": [
    "#sgd = SGD(lr=0.050, momentum=0.6, nesterov=False)"
   ]
  },
  {
   "cell_type": "code",
   "execution_count": 0,
   "metadata": {
    "colab": {},
    "colab_type": "code",
    "id": "VpstiA2ETcz9"
   },
   "outputs": [],
   "source": [
    "model2.compile(loss='categorical_crossentropy',\n",
    "             optimizer='sgd',\n",
    "             metrics=['accuracy'])"
   ]
  },
  {
   "cell_type": "code",
   "execution_count": 0,
   "metadata": {
    "colab": {
     "base_uri": "https://localhost:8080/",
     "height": 745
    },
    "colab_type": "code",
    "id": "FNT7B8zDTcu2",
    "outputId": "f8eb9cb8-d631-4b4f-bfe2-505052eb5024"
   },
   "outputs": [
    {
     "name": "stdout",
     "output_type": "stream",
     "text": [
      "Train on 8177 samples, validate on 2045 samples\n",
      "Epoch 1/20\n",
      "8177/8177 [==============================] - 9s 1ms/step - loss: 4.8035 - acc: 0.0081 - val_loss: 4.7865 - val_acc: 0.0142\n",
      "Epoch 2/20\n",
      "8177/8177 [==============================] - 9s 1ms/step - loss: 4.7899 - acc: 0.0108 - val_loss: 4.7850 - val_acc: 0.0147\n",
      "Epoch 3/20\n",
      "8177/8177 [==============================] - 9s 1ms/step - loss: 4.7858 - acc: 0.0126 - val_loss: 4.7789 - val_acc: 0.0098\n",
      "Epoch 4/20\n",
      "8177/8177 [==============================] - 9s 1ms/step - loss: 4.7790 - acc: 0.0139 - val_loss: 4.7735 - val_acc: 0.0132\n",
      "Epoch 5/20\n",
      "8177/8177 [==============================] - 9s 1ms/step - loss: 4.7705 - acc: 0.0114 - val_loss: 4.7724 - val_acc: 0.0147\n",
      "Epoch 6/20\n",
      "8177/8177 [==============================] - 9s 1ms/step - loss: 4.7666 - acc: 0.0170 - val_loss: 4.7677 - val_acc: 0.0117\n",
      "Epoch 7/20\n",
      "8177/8177 [==============================] - 9s 1ms/step - loss: 4.7619 - acc: 0.0149 - val_loss: 4.7611 - val_acc: 0.0171\n",
      "Epoch 8/20\n",
      "8177/8177 [==============================] - 9s 1ms/step - loss: 4.7498 - acc: 0.0169 - val_loss: 4.7509 - val_acc: 0.0181\n",
      "Epoch 9/20\n",
      "8177/8177 [==============================] - 9s 1ms/step - loss: 4.7365 - acc: 0.0183 - val_loss: 4.7357 - val_acc: 0.0142\n",
      "Epoch 10/20\n",
      "8177/8177 [==============================] - 9s 1ms/step - loss: 4.7235 - acc: 0.0212 - val_loss: 4.7181 - val_acc: 0.0225\n",
      "Epoch 11/20\n",
      "8177/8177 [==============================] - 9s 1ms/step - loss: 4.7043 - acc: 0.0227 - val_loss: 4.6932 - val_acc: 0.0225\n",
      "Epoch 12/20\n",
      "8177/8177 [==============================] - 9s 1ms/step - loss: 4.6834 - acc: 0.0263 - val_loss: 4.6738 - val_acc: 0.0244\n",
      "Epoch 13/20\n",
      "8177/8177 [==============================] - 9s 1ms/step - loss: 4.6530 - acc: 0.0290 - val_loss: 4.6438 - val_acc: 0.0308\n",
      "Epoch 14/20\n",
      "8177/8177 [==============================] - 9s 1ms/step - loss: 4.6136 - acc: 0.0336 - val_loss: 4.6089 - val_acc: 0.0337\n",
      "Epoch 15/20\n",
      "8177/8177 [==============================] - 9s 1ms/step - loss: 4.5736 - acc: 0.0415 - val_loss: 4.5824 - val_acc: 0.0381\n",
      "Epoch 16/20\n",
      "8177/8177 [==============================] - 9s 1ms/step - loss: 4.5303 - acc: 0.0407 - val_loss: 4.5175 - val_acc: 0.0484\n",
      "Epoch 17/20\n",
      "8177/8177 [==============================] - 9s 1ms/step - loss: 4.4730 - acc: 0.0506 - val_loss: 4.4420 - val_acc: 0.0592\n",
      "Epoch 18/20\n",
      "8177/8177 [==============================] - 9s 1ms/step - loss: 4.4052 - acc: 0.0561 - val_loss: 4.4080 - val_acc: 0.0572\n",
      "Epoch 19/20\n",
      "8177/8177 [==============================] - 9s 1ms/step - loss: 4.3481 - acc: 0.0644 - val_loss: 4.3346 - val_acc: 0.0719\n",
      "Epoch 20/20\n",
      "8177/8177 [==============================] - 9s 1ms/step - loss: 4.2919 - acc: 0.0685 - val_loss: 4.3000 - val_acc: 0.0577\n"
     ]
    },
    {
     "data": {
      "text/plain": [
       "<keras.callbacks.History at 0x7ff1006dc8d0>"
      ]
     },
     "execution_count": 49,
     "metadata": {
      "tags": []
     },
     "output_type": "execute_result"
    }
   ],
   "source": [
    "model2.fit(x_train, y_train ,batch_size=128,validation_data=(x_val, y_val), epochs = 20, callbacks=callback_list)"
   ]
  },
  {
   "cell_type": "markdown",
   "metadata": {
    "colab_type": "text",
    "id": "RaNpNFyWKD4E"
   },
   "source": [
    "Accuracy is still Poor. \n",
    "\n",
    "Will attempt to open up the Conv layers also for training to check if accuracy is improving. "
   ]
  },
  {
   "cell_type": "code",
   "execution_count": 0,
   "metadata": {
    "colab": {
     "base_uri": "https://localhost:8080/",
     "height": 1000
    },
    "colab_type": "code",
    "id": "Ze9q4sGXdo0e",
    "outputId": "114fc80e-b9bd-4c7d-98a8-6ae9ad5fd059"
   },
   "outputs": [
    {
     "name": "stdout",
     "output_type": "stream",
     "text": [
      "Model: \"model_3\"\n",
      "_________________________________________________________________\n",
      "Layer (type)                 Output Shape              Param #   \n",
      "=================================================================\n",
      "input_1 (InputLayer)         (None, 128, 128, 3)       0         \n",
      "_________________________________________________________________\n",
      "block1_conv1 (Conv2D)        (None, 128, 128, 64)      1792      \n",
      "_________________________________________________________________\n",
      "block1_conv2 (Conv2D)        (None, 128, 128, 64)      36928     \n",
      "_________________________________________________________________\n",
      "block1_pool (MaxPooling2D)   (None, 64, 64, 64)        0         \n",
      "_________________________________________________________________\n",
      "block2_conv1 (Conv2D)        (None, 64, 64, 128)       73856     \n",
      "_________________________________________________________________\n",
      "block2_conv2 (Conv2D)        (None, 64, 64, 128)       147584    \n",
      "_________________________________________________________________\n",
      "block2_pool (MaxPooling2D)   (None, 32, 32, 128)       0         \n",
      "_________________________________________________________________\n",
      "block3_conv1 (Conv2D)        (None, 32, 32, 256)       295168    \n",
      "_________________________________________________________________\n",
      "block3_conv2 (Conv2D)        (None, 32, 32, 256)       590080    \n",
      "_________________________________________________________________\n",
      "block3_conv3 (Conv2D)        (None, 32, 32, 256)       590080    \n",
      "_________________________________________________________________\n",
      "block3_pool (MaxPooling2D)   (None, 16, 16, 256)       0         \n",
      "_________________________________________________________________\n",
      "block4_conv1 (Conv2D)        (None, 16, 16, 512)       1180160   \n",
      "_________________________________________________________________\n",
      "block4_conv2 (Conv2D)        (None, 16, 16, 512)       2359808   \n",
      "_________________________________________________________________\n",
      "block4_conv3 (Conv2D)        (None, 16, 16, 512)       2359808   \n",
      "_________________________________________________________________\n",
      "block4_pool (MaxPooling2D)   (None, 8, 8, 512)         0         \n",
      "_________________________________________________________________\n",
      "block5_conv1 (Conv2D)        (None, 8, 8, 512)         2359808   \n",
      "_________________________________________________________________\n",
      "block5_conv2 (Conv2D)        (None, 8, 8, 512)         2359808   \n",
      "_________________________________________________________________\n",
      "block5_conv3 (Conv2D)        (None, 8, 8, 512)         2359808   \n",
      "_________________________________________________________________\n",
      "flatten_2 (Flatten)          (None, 32768)             0         \n",
      "_________________________________________________________________\n",
      "dense_4 (Dense)              (None, 1024)              33555456  \n",
      "_________________________________________________________________\n",
      "dropout_1 (Dropout)          (None, 1024)              0         \n",
      "_________________________________________________________________\n",
      "dense_5 (Dense)              (None, 512)               524800    \n",
      "_________________________________________________________________\n",
      "dropout_2 (Dropout)          (None, 512)               0         \n",
      "_________________________________________________________________\n",
      "dense_6 (Dense)              (None, 256)               131328    \n",
      "_________________________________________________________________\n",
      "dense_7 (Dense)              (None, 120)               30840     \n",
      "_________________________________________________________________\n",
      "dense_8 (Dense)              (None, 120)               14520     \n",
      "=================================================================\n",
      "Total params: 48,971,632\n",
      "Trainable params: 34,256,944\n",
      "Non-trainable params: 14,714,688\n",
      "_________________________________________________________________\n"
     ]
    }
   ],
   "source": [
    "model3 = Model(input=base_model.input, output=predictions1)\n",
    "model3.summary()"
   ]
  },
  {
   "cell_type": "code",
   "execution_count": 0,
   "metadata": {
    "colab": {},
    "colab_type": "code",
    "id": "tJ_4KK72ksWy"
   },
   "outputs": [],
   "source": [
    "# i.e. freeze all convolutional InceptionV3 layers\n",
    "for layer in base_model.layers:\n",
    "    layer.trainable = True"
   ]
  },
  {
   "cell_type": "code",
   "execution_count": 0,
   "metadata": {
    "colab": {
     "base_uri": "https://localhost:8080/",
     "height": 918
    },
    "colab_type": "code",
    "id": "aIAMgCUbk3T5",
    "outputId": "0b3b1c83-b25a-402c-8b20-b4529e8d75d2"
   },
   "outputs": [
    {
     "name": "stdout",
     "output_type": "stream",
     "text": [
      "\u001b[34minput_1\u001b[0m\n",
      "\u001b[31mTrue\u001b[0m\n",
      "\u001b[34mblock1_conv1\u001b[0m\n",
      "\u001b[31mTrue\u001b[0m\n",
      "\u001b[34mblock1_conv2\u001b[0m\n",
      "\u001b[31mTrue\u001b[0m\n",
      "\u001b[34mblock1_pool\u001b[0m\n",
      "\u001b[31mTrue\u001b[0m\n",
      "\u001b[34mblock2_conv1\u001b[0m\n",
      "\u001b[31mTrue\u001b[0m\n",
      "\u001b[34mblock2_conv2\u001b[0m\n",
      "\u001b[31mTrue\u001b[0m\n",
      "\u001b[34mblock2_pool\u001b[0m\n",
      "\u001b[31mTrue\u001b[0m\n",
      "\u001b[34mblock3_conv1\u001b[0m\n",
      "\u001b[31mTrue\u001b[0m\n",
      "\u001b[34mblock3_conv2\u001b[0m\n",
      "\u001b[31mTrue\u001b[0m\n",
      "\u001b[34mblock3_conv3\u001b[0m\n",
      "\u001b[31mTrue\u001b[0m\n",
      "\u001b[34mblock3_pool\u001b[0m\n",
      "\u001b[31mTrue\u001b[0m\n",
      "\u001b[34mblock4_conv1\u001b[0m\n",
      "\u001b[31mTrue\u001b[0m\n",
      "\u001b[34mblock4_conv2\u001b[0m\n",
      "\u001b[31mTrue\u001b[0m\n",
      "\u001b[34mblock4_conv3\u001b[0m\n",
      "\u001b[31mTrue\u001b[0m\n",
      "\u001b[34mblock4_pool\u001b[0m\n",
      "\u001b[31mTrue\u001b[0m\n",
      "\u001b[34mblock5_conv1\u001b[0m\n",
      "\u001b[31mTrue\u001b[0m\n",
      "\u001b[34mblock5_conv2\u001b[0m\n",
      "\u001b[31mTrue\u001b[0m\n",
      "\u001b[34mblock5_conv3\u001b[0m\n",
      "\u001b[31mTrue\u001b[0m\n",
      "\u001b[34mflatten_2\u001b[0m\n",
      "\u001b[31mTrue\u001b[0m\n",
      "\u001b[34mdense_4\u001b[0m\n",
      "\u001b[31mTrue\u001b[0m\n",
      "\u001b[34mdropout_1\u001b[0m\n",
      "\u001b[31mTrue\u001b[0m\n",
      "\u001b[34mdense_5\u001b[0m\n",
      "\u001b[31mTrue\u001b[0m\n",
      "\u001b[34mdropout_2\u001b[0m\n",
      "\u001b[31mTrue\u001b[0m\n",
      "\u001b[34mdense_6\u001b[0m\n",
      "\u001b[31mTrue\u001b[0m\n",
      "\u001b[34mdense_7\u001b[0m\n",
      "\u001b[31mTrue\u001b[0m\n",
      "\u001b[34mdense_8\u001b[0m\n",
      "\u001b[31mTrue\u001b[0m\n"
     ]
    }
   ],
   "source": [
    "from termcolor import colored    #  python module for ANSII Color formatting for output in terminal\n",
    "#Check which layers have been frozen \n",
    "for layer in model3.layers:\n",
    "  print (colored(layer.name, 'blue'))\n",
    "  print (colored(layer.trainable, 'red'))"
   ]
  },
  {
   "cell_type": "code",
   "execution_count": 0,
   "metadata": {
    "colab": {},
    "colab_type": "code",
    "id": "BMQEtuSOWZyz"
   },
   "outputs": [],
   "source": [
    "model3.compile(loss='categorical_crossentropy',\n",
    "            optimizer='sgd',\n",
    "           metrics=['accuracy'])"
   ]
  },
  {
   "cell_type": "code",
   "execution_count": 0,
   "metadata": {
    "colab": {
     "base_uri": "https://localhost:8080/",
     "height": 1000
    },
    "colab_type": "code",
    "id": "mIoYqVEjk9cb",
    "outputId": "508b7853-6397-40e9-c6cc-5743c042bf88"
   },
   "outputs": [
    {
     "name": "stdout",
     "output_type": "stream",
     "text": [
      "Train on 8177 samples, validate on 2045 samples\n",
      "Epoch 1/30\n",
      "8177/8177 [==============================] - 24s 3ms/step - loss: 4.3929 - acc: 0.0566 - val_loss: 3.8742 - val_acc: 0.1178\n",
      "Epoch 2/30\n",
      "8177/8177 [==============================] - 20s 2ms/step - loss: 3.9272 - acc: 0.1090 - val_loss: 3.8145 - val_acc: 0.1218\n",
      "Epoch 3/30\n",
      "8177/8177 [==============================] - 20s 2ms/step - loss: 3.5683 - acc: 0.1554 - val_loss: 3.4951 - val_acc: 0.1790\n",
      "Epoch 4/30\n",
      "8177/8177 [==============================] - 20s 2ms/step - loss: 3.3009 - acc: 0.1981 - val_loss: 3.1057 - val_acc: 0.2416\n",
      "Epoch 5/30\n",
      "8177/8177 [==============================] - 20s 2ms/step - loss: 3.0593 - acc: 0.2442 - val_loss: 2.8964 - val_acc: 0.2743\n",
      "Epoch 6/30\n",
      "8177/8177 [==============================] - 20s 2ms/step - loss: 2.8311 - acc: 0.2813 - val_loss: 2.8765 - val_acc: 0.2797\n",
      "Epoch 7/30\n",
      "8177/8177 [==============================] - 20s 2ms/step - loss: 2.6105 - acc: 0.3331 - val_loss: 2.6097 - val_acc: 0.3369\n",
      "Epoch 8/30\n",
      "8177/8177 [==============================] - 20s 2ms/step - loss: 2.3338 - acc: 0.3763 - val_loss: 2.8738 - val_acc: 0.2851\n",
      "Epoch 9/30\n",
      "8177/8177 [==============================] - 20s 2ms/step - loss: 2.1224 - acc: 0.4268 - val_loss: 3.0423 - val_acc: 0.2650\n",
      "Epoch 10/30\n",
      "8177/8177 [==============================] - 20s 2ms/step - loss: 1.9752 - acc: 0.4670 - val_loss: 2.5463 - val_acc: 0.3472\n",
      "Epoch 11/30\n",
      "8177/8177 [==============================] - 20s 2ms/step - loss: 1.7935 - acc: 0.5047 - val_loss: 2.5900 - val_acc: 0.3364\n",
      "Epoch 12/30\n",
      "8177/8177 [==============================] - 20s 2ms/step - loss: 1.6025 - acc: 0.5478 - val_loss: 2.7357 - val_acc: 0.3384\n",
      "Epoch 13/30\n",
      "8177/8177 [==============================] - 20s 2ms/step - loss: 1.3573 - acc: 0.6150 - val_loss: 2.5925 - val_acc: 0.3834\n",
      "Epoch 14/30\n",
      "8177/8177 [==============================] - 20s 2ms/step - loss: 1.2455 - acc: 0.6475 - val_loss: 2.6144 - val_acc: 0.3746\n",
      "Epoch 15/30\n",
      "8177/8177 [==============================] - 20s 2ms/step - loss: 0.9785 - acc: 0.7121 - val_loss: 2.8412 - val_acc: 0.3482\n",
      "Epoch 16/30\n",
      "8177/8177 [==============================] - 20s 2ms/step - loss: 0.8904 - acc: 0.7471 - val_loss: 2.9021 - val_acc: 0.3917\n",
      "Epoch 17/30\n",
      "8177/8177 [==============================] - 20s 2ms/step - loss: 0.6972 - acc: 0.7964 - val_loss: 2.9349 - val_acc: 0.3804\n",
      "Epoch 18/30\n",
      "8177/8177 [==============================] - 20s 2ms/step - loss: 0.4873 - acc: 0.8506 - val_loss: 2.8837 - val_acc: 0.3853\n",
      "Epoch 19/30\n",
      "8177/8177 [==============================] - 20s 2ms/step - loss: 0.3644 - acc: 0.8882 - val_loss: 2.8301 - val_acc: 0.3760\n",
      "Epoch 20/30\n",
      "8177/8177 [==============================] - 20s 2ms/step - loss: 0.2933 - acc: 0.9088 - val_loss: 3.1589 - val_acc: 0.3956\n",
      "Epoch 21/30\n",
      "8177/8177 [==============================] - 20s 2ms/step - loss: 0.3232 - acc: 0.9016 - val_loss: 3.4539 - val_acc: 0.3071\n",
      "Epoch 22/30\n",
      "8177/8177 [==============================] - 20s 2ms/step - loss: 0.2995 - acc: 0.9118 - val_loss: 3.3567 - val_acc: 0.3995\n",
      "Epoch 23/30\n",
      "8177/8177 [==============================] - 20s 2ms/step - loss: 0.1202 - acc: 0.9664 - val_loss: 3.2619 - val_acc: 0.4054\n",
      "Epoch 24/30\n",
      "8177/8177 [==============================] - 20s 2ms/step - loss: 0.1076 - acc: 0.9672 - val_loss: 3.6112 - val_acc: 0.4127\n",
      "Epoch 25/30\n",
      "8177/8177 [==============================] - 20s 2ms/step - loss: 0.1122 - acc: 0.9653 - val_loss: 3.4595 - val_acc: 0.4215\n",
      "Epoch 26/30\n",
      "8177/8177 [==============================] - 20s 2ms/step - loss: 0.0941 - acc: 0.9719 - val_loss: 3.2411 - val_acc: 0.4137\n",
      "Epoch 27/30\n",
      "8177/8177 [==============================] - 20s 2ms/step - loss: 0.0852 - acc: 0.9751 - val_loss: 3.3821 - val_acc: 0.4215\n",
      "Epoch 28/30\n",
      "8177/8177 [==============================] - 20s 2ms/step - loss: 0.0767 - acc: 0.9784 - val_loss: 3.4778 - val_acc: 0.4166\n",
      "Epoch 29/30\n",
      "8177/8177 [==============================] - 20s 2ms/step - loss: 0.0655 - acc: 0.9813 - val_loss: 3.5469 - val_acc: 0.4005\n",
      "Epoch 30/30\n",
      "8177/8177 [==============================] - 20s 2ms/step - loss: 0.0613 - acc: 0.9813 - val_loss: 3.5670 - val_acc: 0.4103\n"
     ]
    },
    {
     "data": {
      "text/plain": [
       "<keras.callbacks.History at 0x7ff100555780>"
      ]
     },
     "execution_count": 54,
     "metadata": {
      "tags": []
     },
     "output_type": "execute_result"
    }
   ],
   "source": [
    "model3.fit(x_train, y_train ,batch_size=128,validation_data=(x_val, y_val), epochs = 30, callbacks=callback_list)"
   ]
  },
  {
   "cell_type": "markdown",
   "metadata": {
    "colab_type": "text",
    "id": "Px4Pf5NpSXyv"
   },
   "source": [
    "Validation accuracy has slightly improved. But it is still lower. We will increase the training data quantity to see if the model stops overfitting. "
   ]
  },
  {
   "cell_type": "code",
   "execution_count": 0,
   "metadata": {
    "colab": {
     "base_uri": "https://localhost:8080/",
     "height": 69
    },
    "colab_type": "code",
    "id": "7nniIU76Shrs",
    "outputId": "c8b17a9d-d4a0-4f83-8479-2d0f46fe6261"
   },
   "outputs": [
    {
     "name": "stdout",
     "output_type": "stream",
     "text": [
      "(8177, 128, 128, 3)\n",
      "(10357, 128, 128, 3)\n",
      "(18534, 128, 128, 3)\n"
     ]
    }
   ],
   "source": [
    "print(x_train.shape)\n",
    "print(x_test.shape)\n",
    "Xtrain_new = np.vstack((x_train,x_test))\n",
    "print(Xtrain_new.shape)"
   ]
  },
  {
   "cell_type": "code",
   "execution_count": 0,
   "metadata": {
    "colab": {
     "base_uri": "https://localhost:8080/",
     "height": 69
    },
    "colab_type": "code",
    "id": "P9pZtLOqS6-R",
    "outputId": "7f36a071-a695-4904-b30e-efe23a481791"
   },
   "outputs": [
    {
     "name": "stdout",
     "output_type": "stream",
     "text": [
      "(8177, 120)\n",
      "(10357, 120)\n",
      "(18534, 120)\n"
     ]
    }
   ],
   "source": [
    "print(y_train.shape)\n",
    "print(y_test.shape)\n",
    "ytrain_new = np.vstack((y_train,y_test))\n",
    "print(ytrain_new.shape)"
   ]
  },
  {
   "cell_type": "code",
   "execution_count": 0,
   "metadata": {
    "colab": {},
    "colab_type": "code",
    "id": "9FCyjq2nIUTG"
   },
   "outputs": [],
   "source": [
    "#model5 = Model(input=base_model.input, output=predictions1)\n",
    "#model5.summary()"
   ]
  },
  {
   "cell_type": "code",
   "execution_count": 0,
   "metadata": {
    "colab": {},
    "colab_type": "code",
    "id": "arJi-HZoIaY-"
   },
   "outputs": [],
   "source": [
    "#from termcolor import colored    #  python module for ANSII Color formatting for output in terminal\n",
    "#Check which layers have been frozen \n",
    "#for layer in model4.layers:\n",
    " # print (colored(layer.name, 'blue'))\n",
    "  #print (colored(layer.trainable, 'red'))"
   ]
  },
  {
   "cell_type": "code",
   "execution_count": 0,
   "metadata": {
    "colab": {
     "base_uri": "https://localhost:8080/",
     "height": 294
    },
    "colab_type": "code",
    "id": "v9aQHekTRTRp",
    "outputId": "225339a6-eab3-44c2-9d78-0bd314bfdd07"
   },
   "outputs": [
    {
     "name": "stdout",
     "output_type": "stream",
     "text": [
      "Train on 18534 samples, validate on 2045 samples\n",
      "Epoch 1/30\n",
      "18534/18534 [==============================] - 46s 2ms/step - loss: 3.7747 - acc: 0.4285 - val_loss: 2.9753 - val_acc: 0.3971\n",
      "Epoch 2/30\n",
      "18534/18534 [==============================] - 43s 2ms/step - loss: 3.5150 - acc: 0.4402 - val_loss: 3.0829 - val_acc: 0.3765\n",
      "Epoch 3/30\n",
      "18534/18534 [==============================] - 44s 2ms/step - loss: 3.3914 - acc: 0.4418 - val_loss: 2.9639 - val_acc: 0.3770\n",
      "Epoch 4/30\n",
      "18534/18534 [==============================] - 44s 2ms/step - loss: 3.2915 - acc: 0.4429 - val_loss: 2.9633 - val_acc: 0.3756\n",
      "Epoch 5/30\n",
      "18534/18534 [==============================] - 43s 2ms/step - loss: 3.2000 - acc: 0.4441 - val_loss: 3.1274 - val_acc: 0.3579\n",
      "Epoch 6/30\n",
      "18534/18534 [==============================] - 43s 2ms/step - loss: 3.1270 - acc: 0.4443 - val_loss: 3.0452 - val_acc: 0.3623\n",
      "Epoch 7/30\n",
      "18534/18534 [==============================] - 43s 2ms/step - loss: 3.0675 - acc: 0.4445 - val_loss: 3.0618 - val_acc: 0.3692\n"
     ]
    },
    {
     "data": {
      "text/plain": [
       "<keras.callbacks.History at 0x7ff1004cddd8>"
      ]
     },
     "execution_count": 59,
     "metadata": {
      "tags": []
     },
     "output_type": "execute_result"
    }
   ],
   "source": [
    "model3.fit(Xtrain_new, ytrain_new ,batch_size=128,validation_data=(x_val, y_val), epochs = 30, callbacks=callback_list)"
   ]
  }
 ],
 "metadata": {
  "accelerator": "GPU",
  "colab": {
   "collapsed_sections": [],
   "machine_shape": "hm",
   "name": "CV_Project2_Dog_Breed_Classification_Questions.ipynb",
   "provenance": []
  },
  "kernelspec": {
   "display_name": "Python 3",
   "language": "python",
   "name": "python3"
  },
  "language_info": {
   "codemirror_mode": {
    "name": "ipython",
    "version": 3
   },
   "file_extension": ".py",
   "mimetype": "text/x-python",
   "name": "python",
   "nbconvert_exporter": "python",
   "pygments_lexer": "ipython3",
   "version": "3.7.3"
  }
 },
 "nbformat": 4,
 "nbformat_minor": 1
}
