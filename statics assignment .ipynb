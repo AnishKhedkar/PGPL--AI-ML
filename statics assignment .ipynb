{
 "cells": [
  {
   "cell_type": "code",
   "execution_count": 1,
   "metadata": {},
   "outputs": [],
   "source": [
    "##IMPORTING LIBRARIES\n",
    "import pandas as pd\n",
    "import numpy as np\n",
    "import seaborn as sns\n",
    "import scipy.stats as stats\n",
    "import scipy\n",
    "from matplotlib import pyplot as plt"
   ]
  },
  {
   "cell_type": "code",
   "execution_count": 2,
   "metadata": {},
   "outputs": [
    {
     "data": {
      "text/html": [
       "<div>\n",
       "<style scoped>\n",
       "    .dataframe tbody tr th:only-of-type {\n",
       "        vertical-align: middle;\n",
       "    }\n",
       "\n",
       "    .dataframe tbody tr th {\n",
       "        vertical-align: top;\n",
       "    }\n",
       "\n",
       "    .dataframe thead th {\n",
       "        text-align: right;\n",
       "    }\n",
       "</style>\n",
       "<table border=\"1\" class=\"dataframe\">\n",
       "  <thead>\n",
       "    <tr style=\"text-align: right;\">\n",
       "      <th></th>\n",
       "      <th>original</th>\n",
       "      <th>short</th>\n",
       "    </tr>\n",
       "  </thead>\n",
       "  <tbody>\n",
       "    <tr>\n",
       "      <th>0</th>\n",
       "      <td>I enjoy listening to music.</td>\n",
       "      <td>Music</td>\n",
       "    </tr>\n",
       "    <tr>\n",
       "      <th>1</th>\n",
       "      <td>I prefer.</td>\n",
       "      <td>Slow songs or fast songs</td>\n",
       "    </tr>\n",
       "    <tr>\n",
       "      <th>2</th>\n",
       "      <td>Dance, Disco, Funk</td>\n",
       "      <td>Dance</td>\n",
       "    </tr>\n",
       "    <tr>\n",
       "      <th>3</th>\n",
       "      <td>Folk music</td>\n",
       "      <td>Folk</td>\n",
       "    </tr>\n",
       "    <tr>\n",
       "      <th>4</th>\n",
       "      <td>Country</td>\n",
       "      <td>Country</td>\n",
       "    </tr>\n",
       "    <tr>\n",
       "      <th>5</th>\n",
       "      <td>Classical</td>\n",
       "      <td>Classical music</td>\n",
       "    </tr>\n",
       "    <tr>\n",
       "      <th>6</th>\n",
       "      <td>Musicals</td>\n",
       "      <td>Musical</td>\n",
       "    </tr>\n",
       "    <tr>\n",
       "      <th>7</th>\n",
       "      <td>Pop</td>\n",
       "      <td>Pop</td>\n",
       "    </tr>\n",
       "    <tr>\n",
       "      <th>8</th>\n",
       "      <td>Rock</td>\n",
       "      <td>Rock</td>\n",
       "    </tr>\n",
       "    <tr>\n",
       "      <th>9</th>\n",
       "      <td>Metal, Hard rock</td>\n",
       "      <td>Metal or Hardrock</td>\n",
       "    </tr>\n",
       "    <tr>\n",
       "      <th>10</th>\n",
       "      <td>Punk</td>\n",
       "      <td>Punk</td>\n",
       "    </tr>\n",
       "    <tr>\n",
       "      <th>11</th>\n",
       "      <td>Hip hop, Rap</td>\n",
       "      <td>Hiphop, Rap</td>\n",
       "    </tr>\n",
       "    <tr>\n",
       "      <th>12</th>\n",
       "      <td>Reggae, Ska</td>\n",
       "      <td>Reggae, Ska</td>\n",
       "    </tr>\n",
       "    <tr>\n",
       "      <th>13</th>\n",
       "      <td>Swing, Jazz</td>\n",
       "      <td>Swing, Jazz</td>\n",
       "    </tr>\n",
       "    <tr>\n",
       "      <th>14</th>\n",
       "      <td>Rock n Roll</td>\n",
       "      <td>Rock n roll</td>\n",
       "    </tr>\n",
       "    <tr>\n",
       "      <th>15</th>\n",
       "      <td>Alternative music</td>\n",
       "      <td>Alternative</td>\n",
       "    </tr>\n",
       "    <tr>\n",
       "      <th>16</th>\n",
       "      <td>Latin</td>\n",
       "      <td>Latino</td>\n",
       "    </tr>\n",
       "    <tr>\n",
       "      <th>17</th>\n",
       "      <td>Techno, Trance</td>\n",
       "      <td>Techno, Trance</td>\n",
       "    </tr>\n",
       "    <tr>\n",
       "      <th>18</th>\n",
       "      <td>Opera</td>\n",
       "      <td>Opera</td>\n",
       "    </tr>\n",
       "    <tr>\n",
       "      <th>19</th>\n",
       "      <td>I really enjoy watching movies.</td>\n",
       "      <td>Movies</td>\n",
       "    </tr>\n",
       "    <tr>\n",
       "      <th>20</th>\n",
       "      <td>Horror movies</td>\n",
       "      <td>Horror</td>\n",
       "    </tr>\n",
       "    <tr>\n",
       "      <th>21</th>\n",
       "      <td>Thriller movies</td>\n",
       "      <td>Thriller</td>\n",
       "    </tr>\n",
       "    <tr>\n",
       "      <th>22</th>\n",
       "      <td>Comedies</td>\n",
       "      <td>Comedy</td>\n",
       "    </tr>\n",
       "    <tr>\n",
       "      <th>23</th>\n",
       "      <td>Romantic movies</td>\n",
       "      <td>Romantic</td>\n",
       "    </tr>\n",
       "    <tr>\n",
       "      <th>24</th>\n",
       "      <td>Sci-fi movies</td>\n",
       "      <td>Sci-fi</td>\n",
       "    </tr>\n",
       "    <tr>\n",
       "      <th>25</th>\n",
       "      <td>War movies</td>\n",
       "      <td>War</td>\n",
       "    </tr>\n",
       "    <tr>\n",
       "      <th>26</th>\n",
       "      <td>Tales</td>\n",
       "      <td>Fantasy/Fairy tales</td>\n",
       "    </tr>\n",
       "    <tr>\n",
       "      <th>27</th>\n",
       "      <td>Cartoons</td>\n",
       "      <td>Animated</td>\n",
       "    </tr>\n",
       "    <tr>\n",
       "      <th>28</th>\n",
       "      <td>Documentaries</td>\n",
       "      <td>Documentary</td>\n",
       "    </tr>\n",
       "    <tr>\n",
       "      <th>29</th>\n",
       "      <td>Western movies</td>\n",
       "      <td>Western</td>\n",
       "    </tr>\n",
       "    <tr>\n",
       "      <th>...</th>\n",
       "      <td>...</td>\n",
       "      <td>...</td>\n",
       "    </tr>\n",
       "    <tr>\n",
       "      <th>120</th>\n",
       "      <td>I have to be well prepared before public speak...</td>\n",
       "      <td>Public speaking</td>\n",
       "    </tr>\n",
       "    <tr>\n",
       "      <th>121</th>\n",
       "      <td>I will find a fault in myself if people don't ...</td>\n",
       "      <td>Unpopularity</td>\n",
       "    </tr>\n",
       "    <tr>\n",
       "      <th>122</th>\n",
       "      <td>I cry when I feel down or things don't go the ...</td>\n",
       "      <td>Life struggles</td>\n",
       "    </tr>\n",
       "    <tr>\n",
       "      <th>123</th>\n",
       "      <td>I am 100% happy with my life.</td>\n",
       "      <td>Happiness in life</td>\n",
       "    </tr>\n",
       "    <tr>\n",
       "      <th>124</th>\n",
       "      <td>I am always full of life and energy.</td>\n",
       "      <td>Energy levels</td>\n",
       "    </tr>\n",
       "    <tr>\n",
       "      <th>125</th>\n",
       "      <td>I prefer big dangerous dogs to smaller, calmer...</td>\n",
       "      <td>Small - big dogs</td>\n",
       "    </tr>\n",
       "    <tr>\n",
       "      <th>126</th>\n",
       "      <td>I believe all my personality traits are positive.</td>\n",
       "      <td>Personality</td>\n",
       "    </tr>\n",
       "    <tr>\n",
       "      <th>127</th>\n",
       "      <td>If I find something the doesn't belong to me I...</td>\n",
       "      <td>Finding lost valuables</td>\n",
       "    </tr>\n",
       "    <tr>\n",
       "      <th>128</th>\n",
       "      <td>I find it very difficult to get up in the morn...</td>\n",
       "      <td>Getting up</td>\n",
       "    </tr>\n",
       "    <tr>\n",
       "      <th>129</th>\n",
       "      <td>I have many different hobbies and interests.</td>\n",
       "      <td>Interests or hobbies</td>\n",
       "    </tr>\n",
       "    <tr>\n",
       "      <th>130</th>\n",
       "      <td>I always listen to my parents' advice.</td>\n",
       "      <td>Parents' advice</td>\n",
       "    </tr>\n",
       "    <tr>\n",
       "      <th>131</th>\n",
       "      <td>I enjoy taking part in surveys.</td>\n",
       "      <td>Questionnaires or polls</td>\n",
       "    </tr>\n",
       "    <tr>\n",
       "      <th>132</th>\n",
       "      <td>How much time do you spend online?</td>\n",
       "      <td>Internet usage</td>\n",
       "    </tr>\n",
       "    <tr>\n",
       "      <th>133</th>\n",
       "      <td>I save all the money I can.</td>\n",
       "      <td>Finances</td>\n",
       "    </tr>\n",
       "    <tr>\n",
       "      <th>134</th>\n",
       "      <td>I enjoy going to large shopping centres.</td>\n",
       "      <td>Shopping centres</td>\n",
       "    </tr>\n",
       "    <tr>\n",
       "      <th>135</th>\n",
       "      <td>I prefer branded clothing to non branded.</td>\n",
       "      <td>Branded clothing</td>\n",
       "    </tr>\n",
       "    <tr>\n",
       "      <th>136</th>\n",
       "      <td>I spend a lot of money on  partying and social...</td>\n",
       "      <td>Entertainment spending</td>\n",
       "    </tr>\n",
       "    <tr>\n",
       "      <th>137</th>\n",
       "      <td>I spend a lot of money on my appearance.</td>\n",
       "      <td>Spending on looks</td>\n",
       "    </tr>\n",
       "    <tr>\n",
       "      <th>138</th>\n",
       "      <td>I spend a lot of money on gadgets.</td>\n",
       "      <td>Spending on gadgets</td>\n",
       "    </tr>\n",
       "    <tr>\n",
       "      <th>139</th>\n",
       "      <td>I will hapilly pay more money for good, qualit...</td>\n",
       "      <td>Spending on healthy eating</td>\n",
       "    </tr>\n",
       "    <tr>\n",
       "      <th>140</th>\n",
       "      <td>Age</td>\n",
       "      <td>Age</td>\n",
       "    </tr>\n",
       "    <tr>\n",
       "      <th>141</th>\n",
       "      <td>Height</td>\n",
       "      <td>Height</td>\n",
       "    </tr>\n",
       "    <tr>\n",
       "      <th>142</th>\n",
       "      <td>Weight</td>\n",
       "      <td>Weight</td>\n",
       "    </tr>\n",
       "    <tr>\n",
       "      <th>143</th>\n",
       "      <td>How many siblings do you have?</td>\n",
       "      <td>Number of siblings</td>\n",
       "    </tr>\n",
       "    <tr>\n",
       "      <th>144</th>\n",
       "      <td>Gender</td>\n",
       "      <td>Gender</td>\n",
       "    </tr>\n",
       "    <tr>\n",
       "      <th>145</th>\n",
       "      <td>I am</td>\n",
       "      <td>Left - right handed</td>\n",
       "    </tr>\n",
       "    <tr>\n",
       "      <th>146</th>\n",
       "      <td>Highest education achieved</td>\n",
       "      <td>Education</td>\n",
       "    </tr>\n",
       "    <tr>\n",
       "      <th>147</th>\n",
       "      <td>I am the only child</td>\n",
       "      <td>Only child</td>\n",
       "    </tr>\n",
       "    <tr>\n",
       "      <th>148</th>\n",
       "      <td>I spent most of my childhood in a</td>\n",
       "      <td>Village - town</td>\n",
       "    </tr>\n",
       "    <tr>\n",
       "      <th>149</th>\n",
       "      <td>I lived most of my childhood in a</td>\n",
       "      <td>House - block of flats</td>\n",
       "    </tr>\n",
       "  </tbody>\n",
       "</table>\n",
       "<p>150 rows × 2 columns</p>\n",
       "</div>"
      ],
      "text/plain": [
       "                                              original  \\\n",
       "0                          I enjoy listening to music.   \n",
       "1                                            I prefer.   \n",
       "2                                   Dance, Disco, Funk   \n",
       "3                                           Folk music   \n",
       "4                                              Country   \n",
       "5                                            Classical   \n",
       "6                                             Musicals   \n",
       "7                                                  Pop   \n",
       "8                                                 Rock   \n",
       "9                                     Metal, Hard rock   \n",
       "10                                                Punk   \n",
       "11                                        Hip hop, Rap   \n",
       "12                                         Reggae, Ska   \n",
       "13                                         Swing, Jazz   \n",
       "14                                         Rock n Roll   \n",
       "15                                   Alternative music   \n",
       "16                                               Latin   \n",
       "17                                      Techno, Trance   \n",
       "18                                               Opera   \n",
       "19                     I really enjoy watching movies.   \n",
       "20                                       Horror movies   \n",
       "21                                     Thriller movies   \n",
       "22                                            Comedies   \n",
       "23                                     Romantic movies   \n",
       "24                                       Sci-fi movies   \n",
       "25                                          War movies   \n",
       "26                                               Tales   \n",
       "27                                            Cartoons   \n",
       "28                                       Documentaries   \n",
       "29                                      Western movies   \n",
       "..                                                 ...   \n",
       "120  I have to be well prepared before public speak...   \n",
       "121  I will find a fault in myself if people don't ...   \n",
       "122  I cry when I feel down or things don't go the ...   \n",
       "123                      I am 100% happy with my life.   \n",
       "124               I am always full of life and energy.   \n",
       "125  I prefer big dangerous dogs to smaller, calmer...   \n",
       "126  I believe all my personality traits are positive.   \n",
       "127  If I find something the doesn't belong to me I...   \n",
       "128  I find it very difficult to get up in the morn...   \n",
       "129       I have many different hobbies and interests.   \n",
       "130             I always listen to my parents' advice.   \n",
       "131                    I enjoy taking part in surveys.   \n",
       "132                 How much time do you spend online?   \n",
       "133                        I save all the money I can.   \n",
       "134           I enjoy going to large shopping centres.   \n",
       "135          I prefer branded clothing to non branded.   \n",
       "136  I spend a lot of money on  partying and social...   \n",
       "137           I spend a lot of money on my appearance.   \n",
       "138                 I spend a lot of money on gadgets.   \n",
       "139  I will hapilly pay more money for good, qualit...   \n",
       "140                                                Age   \n",
       "141                                             Height   \n",
       "142                                             Weight   \n",
       "143                     How many siblings do you have?   \n",
       "144                                             Gender   \n",
       "145                                               I am   \n",
       "146                         Highest education achieved   \n",
       "147                                I am the only child   \n",
       "148                  I spent most of my childhood in a   \n",
       "149                  I lived most of my childhood in a   \n",
       "\n",
       "                          short  \n",
       "0                         Music  \n",
       "1      Slow songs or fast songs  \n",
       "2                         Dance  \n",
       "3                          Folk  \n",
       "4                       Country  \n",
       "5               Classical music  \n",
       "6                       Musical  \n",
       "7                           Pop  \n",
       "8                          Rock  \n",
       "9             Metal or Hardrock  \n",
       "10                         Punk  \n",
       "11                  Hiphop, Rap  \n",
       "12                  Reggae, Ska  \n",
       "13                  Swing, Jazz  \n",
       "14                  Rock n roll  \n",
       "15                  Alternative  \n",
       "16                       Latino  \n",
       "17               Techno, Trance  \n",
       "18                        Opera  \n",
       "19                       Movies  \n",
       "20                       Horror  \n",
       "21                     Thriller  \n",
       "22                       Comedy  \n",
       "23                     Romantic  \n",
       "24                       Sci-fi  \n",
       "25                          War  \n",
       "26          Fantasy/Fairy tales  \n",
       "27                     Animated  \n",
       "28                  Documentary  \n",
       "29                      Western  \n",
       "..                          ...  \n",
       "120             Public speaking  \n",
       "121                Unpopularity  \n",
       "122              Life struggles  \n",
       "123           Happiness in life  \n",
       "124               Energy levels  \n",
       "125            Small - big dogs  \n",
       "126                 Personality  \n",
       "127      Finding lost valuables  \n",
       "128                  Getting up  \n",
       "129        Interests or hobbies  \n",
       "130             Parents' advice  \n",
       "131     Questionnaires or polls  \n",
       "132              Internet usage  \n",
       "133                    Finances  \n",
       "134            Shopping centres  \n",
       "135            Branded clothing  \n",
       "136      Entertainment spending  \n",
       "137           Spending on looks  \n",
       "138         Spending on gadgets  \n",
       "139  Spending on healthy eating  \n",
       "140                         Age  \n",
       "141                      Height  \n",
       "142                      Weight  \n",
       "143          Number of siblings  \n",
       "144                      Gender  \n",
       "145         Left - right handed  \n",
       "146                   Education  \n",
       "147                  Only child  \n",
       "148              Village - town  \n",
       "149      House - block of flats  \n",
       "\n",
       "[150 rows x 2 columns]"
      ]
     },
     "execution_count": 2,
     "metadata": {},
     "output_type": "execute_result"
    }
   ],
   "source": [
    "##READING THE COLUMNS DATASET WHICH CONTAIN THE ORIGINBAL COLUMN NAMES\n",
    "df_temp1 = pd.read_csv(\"columns.csv\")\n",
    "df_temp1"
   ]
  },
  {
   "cell_type": "code",
   "execution_count": 3,
   "metadata": {},
   "outputs": [
    {
     "data": {
      "text/plain": [
       "original    I live a very healthy lifestyle.\n",
       "short                         Healthy eating\n",
       "Name: 75, dtype: object"
      ]
     },
     "execution_count": 3,
     "metadata": {},
     "output_type": "execute_result"
    }
   ],
   "source": [
    "##retrieving a row randomly for verification\n",
    "df_temp1.loc[75]"
   ]
  },
  {
   "cell_type": "code",
   "execution_count": 7,
   "metadata": {
    "scrolled": true
   },
   "outputs": [
    {
     "data": {
      "text/html": [
       "<div>\n",
       "<style scoped>\n",
       "    .dataframe tbody tr th:only-of-type {\n",
       "        vertical-align: middle;\n",
       "    }\n",
       "\n",
       "    .dataframe tbody tr th {\n",
       "        vertical-align: top;\n",
       "    }\n",
       "\n",
       "    .dataframe thead th {\n",
       "        text-align: right;\n",
       "    }\n",
       "</style>\n",
       "<table border=\"1\" class=\"dataframe\">\n",
       "  <thead>\n",
       "    <tr style=\"text-align: right;\">\n",
       "      <th></th>\n",
       "      <th>Music</th>\n",
       "      <th>Slow songs or fast songs</th>\n",
       "      <th>Dance</th>\n",
       "      <th>Folk</th>\n",
       "      <th>Country</th>\n",
       "      <th>Classical music</th>\n",
       "      <th>Musical</th>\n",
       "      <th>Pop</th>\n",
       "      <th>Rock</th>\n",
       "      <th>Metal or Hardrock</th>\n",
       "      <th>...</th>\n",
       "      <th>Age</th>\n",
       "      <th>Height</th>\n",
       "      <th>Weight</th>\n",
       "      <th>Number of siblings</th>\n",
       "      <th>Gender</th>\n",
       "      <th>Left - right handed</th>\n",
       "      <th>Education</th>\n",
       "      <th>Only child</th>\n",
       "      <th>Village - town</th>\n",
       "      <th>House - block of flats</th>\n",
       "    </tr>\n",
       "  </thead>\n",
       "  <tbody>\n",
       "    <tr>\n",
       "      <th>0</th>\n",
       "      <td>5.0</td>\n",
       "      <td>3.0</td>\n",
       "      <td>2.0</td>\n",
       "      <td>1.0</td>\n",
       "      <td>2.0</td>\n",
       "      <td>2.0</td>\n",
       "      <td>1.0</td>\n",
       "      <td>5.0</td>\n",
       "      <td>5.0</td>\n",
       "      <td>1.0</td>\n",
       "      <td>...</td>\n",
       "      <td>20.0</td>\n",
       "      <td>163.0</td>\n",
       "      <td>48.0</td>\n",
       "      <td>1.0</td>\n",
       "      <td>female</td>\n",
       "      <td>right handed</td>\n",
       "      <td>college/bachelor degree</td>\n",
       "      <td>no</td>\n",
       "      <td>village</td>\n",
       "      <td>block of flats</td>\n",
       "    </tr>\n",
       "    <tr>\n",
       "      <th>1</th>\n",
       "      <td>4.0</td>\n",
       "      <td>4.0</td>\n",
       "      <td>2.0</td>\n",
       "      <td>1.0</td>\n",
       "      <td>1.0</td>\n",
       "      <td>1.0</td>\n",
       "      <td>2.0</td>\n",
       "      <td>3.0</td>\n",
       "      <td>5.0</td>\n",
       "      <td>4.0</td>\n",
       "      <td>...</td>\n",
       "      <td>19.0</td>\n",
       "      <td>163.0</td>\n",
       "      <td>58.0</td>\n",
       "      <td>2.0</td>\n",
       "      <td>female</td>\n",
       "      <td>right handed</td>\n",
       "      <td>college/bachelor degree</td>\n",
       "      <td>no</td>\n",
       "      <td>city</td>\n",
       "      <td>block of flats</td>\n",
       "    </tr>\n",
       "    <tr>\n",
       "      <th>2</th>\n",
       "      <td>5.0</td>\n",
       "      <td>5.0</td>\n",
       "      <td>2.0</td>\n",
       "      <td>2.0</td>\n",
       "      <td>3.0</td>\n",
       "      <td>4.0</td>\n",
       "      <td>5.0</td>\n",
       "      <td>3.0</td>\n",
       "      <td>5.0</td>\n",
       "      <td>3.0</td>\n",
       "      <td>...</td>\n",
       "      <td>20.0</td>\n",
       "      <td>176.0</td>\n",
       "      <td>67.0</td>\n",
       "      <td>2.0</td>\n",
       "      <td>female</td>\n",
       "      <td>right handed</td>\n",
       "      <td>secondary school</td>\n",
       "      <td>no</td>\n",
       "      <td>city</td>\n",
       "      <td>block of flats</td>\n",
       "    </tr>\n",
       "    <tr>\n",
       "      <th>3</th>\n",
       "      <td>5.0</td>\n",
       "      <td>3.0</td>\n",
       "      <td>2.0</td>\n",
       "      <td>1.0</td>\n",
       "      <td>1.0</td>\n",
       "      <td>1.0</td>\n",
       "      <td>1.0</td>\n",
       "      <td>2.0</td>\n",
       "      <td>2.0</td>\n",
       "      <td>1.0</td>\n",
       "      <td>...</td>\n",
       "      <td>22.0</td>\n",
       "      <td>172.0</td>\n",
       "      <td>59.0</td>\n",
       "      <td>1.0</td>\n",
       "      <td>female</td>\n",
       "      <td>right handed</td>\n",
       "      <td>college/bachelor degree</td>\n",
       "      <td>yes</td>\n",
       "      <td>city</td>\n",
       "      <td>house/bungalow</td>\n",
       "    </tr>\n",
       "    <tr>\n",
       "      <th>4</th>\n",
       "      <td>5.0</td>\n",
       "      <td>3.0</td>\n",
       "      <td>4.0</td>\n",
       "      <td>3.0</td>\n",
       "      <td>2.0</td>\n",
       "      <td>4.0</td>\n",
       "      <td>3.0</td>\n",
       "      <td>5.0</td>\n",
       "      <td>3.0</td>\n",
       "      <td>1.0</td>\n",
       "      <td>...</td>\n",
       "      <td>20.0</td>\n",
       "      <td>170.0</td>\n",
       "      <td>59.0</td>\n",
       "      <td>1.0</td>\n",
       "      <td>female</td>\n",
       "      <td>right handed</td>\n",
       "      <td>secondary school</td>\n",
       "      <td>no</td>\n",
       "      <td>village</td>\n",
       "      <td>house/bungalow</td>\n",
       "    </tr>\n",
       "  </tbody>\n",
       "</table>\n",
       "<p>5 rows × 150 columns</p>\n",
       "</div>"
      ],
      "text/plain": [
       "   Music  Slow songs or fast songs  Dance  Folk  Country  Classical music  \\\n",
       "0    5.0                       3.0    2.0   1.0      2.0              2.0   \n",
       "1    4.0                       4.0    2.0   1.0      1.0              1.0   \n",
       "2    5.0                       5.0    2.0   2.0      3.0              4.0   \n",
       "3    5.0                       3.0    2.0   1.0      1.0              1.0   \n",
       "4    5.0                       3.0    4.0   3.0      2.0              4.0   \n",
       "\n",
       "   Musical  Pop  Rock  Metal or Hardrock           ...             Age  \\\n",
       "0      1.0  5.0   5.0                1.0           ...            20.0   \n",
       "1      2.0  3.0   5.0                4.0           ...            19.0   \n",
       "2      5.0  3.0   5.0                3.0           ...            20.0   \n",
       "3      1.0  2.0   2.0                1.0           ...            22.0   \n",
       "4      3.0  5.0   3.0                1.0           ...            20.0   \n",
       "\n",
       "   Height  Weight  Number of siblings  Gender  Left - right handed  \\\n",
       "0   163.0    48.0                 1.0  female         right handed   \n",
       "1   163.0    58.0                 2.0  female         right handed   \n",
       "2   176.0    67.0                 2.0  female         right handed   \n",
       "3   172.0    59.0                 1.0  female         right handed   \n",
       "4   170.0    59.0                 1.0  female         right handed   \n",
       "\n",
       "                 Education  Only child  Village - town  House - block of flats  \n",
       "0  college/bachelor degree          no         village          block of flats  \n",
       "1  college/bachelor degree          no            city          block of flats  \n",
       "2         secondary school          no            city          block of flats  \n",
       "3  college/bachelor degree         yes            city          house/bungalow  \n",
       "4         secondary school          no         village          house/bungalow  \n",
       "\n",
       "[5 rows x 150 columns]"
      ]
     },
     "execution_count": 7,
     "metadata": {},
     "output_type": "execute_result"
    }
   ],
   "source": [
    "##READING THE RESPONSES FILE, THE COMPLETE DATASET\n",
    "df_temp2 = pd.read_csv(\"responses.csv\")\n",
    "df_temp2.head()"
   ]
  },
  {
   "cell_type": "code",
   "execution_count": 37,
   "metadata": {},
   "outputs": [
    {
     "data": {
      "text/plain": [
       "(1010, 150)"
      ]
     },
     "execution_count": 37,
     "metadata": {},
     "output_type": "execute_result"
    }
   ],
   "source": [
    "##checking the dimension of the dataframe\n",
    "df_temp2.shape"
   ]
  },
  {
   "cell_type": "code",
   "execution_count": 38,
   "metadata": {},
   "outputs": [
    {
     "data": {
      "text/html": [
       "<div>\n",
       "<style scoped>\n",
       "    .dataframe tbody tr th:only-of-type {\n",
       "        vertical-align: middle;\n",
       "    }\n",
       "\n",
       "    .dataframe tbody tr th {\n",
       "        vertical-align: top;\n",
       "    }\n",
       "\n",
       "    .dataframe thead th {\n",
       "        text-align: right;\n",
       "    }\n",
       "</style>\n",
       "<table border=\"1\" class=\"dataframe\">\n",
       "  <thead>\n",
       "    <tr style=\"text-align: right;\">\n",
       "      <th></th>\n",
       "      <th>Finances</th>\n",
       "      <th>Gender</th>\n",
       "      <th>Village - town</th>\n",
       "      <th>Healthy eating</th>\n",
       "    </tr>\n",
       "  </thead>\n",
       "  <tbody>\n",
       "    <tr>\n",
       "      <th>0</th>\n",
       "      <td>3.0</td>\n",
       "      <td>female</td>\n",
       "      <td>village</td>\n",
       "      <td>4.0</td>\n",
       "    </tr>\n",
       "    <tr>\n",
       "      <th>1</th>\n",
       "      <td>3.0</td>\n",
       "      <td>female</td>\n",
       "      <td>city</td>\n",
       "      <td>3.0</td>\n",
       "    </tr>\n",
       "    <tr>\n",
       "      <th>2</th>\n",
       "      <td>2.0</td>\n",
       "      <td>female</td>\n",
       "      <td>city</td>\n",
       "      <td>3.0</td>\n",
       "    </tr>\n",
       "    <tr>\n",
       "      <th>3</th>\n",
       "      <td>2.0</td>\n",
       "      <td>female</td>\n",
       "      <td>city</td>\n",
       "      <td>3.0</td>\n",
       "    </tr>\n",
       "    <tr>\n",
       "      <th>4</th>\n",
       "      <td>4.0</td>\n",
       "      <td>female</td>\n",
       "      <td>village</td>\n",
       "      <td>4.0</td>\n",
       "    </tr>\n",
       "  </tbody>\n",
       "</table>\n",
       "</div>"
      ],
      "text/plain": [
       "   Finances  Gender Village - town  Healthy eating\n",
       "0       3.0  female        village             4.0\n",
       "1       3.0  female           city             3.0\n",
       "2       2.0  female           city             3.0\n",
       "3       2.0  female           city             3.0\n",
       "4       4.0  female        village             4.0"
      ]
     },
     "execution_count": 38,
     "metadata": {},
     "output_type": "execute_result"
    }
   ],
   "source": [
    "##EXTRACTING ONLY THE RELEVANT COLUMNS AND MAKING A NEW DATAFRAME WITH THE SAME\n",
    "df1 = df_temp2[[\"Finances\", \"Gender\", \"Village - town\", \"Healthy eating\"]]\n",
    "df1.head()"
   ]
  },
  {
   "cell_type": "code",
   "execution_count": 39,
   "metadata": {},
   "outputs": [
    {
     "data": {
      "text/plain": [
       "Finances          3\n",
       "Gender            6\n",
       "Village - town    4\n",
       "Healthy eating    3\n",
       "dtype: int64"
      ]
     },
     "execution_count": 39,
     "metadata": {},
     "output_type": "execute_result"
    }
   ],
   "source": [
    "##CHECKING THE NUMBER OF NaN VALUES IN EACH COLUMN\n",
    "df1.isna().sum()"
   ]
  },
  {
   "cell_type": "code",
   "execution_count": 40,
   "metadata": {},
   "outputs": [
    {
     "data": {
      "text/html": [
       "<div>\n",
       "<style scoped>\n",
       "    .dataframe tbody tr th:only-of-type {\n",
       "        vertical-align: middle;\n",
       "    }\n",
       "\n",
       "    .dataframe tbody tr th {\n",
       "        vertical-align: top;\n",
       "    }\n",
       "\n",
       "    .dataframe thead th {\n",
       "        text-align: right;\n",
       "    }\n",
       "</style>\n",
       "<table border=\"1\" class=\"dataframe\">\n",
       "  <thead>\n",
       "    <tr style=\"text-align: right;\">\n",
       "      <th></th>\n",
       "      <th>Finances</th>\n",
       "      <th>Gender</th>\n",
       "      <th>Village - town</th>\n",
       "      <th>Healthy eating</th>\n",
       "    </tr>\n",
       "  </thead>\n",
       "  <tbody>\n",
       "    <tr>\n",
       "      <th>45</th>\n",
       "      <td>4.0</td>\n",
       "      <td>male</td>\n",
       "      <td>NaN</td>\n",
       "      <td>5.0</td>\n",
       "    </tr>\n",
       "    <tr>\n",
       "      <th>137</th>\n",
       "      <td>4.0</td>\n",
       "      <td>NaN</td>\n",
       "      <td>village</td>\n",
       "      <td>1.0</td>\n",
       "    </tr>\n",
       "    <tr>\n",
       "      <th>201</th>\n",
       "      <td>2.0</td>\n",
       "      <td>NaN</td>\n",
       "      <td>village</td>\n",
       "      <td>3.0</td>\n",
       "    </tr>\n",
       "    <tr>\n",
       "      <th>219</th>\n",
       "      <td>NaN</td>\n",
       "      <td>male</td>\n",
       "      <td>city</td>\n",
       "      <td>1.0</td>\n",
       "    </tr>\n",
       "    <tr>\n",
       "      <th>226</th>\n",
       "      <td>3.0</td>\n",
       "      <td>NaN</td>\n",
       "      <td>village</td>\n",
       "      <td>3.0</td>\n",
       "    </tr>\n",
       "    <tr>\n",
       "      <th>317</th>\n",
       "      <td>3.0</td>\n",
       "      <td>male</td>\n",
       "      <td>city</td>\n",
       "      <td>NaN</td>\n",
       "    </tr>\n",
       "    <tr>\n",
       "      <th>368</th>\n",
       "      <td>4.0</td>\n",
       "      <td>female</td>\n",
       "      <td>NaN</td>\n",
       "      <td>4.0</td>\n",
       "    </tr>\n",
       "    <tr>\n",
       "      <th>542</th>\n",
       "      <td>2.0</td>\n",
       "      <td>NaN</td>\n",
       "      <td>city</td>\n",
       "      <td>4.0</td>\n",
       "    </tr>\n",
       "    <tr>\n",
       "      <th>621</th>\n",
       "      <td>3.0</td>\n",
       "      <td>NaN</td>\n",
       "      <td>city</td>\n",
       "      <td>4.0</td>\n",
       "    </tr>\n",
       "    <tr>\n",
       "      <th>629</th>\n",
       "      <td>1.0</td>\n",
       "      <td>female</td>\n",
       "      <td>city</td>\n",
       "      <td>NaN</td>\n",
       "    </tr>\n",
       "    <tr>\n",
       "      <th>708</th>\n",
       "      <td>3.0</td>\n",
       "      <td>male</td>\n",
       "      <td>city</td>\n",
       "      <td>NaN</td>\n",
       "    </tr>\n",
       "    <tr>\n",
       "      <th>723</th>\n",
       "      <td>NaN</td>\n",
       "      <td>female</td>\n",
       "      <td>city</td>\n",
       "      <td>3.0</td>\n",
       "    </tr>\n",
       "    <tr>\n",
       "      <th>730</th>\n",
       "      <td>NaN</td>\n",
       "      <td>female</td>\n",
       "      <td>village</td>\n",
       "      <td>3.0</td>\n",
       "    </tr>\n",
       "    <tr>\n",
       "      <th>934</th>\n",
       "      <td>2.0</td>\n",
       "      <td>NaN</td>\n",
       "      <td>city</td>\n",
       "      <td>2.0</td>\n",
       "    </tr>\n",
       "    <tr>\n",
       "      <th>996</th>\n",
       "      <td>3.0</td>\n",
       "      <td>male</td>\n",
       "      <td>NaN</td>\n",
       "      <td>4.0</td>\n",
       "    </tr>\n",
       "    <tr>\n",
       "      <th>997</th>\n",
       "      <td>3.0</td>\n",
       "      <td>female</td>\n",
       "      <td>NaN</td>\n",
       "      <td>3.0</td>\n",
       "    </tr>\n",
       "  </tbody>\n",
       "</table>\n",
       "</div>"
      ],
      "text/plain": [
       "     Finances  Gender Village - town  Healthy eating\n",
       "45        4.0    male            NaN             5.0\n",
       "137       4.0     NaN        village             1.0\n",
       "201       2.0     NaN        village             3.0\n",
       "219       NaN    male           city             1.0\n",
       "226       3.0     NaN        village             3.0\n",
       "317       3.0    male           city             NaN\n",
       "368       4.0  female            NaN             4.0\n",
       "542       2.0     NaN           city             4.0\n",
       "621       3.0     NaN           city             4.0\n",
       "629       1.0  female           city             NaN\n",
       "708       3.0    male           city             NaN\n",
       "723       NaN  female           city             3.0\n",
       "730       NaN  female        village             3.0\n",
       "934       2.0     NaN           city             2.0\n",
       "996       3.0    male            NaN             4.0\n",
       "997       3.0  female            NaN             3.0"
      ]
     },
     "execution_count": 40,
     "metadata": {},
     "output_type": "execute_result"
    }
   ],
   "source": [
    "##displaying all the rows with NaN VALUES\n",
    "df1_temp1 = df1[df1.isna().any(axis=1)]\n",
    "df1_temp1"
   ]
  },
  {
   "cell_type": "code",
   "execution_count": 41,
   "metadata": {},
   "outputs": [
    {
     "data": {
      "text/plain": [
       "(16, 4)"
      ]
     },
     "execution_count": 41,
     "metadata": {},
     "output_type": "execute_result"
    }
   ],
   "source": [
    "df1_temp1.shape"
   ]
  },
  {
   "cell_type": "code",
   "execution_count": 42,
   "metadata": {},
   "outputs": [],
   "source": [
    "##IMPUTING THE NaN VALUES WITH MODE, COLUMN-WISE\n",
    "df1_new = df1.fillna(df1.mode().iloc[0])"
   ]
  },
  {
   "cell_type": "code",
   "execution_count": 43,
   "metadata": {},
   "outputs": [
    {
     "data": {
      "text/plain": [
       "Finances          0\n",
       "Gender            0\n",
       "Village - town    0\n",
       "Healthy eating    0\n",
       "dtype: int64"
      ]
     },
     "execution_count": 43,
     "metadata": {},
     "output_type": "execute_result"
    }
   ],
   "source": [
    "##checking if all the NaN values have been replaced across the dataset\n",
    "df1_new.isna().sum()"
   ]
  },
  {
   "cell_type": "code",
   "execution_count": 44,
   "metadata": {
    "scrolled": true
   },
   "outputs": [
    {
     "data": {
      "text/html": [
       "<div>\n",
       "<style scoped>\n",
       "    .dataframe tbody tr th:only-of-type {\n",
       "        vertical-align: middle;\n",
       "    }\n",
       "\n",
       "    .dataframe tbody tr th {\n",
       "        vertical-align: top;\n",
       "    }\n",
       "\n",
       "    .dataframe thead th {\n",
       "        text-align: right;\n",
       "    }\n",
       "</style>\n",
       "<table border=\"1\" class=\"dataframe\">\n",
       "  <thead>\n",
       "    <tr style=\"text-align: right;\">\n",
       "      <th></th>\n",
       "      <th>Finances</th>\n",
       "      <th>Gender</th>\n",
       "      <th>Village - town</th>\n",
       "      <th>Healthy eating</th>\n",
       "    </tr>\n",
       "  </thead>\n",
       "  <tbody>\n",
       "    <tr>\n",
       "      <th>0</th>\n",
       "      <td>3.0</td>\n",
       "      <td>female</td>\n",
       "      <td>village</td>\n",
       "      <td>4.0</td>\n",
       "    </tr>\n",
       "    <tr>\n",
       "      <th>1</th>\n",
       "      <td>3.0</td>\n",
       "      <td>female</td>\n",
       "      <td>city</td>\n",
       "      <td>3.0</td>\n",
       "    </tr>\n",
       "    <tr>\n",
       "      <th>2</th>\n",
       "      <td>2.0</td>\n",
       "      <td>female</td>\n",
       "      <td>city</td>\n",
       "      <td>3.0</td>\n",
       "    </tr>\n",
       "    <tr>\n",
       "      <th>3</th>\n",
       "      <td>2.0</td>\n",
       "      <td>female</td>\n",
       "      <td>city</td>\n",
       "      <td>3.0</td>\n",
       "    </tr>\n",
       "    <tr>\n",
       "      <th>4</th>\n",
       "      <td>4.0</td>\n",
       "      <td>female</td>\n",
       "      <td>village</td>\n",
       "      <td>4.0</td>\n",
       "    </tr>\n",
       "  </tbody>\n",
       "</table>\n",
       "</div>"
      ],
      "text/plain": [
       "   Finances  Gender Village - town  Healthy eating\n",
       "0       3.0  female        village             4.0\n",
       "1       3.0  female           city             3.0\n",
       "2       2.0  female           city             3.0\n",
       "3       2.0  female           city             3.0\n",
       "4       4.0  female        village             4.0"
      ]
     },
     "execution_count": 44,
     "metadata": {},
     "output_type": "execute_result"
    }
   ],
   "source": [
    "##displaying the new dataframe after replacing all the NaN values\n",
    "df1_new.head()"
   ]
  },
  {
   "cell_type": "markdown",
   "metadata": {},
   "source": [
    "GROUPING BY FINANCES & GENDER"
   ]
  },
  {
   "cell_type": "code",
   "execution_count": 45,
   "metadata": {},
   "outputs": [
    {
     "data": {
      "text/plain": [
       "Finances  Gender\n",
       "1.0       female     65\n",
       "          male       60\n",
       "2.0       female     98\n",
       "          male       76\n",
       "3.0       female    223\n",
       "          male      138\n",
       "4.0       female    150\n",
       "          male      102\n",
       "5.0       female     63\n",
       "          male       35\n",
       "Name: Gender, dtype: int64"
      ]
     },
     "execution_count": 45,
     "metadata": {},
     "output_type": "execute_result"
    }
   ],
   "source": [
    "df1_new.groupby([\"Finances\", \"Gender\"])[\"Gender\"].count()"
   ]
  },
  {
   "cell_type": "markdown",
   "metadata": {},
   "source": [
    "GROUPING BY FINANCES & LOCATION"
   ]
  },
  {
   "cell_type": "code",
   "execution_count": 46,
   "metadata": {
    "scrolled": true
   },
   "outputs": [
    {
     "data": {
      "text/plain": [
       "Finances  Village - town\n",
       "1.0       city               88\n",
       "          village            37\n",
       "2.0       city              133\n",
       "          village            41\n",
       "3.0       city              265\n",
       "          village            96\n",
       "4.0       city              168\n",
       "          village            84\n",
       "5.0       city               57\n",
       "          village            41\n",
       "Name: Village - town, dtype: int64"
      ]
     },
     "execution_count": 46,
     "metadata": {},
     "output_type": "execute_result"
    }
   ],
   "source": [
    "df1_new.groupby([\"Finances\", \"Village - town\"])[\"Village - town\"].count()"
   ]
  },
  {
   "cell_type": "markdown",
   "metadata": {},
   "source": [
    "GROUPING BY LIFESTYLE & GENDER"
   ]
  },
  {
   "cell_type": "code",
   "execution_count": 47,
   "metadata": {
    "scrolled": false
   },
   "outputs": [
    {
     "data": {
      "text/plain": [
       "Healthy eating  Gender\n",
       "1.0             female     36\n",
       "                male       45\n",
       "2.0             female     67\n",
       "                male       70\n",
       "3.0             female    329\n",
       "                male      178\n",
       "4.0             female    147\n",
       "                male       92\n",
       "5.0             female     20\n",
       "                male       26\n",
       "Name: Gender, dtype: int64"
      ]
     },
     "execution_count": 47,
     "metadata": {},
     "output_type": "execute_result"
    }
   ],
   "source": [
    "df1_new.groupby([\"Healthy eating\", \"Gender\"])[\"Gender\"].count()"
   ]
  },
  {
   "cell_type": "markdown",
   "metadata": {},
   "source": [
    "GROUPING BY LIFESTYLE & LOCATION"
   ]
  },
  {
   "cell_type": "code",
   "execution_count": 48,
   "metadata": {
    "scrolled": true
   },
   "outputs": [
    {
     "data": {
      "text/plain": [
       "Healthy eating  Village - town\n",
       "1.0             city               58\n",
       "                village            23\n",
       "2.0             city               88\n",
       "                village            49\n",
       "3.0             city              356\n",
       "                village           151\n",
       "4.0             city              177\n",
       "                village            62\n",
       "5.0             city               32\n",
       "                village            14\n",
       "Name: Village - town, dtype: int64"
      ]
     },
     "execution_count": 48,
     "metadata": {},
     "output_type": "execute_result"
    }
   ],
   "source": [
    "df1_new.groupby([\"Healthy eating\", \"Village - town\"])[\"Village - town\"].count()"
   ]
  },
  {
   "cell_type": "markdown",
   "metadata": {},
   "source": [
    "QUESTION 1 - \n",
    "\n",
    "Is saving money(Finances) gender dependent ? "
   ]
  },
  {
   "cell_type": "markdown",
   "metadata": {},
   "source": [
    "TEST 1 - CHI SQUARE TEST FOR INDEPENDENCE\n",
    "\n",
    "NULL HYPOTHESIS: \n",
    "\n",
    "H0: There is no difference in saving habits between males and females (saving habit is gender independent)\n",
    "\n",
    "ALTERNATIVE HYPOTHESIS: \n",
    "\n",
    "HA: There is significant difference in the saving habits between males and females (saving habit is gender dependent)\n",
    "\n",
    "Level of significance chosen, alpha = 0.05\n",
    "\n",
    "Test Statistic chosen is the chi-square test of independence to find out the difference of categorical variables "
   ]
  },
  {
   "cell_type": "markdown",
   "metadata": {},
   "source": [
    "CHECKING THE FREQUENCY DISTRIBUTION - SAVING HABITS OF MALES VS FEMALES "
   ]
  },
  {
   "cell_type": "code",
   "execution_count": 49,
   "metadata": {},
   "outputs": [
    {
     "data": {
      "text/plain": [
       "<matplotlib.axes._subplots.AxesSubplot at 0xd82c908>"
      ]
     },
     "execution_count": 49,
     "metadata": {},
     "output_type": "execute_result"
    },
    {
     "data": {
      "image/png": "[encoded data removed]",
      "text/plain": [
       "<Figure size 432x288 with 1 Axes>"
      ]
     },
     "metadata": {
      "needs_background": "light"
     },
     "output_type": "display_data"
    }
   ],
   "source": [
    "sns.countplot(x='Finances', hue = 'Gender', data = df1_new)"
   ]
  },
  {
   "cell_type": "markdown",
   "metadata": {},
   "source": [
    "The distribution looks identical for both the genders. \n",
    "\n",
    "There doesnt seem to be any level with relatively low frequecy, hence doesn't call for any further handling by combining low frequency level with other levels. "
   ]
  },
  {
   "cell_type": "markdown",
   "metadata": {},
   "source": [
    "EXTRACTING DATA FROM THE DATAFRAME FOR PREPARING THE CONTINGENCY TABLE"
   ]
  },
  {
   "cell_type": "markdown",
   "metadata": {},
   "source": [
    "PREPARING CONTIGENCY TABLE"
   ]
  },
  {
   "cell_type": "code",
   "execution_count": 50,
   "metadata": {},
   "outputs": [
    {
     "name": "stdout",
     "output_type": "stream",
     "text": [
      "Finances  1.0  2.0  3.0  4.0  5.0\n",
      "Gender                           \n",
      "female     65   98  223  150   63\n",
      "male       60   76  138  102   35\n"
     ]
    }
   ],
   "source": [
    "data_crosstab1 = pd.crosstab(df1_new['Gender'], df1_new['Finances'],margins = False)         \n",
    "print(data_crosstab1)"
   ]
  },
  {
   "cell_type": "markdown",
   "metadata": {},
   "source": [
    "CALCULATING THE P VALUE OR THE CHI-SQUARE STATISTIC VALUE"
   ]
  },
  {
   "cell_type": "code",
   "execution_count": 51,
   "metadata": {},
   "outputs": [
    {
     "name": "stdout",
     "output_type": "stream",
     "text": [
      "Chi-square statistic 5.32889 P value 0.255185 Degrees of freedom 4\n",
      "\n",
      " The expected frequencies table \n",
      "\n",
      "[[ 74.13366337 103.19405941 214.0980198  149.45346535  58.12079208]\n",
      " [ 50.86633663  70.80594059 146.9019802  102.54653465  39.87920792]]\n"
     ]
    }
   ],
   "source": [
    "chi2sq_1, pval_1, deg_1, exp_1 = scipy.stats.chi2_contingency(data_crosstab1, correction=True, lambda_=None)\n",
    "\n",
    "print('Chi-square statistic %3.5f P value %1.6f Degrees of freedom %d' %(chi2sq_1, pval_1, deg_1))\n",
    "print(\"\\n The expected frequencies table \\n\")\n",
    "print(exp_1)"
   ]
  },
  {
   "cell_type": "markdown",
   "metadata": {},
   "source": [
    "OBSERVATIONS & CONCLUSIONS:\n",
    "\n",
    "1. In this example, p value is 0.255 and > 0.05, so we DO NOT REJECT the null hypothesis.\n",
    "\n",
    "2. HENCE WE CONCLUDE THAT SAVING HABIT(FINANCES) IS GENDER INDEPENDENT."
   ]
  },
  {
   "cell_type": "markdown",
   "metadata": {},
   "source": [
    "QUESTION 1 - \n",
    "\n",
    "TEST 2 - MANN-WHITNEY U TEST"
   ]
  },
  {
   "cell_type": "code",
   "execution_count": 55,
   "metadata": {},
   "outputs": [
    {
     "ename": "SyntaxError",
     "evalue": "invalid syntax (<ipython-input-55-540454188b55>, line 6)",
     "output_type": "error",
     "traceback": [
      "\u001b[1;36m  File \u001b[1;32m\"<ipython-input-55-540454188b55>\"\u001b[1;36m, line \u001b[1;32m6\u001b[0m\n\u001b[1;33m    print(f'Since the P_value({p_value_FG_MW.round(3)}) < 0.05, we conclude there is an association between gender and finances')\u001b[0m\n\u001b[1;37m                                                                                                                               ^\u001b[0m\n\u001b[1;31mSyntaxError\u001b[0m\u001b[1;31m:\u001b[0m invalid syntax\n"
     ]
    }
   ],
   "source": [
    "##performing the Mann-Whitney U test\n",
    "M = np.array(df1_new.Finances[df1_new.Gender == 'male'])\n",
    "F = np.array(df1_new.Finances[df1_new.Gender == 'female'])\n",
    "U_stat , p_value_FG_MW  = stats.mannwhitneyu(x=F,y=M)\n",
    "if p_value_FG_MW > 0.05:\n",
    "    print(f'Since the P_value({p_value_FG_MW.round(3)}) < 0.05, we conclude there is an association between gender and finances')\n",
    "else: \n",
    "    print('We fail to reject the Null')"
   ]
  },
  {
   "cell_type": "markdown",
   "metadata": {},
   "source": [
    "QUESTION 2 - \n",
    "\n",
    "Is there any differences in money saving (finances) between people from city or village?\n",
    "\n",
    "TEST 1 - CHI SQUARE TEST FOR INDEPENDENCE"
   ]
  },
  {
   "cell_type": "markdown",
   "metadata": {},
   "source": [
    "NULL HYPOTHESIS: \n",
    "\n",
    "H0: There is no difference in saving habits between people from city & village (saving habit is location independent)\n",
    "\n",
    "ALTERNATIVE HYPOTHESIS: \n",
    "\n",
    "HA: There is significant difference in the saving habits between people from city & village (saving habit is location dependent)\n",
    "\n",
    "Level of significance chosen, alpha = 0.05\n",
    "\n",
    "Test Statistic chosen is the chi-square test of independence to find out the difference of categorical variables "
   ]
  },
  {
   "cell_type": "markdown",
   "metadata": {},
   "source": [
    "CHECKING THE FREQUENCY DISTRIBUTION - SAVING HABITS OF PEOPLE FROM VILLAGES VS PEOPLE FROM CITIES"
   ]
  },
  {
   "cell_type": "code",
   "execution_count": 25,
   "metadata": {},
   "outputs": [
    {
     "data": {
      "text/plain": [
       "<matplotlib.axes._subplots.AxesSubplot at 0xccb3518>"
      ]
     },
     "execution_count": 25,
     "metadata": {},
     "output_type": "execute_result"
    },
    {
     "data": {
      "image/png": "[encoded data removed]",
      "text/plain": [
       "<Figure size 432x288 with 1 Axes>"
      ]
     },
     "metadata": {
      "needs_background": "light"
     },
     "output_type": "display_data"
    }
   ],
   "source": [
    "sns.countplot(x='Finances', hue = 'Village - town', data = df1_new)"
   ]
  },
  {
   "cell_type": "markdown",
   "metadata": {},
   "source": [
    "The distribution looks identical for both the locations. \n",
    "\n",
    "There doesn't seem to be any level with relatively low frequecy, hence doesn't call for any further handling by combining low frequency level with other levels. "
   ]
  },
  {
   "cell_type": "markdown",
   "metadata": {},
   "source": [
    "EXTRACTING DATA FROM THE DATAFRAME FOR PREPARING THE CONTINGENCY TABLE"
   ]
  },
  {
   "cell_type": "markdown",
   "metadata": {},
   "source": [
    "PREPARING CONTIGENCY TABLE"
   ]
  },
  {
   "cell_type": "code",
   "execution_count": 26,
   "metadata": {},
   "outputs": [
    {
     "name": "stdout",
     "output_type": "stream",
     "text": [
      "Finances        1.0  2.0  3.0  4.0  5.0\n",
      "Village - town                         \n",
      "city             88  133  265  168   57\n",
      "village          37   41   96   84   41\n"
     ]
    }
   ],
   "source": [
    "data_crosstab2 = pd.crosstab(df1_new['Village - town'], df1_new['Finances'],margins = False)         \n",
    "print(data_crosstab2)"
   ]
  },
  {
   "cell_type": "markdown",
   "metadata": {},
   "source": [
    "CALCULATING THE P VALUE OR THE CHI-SQUARE STATISTIC VALUE"
   ]
  },
  {
   "cell_type": "code",
   "execution_count": 27,
   "metadata": {},
   "outputs": [
    {
     "name": "stdout",
     "output_type": "stream",
     "text": [
      "Chi-square statistic 13.33600 P value 0.009746 Degrees of freedom 4\n",
      "\n",
      " The expected frequencies table \n",
      "\n",
      "[[ 87.9950495  122.48910891 254.12970297 177.3980198   68.98811881]\n",
      " [ 37.0049505   51.51089109 106.87029703  74.6019802   29.01188119]]\n"
     ]
    }
   ],
   "source": [
    "chi2sq_2, pval_2, deg_2, exp_2 = scipy.stats.chi2_contingency(data_crosstab2, correction=True, lambda_=None)\n",
    "\n",
    "print('Chi-square statistic %3.5f P value %1.6f Degrees of freedom %d' %(chi2sq_2, pval_2, deg_2))\n",
    "print(\"\\n The expected frequencies table \\n\")\n",
    "print(exp_2)"
   ]
  },
  {
   "cell_type": "markdown",
   "metadata": {},
   "source": [
    "OBSERVATIONS & CONCLUSIONS:\n",
    "\n",
    "1. In this example, p value is 0.0097 and < 0.05, so we REJECT the null hypothesis.\n",
    "\n",
    "2. HENCE WE CONCLUDE THAT THERE IS SIGNIFICANT DIFFERENCE IN MONEY SAVING (FINANCES) BETWEEN PEOPLE FROM CITIES AND THOSE FROM VILLAGGES."
   ]
  },
  {
   "cell_type": "markdown",
   "metadata": {},
   "source": [
    "QUESTION 2 - \n",
    "\n",
    "MANN-WHITNEY U TEST"
   ]
  },
  {
   "cell_type": "code",
   "execution_count": 28,
   "metadata": {},
   "outputs": [
    {
     "ename": "SyntaxError",
     "evalue": "invalid syntax (<ipython-input-28-3d570a60e7bf>, line 6)",
     "output_type": "error",
     "traceback": [
      "\u001b[1;36m  File \u001b[1;32m\"<ipython-input-28-3d570a60e7bf>\"\u001b[1;36m, line \u001b[1;32m6\u001b[0m\n\u001b[1;33m    print(f'Since the P_value({p_value_FL_MW.round(4)}) < 0.05, we conclude there is an association between location and finances')\u001b[0m\n\u001b[1;37m                                                                                                                                 ^\u001b[0m\n\u001b[1;31mSyntaxError\u001b[0m\u001b[1;31m:\u001b[0m invalid syntax\n"
     ]
    }
   ],
   "source": [
    "##performing the Mann-Whitney U test\n",
    "M = np.array(df1_new.Finances[df1_new[\"Village - town\"] == 'city'])\n",
    "F = np.array(df1_new.Finances[df1_new[\"Village - town\"] == 'village'])\n",
    "U_stat , p_value_FL_MW  = stats.mannwhitneyu(x=F,y=M)\n",
    "if p_value_FL_MW < 0.05:\n",
    "    print(f'Since the P_value({p_value_FL_MW.round(4)}) < 0.05, we conclude there is an association between location and finances')\n",
    "else: \n",
    "    print('We fail to reject the Null')"
   ]
  },
  {
   "cell_type": "markdown",
   "metadata": {},
   "source": [
    "QUESTION 3 - \n",
    "\n",
    "Do Women have a Healthier Lifestyle than Men?\n",
    "\n",
    "TEST 1 - CHI SQUARE TEST FOR INDEPENDENCE"
   ]
  },
  {
   "cell_type": "markdown",
   "metadata": {},
   "source": [
    "NULL HYPOTHESIS: \n",
    "\n",
    "H0: Men & women have the same lifestyle \n",
    "\n",
    "ALTERNATIVE HYPOTHESIS: \n",
    "\n",
    "HA: Women have a healthier lifestyle \n",
    "\n",
    "Level of significance chosen, alpha = 0.05\n",
    "\n",
    "Test Statistic chosen is the chi-square test of independence to find out the difference of categorical variables "
   ]
  },
  {
   "cell_type": "markdown",
   "metadata": {},
   "source": [
    "CHECKING THE FREQUENCY DISTRIBUTION - HEALTHY EATING HABITS OF MEN VS WOMEN"
   ]
  },
  {
   "cell_type": "code",
   "execution_count": 29,
   "metadata": {},
   "outputs": [
    {
     "data": {
      "text/plain": [
       "<matplotlib.axes._subplots.AxesSubplot at 0xcedcd68>"
      ]
     },
     "execution_count": 29,
     "metadata": {},
     "output_type": "execute_result"
    },
    {
     "data": {
      "image/png": "[encoded data removed]",
      "text/plain": [
       "<Figure size 432x288 with 1 Axes>"
      ]
     },
     "metadata": {
      "needs_background": "light"
     },
     "output_type": "display_data"
    }
   ],
   "source": [
    "sns.countplot(x='Healthy eating', hue = 'Gender', data = df1_new)"
   ]
  },
  {
   "cell_type": "markdown",
   "metadata": {},
   "source": [
    "TThe distribution looks identical for both the locations, with the exception of few variations. \n",
    "\n",
    "There doesn't seem to be any level with relatively low frequecy, hence doesn't call for any further handling by combining low frequency level with other levels. "
   ]
  },
  {
   "cell_type": "markdown",
   "metadata": {},
   "source": [
    "EXTRACTING DATA FROM THE DATAFRAME FOR PREPARING THE CONTINGENCY TABLE"
   ]
  },
  {
   "cell_type": "code",
   "execution_count": 30,
   "metadata": {},
   "outputs": [
    {
     "name": "stdout",
     "output_type": "stream",
     "text": [
      "Healthy eating  1.0  2.0  3.0  4.0  5.0\n",
      "Gender                                 \n",
      "female           36   67  329  147   20\n",
      "male             45   70  178   92   26\n"
     ]
    }
   ],
   "source": [
    "data_crosstab3 = pd.crosstab(df1_new['Gender'], df1_new['Healthy eating'],margins = False)         \n",
    "print(data_crosstab3)"
   ]
  },
  {
   "cell_type": "markdown",
   "metadata": {},
   "source": [
    "CALCULATING THE P VALUE OR THE CHI-SQUARE STATISTIC VALUE"
   ]
  },
  {
   "cell_type": "code",
   "execution_count": 31,
   "metadata": {},
   "outputs": [
    {
     "name": "stdout",
     "output_type": "stream",
     "text": [
      "Chi-square statistic 25.36227 P value 0.000043 Degrees of freedom 4\n",
      "\n",
      " The expected frequencies table \n",
      "\n",
      "[[ 48.03861386  81.25049505 300.68613861 141.74356436  27.28118812]\n",
      " [ 32.96138614  55.74950495 206.31386139  97.25643564  18.71881188]]\n"
     ]
    }
   ],
   "source": [
    "chi2sq_3, pval_3, deg_3, exp_3 = scipy.stats.chi2_contingency(data_crosstab3, correction=True, lambda_=None)\n",
    "\n",
    "print('Chi-square statistic %3.5f P value %1.6f Degrees of freedom %d' %(chi2sq_3, pval_3, deg_3))\n",
    "print(\"\\n The expected frequencies table \\n\")\n",
    "print(exp_3)\n",
    "##df= 4\n",
    "##crit = stats.chi2.ppf(q = 0.95, df=4)\n",
    "##print(\"Critical value\")\n",
    "##print(crit)\n"
   ]
  },
  {
   "cell_type": "markdown",
   "metadata": {},
   "source": [
    "OBSERVATIONS & CONCLUSIONS:\n",
    "\n",
    "1. In this example, p value is 0.00043 and < 0.05, so we REJECT the null hypothesis.\n",
    "\n",
    "2. HENCE WE CONCLUDE THAT THERE IS SIGNIFICANT DIFFERENCE IN THE LIFESTYLE OF MEN & WOMEN. \n",
    "\n",
    "From the contingency tables, it can be concluded that women have a healthier lifestyle than men."
   ]
  },
  {
   "cell_type": "markdown",
   "metadata": {},
   "source": [
    "QUESTION 3-\n",
    "\n",
    "TEST 2 - MANN-WHITNEY U TEST"
   ]
  },
  {
   "cell_type": "code",
   "execution_count": 56,
   "metadata": {},
   "outputs": [
    {
     "name": "stdout",
     "output_type": "stream",
     "text": [
      "Since the P_value({p_value_LG_MW.round(4)}) < 0.05, we conclude there is an association between gender and lifestyle\n"
     ]
    }
   ],
   "source": [
    "##performing the Mann-Whitney U test\n",
    "M = np.array(df1_new[\"Healthy eating\"][df1_new[\"Gender\"] == 'male'])\n",
    "F = np.array(df1_new[\"Healthy eating\"][df1_new[\"Gender\"] == 'female'])\n",
    "U_stat , p_value_LG_MW  = stats.mannwhitneyu(x=F,y=M)\n",
    "if p_value_LG_MW < 0.05:\n",
    "    print('Since the P_value({p_value_LG_MW.round(4)}) < 0.05, we conclude there is an association between gender and lifestyle')\n",
    "else: \n",
    "    print('We fail to reject the Null')"
   ]
  },
  {
   "cell_type": "markdown",
   "metadata": {},
   "source": [
    "QUESTION 4 - \n",
    "\n",
    "Are village people healthier than city people ?\n",
    "\n",
    "TEST 1 - CHI SQUARE TEST FOR INDEPENDENCE"
   ]
  },
  {
   "cell_type": "markdown",
   "metadata": {},
   "source": [
    "NULL HYPOTHESIS: \n",
    "\n",
    "H0: Village people & city people have the same lifestyle \n",
    "\n",
    "ALTERNATIVE HYPOTHESIS: \n",
    "\n",
    "HA: Village people are healthier \n",
    "\n",
    "Level of significance chosen, alpha = 0.05\n",
    "\n",
    "Test Statistic chosen is the chi-square test of independence to find out the difference of categorical variables "
   ]
  },
  {
   "cell_type": "markdown",
   "metadata": {},
   "source": [
    "CHECKING THE FREQUENCY DISTRIBUTION - HEALTHY EATING HABITS OF PEOPLE FROM CITIES VS PEOPLE FROM VILLAGES"
   ]
  },
  {
   "cell_type": "code",
   "execution_count": 33,
   "metadata": {},
   "outputs": [
    {
     "data": {
      "text/plain": [
       "<matplotlib.axes._subplots.AxesSubplot at 0xce67668>"
      ]
     },
     "execution_count": 33,
     "metadata": {},
     "output_type": "execute_result"
    },
    {
     "data": {
      "image/png": "[encoded data removed]",
      "text/plain": [
       "<Figure size 432x288 with 1 Axes>"
      ]
     },
     "metadata": {
      "needs_background": "light"
     },
     "output_type": "display_data"
    }
   ],
   "source": [
    "sns.countplot(x='Healthy eating', hue = 'Village - town', data = df1_new)"
   ]
  },
  {
   "cell_type": "markdown",
   "metadata": {},
   "source": [
    "There doesnt seem to be any level with reelatively low frequecy, hence doesn't call for any further handling by combining low frequency level with other levels. "
   ]
  },
  {
   "cell_type": "markdown",
   "metadata": {},
   "source": [
    "EXTRACTING DATA FROM THE DATAFRAME FOR PREPARING THE CONTINGENCY TABLE"
   ]
  },
  {
   "cell_type": "code",
   "execution_count": 34,
   "metadata": {},
   "outputs": [
    {
     "name": "stdout",
     "output_type": "stream",
     "text": [
      "Healthy eating  1.0  2.0  3.0  4.0  5.0\n",
      "Village - town                         \n",
      "city             58   88  356  177   32\n",
      "village          23   49  151   62   14\n"
     ]
    }
   ],
   "source": [
    "data_crosstab4 = pd.crosstab(df1_new['Village - town'], df1_new['Healthy eating'],margins = False)         \n",
    "print(data_crosstab4)"
   ]
  },
  {
   "cell_type": "markdown",
   "metadata": {},
   "source": [
    "CALCULATING THE P VALUE OR THE CHI-SQUARE STATISTIC VALUE"
   ]
  },
  {
   "cell_type": "code",
   "execution_count": 35,
   "metadata": {},
   "outputs": [
    {
     "name": "stdout",
     "output_type": "stream",
     "text": [
      "Chi-square statistic 4.11472 P value 0.390703 Degrees of freedom 4\n",
      "\n",
      " The expected frequencies table \n",
      "\n",
      "[[ 57.02079208  96.44257426 356.90792079 168.24653465  32.38217822]\n",
      " [ 23.97920792  40.55742574 150.09207921  70.75346535  13.61782178]]\n"
     ]
    }
   ],
   "source": [
    "chi2sq_4, pval_4, deg_4, exp_4 = scipy.stats.chi2_contingency(data_crosstab4, correction=True, lambda_=None)\n",
    "\n",
    "print('Chi-square statistic %3.5f P value %1.6f Degrees of freedom %d' %(chi2sq_4, pval_4, deg_4))\n",
    "print(\"\\n The expected frequencies table \\n\")\n",
    "print(exp_4)"
   ]
  },
  {
   "cell_type": "markdown",
   "metadata": {},
   "source": [
    "OBSERVATION & CONCLUSIONS:\n",
    "\n",
    "1. In this example, p value is 0.39 and > 0.05, so we FAIL TO REJECT the null hypothesis.\n",
    "\n",
    "2. HENCE WE CONCLUDE THAT HEALTHY EATING HABIT IS INDEPENDENT OF THE LOCATION (CITY OR VILLAGE) \n",
    "\n",
    "3. THEREFORE, AT 0.05 LEVEL OF SIGNIFICANCE, WE CANNOT SAY THAT ONE GROUP IS HEALTHIER THAN THE OTHER."
   ]
  },
  {
   "cell_type": "markdown",
   "metadata": {},
   "source": [
    "QUESTION 4 - \n",
    "\n",
    "TEST 2 - MANN-WHITNEY U TEST"
   ]
  },
  {
   "cell_type": "code",
   "execution_count": 57,
   "metadata": {},
   "outputs": [
    {
     "name": "stdout",
     "output_type": "stream",
     "text": [
      "0.085499\n",
      "We fail to reject the Null\n"
     ]
    }
   ],
   "source": [
    "##performing the Mann-Whitney U test\n",
    "M = np.array(df1_new[\"Healthy eating\"][df1_new[\"Village - town\"] == 'city'])\n",
    "F = np.array(df1_new[\"Healthy eating\"][df1_new[\"Village - town\"] == 'village'])\n",
    "U_stat , p_value_LL_MW  = stats.mannwhitneyu(x=F,y=M)\n",
    "if p_value_LL_MW < 0.05:\n",
    "    print('Since the P_value({p_value_LL_MW.round(4)}) < 0.05, we conclude there is an association between location and lifestyle')\n",
    "else: \n",
    "    print(p_value_LL_MW.round(6))\n",
    "    print('We fail to reject the Null')"
   ]
  },
  {
   "cell_type": "code",
   "execution_count": null,
   "metadata": {},
   "outputs": [],
   "source": []
  },
  {
   "cell_type": "code",
   "execution_count": null,
   "metadata": {},
   "outputs": [],
   "source": []
  },
  {
   "cell_type": "code",
   "execution_count": null,
   "metadata": {},
   "outputs": [],
   "source": []
  },
  {
   "cell_type": "code",
   "execution_count": null,
   "metadata": {},
   "outputs": [],
   "source": []
  },
  {
   "cell_type": "code",
   "execution_count": null,
   "metadata": {},
   "outputs": [],
   "source": []
  }
 ],
 "metadata": {
  "kernelspec": {
   "display_name": "Python 2",
   "language": "python",
   "name": "python2"
  },
  "language_info": {
   "codemirror_mode": {
    "name": "ipython",
    "version": 2
   },
   "file_extension": ".py",
   "mimetype": "text/x-python",
   "name": "python",
   "nbconvert_exporter": "python",
   "pygments_lexer": "ipython2",
   "version": "2.7.15"
  }
 },
 "nbformat": 4,
 "nbformat_minor": 2
}
