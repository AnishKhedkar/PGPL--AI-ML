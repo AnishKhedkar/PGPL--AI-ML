{
 "cells": [
  {
   "cell_type": "code",
   "execution_count": 1,
   "metadata": {},
   "outputs": [],
   "source": [
    "import pandas as pd\n",
    "import numpy as np\n",
    "import matplotlib.pyplot as plt\n",
    "import seaborn as sns\n",
    "import random\n",
    "from scipy.stats import zscore\n",
    "from sklearn.decomposition import PCA\n",
    "from sklearn.model_selection import train_test_split\n",
    "from sklearn import metrics\n",
    "from sklearn.metrics import classification_report\n",
    "from sklearn.svm import SVC\n",
    "from sklearn.model_selection import GridSearchCV\n",
    "%matplotlib inline"
   ]
  },
  {
   "cell_type": "code",
   "execution_count": 2,
   "metadata": {},
   "outputs": [],
   "source": [
    "from mpl_toolkits.mplot3d import Axes3D\n",
    "import matplotlib.cm as cm\n",
    "import seaborn as sns \n",
    "from sklearn.preprocessing import StandardScaler\n",
    "from sklearn.metrics import confusion_matrix\n",
    "from sklearn.metrics import f1_score\n",
    "from sklearn.metrics import accuracy_score"
   ]
  },
  {
   "cell_type": "markdown",
   "metadata": {},
   "source": [
    "1. Data pre-processing - Understand the data and treat missing values (Use box plot), outliers (5 points)"
   ]
  },
  {
   "cell_type": "code",
   "execution_count": 3,
   "metadata": {},
   "outputs": [],
   "source": [
    "df=pd.read_csv('vehicle.csv')"
   ]
  },
  {
   "cell_type": "code",
   "execution_count": 4,
   "metadata": {},
   "outputs": [
    {
     "data": {
      "text/html": [
       "<div>\n",
       "<style scoped>\n",
       "    .dataframe tbody tr th:only-of-type {\n",
       "        vertical-align: middle;\n",
       "    }\n",
       "\n",
       "    .dataframe tbody tr th {\n",
       "        vertical-align: top;\n",
       "    }\n",
       "\n",
       "    .dataframe thead th {\n",
       "        text-align: right;\n",
       "    }\n",
       "</style>\n",
       "<table border=\"1\" class=\"dataframe\">\n",
       "  <thead>\n",
       "    <tr style=\"text-align: right;\">\n",
       "      <th></th>\n",
       "      <th>compactness</th>\n",
       "      <th>circularity</th>\n",
       "      <th>distance_circularity</th>\n",
       "      <th>radius_ratio</th>\n",
       "      <th>pr.axis_aspect_ratio</th>\n",
       "      <th>max.length_aspect_ratio</th>\n",
       "      <th>scatter_ratio</th>\n",
       "      <th>elongatedness</th>\n",
       "      <th>pr.axis_rectangularity</th>\n",
       "      <th>max.length_rectangularity</th>\n",
       "      <th>scaled_variance</th>\n",
       "      <th>scaled_variance.1</th>\n",
       "      <th>scaled_radius_of_gyration</th>\n",
       "      <th>scaled_radius_of_gyration.1</th>\n",
       "      <th>skewness_about</th>\n",
       "      <th>skewness_about.1</th>\n",
       "      <th>skewness_about.2</th>\n",
       "      <th>hollows_ratio</th>\n",
       "      <th>class</th>\n",
       "    </tr>\n",
       "  </thead>\n",
       "  <tbody>\n",
       "    <tr>\n",
       "      <th>0</th>\n",
       "      <td>95</td>\n",
       "      <td>48.0</td>\n",
       "      <td>83.0</td>\n",
       "      <td>178.0</td>\n",
       "      <td>72.0</td>\n",
       "      <td>10</td>\n",
       "      <td>162.0</td>\n",
       "      <td>42.0</td>\n",
       "      <td>20.0</td>\n",
       "      <td>159</td>\n",
       "      <td>176.0</td>\n",
       "      <td>379.0</td>\n",
       "      <td>184.0</td>\n",
       "      <td>70.0</td>\n",
       "      <td>6.0</td>\n",
       "      <td>16.0</td>\n",
       "      <td>187.0</td>\n",
       "      <td>197</td>\n",
       "      <td>van</td>\n",
       "    </tr>\n",
       "    <tr>\n",
       "      <th>1</th>\n",
       "      <td>91</td>\n",
       "      <td>41.0</td>\n",
       "      <td>84.0</td>\n",
       "      <td>141.0</td>\n",
       "      <td>57.0</td>\n",
       "      <td>9</td>\n",
       "      <td>149.0</td>\n",
       "      <td>45.0</td>\n",
       "      <td>19.0</td>\n",
       "      <td>143</td>\n",
       "      <td>170.0</td>\n",
       "      <td>330.0</td>\n",
       "      <td>158.0</td>\n",
       "      <td>72.0</td>\n",
       "      <td>9.0</td>\n",
       "      <td>14.0</td>\n",
       "      <td>189.0</td>\n",
       "      <td>199</td>\n",
       "      <td>van</td>\n",
       "    </tr>\n",
       "    <tr>\n",
       "      <th>2</th>\n",
       "      <td>104</td>\n",
       "      <td>50.0</td>\n",
       "      <td>106.0</td>\n",
       "      <td>209.0</td>\n",
       "      <td>66.0</td>\n",
       "      <td>10</td>\n",
       "      <td>207.0</td>\n",
       "      <td>32.0</td>\n",
       "      <td>23.0</td>\n",
       "      <td>158</td>\n",
       "      <td>223.0</td>\n",
       "      <td>635.0</td>\n",
       "      <td>220.0</td>\n",
       "      <td>73.0</td>\n",
       "      <td>14.0</td>\n",
       "      <td>9.0</td>\n",
       "      <td>188.0</td>\n",
       "      <td>196</td>\n",
       "      <td>car</td>\n",
       "    </tr>\n",
       "    <tr>\n",
       "      <th>3</th>\n",
       "      <td>93</td>\n",
       "      <td>41.0</td>\n",
       "      <td>82.0</td>\n",
       "      <td>159.0</td>\n",
       "      <td>63.0</td>\n",
       "      <td>9</td>\n",
       "      <td>144.0</td>\n",
       "      <td>46.0</td>\n",
       "      <td>19.0</td>\n",
       "      <td>143</td>\n",
       "      <td>160.0</td>\n",
       "      <td>309.0</td>\n",
       "      <td>127.0</td>\n",
       "      <td>63.0</td>\n",
       "      <td>6.0</td>\n",
       "      <td>10.0</td>\n",
       "      <td>199.0</td>\n",
       "      <td>207</td>\n",
       "      <td>van</td>\n",
       "    </tr>\n",
       "    <tr>\n",
       "      <th>4</th>\n",
       "      <td>85</td>\n",
       "      <td>44.0</td>\n",
       "      <td>70.0</td>\n",
       "      <td>205.0</td>\n",
       "      <td>103.0</td>\n",
       "      <td>52</td>\n",
       "      <td>149.0</td>\n",
       "      <td>45.0</td>\n",
       "      <td>19.0</td>\n",
       "      <td>144</td>\n",
       "      <td>241.0</td>\n",
       "      <td>325.0</td>\n",
       "      <td>188.0</td>\n",
       "      <td>127.0</td>\n",
       "      <td>9.0</td>\n",
       "      <td>11.0</td>\n",
       "      <td>180.0</td>\n",
       "      <td>183</td>\n",
       "      <td>bus</td>\n",
       "    </tr>\n",
       "  </tbody>\n",
       "</table>\n",
       "</div>"
      ],
      "text/plain": [
       "   compactness  circularity  distance_circularity  radius_ratio  \\\n",
       "0           95         48.0                  83.0         178.0   \n",
       "1           91         41.0                  84.0         141.0   \n",
       "2          104         50.0                 106.0         209.0   \n",
       "3           93         41.0                  82.0         159.0   \n",
       "4           85         44.0                  70.0         205.0   \n",
       "\n",
       "   pr.axis_aspect_ratio  max.length_aspect_ratio  scatter_ratio  \\\n",
       "0                  72.0                       10          162.0   \n",
       "1                  57.0                        9          149.0   \n",
       "2                  66.0                       10          207.0   \n",
       "3                  63.0                        9          144.0   \n",
       "4                 103.0                       52          149.0   \n",
       "\n",
       "   elongatedness  pr.axis_rectangularity  max.length_rectangularity  \\\n",
       "0           42.0                    20.0                        159   \n",
       "1           45.0                    19.0                        143   \n",
       "2           32.0                    23.0                        158   \n",
       "3           46.0                    19.0                        143   \n",
       "4           45.0                    19.0                        144   \n",
       "\n",
       "   scaled_variance  scaled_variance.1  scaled_radius_of_gyration  \\\n",
       "0            176.0              379.0                      184.0   \n",
       "1            170.0              330.0                      158.0   \n",
       "2            223.0              635.0                      220.0   \n",
       "3            160.0              309.0                      127.0   \n",
       "4            241.0              325.0                      188.0   \n",
       "\n",
       "   scaled_radius_of_gyration.1  skewness_about  skewness_about.1  \\\n",
       "0                         70.0             6.0              16.0   \n",
       "1                         72.0             9.0              14.0   \n",
       "2                         73.0            14.0               9.0   \n",
       "3                         63.0             6.0              10.0   \n",
       "4                        127.0             9.0              11.0   \n",
       "\n",
       "   skewness_about.2  hollows_ratio class  \n",
       "0             187.0            197   van  \n",
       "1             189.0            199   van  \n",
       "2             188.0            196   car  \n",
       "3             199.0            207   van  \n",
       "4             180.0            183   bus  "
      ]
     },
     "execution_count": 4,
     "metadata": {},
     "output_type": "execute_result"
    }
   ],
   "source": [
    "df.head()"
   ]
  },
  {
   "cell_type": "code",
   "execution_count": 5,
   "metadata": {},
   "outputs": [
    {
     "data": {
      "text/plain": [
       "(846, 19)"
      ]
     },
     "execution_count": 5,
     "metadata": {},
     "output_type": "execute_result"
    }
   ],
   "source": [
    "df.shape"
   ]
  },
  {
   "cell_type": "code",
   "execution_count": 6,
   "metadata": {},
   "outputs": [
    {
     "data": {
      "text/html": [
       "<div>\n",
       "<style scoped>\n",
       "    .dataframe tbody tr th:only-of-type {\n",
       "        vertical-align: middle;\n",
       "    }\n",
       "\n",
       "    .dataframe tbody tr th {\n",
       "        vertical-align: top;\n",
       "    }\n",
       "\n",
       "    .dataframe thead th {\n",
       "        text-align: right;\n",
       "    }\n",
       "</style>\n",
       "<table border=\"1\" class=\"dataframe\">\n",
       "  <thead>\n",
       "    <tr style=\"text-align: right;\">\n",
       "      <th></th>\n",
       "      <th>count</th>\n",
       "      <th>mean</th>\n",
       "      <th>std</th>\n",
       "      <th>min</th>\n",
       "      <th>25%</th>\n",
       "      <th>50%</th>\n",
       "      <th>75%</th>\n",
       "      <th>max</th>\n",
       "    </tr>\n",
       "  </thead>\n",
       "  <tbody>\n",
       "    <tr>\n",
       "      <th>compactness</th>\n",
       "      <td>846.0</td>\n",
       "      <td>93.678487</td>\n",
       "      <td>8.234474</td>\n",
       "      <td>73.0</td>\n",
       "      <td>87.00</td>\n",
       "      <td>93.0</td>\n",
       "      <td>100.0</td>\n",
       "      <td>119.0</td>\n",
       "    </tr>\n",
       "    <tr>\n",
       "      <th>circularity</th>\n",
       "      <td>841.0</td>\n",
       "      <td>44.828775</td>\n",
       "      <td>6.152172</td>\n",
       "      <td>33.0</td>\n",
       "      <td>40.00</td>\n",
       "      <td>44.0</td>\n",
       "      <td>49.0</td>\n",
       "      <td>59.0</td>\n",
       "    </tr>\n",
       "    <tr>\n",
       "      <th>distance_circularity</th>\n",
       "      <td>842.0</td>\n",
       "      <td>82.110451</td>\n",
       "      <td>15.778292</td>\n",
       "      <td>40.0</td>\n",
       "      <td>70.00</td>\n",
       "      <td>80.0</td>\n",
       "      <td>98.0</td>\n",
       "      <td>112.0</td>\n",
       "    </tr>\n",
       "    <tr>\n",
       "      <th>radius_ratio</th>\n",
       "      <td>840.0</td>\n",
       "      <td>168.888095</td>\n",
       "      <td>33.520198</td>\n",
       "      <td>104.0</td>\n",
       "      <td>141.00</td>\n",
       "      <td>167.0</td>\n",
       "      <td>195.0</td>\n",
       "      <td>333.0</td>\n",
       "    </tr>\n",
       "    <tr>\n",
       "      <th>pr.axis_aspect_ratio</th>\n",
       "      <td>844.0</td>\n",
       "      <td>61.678910</td>\n",
       "      <td>7.891463</td>\n",
       "      <td>47.0</td>\n",
       "      <td>57.00</td>\n",
       "      <td>61.0</td>\n",
       "      <td>65.0</td>\n",
       "      <td>138.0</td>\n",
       "    </tr>\n",
       "    <tr>\n",
       "      <th>max.length_aspect_ratio</th>\n",
       "      <td>846.0</td>\n",
       "      <td>8.567376</td>\n",
       "      <td>4.601217</td>\n",
       "      <td>2.0</td>\n",
       "      <td>7.00</td>\n",
       "      <td>8.0</td>\n",
       "      <td>10.0</td>\n",
       "      <td>55.0</td>\n",
       "    </tr>\n",
       "    <tr>\n",
       "      <th>scatter_ratio</th>\n",
       "      <td>845.0</td>\n",
       "      <td>168.901775</td>\n",
       "      <td>33.214848</td>\n",
       "      <td>112.0</td>\n",
       "      <td>147.00</td>\n",
       "      <td>157.0</td>\n",
       "      <td>198.0</td>\n",
       "      <td>265.0</td>\n",
       "    </tr>\n",
       "    <tr>\n",
       "      <th>elongatedness</th>\n",
       "      <td>845.0</td>\n",
       "      <td>40.933728</td>\n",
       "      <td>7.816186</td>\n",
       "      <td>26.0</td>\n",
       "      <td>33.00</td>\n",
       "      <td>43.0</td>\n",
       "      <td>46.0</td>\n",
       "      <td>61.0</td>\n",
       "    </tr>\n",
       "    <tr>\n",
       "      <th>pr.axis_rectangularity</th>\n",
       "      <td>843.0</td>\n",
       "      <td>20.582444</td>\n",
       "      <td>2.592933</td>\n",
       "      <td>17.0</td>\n",
       "      <td>19.00</td>\n",
       "      <td>20.0</td>\n",
       "      <td>23.0</td>\n",
       "      <td>29.0</td>\n",
       "    </tr>\n",
       "    <tr>\n",
       "      <th>max.length_rectangularity</th>\n",
       "      <td>846.0</td>\n",
       "      <td>147.998818</td>\n",
       "      <td>14.515652</td>\n",
       "      <td>118.0</td>\n",
       "      <td>137.00</td>\n",
       "      <td>146.0</td>\n",
       "      <td>159.0</td>\n",
       "      <td>188.0</td>\n",
       "    </tr>\n",
       "    <tr>\n",
       "      <th>scaled_variance</th>\n",
       "      <td>843.0</td>\n",
       "      <td>188.631079</td>\n",
       "      <td>31.411004</td>\n",
       "      <td>130.0</td>\n",
       "      <td>167.00</td>\n",
       "      <td>179.0</td>\n",
       "      <td>217.0</td>\n",
       "      <td>320.0</td>\n",
       "    </tr>\n",
       "    <tr>\n",
       "      <th>scaled_variance.1</th>\n",
       "      <td>844.0</td>\n",
       "      <td>439.494076</td>\n",
       "      <td>176.666903</td>\n",
       "      <td>184.0</td>\n",
       "      <td>318.00</td>\n",
       "      <td>363.5</td>\n",
       "      <td>587.0</td>\n",
       "      <td>1018.0</td>\n",
       "    </tr>\n",
       "    <tr>\n",
       "      <th>scaled_radius_of_gyration</th>\n",
       "      <td>844.0</td>\n",
       "      <td>174.709716</td>\n",
       "      <td>32.584808</td>\n",
       "      <td>109.0</td>\n",
       "      <td>149.00</td>\n",
       "      <td>173.5</td>\n",
       "      <td>198.0</td>\n",
       "      <td>268.0</td>\n",
       "    </tr>\n",
       "    <tr>\n",
       "      <th>scaled_radius_of_gyration.1</th>\n",
       "      <td>842.0</td>\n",
       "      <td>72.447743</td>\n",
       "      <td>7.486190</td>\n",
       "      <td>59.0</td>\n",
       "      <td>67.00</td>\n",
       "      <td>71.5</td>\n",
       "      <td>75.0</td>\n",
       "      <td>135.0</td>\n",
       "    </tr>\n",
       "    <tr>\n",
       "      <th>skewness_about</th>\n",
       "      <td>840.0</td>\n",
       "      <td>6.364286</td>\n",
       "      <td>4.920649</td>\n",
       "      <td>0.0</td>\n",
       "      <td>2.00</td>\n",
       "      <td>6.0</td>\n",
       "      <td>9.0</td>\n",
       "      <td>22.0</td>\n",
       "    </tr>\n",
       "    <tr>\n",
       "      <th>skewness_about.1</th>\n",
       "      <td>845.0</td>\n",
       "      <td>12.602367</td>\n",
       "      <td>8.936081</td>\n",
       "      <td>0.0</td>\n",
       "      <td>5.00</td>\n",
       "      <td>11.0</td>\n",
       "      <td>19.0</td>\n",
       "      <td>41.0</td>\n",
       "    </tr>\n",
       "    <tr>\n",
       "      <th>skewness_about.2</th>\n",
       "      <td>845.0</td>\n",
       "      <td>188.919527</td>\n",
       "      <td>6.155809</td>\n",
       "      <td>176.0</td>\n",
       "      <td>184.00</td>\n",
       "      <td>188.0</td>\n",
       "      <td>193.0</td>\n",
       "      <td>206.0</td>\n",
       "    </tr>\n",
       "    <tr>\n",
       "      <th>hollows_ratio</th>\n",
       "      <td>846.0</td>\n",
       "      <td>195.632388</td>\n",
       "      <td>7.438797</td>\n",
       "      <td>181.0</td>\n",
       "      <td>190.25</td>\n",
       "      <td>197.0</td>\n",
       "      <td>201.0</td>\n",
       "      <td>211.0</td>\n",
       "    </tr>\n",
       "  </tbody>\n",
       "</table>\n",
       "</div>"
      ],
      "text/plain": [
       "                             count        mean         std    min     25%  \\\n",
       "compactness                  846.0   93.678487    8.234474   73.0   87.00   \n",
       "circularity                  841.0   44.828775    6.152172   33.0   40.00   \n",
       "distance_circularity         842.0   82.110451   15.778292   40.0   70.00   \n",
       "radius_ratio                 840.0  168.888095   33.520198  104.0  141.00   \n",
       "pr.axis_aspect_ratio         844.0   61.678910    7.891463   47.0   57.00   \n",
       "max.length_aspect_ratio      846.0    8.567376    4.601217    2.0    7.00   \n",
       "scatter_ratio                845.0  168.901775   33.214848  112.0  147.00   \n",
       "elongatedness                845.0   40.933728    7.816186   26.0   33.00   \n",
       "pr.axis_rectangularity       843.0   20.582444    2.592933   17.0   19.00   \n",
       "max.length_rectangularity    846.0  147.998818   14.515652  118.0  137.00   \n",
       "scaled_variance              843.0  188.631079   31.411004  130.0  167.00   \n",
       "scaled_variance.1            844.0  439.494076  176.666903  184.0  318.00   \n",
       "scaled_radius_of_gyration    844.0  174.709716   32.584808  109.0  149.00   \n",
       "scaled_radius_of_gyration.1  842.0   72.447743    7.486190   59.0   67.00   \n",
       "skewness_about               840.0    6.364286    4.920649    0.0    2.00   \n",
       "skewness_about.1             845.0   12.602367    8.936081    0.0    5.00   \n",
       "skewness_about.2             845.0  188.919527    6.155809  176.0  184.00   \n",
       "hollows_ratio                846.0  195.632388    7.438797  181.0  190.25   \n",
       "\n",
       "                               50%    75%     max  \n",
       "compactness                   93.0  100.0   119.0  \n",
       "circularity                   44.0   49.0    59.0  \n",
       "distance_circularity          80.0   98.0   112.0  \n",
       "radius_ratio                 167.0  195.0   333.0  \n",
       "pr.axis_aspect_ratio          61.0   65.0   138.0  \n",
       "max.length_aspect_ratio        8.0   10.0    55.0  \n",
       "scatter_ratio                157.0  198.0   265.0  \n",
       "elongatedness                 43.0   46.0    61.0  \n",
       "pr.axis_rectangularity        20.0   23.0    29.0  \n",
       "max.length_rectangularity    146.0  159.0   188.0  \n",
       "scaled_variance              179.0  217.0   320.0  \n",
       "scaled_variance.1            363.5  587.0  1018.0  \n",
       "scaled_radius_of_gyration    173.5  198.0   268.0  \n",
       "scaled_radius_of_gyration.1   71.5   75.0   135.0  \n",
       "skewness_about                 6.0    9.0    22.0  \n",
       "skewness_about.1              11.0   19.0    41.0  \n",
       "skewness_about.2             188.0  193.0   206.0  \n",
       "hollows_ratio                197.0  201.0   211.0  "
      ]
     },
     "execution_count": 6,
     "metadata": {},
     "output_type": "execute_result"
    }
   ],
   "source": [
    "df.describe().T"
   ]
  },
  {
   "cell_type": "code",
   "execution_count": 7,
   "metadata": {},
   "outputs": [
    {
     "name": "stdout",
     "output_type": "stream",
     "text": [
      "<class 'pandas.core.frame.DataFrame'>\n",
      "RangeIndex: 846 entries, 0 to 845\n",
      "Data columns (total 19 columns):\n",
      "compactness                    846 non-null int64\n",
      "circularity                    841 non-null float64\n",
      "distance_circularity           842 non-null float64\n",
      "radius_ratio                   840 non-null float64\n",
      "pr.axis_aspect_ratio           844 non-null float64\n",
      "max.length_aspect_ratio        846 non-null int64\n",
      "scatter_ratio                  845 non-null float64\n",
      "elongatedness                  845 non-null float64\n",
      "pr.axis_rectangularity         843 non-null float64\n",
      "max.length_rectangularity      846 non-null int64\n",
      "scaled_variance                843 non-null float64\n",
      "scaled_variance.1              844 non-null float64\n",
      "scaled_radius_of_gyration      844 non-null float64\n",
      "scaled_radius_of_gyration.1    842 non-null float64\n",
      "skewness_about                 840 non-null float64\n",
      "skewness_about.1               845 non-null float64\n",
      "skewness_about.2               845 non-null float64\n",
      "hollows_ratio                  846 non-null int64\n",
      "class                          846 non-null object\n",
      "dtypes: float64(14), int64(4), object(1)\n",
      "memory usage: 125.7+ KB\n"
     ]
    }
   ],
   "source": [
    "df.info()"
   ]
  },
  {
   "cell_type": "code",
   "execution_count": 8,
   "metadata": {},
   "outputs": [
    {
     "data": {
      "text/plain": [
       "compactness                    0\n",
       "circularity                    5\n",
       "distance_circularity           4\n",
       "radius_ratio                   6\n",
       "pr.axis_aspect_ratio           2\n",
       "max.length_aspect_ratio        0\n",
       "scatter_ratio                  1\n",
       "elongatedness                  1\n",
       "pr.axis_rectangularity         3\n",
       "max.length_rectangularity      0\n",
       "scaled_variance                3\n",
       "scaled_variance.1              2\n",
       "scaled_radius_of_gyration      2\n",
       "scaled_radius_of_gyration.1    4\n",
       "skewness_about                 6\n",
       "skewness_about.1               1\n",
       "skewness_about.2               1\n",
       "hollows_ratio                  0\n",
       "class                          0\n",
       "dtype: int64"
      ]
     },
     "execution_count": 8,
     "metadata": {},
     "output_type": "execute_result"
    }
   ],
   "source": [
    "#looking for the missing values \n",
    "df.isna().sum()"
   ]
  },
  {
   "cell_type": "code",
   "execution_count": 9,
   "metadata": {},
   "outputs": [],
   "source": [
    "#treating the missing values with the mean values\n",
    "df.fillna(df.mean(), inplace=True)"
   ]
  },
  {
   "cell_type": "code",
   "execution_count": 10,
   "metadata": {},
   "outputs": [
    {
     "data": {
      "text/plain": [
       "compactness                    0\n",
       "circularity                    0\n",
       "distance_circularity           0\n",
       "radius_ratio                   0\n",
       "pr.axis_aspect_ratio           0\n",
       "max.length_aspect_ratio        0\n",
       "scatter_ratio                  0\n",
       "elongatedness                  0\n",
       "pr.axis_rectangularity         0\n",
       "max.length_rectangularity      0\n",
       "scaled_variance                0\n",
       "scaled_variance.1              0\n",
       "scaled_radius_of_gyration      0\n",
       "scaled_radius_of_gyration.1    0\n",
       "skewness_about                 0\n",
       "skewness_about.1               0\n",
       "skewness_about.2               0\n",
       "hollows_ratio                  0\n",
       "class                          0\n",
       "dtype: int64"
      ]
     },
     "execution_count": 10,
     "metadata": {},
     "output_type": "execute_result"
    }
   ],
   "source": [
    "#rechecking if all the values have been replaced\n",
    "df.isna().sum()"
   ]
  },
  {
   "cell_type": "markdown",
   "metadata": {},
   "source": [
    "All the missing values have been replcaed by the mean values "
   ]
  },
  {
   "cell_type": "code",
   "execution_count": 11,
   "metadata": {},
   "outputs": [
    {
     "data": {
      "text/plain": [
       "circularity                          AxesSubplot(0.1,0.77069;0.173913x0.12931)\n",
       "compactness                     AxesSubplot(0.308696,0.77069;0.173913x0.12931)\n",
       "distance_circularity            AxesSubplot(0.517391,0.77069;0.173913x0.12931)\n",
       "elongatedness                   AxesSubplot(0.726087,0.77069;0.173913x0.12931)\n",
       "hollows_ratio                       AxesSubplot(0.1,0.615517;0.173913x0.12931)\n",
       "max.length_aspect_ratio        AxesSubplot(0.308696,0.615517;0.173913x0.12931)\n",
       "max.length_rectangularity      AxesSubplot(0.517391,0.615517;0.173913x0.12931)\n",
       "pr.axis_aspect_ratio           AxesSubplot(0.726087,0.615517;0.173913x0.12931)\n",
       "pr.axis_rectangularity              AxesSubplot(0.1,0.460345;0.173913x0.12931)\n",
       "radius_ratio                   AxesSubplot(0.308696,0.460345;0.173913x0.12931)\n",
       "scaled_radius_of_gyration      AxesSubplot(0.517391,0.460345;0.173913x0.12931)\n",
       "scaled_radius_of_gyration.1    AxesSubplot(0.726087,0.460345;0.173913x0.12931)\n",
       "scaled_variance                     AxesSubplot(0.1,0.305172;0.173913x0.12931)\n",
       "scaled_variance.1              AxesSubplot(0.308696,0.305172;0.173913x0.12931)\n",
       "scatter_ratio                  AxesSubplot(0.517391,0.305172;0.173913x0.12931)\n",
       "skewness_about                 AxesSubplot(0.726087,0.305172;0.173913x0.12931)\n",
       "skewness_about.1                        AxesSubplot(0.1,0.15;0.173913x0.12931)\n",
       "skewness_about.2                   AxesSubplot(0.308696,0.15;0.173913x0.12931)\n",
       "dtype: object"
      ]
     },
     "execution_count": 11,
     "metadata": {},
     "output_type": "execute_result"
    },
    {
     "data": {
      "image/png": "[encoded data removed]",
      "text/plain": [
       "<Figure size 1440x1440 with 20 Axes>"
      ]
     },
     "metadata": {
      "needs_background": "light"
     },
     "output_type": "display_data"
    }
   ],
   "source": [
    "df.boxplot(return_type='axes', figsize=(20,20), rot = 90, by = 'class')"
   ]
  },
  {
   "cell_type": "markdown",
   "metadata": {},
   "source": [
    "we can notice that very few outliers are present and they can be removed"
   ]
  },
  {
   "cell_type": "code",
   "execution_count": 12,
   "metadata": {},
   "outputs": [
    {
     "name": "stdout",
     "output_type": "stream",
     "text": [
      "No of observations in original dataset : 846\n",
      "No of observations after removing outliners : 813\n"
     ]
    }
   ],
   "source": [
    "q1 = df.quantile(.25)\n",
    "q3 = df.quantile(.75)\n",
    "iqr = q3 - q1\n",
    "mincap = q1-(1.5*iqr)\n",
    "maxcap = q3+(1.5*iqr)\n",
    "df1 = df[~((df.select_dtypes(exclude='object') < mincap) | (df.select_dtypes(exclude='object') >maxcap)).any(axis=1)]\n",
    "print(\"No of observations in original dataset :\" , df.shape[0])\n",
    "print(\"No of observations after removing outliners :\" , df1.shape[0])"
   ]
  },
  {
   "cell_type": "code",
   "execution_count": 13,
   "metadata": {},
   "outputs": [
    {
     "data": {
      "text/plain": [
       "LabelEncoder()"
      ]
     },
     "execution_count": 13,
     "metadata": {},
     "output_type": "execute_result"
    }
   ],
   "source": [
    "# Encoding class variable: \n",
    "from sklearn import preprocessing\n",
    "le = preprocessing.LabelEncoder()\n",
    "le.fit(df1['class'])"
   ]
  },
  {
   "cell_type": "code",
   "execution_count": 14,
   "metadata": {},
   "outputs": [
    {
     "name": "stderr",
     "output_type": "stream",
     "text": [
      "C:\\ProgramData\\Anaconda3\\lib\\site-packages\\ipykernel_launcher.py:1: SettingWithCopyWarning: \n",
      "A value is trying to be set on a copy of a slice from a DataFrame.\n",
      "Try using .loc[row_indexer,col_indexer] = value instead\n",
      "\n",
      "See the caveats in the documentation: http://pandas.pydata.org/pandas-docs/stable/indexing.html#indexing-view-versus-copy\n",
      "  \"\"\"Entry point for launching an IPython kernel.\n"
     ]
    }
   ],
   "source": [
    "df1['class'] = le.transform(df1['class'])"
   ]
  },
  {
   "cell_type": "code",
   "execution_count": 15,
   "metadata": {},
   "outputs": [
    {
     "data": {
      "text/html": [
       "<div>\n",
       "<style scoped>\n",
       "    .dataframe tbody tr th:only-of-type {\n",
       "        vertical-align: middle;\n",
       "    }\n",
       "\n",
       "    .dataframe tbody tr th {\n",
       "        vertical-align: top;\n",
       "    }\n",
       "\n",
       "    .dataframe thead th {\n",
       "        text-align: right;\n",
       "    }\n",
       "</style>\n",
       "<table border=\"1\" class=\"dataframe\">\n",
       "  <thead>\n",
       "    <tr style=\"text-align: right;\">\n",
       "      <th></th>\n",
       "      <th>compactness</th>\n",
       "      <th>circularity</th>\n",
       "      <th>distance_circularity</th>\n",
       "      <th>radius_ratio</th>\n",
       "      <th>pr.axis_aspect_ratio</th>\n",
       "      <th>max.length_aspect_ratio</th>\n",
       "      <th>scatter_ratio</th>\n",
       "      <th>elongatedness</th>\n",
       "      <th>pr.axis_rectangularity</th>\n",
       "      <th>max.length_rectangularity</th>\n",
       "      <th>scaled_variance</th>\n",
       "      <th>scaled_variance.1</th>\n",
       "      <th>scaled_radius_of_gyration</th>\n",
       "      <th>scaled_radius_of_gyration.1</th>\n",
       "      <th>skewness_about</th>\n",
       "      <th>skewness_about.1</th>\n",
       "      <th>skewness_about.2</th>\n",
       "      <th>hollows_ratio</th>\n",
       "      <th>class</th>\n",
       "    </tr>\n",
       "  </thead>\n",
       "  <tbody>\n",
       "    <tr>\n",
       "      <th>0</th>\n",
       "      <td>95</td>\n",
       "      <td>48.000000</td>\n",
       "      <td>83.0</td>\n",
       "      <td>178.0</td>\n",
       "      <td>72.0</td>\n",
       "      <td>10</td>\n",
       "      <td>162.0</td>\n",
       "      <td>42.0</td>\n",
       "      <td>20.0</td>\n",
       "      <td>159</td>\n",
       "      <td>176.0</td>\n",
       "      <td>379.0</td>\n",
       "      <td>184.0</td>\n",
       "      <td>70.0</td>\n",
       "      <td>6.0</td>\n",
       "      <td>16.0</td>\n",
       "      <td>187.0</td>\n",
       "      <td>197</td>\n",
       "      <td>2</td>\n",
       "    </tr>\n",
       "    <tr>\n",
       "      <th>1</th>\n",
       "      <td>91</td>\n",
       "      <td>41.000000</td>\n",
       "      <td>84.0</td>\n",
       "      <td>141.0</td>\n",
       "      <td>57.0</td>\n",
       "      <td>9</td>\n",
       "      <td>149.0</td>\n",
       "      <td>45.0</td>\n",
       "      <td>19.0</td>\n",
       "      <td>143</td>\n",
       "      <td>170.0</td>\n",
       "      <td>330.0</td>\n",
       "      <td>158.0</td>\n",
       "      <td>72.0</td>\n",
       "      <td>9.0</td>\n",
       "      <td>14.0</td>\n",
       "      <td>189.0</td>\n",
       "      <td>199</td>\n",
       "      <td>2</td>\n",
       "    </tr>\n",
       "    <tr>\n",
       "      <th>2</th>\n",
       "      <td>104</td>\n",
       "      <td>50.000000</td>\n",
       "      <td>106.0</td>\n",
       "      <td>209.0</td>\n",
       "      <td>66.0</td>\n",
       "      <td>10</td>\n",
       "      <td>207.0</td>\n",
       "      <td>32.0</td>\n",
       "      <td>23.0</td>\n",
       "      <td>158</td>\n",
       "      <td>223.0</td>\n",
       "      <td>635.0</td>\n",
       "      <td>220.0</td>\n",
       "      <td>73.0</td>\n",
       "      <td>14.0</td>\n",
       "      <td>9.0</td>\n",
       "      <td>188.0</td>\n",
       "      <td>196</td>\n",
       "      <td>1</td>\n",
       "    </tr>\n",
       "    <tr>\n",
       "      <th>3</th>\n",
       "      <td>93</td>\n",
       "      <td>41.000000</td>\n",
       "      <td>82.0</td>\n",
       "      <td>159.0</td>\n",
       "      <td>63.0</td>\n",
       "      <td>9</td>\n",
       "      <td>144.0</td>\n",
       "      <td>46.0</td>\n",
       "      <td>19.0</td>\n",
       "      <td>143</td>\n",
       "      <td>160.0</td>\n",
       "      <td>309.0</td>\n",
       "      <td>127.0</td>\n",
       "      <td>63.0</td>\n",
       "      <td>6.0</td>\n",
       "      <td>10.0</td>\n",
       "      <td>199.0</td>\n",
       "      <td>207</td>\n",
       "      <td>2</td>\n",
       "    </tr>\n",
       "    <tr>\n",
       "      <th>5</th>\n",
       "      <td>107</td>\n",
       "      <td>44.828775</td>\n",
       "      <td>106.0</td>\n",
       "      <td>172.0</td>\n",
       "      <td>50.0</td>\n",
       "      <td>6</td>\n",
       "      <td>255.0</td>\n",
       "      <td>26.0</td>\n",
       "      <td>28.0</td>\n",
       "      <td>169</td>\n",
       "      <td>280.0</td>\n",
       "      <td>957.0</td>\n",
       "      <td>264.0</td>\n",
       "      <td>85.0</td>\n",
       "      <td>5.0</td>\n",
       "      <td>9.0</td>\n",
       "      <td>181.0</td>\n",
       "      <td>183</td>\n",
       "      <td>0</td>\n",
       "    </tr>\n",
       "  </tbody>\n",
       "</table>\n",
       "</div>"
      ],
      "text/plain": [
       "   compactness  circularity  distance_circularity  radius_ratio  \\\n",
       "0           95    48.000000                  83.0         178.0   \n",
       "1           91    41.000000                  84.0         141.0   \n",
       "2          104    50.000000                 106.0         209.0   \n",
       "3           93    41.000000                  82.0         159.0   \n",
       "5          107    44.828775                 106.0         172.0   \n",
       "\n",
       "   pr.axis_aspect_ratio  max.length_aspect_ratio  scatter_ratio  \\\n",
       "0                  72.0                       10          162.0   \n",
       "1                  57.0                        9          149.0   \n",
       "2                  66.0                       10          207.0   \n",
       "3                  63.0                        9          144.0   \n",
       "5                  50.0                        6          255.0   \n",
       "\n",
       "   elongatedness  pr.axis_rectangularity  max.length_rectangularity  \\\n",
       "0           42.0                    20.0                        159   \n",
       "1           45.0                    19.0                        143   \n",
       "2           32.0                    23.0                        158   \n",
       "3           46.0                    19.0                        143   \n",
       "5           26.0                    28.0                        169   \n",
       "\n",
       "   scaled_variance  scaled_variance.1  scaled_radius_of_gyration  \\\n",
       "0            176.0              379.0                      184.0   \n",
       "1            170.0              330.0                      158.0   \n",
       "2            223.0              635.0                      220.0   \n",
       "3            160.0              309.0                      127.0   \n",
       "5            280.0              957.0                      264.0   \n",
       "\n",
       "   scaled_radius_of_gyration.1  skewness_about  skewness_about.1  \\\n",
       "0                         70.0             6.0              16.0   \n",
       "1                         72.0             9.0              14.0   \n",
       "2                         73.0            14.0               9.0   \n",
       "3                         63.0             6.0              10.0   \n",
       "5                         85.0             5.0               9.0   \n",
       "\n",
       "   skewness_about.2  hollows_ratio  class  \n",
       "0             187.0            197      2  \n",
       "1             189.0            199      2  \n",
       "2             188.0            196      1  \n",
       "3             199.0            207      2  \n",
       "5             181.0            183      0  "
      ]
     },
     "execution_count": 15,
     "metadata": {},
     "output_type": "execute_result"
    }
   ],
   "source": [
    "df1.head()"
   ]
  },
  {
   "cell_type": "markdown",
   "metadata": {},
   "source": [
    "2. Understanding the attributes - Find the relationship between different attributes (Independent variables) and choose carefully which all attributes have to be a part of the analysis and why (5 points)"
   ]
  },
  {
   "cell_type": "code",
   "execution_count": 16,
   "metadata": {},
   "outputs": [
    {
     "data": {
      "text/html": [
       "<div>\n",
       "<style scoped>\n",
       "    .dataframe tbody tr th:only-of-type {\n",
       "        vertical-align: middle;\n",
       "    }\n",
       "\n",
       "    .dataframe tbody tr th {\n",
       "        vertical-align: top;\n",
       "    }\n",
       "\n",
       "    .dataframe thead th {\n",
       "        text-align: right;\n",
       "    }\n",
       "</style>\n",
       "<table border=\"1\" class=\"dataframe\">\n",
       "  <thead>\n",
       "    <tr style=\"text-align: right;\">\n",
       "      <th></th>\n",
       "      <th>compactness</th>\n",
       "      <th>circularity</th>\n",
       "      <th>distance_circularity</th>\n",
       "      <th>radius_ratio</th>\n",
       "      <th>pr.axis_aspect_ratio</th>\n",
       "      <th>max.length_aspect_ratio</th>\n",
       "      <th>scatter_ratio</th>\n",
       "      <th>elongatedness</th>\n",
       "      <th>pr.axis_rectangularity</th>\n",
       "      <th>max.length_rectangularity</th>\n",
       "      <th>scaled_variance</th>\n",
       "      <th>scaled_variance.1</th>\n",
       "      <th>scaled_radius_of_gyration</th>\n",
       "      <th>scaled_radius_of_gyration.1</th>\n",
       "      <th>skewness_about</th>\n",
       "      <th>skewness_about.1</th>\n",
       "      <th>skewness_about.2</th>\n",
       "      <th>hollows_ratio</th>\n",
       "      <th>class</th>\n",
       "    </tr>\n",
       "  </thead>\n",
       "  <tbody>\n",
       "    <tr>\n",
       "      <th>compactness</th>\n",
       "      <td>1.000000</td>\n",
       "      <td>0.679901</td>\n",
       "      <td>0.786810</td>\n",
       "      <td>0.746091</td>\n",
       "      <td>0.200887</td>\n",
       "      <td>0.497660</td>\n",
       "      <td>0.810430</td>\n",
       "      <td>-0.788449</td>\n",
       "      <td>0.811810</td>\n",
       "      <td>0.674166</td>\n",
       "      <td>0.792230</td>\n",
       "      <td>0.814537</td>\n",
       "      <td>0.577596</td>\n",
       "      <td>-0.254274</td>\n",
       "      <td>0.200199</td>\n",
       "      <td>0.161505</td>\n",
       "      <td>0.295404</td>\n",
       "      <td>0.364160</td>\n",
       "      <td>-0.028066</td>\n",
       "    </tr>\n",
       "    <tr>\n",
       "      <th>circularity</th>\n",
       "      <td>0.679901</td>\n",
       "      <td>1.000000</td>\n",
       "      <td>0.787513</td>\n",
       "      <td>0.641013</td>\n",
       "      <td>0.205616</td>\n",
       "      <td>0.563732</td>\n",
       "      <td>0.844049</td>\n",
       "      <td>-0.816212</td>\n",
       "      <td>0.841827</td>\n",
       "      <td>0.961873</td>\n",
       "      <td>0.803324</td>\n",
       "      <td>0.835218</td>\n",
       "      <td>0.926273</td>\n",
       "      <td>0.067633</td>\n",
       "      <td>0.140639</td>\n",
       "      <td>-0.014774</td>\n",
       "      <td>-0.118122</td>\n",
       "      <td>0.038081</td>\n",
       "      <td>-0.151426</td>\n",
       "    </tr>\n",
       "    <tr>\n",
       "      <th>distance_circularity</th>\n",
       "      <td>0.786810</td>\n",
       "      <td>0.787513</td>\n",
       "      <td>1.000000</td>\n",
       "      <td>0.808392</td>\n",
       "      <td>0.245423</td>\n",
       "      <td>0.668662</td>\n",
       "      <td>0.904856</td>\n",
       "      <td>-0.908822</td>\n",
       "      <td>0.894892</td>\n",
       "      <td>0.768843</td>\n",
       "      <td>0.884633</td>\n",
       "      <td>0.889593</td>\n",
       "      <td>0.702683</td>\n",
       "      <td>-0.237766</td>\n",
       "      <td>0.098711</td>\n",
       "      <td>0.263514</td>\n",
       "      <td>0.128336</td>\n",
       "      <td>0.320969</td>\n",
       "      <td>-0.058983</td>\n",
       "    </tr>\n",
       "    <tr>\n",
       "      <th>radius_ratio</th>\n",
       "      <td>0.746091</td>\n",
       "      <td>0.641013</td>\n",
       "      <td>0.808392</td>\n",
       "      <td>1.000000</td>\n",
       "      <td>0.666403</td>\n",
       "      <td>0.460737</td>\n",
       "      <td>0.789305</td>\n",
       "      <td>-0.844374</td>\n",
       "      <td>0.763736</td>\n",
       "      <td>0.577067</td>\n",
       "      <td>0.793528</td>\n",
       "      <td>0.778087</td>\n",
       "      <td>0.550726</td>\n",
       "      <td>-0.403672</td>\n",
       "      <td>0.040348</td>\n",
       "      <td>0.187295</td>\n",
       "      <td>0.418257</td>\n",
       "      <td>0.504630</td>\n",
       "      <td>-0.225840</td>\n",
       "    </tr>\n",
       "    <tr>\n",
       "      <th>pr.axis_aspect_ratio</th>\n",
       "      <td>0.200887</td>\n",
       "      <td>0.205616</td>\n",
       "      <td>0.245423</td>\n",
       "      <td>0.666403</td>\n",
       "      <td>1.000000</td>\n",
       "      <td>0.138243</td>\n",
       "      <td>0.199988</td>\n",
       "      <td>-0.302280</td>\n",
       "      <td>0.169522</td>\n",
       "      <td>0.146175</td>\n",
       "      <td>0.215642</td>\n",
       "      <td>0.187041</td>\n",
       "      <td>0.153722</td>\n",
       "      <td>-0.325331</td>\n",
       "      <td>-0.051643</td>\n",
       "      <td>-0.028793</td>\n",
       "      <td>0.406247</td>\n",
       "      <td>0.419789</td>\n",
       "      <td>-0.216783</td>\n",
       "    </tr>\n",
       "    <tr>\n",
       "      <th>max.length_aspect_ratio</th>\n",
       "      <td>0.497660</td>\n",
       "      <td>0.563732</td>\n",
       "      <td>0.668662</td>\n",
       "      <td>0.460737</td>\n",
       "      <td>0.138243</td>\n",
       "      <td>1.000000</td>\n",
       "      <td>0.497043</td>\n",
       "      <td>-0.502220</td>\n",
       "      <td>0.497641</td>\n",
       "      <td>0.647844</td>\n",
       "      <td>0.411749</td>\n",
       "      <td>0.459248</td>\n",
       "      <td>0.404216</td>\n",
       "      <td>-0.333074</td>\n",
       "      <td>0.083734</td>\n",
       "      <td>0.141178</td>\n",
       "      <td>0.056225</td>\n",
       "      <td>0.394449</td>\n",
       "      <td>0.371072</td>\n",
       "    </tr>\n",
       "    <tr>\n",
       "      <th>scatter_ratio</th>\n",
       "      <td>0.810430</td>\n",
       "      <td>0.844049</td>\n",
       "      <td>0.904856</td>\n",
       "      <td>0.789305</td>\n",
       "      <td>0.199988</td>\n",
       "      <td>0.497043</td>\n",
       "      <td>1.000000</td>\n",
       "      <td>-0.971404</td>\n",
       "      <td>0.989034</td>\n",
       "      <td>0.806303</td>\n",
       "      <td>0.977143</td>\n",
       "      <td>0.993807</td>\n",
       "      <td>0.794274</td>\n",
       "      <td>0.001917</td>\n",
       "      <td>0.063319</td>\n",
       "      <td>0.214919</td>\n",
       "      <td>-0.003595</td>\n",
       "      <td>0.115782</td>\n",
       "      <td>-0.283371</td>\n",
       "    </tr>\n",
       "    <tr>\n",
       "      <th>elongatedness</th>\n",
       "      <td>-0.788449</td>\n",
       "      <td>-0.816212</td>\n",
       "      <td>-0.908822</td>\n",
       "      <td>-0.844374</td>\n",
       "      <td>-0.302280</td>\n",
       "      <td>-0.502220</td>\n",
       "      <td>-0.971404</td>\n",
       "      <td>1.000000</td>\n",
       "      <td>-0.950026</td>\n",
       "      <td>-0.769684</td>\n",
       "      <td>-0.965252</td>\n",
       "      <td>-0.957135</td>\n",
       "      <td>-0.762109</td>\n",
       "      <td>0.087179</td>\n",
       "      <td>-0.044795</td>\n",
       "      <td>-0.184625</td>\n",
       "      <td>-0.104837</td>\n",
       "      <td>-0.210884</td>\n",
       "      <td>0.337823</td>\n",
       "    </tr>\n",
       "    <tr>\n",
       "      <th>pr.axis_rectangularity</th>\n",
       "      <td>0.811810</td>\n",
       "      <td>0.841827</td>\n",
       "      <td>0.894892</td>\n",
       "      <td>0.763736</td>\n",
       "      <td>0.169522</td>\n",
       "      <td>0.497641</td>\n",
       "      <td>0.989034</td>\n",
       "      <td>-0.950026</td>\n",
       "      <td>1.000000</td>\n",
       "      <td>0.810894</td>\n",
       "      <td>0.964170</td>\n",
       "      <td>0.989139</td>\n",
       "      <td>0.792606</td>\n",
       "      <td>0.017604</td>\n",
       "      <td>0.071871</td>\n",
       "      <td>0.216661</td>\n",
       "      <td>-0.026842</td>\n",
       "      <td>0.097842</td>\n",
       "      <td>-0.251222</td>\n",
       "    </tr>\n",
       "    <tr>\n",
       "      <th>max.length_rectangularity</th>\n",
       "      <td>0.674166</td>\n",
       "      <td>0.961873</td>\n",
       "      <td>0.768843</td>\n",
       "      <td>0.577067</td>\n",
       "      <td>0.146175</td>\n",
       "      <td>0.647844</td>\n",
       "      <td>0.806303</td>\n",
       "      <td>-0.769684</td>\n",
       "      <td>0.810894</td>\n",
       "      <td>1.000000</td>\n",
       "      <td>0.749909</td>\n",
       "      <td>0.795560</td>\n",
       "      <td>0.866913</td>\n",
       "      <td>0.052080</td>\n",
       "      <td>0.134511</td>\n",
       "      <td>-0.002135</td>\n",
       "      <td>-0.117988</td>\n",
       "      <td>0.067177</td>\n",
       "      <td>-0.025047</td>\n",
       "    </tr>\n",
       "    <tr>\n",
       "      <th>scaled_variance</th>\n",
       "      <td>0.792230</td>\n",
       "      <td>0.803324</td>\n",
       "      <td>0.884633</td>\n",
       "      <td>0.793528</td>\n",
       "      <td>0.215642</td>\n",
       "      <td>0.411749</td>\n",
       "      <td>0.977143</td>\n",
       "      <td>-0.965252</td>\n",
       "      <td>0.964170</td>\n",
       "      <td>0.749909</td>\n",
       "      <td>1.000000</td>\n",
       "      <td>0.977028</td>\n",
       "      <td>0.781083</td>\n",
       "      <td>0.015902</td>\n",
       "      <td>0.033179</td>\n",
       "      <td>0.206820</td>\n",
       "      <td>0.022984</td>\n",
       "      <td>0.096895</td>\n",
       "      <td>-0.328567</td>\n",
       "    </tr>\n",
       "    <tr>\n",
       "      <th>scaled_variance.1</th>\n",
       "      <td>0.814537</td>\n",
       "      <td>0.835218</td>\n",
       "      <td>0.889593</td>\n",
       "      <td>0.778087</td>\n",
       "      <td>0.187041</td>\n",
       "      <td>0.459248</td>\n",
       "      <td>0.993807</td>\n",
       "      <td>-0.957135</td>\n",
       "      <td>0.989139</td>\n",
       "      <td>0.795560</td>\n",
       "      <td>0.977028</td>\n",
       "      <td>1.000000</td>\n",
       "      <td>0.790960</td>\n",
       "      <td>0.014764</td>\n",
       "      <td>0.065023</td>\n",
       "      <td>0.204393</td>\n",
       "      <td>0.000510</td>\n",
       "      <td>0.104077</td>\n",
       "      <td>-0.282390</td>\n",
       "    </tr>\n",
       "    <tr>\n",
       "      <th>scaled_radius_of_gyration</th>\n",
       "      <td>0.577596</td>\n",
       "      <td>0.926273</td>\n",
       "      <td>0.702683</td>\n",
       "      <td>0.550726</td>\n",
       "      <td>0.153722</td>\n",
       "      <td>0.404216</td>\n",
       "      <td>0.794274</td>\n",
       "      <td>-0.762109</td>\n",
       "      <td>0.792606</td>\n",
       "      <td>0.866913</td>\n",
       "      <td>0.781083</td>\n",
       "      <td>0.790960</td>\n",
       "      <td>1.000000</td>\n",
       "      <td>0.216349</td>\n",
       "      <td>0.168648</td>\n",
       "      <td>-0.058101</td>\n",
       "      <td>-0.232768</td>\n",
       "      <td>-0.120744</td>\n",
       "      <td>-0.241659</td>\n",
       "    </tr>\n",
       "    <tr>\n",
       "      <th>scaled_radius_of_gyration.1</th>\n",
       "      <td>-0.254274</td>\n",
       "      <td>0.067633</td>\n",
       "      <td>-0.237766</td>\n",
       "      <td>-0.403672</td>\n",
       "      <td>-0.325331</td>\n",
       "      <td>-0.333074</td>\n",
       "      <td>0.001917</td>\n",
       "      <td>0.087179</td>\n",
       "      <td>0.017604</td>\n",
       "      <td>0.052080</td>\n",
       "      <td>0.015902</td>\n",
       "      <td>0.014764</td>\n",
       "      <td>0.216349</td>\n",
       "      <td>1.000000</td>\n",
       "      <td>-0.059118</td>\n",
       "      <td>-0.131255</td>\n",
       "      <td>-0.843368</td>\n",
       "      <td>-0.917880</td>\n",
       "      <td>-0.284027</td>\n",
       "    </tr>\n",
       "    <tr>\n",
       "      <th>skewness_about</th>\n",
       "      <td>0.200199</td>\n",
       "      <td>0.140639</td>\n",
       "      <td>0.098711</td>\n",
       "      <td>0.040348</td>\n",
       "      <td>-0.051643</td>\n",
       "      <td>0.083734</td>\n",
       "      <td>0.063319</td>\n",
       "      <td>-0.044795</td>\n",
       "      <td>0.071871</td>\n",
       "      <td>0.134511</td>\n",
       "      <td>0.033179</td>\n",
       "      <td>0.065023</td>\n",
       "      <td>0.168648</td>\n",
       "      <td>-0.059118</td>\n",
       "      <td>1.000000</td>\n",
       "      <td>-0.045326</td>\n",
       "      <td>0.084622</td>\n",
       "      <td>0.060843</td>\n",
       "      <td>0.128904</td>\n",
       "    </tr>\n",
       "    <tr>\n",
       "      <th>skewness_about.1</th>\n",
       "      <td>0.161505</td>\n",
       "      <td>-0.014774</td>\n",
       "      <td>0.263514</td>\n",
       "      <td>0.187295</td>\n",
       "      <td>-0.028793</td>\n",
       "      <td>0.141178</td>\n",
       "      <td>0.214919</td>\n",
       "      <td>-0.184625</td>\n",
       "      <td>0.216661</td>\n",
       "      <td>-0.002135</td>\n",
       "      <td>0.206820</td>\n",
       "      <td>0.204393</td>\n",
       "      <td>-0.058101</td>\n",
       "      <td>-0.131255</td>\n",
       "      <td>-0.045326</td>\n",
       "      <td>1.000000</td>\n",
       "      <td>0.072921</td>\n",
       "      <td>0.200014</td>\n",
       "      <td>-0.013087</td>\n",
       "    </tr>\n",
       "    <tr>\n",
       "      <th>skewness_about.2</th>\n",
       "      <td>0.295404</td>\n",
       "      <td>-0.118122</td>\n",
       "      <td>0.128336</td>\n",
       "      <td>0.418257</td>\n",
       "      <td>0.406247</td>\n",
       "      <td>0.056225</td>\n",
       "      <td>-0.003595</td>\n",
       "      <td>-0.104837</td>\n",
       "      <td>-0.026842</td>\n",
       "      <td>-0.117988</td>\n",
       "      <td>0.022984</td>\n",
       "      <td>0.000510</td>\n",
       "      <td>-0.232768</td>\n",
       "      <td>-0.843368</td>\n",
       "      <td>0.084622</td>\n",
       "      <td>0.072921</td>\n",
       "      <td>1.000000</td>\n",
       "      <td>0.890220</td>\n",
       "      <td>0.061326</td>\n",
       "    </tr>\n",
       "    <tr>\n",
       "      <th>hollows_ratio</th>\n",
       "      <td>0.364160</td>\n",
       "      <td>0.038081</td>\n",
       "      <td>0.320969</td>\n",
       "      <td>0.504630</td>\n",
       "      <td>0.419789</td>\n",
       "      <td>0.394449</td>\n",
       "      <td>0.115782</td>\n",
       "      <td>-0.210884</td>\n",
       "      <td>0.097842</td>\n",
       "      <td>0.067177</td>\n",
       "      <td>0.096895</td>\n",
       "      <td>0.104077</td>\n",
       "      <td>-0.120744</td>\n",
       "      <td>-0.917880</td>\n",
       "      <td>0.060843</td>\n",
       "      <td>0.200014</td>\n",
       "      <td>0.890220</td>\n",
       "      <td>1.000000</td>\n",
       "      <td>0.231102</td>\n",
       "    </tr>\n",
       "    <tr>\n",
       "      <th>class</th>\n",
       "      <td>-0.028066</td>\n",
       "      <td>-0.151426</td>\n",
       "      <td>-0.058983</td>\n",
       "      <td>-0.225840</td>\n",
       "      <td>-0.216783</td>\n",
       "      <td>0.371072</td>\n",
       "      <td>-0.283371</td>\n",
       "      <td>0.337823</td>\n",
       "      <td>-0.251222</td>\n",
       "      <td>-0.025047</td>\n",
       "      <td>-0.328567</td>\n",
       "      <td>-0.282390</td>\n",
       "      <td>-0.241659</td>\n",
       "      <td>-0.284027</td>\n",
       "      <td>0.128904</td>\n",
       "      <td>-0.013087</td>\n",
       "      <td>0.061326</td>\n",
       "      <td>0.231102</td>\n",
       "      <td>1.000000</td>\n",
       "    </tr>\n",
       "  </tbody>\n",
       "</table>\n",
       "</div>"
      ],
      "text/plain": [
       "                             compactness  circularity  distance_circularity  \\\n",
       "compactness                     1.000000     0.679901              0.786810   \n",
       "circularity                     0.679901     1.000000              0.787513   \n",
       "distance_circularity            0.786810     0.787513              1.000000   \n",
       "radius_ratio                    0.746091     0.641013              0.808392   \n",
       "pr.axis_aspect_ratio            0.200887     0.205616              0.245423   \n",
       "max.length_aspect_ratio         0.497660     0.563732              0.668662   \n",
       "scatter_ratio                   0.810430     0.844049              0.904856   \n",
       "elongatedness                  -0.788449    -0.816212             -0.908822   \n",
       "pr.axis_rectangularity          0.811810     0.841827              0.894892   \n",
       "max.length_rectangularity       0.674166     0.961873              0.768843   \n",
       "scaled_variance                 0.792230     0.803324              0.884633   \n",
       "scaled_variance.1               0.814537     0.835218              0.889593   \n",
       "scaled_radius_of_gyration       0.577596     0.926273              0.702683   \n",
       "scaled_radius_of_gyration.1    -0.254274     0.067633             -0.237766   \n",
       "skewness_about                  0.200199     0.140639              0.098711   \n",
       "skewness_about.1                0.161505    -0.014774              0.263514   \n",
       "skewness_about.2                0.295404    -0.118122              0.128336   \n",
       "hollows_ratio                   0.364160     0.038081              0.320969   \n",
       "class                          -0.028066    -0.151426             -0.058983   \n",
       "\n",
       "                             radius_ratio  pr.axis_aspect_ratio  \\\n",
       "compactness                      0.746091              0.200887   \n",
       "circularity                      0.641013              0.205616   \n",
       "distance_circularity             0.808392              0.245423   \n",
       "radius_ratio                     1.000000              0.666403   \n",
       "pr.axis_aspect_ratio             0.666403              1.000000   \n",
       "max.length_aspect_ratio          0.460737              0.138243   \n",
       "scatter_ratio                    0.789305              0.199988   \n",
       "elongatedness                   -0.844374             -0.302280   \n",
       "pr.axis_rectangularity           0.763736              0.169522   \n",
       "max.length_rectangularity        0.577067              0.146175   \n",
       "scaled_variance                  0.793528              0.215642   \n",
       "scaled_variance.1                0.778087              0.187041   \n",
       "scaled_radius_of_gyration        0.550726              0.153722   \n",
       "scaled_radius_of_gyration.1     -0.403672             -0.325331   \n",
       "skewness_about                   0.040348             -0.051643   \n",
       "skewness_about.1                 0.187295             -0.028793   \n",
       "skewness_about.2                 0.418257              0.406247   \n",
       "hollows_ratio                    0.504630              0.419789   \n",
       "class                           -0.225840             -0.216783   \n",
       "\n",
       "                             max.length_aspect_ratio  scatter_ratio  \\\n",
       "compactness                                 0.497660       0.810430   \n",
       "circularity                                 0.563732       0.844049   \n",
       "distance_circularity                        0.668662       0.904856   \n",
       "radius_ratio                                0.460737       0.789305   \n",
       "pr.axis_aspect_ratio                        0.138243       0.199988   \n",
       "max.length_aspect_ratio                     1.000000       0.497043   \n",
       "scatter_ratio                               0.497043       1.000000   \n",
       "elongatedness                              -0.502220      -0.971404   \n",
       "pr.axis_rectangularity                      0.497641       0.989034   \n",
       "max.length_rectangularity                   0.647844       0.806303   \n",
       "scaled_variance                             0.411749       0.977143   \n",
       "scaled_variance.1                           0.459248       0.993807   \n",
       "scaled_radius_of_gyration                   0.404216       0.794274   \n",
       "scaled_radius_of_gyration.1                -0.333074       0.001917   \n",
       "skewness_about                              0.083734       0.063319   \n",
       "skewness_about.1                            0.141178       0.214919   \n",
       "skewness_about.2                            0.056225      -0.003595   \n",
       "hollows_ratio                               0.394449       0.115782   \n",
       "class                                       0.371072      -0.283371   \n",
       "\n",
       "                             elongatedness  pr.axis_rectangularity  \\\n",
       "compactness                      -0.788449                0.811810   \n",
       "circularity                      -0.816212                0.841827   \n",
       "distance_circularity             -0.908822                0.894892   \n",
       "radius_ratio                     -0.844374                0.763736   \n",
       "pr.axis_aspect_ratio             -0.302280                0.169522   \n",
       "max.length_aspect_ratio          -0.502220                0.497641   \n",
       "scatter_ratio                    -0.971404                0.989034   \n",
       "elongatedness                     1.000000               -0.950026   \n",
       "pr.axis_rectangularity           -0.950026                1.000000   \n",
       "max.length_rectangularity        -0.769684                0.810894   \n",
       "scaled_variance                  -0.965252                0.964170   \n",
       "scaled_variance.1                -0.957135                0.989139   \n",
       "scaled_radius_of_gyration        -0.762109                0.792606   \n",
       "scaled_radius_of_gyration.1       0.087179                0.017604   \n",
       "skewness_about                   -0.044795                0.071871   \n",
       "skewness_about.1                 -0.184625                0.216661   \n",
       "skewness_about.2                 -0.104837               -0.026842   \n",
       "hollows_ratio                    -0.210884                0.097842   \n",
       "class                             0.337823               -0.251222   \n",
       "\n",
       "                             max.length_rectangularity  scaled_variance  \\\n",
       "compactness                                   0.674166         0.792230   \n",
       "circularity                                   0.961873         0.803324   \n",
       "distance_circularity                          0.768843         0.884633   \n",
       "radius_ratio                                  0.577067         0.793528   \n",
       "pr.axis_aspect_ratio                          0.146175         0.215642   \n",
       "max.length_aspect_ratio                       0.647844         0.411749   \n",
       "scatter_ratio                                 0.806303         0.977143   \n",
       "elongatedness                                -0.769684        -0.965252   \n",
       "pr.axis_rectangularity                        0.810894         0.964170   \n",
       "max.length_rectangularity                     1.000000         0.749909   \n",
       "scaled_variance                               0.749909         1.000000   \n",
       "scaled_variance.1                             0.795560         0.977028   \n",
       "scaled_radius_of_gyration                     0.866913         0.781083   \n",
       "scaled_radius_of_gyration.1                   0.052080         0.015902   \n",
       "skewness_about                                0.134511         0.033179   \n",
       "skewness_about.1                             -0.002135         0.206820   \n",
       "skewness_about.2                             -0.117988         0.022984   \n",
       "hollows_ratio                                 0.067177         0.096895   \n",
       "class                                        -0.025047        -0.328567   \n",
       "\n",
       "                             scaled_variance.1  scaled_radius_of_gyration  \\\n",
       "compactness                           0.814537                   0.577596   \n",
       "circularity                           0.835218                   0.926273   \n",
       "distance_circularity                  0.889593                   0.702683   \n",
       "radius_ratio                          0.778087                   0.550726   \n",
       "pr.axis_aspect_ratio                  0.187041                   0.153722   \n",
       "max.length_aspect_ratio               0.459248                   0.404216   \n",
       "scatter_ratio                         0.993807                   0.794274   \n",
       "elongatedness                        -0.957135                  -0.762109   \n",
       "pr.axis_rectangularity                0.989139                   0.792606   \n",
       "max.length_rectangularity             0.795560                   0.866913   \n",
       "scaled_variance                       0.977028                   0.781083   \n",
       "scaled_variance.1                     1.000000                   0.790960   \n",
       "scaled_radius_of_gyration             0.790960                   1.000000   \n",
       "scaled_radius_of_gyration.1           0.014764                   0.216349   \n",
       "skewness_about                        0.065023                   0.168648   \n",
       "skewness_about.1                      0.204393                  -0.058101   \n",
       "skewness_about.2                      0.000510                  -0.232768   \n",
       "hollows_ratio                         0.104077                  -0.120744   \n",
       "class                                -0.282390                  -0.241659   \n",
       "\n",
       "                             scaled_radius_of_gyration.1  skewness_about  \\\n",
       "compactness                                    -0.254274        0.200199   \n",
       "circularity                                     0.067633        0.140639   \n",
       "distance_circularity                           -0.237766        0.098711   \n",
       "radius_ratio                                   -0.403672        0.040348   \n",
       "pr.axis_aspect_ratio                           -0.325331       -0.051643   \n",
       "max.length_aspect_ratio                        -0.333074        0.083734   \n",
       "scatter_ratio                                   0.001917        0.063319   \n",
       "elongatedness                                   0.087179       -0.044795   \n",
       "pr.axis_rectangularity                          0.017604        0.071871   \n",
       "max.length_rectangularity                       0.052080        0.134511   \n",
       "scaled_variance                                 0.015902        0.033179   \n",
       "scaled_variance.1                               0.014764        0.065023   \n",
       "scaled_radius_of_gyration                       0.216349        0.168648   \n",
       "scaled_radius_of_gyration.1                     1.000000       -0.059118   \n",
       "skewness_about                                 -0.059118        1.000000   \n",
       "skewness_about.1                               -0.131255       -0.045326   \n",
       "skewness_about.2                               -0.843368        0.084622   \n",
       "hollows_ratio                                  -0.917880        0.060843   \n",
       "class                                          -0.284027        0.128904   \n",
       "\n",
       "                             skewness_about.1  skewness_about.2  \\\n",
       "compactness                          0.161505          0.295404   \n",
       "circularity                         -0.014774         -0.118122   \n",
       "distance_circularity                 0.263514          0.128336   \n",
       "radius_ratio                         0.187295          0.418257   \n",
       "pr.axis_aspect_ratio                -0.028793          0.406247   \n",
       "max.length_aspect_ratio              0.141178          0.056225   \n",
       "scatter_ratio                        0.214919         -0.003595   \n",
       "elongatedness                       -0.184625         -0.104837   \n",
       "pr.axis_rectangularity               0.216661         -0.026842   \n",
       "max.length_rectangularity           -0.002135         -0.117988   \n",
       "scaled_variance                      0.206820          0.022984   \n",
       "scaled_variance.1                    0.204393          0.000510   \n",
       "scaled_radius_of_gyration           -0.058101         -0.232768   \n",
       "scaled_radius_of_gyration.1         -0.131255         -0.843368   \n",
       "skewness_about                      -0.045326          0.084622   \n",
       "skewness_about.1                     1.000000          0.072921   \n",
       "skewness_about.2                     0.072921          1.000000   \n",
       "hollows_ratio                        0.200014          0.890220   \n",
       "class                               -0.013087          0.061326   \n",
       "\n",
       "                             hollows_ratio     class  \n",
       "compactness                       0.364160 -0.028066  \n",
       "circularity                       0.038081 -0.151426  \n",
       "distance_circularity              0.320969 -0.058983  \n",
       "radius_ratio                      0.504630 -0.225840  \n",
       "pr.axis_aspect_ratio              0.419789 -0.216783  \n",
       "max.length_aspect_ratio           0.394449  0.371072  \n",
       "scatter_ratio                     0.115782 -0.283371  \n",
       "elongatedness                    -0.210884  0.337823  \n",
       "pr.axis_rectangularity            0.097842 -0.251222  \n",
       "max.length_rectangularity         0.067177 -0.025047  \n",
       "scaled_variance                   0.096895 -0.328567  \n",
       "scaled_variance.1                 0.104077 -0.282390  \n",
       "scaled_radius_of_gyration        -0.120744 -0.241659  \n",
       "scaled_radius_of_gyration.1      -0.917880 -0.284027  \n",
       "skewness_about                    0.060843  0.128904  \n",
       "skewness_about.1                  0.200014 -0.013087  \n",
       "skewness_about.2                  0.890220  0.061326  \n",
       "hollows_ratio                     1.000000  0.231102  \n",
       "class                             0.231102  1.000000  "
      ]
     },
     "execution_count": 16,
     "metadata": {},
     "output_type": "execute_result"
    }
   ],
   "source": [
    "df1.corr()"
   ]
  },
  {
   "cell_type": "markdown",
   "metadata": {},
   "source": [
    "From the graph we can observe that there is a high correlation between the features but those can be eliminated using the PCA technique "
   ]
  },
  {
   "cell_type": "markdown",
   "metadata": {},
   "source": [
    "3. Use PCA from scikit learn and elbow plot to find out a reduced number of dimension (which covers more than 95% of the variance) - 10 points"
   ]
  },
  {
   "cell_type": "code",
   "execution_count": 17,
   "metadata": {},
   "outputs": [],
   "source": [
    "y = df1['class']\n",
    "X = df1.drop('class', axis = 1)"
   ]
  },
  {
   "cell_type": "code",
   "execution_count": 18,
   "metadata": {},
   "outputs": [],
   "source": [
    "# normalizing Data \n",
    "from scipy.stats import zscore\n",
    "X = X.apply(zscore)"
   ]
  },
  {
   "cell_type": "code",
   "execution_count": 19,
   "metadata": {},
   "outputs": [
    {
     "data": {
      "text/plain": [
       "(813, 18)"
      ]
     },
     "execution_count": 19,
     "metadata": {},
     "output_type": "execute_result"
    }
   ],
   "source": [
    "X.shape"
   ]
  },
  {
   "cell_type": "code",
   "execution_count": 20,
   "metadata": {},
   "outputs": [],
   "source": [
    "from sklearn.decomposition import PCA"
   ]
  },
  {
   "cell_type": "code",
   "execution_count": 21,
   "metadata": {},
   "outputs": [],
   "source": [
    "cov_matrix = np.cov(X.T)"
   ]
  },
  {
   "cell_type": "code",
   "execution_count": 22,
   "metadata": {},
   "outputs": [],
   "source": [
    "eival, eivec = np.linalg.eig(cov_matrix)"
   ]
  },
  {
   "cell_type": "code",
   "execution_count": 23,
   "metadata": {},
   "outputs": [],
   "source": [
    "# Building an Array of Eigen Vectors and Values\n",
    "\n",
    "eig_pair = [(eival[index], eivec[:, index]) for index in range (len(eival))]"
   ]
  },
  {
   "cell_type": "code",
   "execution_count": 24,
   "metadata": {},
   "outputs": [],
   "source": [
    "eig_pair.sort()\n",
    "eig_pair.reverse()"
   ]
  },
  {
   "cell_type": "code",
   "execution_count": 25,
   "metadata": {},
   "outputs": [],
   "source": [
    "eivalsorted = [eig_pair[index][0] for index in range(len(eival))]"
   ]
  },
  {
   "cell_type": "code",
   "execution_count": 26,
   "metadata": {},
   "outputs": [],
   "source": [
    "eivecsorted = [eig_pair[index][1] for index in range(len(eival))]"
   ]
  },
  {
   "cell_type": "code",
   "execution_count": 27,
   "metadata": {},
   "outputs": [
    {
     "data": {
      "text/plain": [
       "18.022167487684715"
      ]
     },
     "execution_count": 27,
     "metadata": {},
     "output_type": "execute_result"
    }
   ],
   "source": [
    "tot = sum(eival)\n",
    "tot"
   ]
  },
  {
   "cell_type": "code",
   "execution_count": 28,
   "metadata": {},
   "outputs": [
    {
     "data": {
      "text/plain": [
       "array([ 54.36109244,  73.10682316,  79.81561088,  86.12288219,\n",
       "        91.09408821,  94.74422659,  96.53426834,  97.79137464,\n",
       "        98.41325604,  98.83526262,  99.17921189,  99.4195499 ,\n",
       "        99.58305228,  99.72948548,  99.83643991,  99.93048996,\n",
       "        99.98224832, 100.        ])"
      ]
     },
     "execution_count": 28,
     "metadata": {},
     "output_type": "execute_result"
    }
   ],
   "source": [
    "var_explained = [(i/tot)*100 for i in sorted(eival, reverse = True)]\n",
    "cum_var = np.cumsum(var_explained)\n",
    "cum_var"
   ]
  },
  {
   "cell_type": "code",
   "execution_count": 29,
   "metadata": {},
   "outputs": [
    {
     "data": {
      "image/png": "[encoded data removed]",
      "text/plain": [
       "<Figure size 720x504 with 1 Axes>"
      ]
     },
     "metadata": {
      "needs_background": "light"
     },
     "output_type": "display_data"
    }
   ],
   "source": [
    "plt.figure(figsize=(10,7))\n",
    "\n",
    "plt.plot(cum_var, color='k', lw=1)\n",
    "\n",
    "plt.xlabel('Number of components')\n",
    "plt.ylabel('Total explained variance')\n",
    "\n",
    "plt.xlim(0, 10,1)\n",
    "plt.yticks(np.arange(0, 120, 10))\n",
    "\n",
    "plt.axvline(5, c='b')\n",
    "plt.axhline(95, c='r')\n",
    "\n",
    "plt.show()"
   ]
  },
  {
   "cell_type": "code",
   "execution_count": 30,
   "metadata": {},
   "outputs": [
    {
     "data": {
      "text/plain": [
       "PCA(copy=True, iterated_power='auto', n_components=5, random_state=None,\n",
       "  svd_solver='auto', tol=0.0, whiten=False)"
      ]
     },
     "execution_count": 30,
     "metadata": {},
     "output_type": "execute_result"
    }
   ],
   "source": [
    "pca = PCA(n_components=5)\n",
    "pca.fit(df1)"
   ]
  },
  {
   "cell_type": "markdown",
   "metadata": {},
   "source": [
    "4. Use Support vector machines and use grid search (try C values - 0.01, 0.05, 0.5, 1 and kernel = linear, rbf) and find out the best hyperparameters and do cross-validation to find the accuracy. (10 points)"
   ]
  },
  {
   "cell_type": "code",
   "execution_count": 31,
   "metadata": {},
   "outputs": [],
   "source": [
    "X_pca = pca.transform(df1)"
   ]
  },
  {
   "cell_type": "code",
   "execution_count": 32,
   "metadata": {},
   "outputs": [
    {
     "data": {
      "text/plain": [
       "(813, 5)"
      ]
     },
     "execution_count": 32,
     "metadata": {},
     "output_type": "execute_result"
    }
   ],
   "source": [
    "X_pca.shape"
   ]
  },
  {
   "cell_type": "code",
   "execution_count": 33,
   "metadata": {},
   "outputs": [
    {
     "data": {
      "text/plain": [
       "array([33934.28341127,   568.85849316,   365.78764372,    85.89851432,\n",
       "          69.01968542])"
      ]
     },
     "execution_count": 33,
     "metadata": {},
     "output_type": "execute_result"
    }
   ],
   "source": [
    "pca.explained_variance_"
   ]
  },
  {
   "cell_type": "code",
   "execution_count": 34,
   "metadata": {},
   "outputs": [
    {
     "data": {
      "text/plain": [
       "array([0.96461599, 0.01617037, 0.01039788, 0.00244175, 0.00196195])"
      ]
     },
     "execution_count": 34,
     "metadata": {},
     "output_type": "execute_result"
    }
   ],
   "source": [
    "pca.explained_variance_ratio_"
   ]
  },
  {
   "cell_type": "code",
   "execution_count": 35,
   "metadata": {},
   "outputs": [],
   "source": [
    "PCA_Comp = pd.DataFrame(X_pca)"
   ]
  },
  {
   "cell_type": "markdown",
   "metadata": {},
   "source": [
    "4. Use Support vector machines and use grid search (try C values - 0.01, 0.05, 0.5, 1 and kernel = linear, rbf) and find out the best hyperparameters and do cross-validation to find the accuracy. (10 points)"
   ]
  },
  {
   "cell_type": "code",
   "execution_count": 36,
   "metadata": {},
   "outputs": [],
   "source": [
    "X = PCA_Comp"
   ]
  },
  {
   "cell_type": "code",
   "execution_count": 37,
   "metadata": {},
   "outputs": [
    {
     "data": {
      "text/plain": [
       "(813,)"
      ]
     },
     "execution_count": 37,
     "metadata": {},
     "output_type": "execute_result"
    }
   ],
   "source": [
    "y.shape"
   ]
  },
  {
   "cell_type": "code",
   "execution_count": 38,
   "metadata": {},
   "outputs": [
    {
     "data": {
      "text/plain": [
       "(813, 5)"
      ]
     },
     "execution_count": 38,
     "metadata": {},
     "output_type": "execute_result"
    }
   ],
   "source": [
    "X.shape"
   ]
  },
  {
   "cell_type": "code",
   "execution_count": 39,
   "metadata": {},
   "outputs": [],
   "source": [
    "from sklearn.model_selection import train_test_split\n",
    "X_train, X_test, y_train, y_test = train_test_split(X, y, random_state=0, test_size=0.20)"
   ]
  },
  {
   "cell_type": "code",
   "execution_count": 40,
   "metadata": {},
   "outputs": [],
   "source": [
    "sc_X = StandardScaler()\n",
    "X_train = sc_X.fit_transform(X_train)\n",
    "X_test = sc_X.transform(X_test)"
   ]
  },
  {
   "cell_type": "code",
   "execution_count": 41,
   "metadata": {},
   "outputs": [],
   "source": [
    "classifier = SVC()"
   ]
  },
  {
   "cell_type": "code",
   "execution_count": 42,
   "metadata": {},
   "outputs": [],
   "source": [
    "from sklearn.model_selection import GridSearchCV"
   ]
  },
  {
   "cell_type": "code",
   "execution_count": 43,
   "metadata": {},
   "outputs": [],
   "source": [
    "params = {'C':[0.01, 0.05, 0.5, 1], 'kernel':['linear', 'rbf']}"
   ]
  },
  {
   "cell_type": "code",
   "execution_count": 44,
   "metadata": {},
   "outputs": [],
   "source": [
    "model1 = GridSearchCV(classifier, param_grid=params, n_jobs=-1)"
   ]
  },
  {
   "cell_type": "code",
   "execution_count": 45,
   "metadata": {},
   "outputs": [
    {
     "name": "stderr",
     "output_type": "stream",
     "text": [
      "C:\\ProgramData\\Anaconda3\\lib\\site-packages\\sklearn\\model_selection\\_split.py:2053: FutureWarning: You should specify a value for 'cv' instead of relying on the default value. The default value will change from 3 to 5 in version 0.22.\n",
      "  warnings.warn(CV_WARNING, FutureWarning)\n"
     ]
    },
    {
     "data": {
      "text/plain": [
       "GridSearchCV(cv='warn', error_score='raise-deprecating',\n",
       "       estimator=SVC(C=1.0, cache_size=200, class_weight=None, coef0=0.0,\n",
       "  decision_function_shape='ovr', degree=3, gamma='auto_deprecated',\n",
       "  kernel='rbf', max_iter=-1, probability=False, random_state=None,\n",
       "  shrinking=True, tol=0.001, verbose=False),\n",
       "       fit_params=None, iid='warn', n_jobs=-1,\n",
       "       param_grid={'C': [0.01, 0.05, 0.5, 1], 'kernel': ['linear', 'rbf']},\n",
       "       pre_dispatch='2*n_jobs', refit=True, return_train_score='warn',\n",
       "       scoring=None, verbose=0)"
      ]
     },
     "execution_count": 45,
     "metadata": {},
     "output_type": "execute_result"
    }
   ],
   "source": [
    "model1.fit(X_train, y_train)"
   ]
  },
  {
   "cell_type": "code",
   "execution_count": 46,
   "metadata": {},
   "outputs": [],
   "source": [
    "prediction=model1.predict(X_test)"
   ]
  },
  {
   "cell_type": "code",
   "execution_count": 47,
   "metadata": {},
   "outputs": [
    {
     "name": "stdout",
     "output_type": "stream",
     "text": [
      "Best Hyper Parameters: {'C': 1, 'kernel': 'rbf'}\n"
     ]
    }
   ],
   "source": [
    "print(\"Best Hyper Parameters:\",model1.best_params_)"
   ]
  },
  {
   "cell_type": "code",
   "execution_count": 48,
   "metadata": {},
   "outputs": [],
   "source": [
    "from sklearn import metrics\n",
    "from sklearn.metrics import confusion_matrix"
   ]
  },
  {
   "cell_type": "code",
   "execution_count": 49,
   "metadata": {},
   "outputs": [
    {
     "name": "stdout",
     "output_type": "stream",
     "text": [
      "Accuracy: 0.901840490797546\n"
     ]
    }
   ],
   "source": [
    "print(\"Accuracy:\",metrics.accuracy_score(prediction,y_test))"
   ]
  },
  {
   "cell_type": "code",
   "execution_count": 50,
   "metadata": {},
   "outputs": [],
   "source": [
    "from sklearn.model_selection import cross_val_score"
   ]
  },
  {
   "cell_type": "code",
   "execution_count": 51,
   "metadata": {},
   "outputs": [
    {
     "name": "stderr",
     "output_type": "stream",
     "text": [
      "C:\\ProgramData\\Anaconda3\\lib\\site-packages\\sklearn\\model_selection\\_split.py:2053: FutureWarning: You should specify a value for 'cv' instead of relying on the default value. The default value will change from 3 to 5 in version 0.22.\n",
      "  warnings.warn(CV_WARNING, FutureWarning)\n",
      "C:\\ProgramData\\Anaconda3\\lib\\site-packages\\sklearn\\model_selection\\_split.py:2053: FutureWarning: You should specify a value for 'cv' instead of relying on the default value. The default value will change from 3 to 5 in version 0.22.\n",
      "  warnings.warn(CV_WARNING, FutureWarning)\n",
      "C:\\ProgramData\\Anaconda3\\lib\\site-packages\\sklearn\\model_selection\\_split.py:2053: FutureWarning: You should specify a value for 'cv' instead of relying on the default value. The default value will change from 3 to 5 in version 0.22.\n",
      "  warnings.warn(CV_WARNING, FutureWarning)\n",
      "C:\\ProgramData\\Anaconda3\\lib\\site-packages\\sklearn\\model_selection\\_split.py:2053: FutureWarning: You should specify a value for 'cv' instead of relying on the default value. The default value will change from 3 to 5 in version 0.22.\n",
      "  warnings.warn(CV_WARNING, FutureWarning)\n",
      "C:\\ProgramData\\Anaconda3\\lib\\site-packages\\sklearn\\model_selection\\_split.py:2053: FutureWarning: You should specify a value for 'cv' instead of relying on the default value. The default value will change from 3 to 5 in version 0.22.\n",
      "  warnings.warn(CV_WARNING, FutureWarning)\n"
     ]
    }
   ],
   "source": [
    "scores = cross_val_score(model1, X, y, cv=5)"
   ]
  },
  {
   "cell_type": "code",
   "execution_count": 52,
   "metadata": {},
   "outputs": [
    {
     "data": {
      "text/plain": [
       "array([0.76219512, 0.75460123, 0.81595092, 0.79012346, 0.80745342])"
      ]
     },
     "execution_count": 52,
     "metadata": {},
     "output_type": "execute_result"
    }
   ],
   "source": [
    "scores"
   ]
  },
  {
   "cell_type": "code",
   "execution_count": 59,
   "metadata": {},
   "outputs": [
    {
     "name": "stdout",
     "output_type": "stream",
     "text": [
      " The Accuracy score : 0.79 (+/- 0.05)\n"
     ]
    }
   ],
   "source": [
    "print(\" The Accuracy score : %0.2f (+/- %0.2f)\" % (scores.mean(), scores.std() * 2))"
   ]
  },
  {
   "cell_type": "code",
   "execution_count": null,
   "metadata": {},
   "outputs": [],
   "source": []
  }
 ],
 "metadata": {
  "kernelspec": {
   "display_name": "Python 3",
   "language": "python",
   "name": "python3"
  },
  "language_info": {
   "codemirror_mode": {
    "name": "ipython",
    "version": 3
   },
   "file_extension": ".py",
   "mimetype": "text/x-python",
   "name": "python",
   "nbconvert_exporter": "python",
   "pygments_lexer": "ipython3",
   "version": "3.7.3"
  }
 },
 "nbformat": 4,
 "nbformat_minor": 2
}
