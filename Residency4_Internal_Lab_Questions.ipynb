{
 "cells": [
  {
   "cell_type": "markdown",
   "metadata": {},
   "source": [
    "# Problem Statement"
   ]
  },
  {
   "cell_type": "markdown",
   "metadata": {},
   "source": [
    "## Feature Engineering:"
   ]
  },
  {
   "cell_type": "markdown",
   "metadata": {},
   "source": [
    "This section deals about feature importances for a given dataset. The given data set is german-credit data which helps classify whether a given person qualifies as a good credit or a bad credit. This helps the bank minimize and realize the risks involved in credit processing"
   ]
  },
  {
   "cell_type": "markdown",
   "metadata": {},
   "source": [
    "### Import the dataset and describe it"
   ]
  },
  {
   "cell_type": "code",
   "execution_count": null,
   "metadata": {},
   "outputs": [],
   "source": [
    "#import german_credit dataset and the necessary libraries\n"
   ]
  },
  {
   "cell_type": "code",
   "execution_count": 1,
   "metadata": {},
   "outputs": [],
   "source": [
    "import pandas as pd\n",
    "import numpy as np"
   ]
  },
  {
   "cell_type": "code",
   "execution_count": 2,
   "metadata": {},
   "outputs": [
    {
     "data": {
      "text/html": [
       "<div>\n",
       "<style scoped>\n",
       "    .dataframe tbody tr th:only-of-type {\n",
       "        vertical-align: middle;\n",
       "    }\n",
       "\n",
       "    .dataframe tbody tr th {\n",
       "        vertical-align: top;\n",
       "    }\n",
       "\n",
       "    .dataframe thead th {\n",
       "        text-align: right;\n",
       "    }\n",
       "</style>\n",
       "<table border=\"1\" class=\"dataframe\">\n",
       "  <thead>\n",
       "    <tr style=\"text-align: right;\">\n",
       "      <th></th>\n",
       "      <th>default</th>\n",
       "      <th>account_check_status</th>\n",
       "      <th>duration_in_month</th>\n",
       "      <th>credit_history</th>\n",
       "      <th>purpose</th>\n",
       "      <th>credit_amount</th>\n",
       "      <th>savings</th>\n",
       "      <th>present_emp_since</th>\n",
       "      <th>installment_as_income_perc</th>\n",
       "      <th>personal_status_sex</th>\n",
       "      <th>...</th>\n",
       "      <th>present_res_since</th>\n",
       "      <th>property</th>\n",
       "      <th>age</th>\n",
       "      <th>other_installment_plans</th>\n",
       "      <th>housing</th>\n",
       "      <th>credits_this_bank</th>\n",
       "      <th>job</th>\n",
       "      <th>people_under_maintenance</th>\n",
       "      <th>telephone</th>\n",
       "      <th>foreign_worker</th>\n",
       "    </tr>\n",
       "  </thead>\n",
       "  <tbody>\n",
       "    <tr>\n",
       "      <th>0</th>\n",
       "      <td>0</td>\n",
       "      <td>&lt; 0 DM</td>\n",
       "      <td>6</td>\n",
       "      <td>critical account/ other credits existing (not ...</td>\n",
       "      <td>domestic appliances</td>\n",
       "      <td>1169</td>\n",
       "      <td>unknown/ no savings account</td>\n",
       "      <td>.. &gt;= 7 years</td>\n",
       "      <td>4</td>\n",
       "      <td>male : single</td>\n",
       "      <td>...</td>\n",
       "      <td>4</td>\n",
       "      <td>real estate</td>\n",
       "      <td>67</td>\n",
       "      <td>none</td>\n",
       "      <td>own</td>\n",
       "      <td>2</td>\n",
       "      <td>skilled employee / official</td>\n",
       "      <td>1</td>\n",
       "      <td>yes, registered under the customers name</td>\n",
       "      <td>yes</td>\n",
       "    </tr>\n",
       "    <tr>\n",
       "      <th>1</th>\n",
       "      <td>1</td>\n",
       "      <td>0 &lt;= ... &lt; 200 DM</td>\n",
       "      <td>48</td>\n",
       "      <td>existing credits paid back duly till now</td>\n",
       "      <td>domestic appliances</td>\n",
       "      <td>5951</td>\n",
       "      <td>... &lt; 100 DM</td>\n",
       "      <td>1 &lt;= ... &lt; 4 years</td>\n",
       "      <td>2</td>\n",
       "      <td>female : divorced/separated/married</td>\n",
       "      <td>...</td>\n",
       "      <td>2</td>\n",
       "      <td>real estate</td>\n",
       "      <td>22</td>\n",
       "      <td>none</td>\n",
       "      <td>own</td>\n",
       "      <td>1</td>\n",
       "      <td>skilled employee / official</td>\n",
       "      <td>1</td>\n",
       "      <td>none</td>\n",
       "      <td>yes</td>\n",
       "    </tr>\n",
       "    <tr>\n",
       "      <th>2</th>\n",
       "      <td>0</td>\n",
       "      <td>no checking account</td>\n",
       "      <td>12</td>\n",
       "      <td>critical account/ other credits existing (not ...</td>\n",
       "      <td>(vacation - does not exist?)</td>\n",
       "      <td>2096</td>\n",
       "      <td>... &lt; 100 DM</td>\n",
       "      <td>4 &lt;= ... &lt; 7 years</td>\n",
       "      <td>2</td>\n",
       "      <td>male : single</td>\n",
       "      <td>...</td>\n",
       "      <td>3</td>\n",
       "      <td>real estate</td>\n",
       "      <td>49</td>\n",
       "      <td>none</td>\n",
       "      <td>own</td>\n",
       "      <td>1</td>\n",
       "      <td>unskilled - resident</td>\n",
       "      <td>2</td>\n",
       "      <td>none</td>\n",
       "      <td>yes</td>\n",
       "    </tr>\n",
       "    <tr>\n",
       "      <th>3</th>\n",
       "      <td>0</td>\n",
       "      <td>&lt; 0 DM</td>\n",
       "      <td>42</td>\n",
       "      <td>existing credits paid back duly till now</td>\n",
       "      <td>radio/television</td>\n",
       "      <td>7882</td>\n",
       "      <td>... &lt; 100 DM</td>\n",
       "      <td>4 &lt;= ... &lt; 7 years</td>\n",
       "      <td>2</td>\n",
       "      <td>male : single</td>\n",
       "      <td>...</td>\n",
       "      <td>4</td>\n",
       "      <td>if not A121 : building society savings agreeme...</td>\n",
       "      <td>45</td>\n",
       "      <td>none</td>\n",
       "      <td>for free</td>\n",
       "      <td>1</td>\n",
       "      <td>skilled employee / official</td>\n",
       "      <td>2</td>\n",
       "      <td>none</td>\n",
       "      <td>yes</td>\n",
       "    </tr>\n",
       "    <tr>\n",
       "      <th>4</th>\n",
       "      <td>1</td>\n",
       "      <td>&lt; 0 DM</td>\n",
       "      <td>24</td>\n",
       "      <td>delay in paying off in the past</td>\n",
       "      <td>car (new)</td>\n",
       "      <td>4870</td>\n",
       "      <td>... &lt; 100 DM</td>\n",
       "      <td>1 &lt;= ... &lt; 4 years</td>\n",
       "      <td>3</td>\n",
       "      <td>male : single</td>\n",
       "      <td>...</td>\n",
       "      <td>4</td>\n",
       "      <td>unknown / no property</td>\n",
       "      <td>53</td>\n",
       "      <td>none</td>\n",
       "      <td>for free</td>\n",
       "      <td>2</td>\n",
       "      <td>skilled employee / official</td>\n",
       "      <td>2</td>\n",
       "      <td>none</td>\n",
       "      <td>yes</td>\n",
       "    </tr>\n",
       "  </tbody>\n",
       "</table>\n",
       "<p>5 rows × 21 columns</p>\n",
       "</div>"
      ],
      "text/plain": [
       "   default account_check_status  duration_in_month  \\\n",
       "0        0               < 0 DM                  6   \n",
       "1        1    0 <= ... < 200 DM                 48   \n",
       "2        0  no checking account                 12   \n",
       "3        0               < 0 DM                 42   \n",
       "4        1               < 0 DM                 24   \n",
       "\n",
       "                                      credit_history  \\\n",
       "0  critical account/ other credits existing (not ...   \n",
       "1           existing credits paid back duly till now   \n",
       "2  critical account/ other credits existing (not ...   \n",
       "3           existing credits paid back duly till now   \n",
       "4                    delay in paying off in the past   \n",
       "\n",
       "                        purpose  credit_amount                      savings  \\\n",
       "0           domestic appliances           1169  unknown/ no savings account   \n",
       "1           domestic appliances           5951                 ... < 100 DM   \n",
       "2  (vacation - does not exist?)           2096                 ... < 100 DM   \n",
       "3              radio/television           7882                 ... < 100 DM   \n",
       "4                     car (new)           4870                 ... < 100 DM   \n",
       "\n",
       "    present_emp_since  installment_as_income_perc  \\\n",
       "0       .. >= 7 years                           4   \n",
       "1  1 <= ... < 4 years                           2   \n",
       "2  4 <= ... < 7 years                           2   \n",
       "3  4 <= ... < 7 years                           2   \n",
       "4  1 <= ... < 4 years                           3   \n",
       "\n",
       "                   personal_status_sex  ... present_res_since  \\\n",
       "0                        male : single  ...                 4   \n",
       "1  female : divorced/separated/married  ...                 2   \n",
       "2                        male : single  ...                 3   \n",
       "3                        male : single  ...                 4   \n",
       "4                        male : single  ...                 4   \n",
       "\n",
       "                                            property age  \\\n",
       "0                                        real estate  67   \n",
       "1                                        real estate  22   \n",
       "2                                        real estate  49   \n",
       "3  if not A121 : building society savings agreeme...  45   \n",
       "4                              unknown / no property  53   \n",
       "\n",
       "   other_installment_plans   housing credits_this_bank  \\\n",
       "0                     none       own                 2   \n",
       "1                     none       own                 1   \n",
       "2                     none       own                 1   \n",
       "3                     none  for free                 1   \n",
       "4                     none  for free                 2   \n",
       "\n",
       "                           job people_under_maintenance  \\\n",
       "0  skilled employee / official                        1   \n",
       "1  skilled employee / official                        1   \n",
       "2         unskilled - resident                        2   \n",
       "3  skilled employee / official                        2   \n",
       "4  skilled employee / official                        2   \n",
       "\n",
       "                                   telephone foreign_worker  \n",
       "0  yes, registered under the customers name             yes  \n",
       "1                                       none            yes  \n",
       "2                                       none            yes  \n",
       "3                                       none            yes  \n",
       "4                                       none            yes  \n",
       "\n",
       "[5 rows x 21 columns]"
      ]
     },
     "execution_count": 2,
     "metadata": {},
     "output_type": "execute_result"
    }
   ],
   "source": [
    "df = pd.read_csv(\"german_credit.csv\")\n",
    "df.head(5)"
   ]
  },
  {
   "cell_type": "code",
   "execution_count": 3,
   "metadata": {},
   "outputs": [],
   "source": [
    "#Do a describe of the data and understand the description"
   ]
  },
  {
   "cell_type": "code",
   "execution_count": 4,
   "metadata": {},
   "outputs": [
    {
     "data": {
      "text/html": [
       "<div>\n",
       "<style scoped>\n",
       "    .dataframe tbody tr th:only-of-type {\n",
       "        vertical-align: middle;\n",
       "    }\n",
       "\n",
       "    .dataframe tbody tr th {\n",
       "        vertical-align: top;\n",
       "    }\n",
       "\n",
       "    .dataframe thead th {\n",
       "        text-align: right;\n",
       "    }\n",
       "</style>\n",
       "<table border=\"1\" class=\"dataframe\">\n",
       "  <thead>\n",
       "    <tr style=\"text-align: right;\">\n",
       "      <th></th>\n",
       "      <th>count</th>\n",
       "      <th>mean</th>\n",
       "      <th>std</th>\n",
       "      <th>min</th>\n",
       "      <th>25%</th>\n",
       "      <th>50%</th>\n",
       "      <th>75%</th>\n",
       "      <th>max</th>\n",
       "    </tr>\n",
       "  </thead>\n",
       "  <tbody>\n",
       "    <tr>\n",
       "      <th>default</th>\n",
       "      <td>1000.0</td>\n",
       "      <td>0.300</td>\n",
       "      <td>0.458487</td>\n",
       "      <td>0.0</td>\n",
       "      <td>0.0</td>\n",
       "      <td>0.0</td>\n",
       "      <td>1.00</td>\n",
       "      <td>1.0</td>\n",
       "    </tr>\n",
       "    <tr>\n",
       "      <th>duration_in_month</th>\n",
       "      <td>1000.0</td>\n",
       "      <td>20.903</td>\n",
       "      <td>12.058814</td>\n",
       "      <td>4.0</td>\n",
       "      <td>12.0</td>\n",
       "      <td>18.0</td>\n",
       "      <td>24.00</td>\n",
       "      <td>72.0</td>\n",
       "    </tr>\n",
       "    <tr>\n",
       "      <th>credit_amount</th>\n",
       "      <td>1000.0</td>\n",
       "      <td>3271.258</td>\n",
       "      <td>2822.736876</td>\n",
       "      <td>250.0</td>\n",
       "      <td>1365.5</td>\n",
       "      <td>2319.5</td>\n",
       "      <td>3972.25</td>\n",
       "      <td>18424.0</td>\n",
       "    </tr>\n",
       "    <tr>\n",
       "      <th>installment_as_income_perc</th>\n",
       "      <td>1000.0</td>\n",
       "      <td>2.973</td>\n",
       "      <td>1.118715</td>\n",
       "      <td>1.0</td>\n",
       "      <td>2.0</td>\n",
       "      <td>3.0</td>\n",
       "      <td>4.00</td>\n",
       "      <td>4.0</td>\n",
       "    </tr>\n",
       "    <tr>\n",
       "      <th>present_res_since</th>\n",
       "      <td>1000.0</td>\n",
       "      <td>2.845</td>\n",
       "      <td>1.103718</td>\n",
       "      <td>1.0</td>\n",
       "      <td>2.0</td>\n",
       "      <td>3.0</td>\n",
       "      <td>4.00</td>\n",
       "      <td>4.0</td>\n",
       "    </tr>\n",
       "    <tr>\n",
       "      <th>age</th>\n",
       "      <td>1000.0</td>\n",
       "      <td>35.546</td>\n",
       "      <td>11.375469</td>\n",
       "      <td>19.0</td>\n",
       "      <td>27.0</td>\n",
       "      <td>33.0</td>\n",
       "      <td>42.00</td>\n",
       "      <td>75.0</td>\n",
       "    </tr>\n",
       "    <tr>\n",
       "      <th>credits_this_bank</th>\n",
       "      <td>1000.0</td>\n",
       "      <td>1.407</td>\n",
       "      <td>0.577654</td>\n",
       "      <td>1.0</td>\n",
       "      <td>1.0</td>\n",
       "      <td>1.0</td>\n",
       "      <td>2.00</td>\n",
       "      <td>4.0</td>\n",
       "    </tr>\n",
       "    <tr>\n",
       "      <th>people_under_maintenance</th>\n",
       "      <td>1000.0</td>\n",
       "      <td>1.155</td>\n",
       "      <td>0.362086</td>\n",
       "      <td>1.0</td>\n",
       "      <td>1.0</td>\n",
       "      <td>1.0</td>\n",
       "      <td>1.00</td>\n",
       "      <td>2.0</td>\n",
       "    </tr>\n",
       "  </tbody>\n",
       "</table>\n",
       "</div>"
      ],
      "text/plain": [
       "                             count      mean          std    min     25%  \\\n",
       "default                     1000.0     0.300     0.458487    0.0     0.0   \n",
       "duration_in_month           1000.0    20.903    12.058814    4.0    12.0   \n",
       "credit_amount               1000.0  3271.258  2822.736876  250.0  1365.5   \n",
       "installment_as_income_perc  1000.0     2.973     1.118715    1.0     2.0   \n",
       "present_res_since           1000.0     2.845     1.103718    1.0     2.0   \n",
       "age                         1000.0    35.546    11.375469   19.0    27.0   \n",
       "credits_this_bank           1000.0     1.407     0.577654    1.0     1.0   \n",
       "people_under_maintenance    1000.0     1.155     0.362086    1.0     1.0   \n",
       "\n",
       "                               50%      75%      max  \n",
       "default                        0.0     1.00      1.0  \n",
       "duration_in_month             18.0    24.00     72.0  \n",
       "credit_amount               2319.5  3972.25  18424.0  \n",
       "installment_as_income_perc     3.0     4.00      4.0  \n",
       "present_res_since              3.0     4.00      4.0  \n",
       "age                           33.0    42.00     75.0  \n",
       "credits_this_bank              1.0     2.00      4.0  \n",
       "people_under_maintenance       1.0     1.00      2.0  "
      ]
     },
     "execution_count": 4,
     "metadata": {},
     "output_type": "execute_result"
    }
   ],
   "source": [
    "df.describe().transpose()"
   ]
  },
  {
   "cell_type": "markdown",
   "metadata": {},
   "source": [
    "Check for the correlation of the columns.\n",
    "Hint: Use corr()"
   ]
  },
  {
   "cell_type": "code",
   "execution_count": 5,
   "metadata": {},
   "outputs": [
    {
     "data": {
      "text/html": [
       "<div>\n",
       "<style scoped>\n",
       "    .dataframe tbody tr th:only-of-type {\n",
       "        vertical-align: middle;\n",
       "    }\n",
       "\n",
       "    .dataframe tbody tr th {\n",
       "        vertical-align: top;\n",
       "    }\n",
       "\n",
       "    .dataframe thead th {\n",
       "        text-align: right;\n",
       "    }\n",
       "</style>\n",
       "<table border=\"1\" class=\"dataframe\">\n",
       "  <thead>\n",
       "    <tr style=\"text-align: right;\">\n",
       "      <th></th>\n",
       "      <th>default</th>\n",
       "      <th>duration_in_month</th>\n",
       "      <th>credit_amount</th>\n",
       "      <th>installment_as_income_perc</th>\n",
       "      <th>present_res_since</th>\n",
       "      <th>age</th>\n",
       "      <th>credits_this_bank</th>\n",
       "      <th>people_under_maintenance</th>\n",
       "    </tr>\n",
       "  </thead>\n",
       "  <tbody>\n",
       "    <tr>\n",
       "      <th>default</th>\n",
       "      <td>1.000000</td>\n",
       "      <td>0.214927</td>\n",
       "      <td>0.154739</td>\n",
       "      <td>0.072404</td>\n",
       "      <td>0.002967</td>\n",
       "      <td>-0.091127</td>\n",
       "      <td>-0.045732</td>\n",
       "      <td>-0.003015</td>\n",
       "    </tr>\n",
       "    <tr>\n",
       "      <th>duration_in_month</th>\n",
       "      <td>0.214927</td>\n",
       "      <td>1.000000</td>\n",
       "      <td>0.624984</td>\n",
       "      <td>0.074749</td>\n",
       "      <td>0.034067</td>\n",
       "      <td>-0.036136</td>\n",
       "      <td>-0.011284</td>\n",
       "      <td>-0.023834</td>\n",
       "    </tr>\n",
       "    <tr>\n",
       "      <th>credit_amount</th>\n",
       "      <td>0.154739</td>\n",
       "      <td>0.624984</td>\n",
       "      <td>1.000000</td>\n",
       "      <td>-0.271316</td>\n",
       "      <td>0.028926</td>\n",
       "      <td>0.032716</td>\n",
       "      <td>0.020795</td>\n",
       "      <td>0.017142</td>\n",
       "    </tr>\n",
       "    <tr>\n",
       "      <th>installment_as_income_perc</th>\n",
       "      <td>0.072404</td>\n",
       "      <td>0.074749</td>\n",
       "      <td>-0.271316</td>\n",
       "      <td>1.000000</td>\n",
       "      <td>0.049302</td>\n",
       "      <td>0.058266</td>\n",
       "      <td>0.021669</td>\n",
       "      <td>-0.071207</td>\n",
       "    </tr>\n",
       "    <tr>\n",
       "      <th>present_res_since</th>\n",
       "      <td>0.002967</td>\n",
       "      <td>0.034067</td>\n",
       "      <td>0.028926</td>\n",
       "      <td>0.049302</td>\n",
       "      <td>1.000000</td>\n",
       "      <td>0.266419</td>\n",
       "      <td>0.089625</td>\n",
       "      <td>0.042643</td>\n",
       "    </tr>\n",
       "    <tr>\n",
       "      <th>age</th>\n",
       "      <td>-0.091127</td>\n",
       "      <td>-0.036136</td>\n",
       "      <td>0.032716</td>\n",
       "      <td>0.058266</td>\n",
       "      <td>0.266419</td>\n",
       "      <td>1.000000</td>\n",
       "      <td>0.149254</td>\n",
       "      <td>0.118201</td>\n",
       "    </tr>\n",
       "    <tr>\n",
       "      <th>credits_this_bank</th>\n",
       "      <td>-0.045732</td>\n",
       "      <td>-0.011284</td>\n",
       "      <td>0.020795</td>\n",
       "      <td>0.021669</td>\n",
       "      <td>0.089625</td>\n",
       "      <td>0.149254</td>\n",
       "      <td>1.000000</td>\n",
       "      <td>0.109667</td>\n",
       "    </tr>\n",
       "    <tr>\n",
       "      <th>people_under_maintenance</th>\n",
       "      <td>-0.003015</td>\n",
       "      <td>-0.023834</td>\n",
       "      <td>0.017142</td>\n",
       "      <td>-0.071207</td>\n",
       "      <td>0.042643</td>\n",
       "      <td>0.118201</td>\n",
       "      <td>0.109667</td>\n",
       "      <td>1.000000</td>\n",
       "    </tr>\n",
       "  </tbody>\n",
       "</table>\n",
       "</div>"
      ],
      "text/plain": [
       "                             default  duration_in_month  credit_amount  \\\n",
       "default                     1.000000           0.214927       0.154739   \n",
       "duration_in_month           0.214927           1.000000       0.624984   \n",
       "credit_amount               0.154739           0.624984       1.000000   \n",
       "installment_as_income_perc  0.072404           0.074749      -0.271316   \n",
       "present_res_since           0.002967           0.034067       0.028926   \n",
       "age                        -0.091127          -0.036136       0.032716   \n",
       "credits_this_bank          -0.045732          -0.011284       0.020795   \n",
       "people_under_maintenance   -0.003015          -0.023834       0.017142   \n",
       "\n",
       "                            installment_as_income_perc  present_res_since  \\\n",
       "default                                       0.072404           0.002967   \n",
       "duration_in_month                             0.074749           0.034067   \n",
       "credit_amount                                -0.271316           0.028926   \n",
       "installment_as_income_perc                    1.000000           0.049302   \n",
       "present_res_since                             0.049302           1.000000   \n",
       "age                                           0.058266           0.266419   \n",
       "credits_this_bank                             0.021669           0.089625   \n",
       "people_under_maintenance                     -0.071207           0.042643   \n",
       "\n",
       "                                 age  credits_this_bank  \\\n",
       "default                    -0.091127          -0.045732   \n",
       "duration_in_month          -0.036136          -0.011284   \n",
       "credit_amount               0.032716           0.020795   \n",
       "installment_as_income_perc  0.058266           0.021669   \n",
       "present_res_since           0.266419           0.089625   \n",
       "age                         1.000000           0.149254   \n",
       "credits_this_bank           0.149254           1.000000   \n",
       "people_under_maintenance    0.118201           0.109667   \n",
       "\n",
       "                            people_under_maintenance  \n",
       "default                                    -0.003015  \n",
       "duration_in_month                          -0.023834  \n",
       "credit_amount                               0.017142  \n",
       "installment_as_income_perc                 -0.071207  \n",
       "present_res_since                           0.042643  \n",
       "age                                         0.118201  \n",
       "credits_this_bank                           0.109667  \n",
       "people_under_maintenance                    1.000000  "
      ]
     },
     "execution_count": 5,
     "metadata": {},
     "output_type": "execute_result"
    }
   ],
   "source": [
    "df.corr()"
   ]
  },
  {
   "cell_type": "code",
   "execution_count": 6,
   "metadata": {},
   "outputs": [
    {
     "data": {
      "text/plain": [
       "(1000, 21)"
      ]
     },
     "execution_count": 6,
     "metadata": {},
     "output_type": "execute_result"
    }
   ],
   "source": [
    "df.shape"
   ]
  },
  {
   "cell_type": "markdown",
   "metadata": {},
   "source": [
    "### Prepare the model data by converting non-numeric to dummy"
   ]
  },
  {
   "cell_type": "markdown",
   "metadata": {},
   "source": [
    "#### Hint: Use get_dummies"
   ]
  },
  {
   "cell_type": "code",
   "execution_count": 7,
   "metadata": {},
   "outputs": [
    {
     "data": {
      "text/plain": [
       "Index(['account_check_status', 'credit_history', 'purpose', 'savings',\n",
       "       'present_emp_since', 'personal_status_sex', 'other_debtors', 'property',\n",
       "       'other_installment_plans', 'housing', 'job', 'telephone',\n",
       "       'foreign_worker'],\n",
       "      dtype='object')"
      ]
     },
     "execution_count": 7,
     "metadata": {},
     "output_type": "execute_result"
    }
   ],
   "source": [
    "df1 = df.select_dtypes(exclude='number')\n",
    "df1.columns"
   ]
  },
  {
   "cell_type": "code",
   "execution_count": 8,
   "metadata": {},
   "outputs": [
    {
     "data": {
      "text/plain": [
       "(1000, 13)"
      ]
     },
     "execution_count": 8,
     "metadata": {},
     "output_type": "execute_result"
    }
   ],
   "source": [
    "df1.shape"
   ]
  },
  {
   "cell_type": "code",
   "execution_count": null,
   "metadata": {},
   "outputs": [],
   "source": [
    "#one hot encoding is being done "
   ]
  },
  {
   "cell_type": "code",
   "execution_count": 9,
   "metadata": {},
   "outputs": [],
   "source": [
    "df = pd.get_dummies(df)"
   ]
  },
  {
   "cell_type": "code",
   "execution_count": 10,
   "metadata": {},
   "outputs": [
    {
     "data": {
      "text/plain": [
       "(1000, 62)"
      ]
     },
     "execution_count": 10,
     "metadata": {},
     "output_type": "execute_result"
    }
   ],
   "source": [
    "df.shape"
   ]
  },
  {
   "cell_type": "code",
   "execution_count": 11,
   "metadata": {},
   "outputs": [
    {
     "data": {
      "text/plain": [
       "Index(['default', 'duration_in_month', 'credit_amount',\n",
       "       'installment_as_income_perc', 'present_res_since', 'age',\n",
       "       'credits_this_bank', 'people_under_maintenance',\n",
       "       'account_check_status_0 <= ... < 200 DM', 'account_check_status_< 0 DM',\n",
       "       'account_check_status_>= 200 DM / salary assignments for at least 1 year',\n",
       "       'account_check_status_no checking account',\n",
       "       'credit_history_all credits at this bank paid back duly',\n",
       "       'credit_history_critical account/ other credits existing (not at this bank)',\n",
       "       'credit_history_delay in paying off in the past',\n",
       "       'credit_history_existing credits paid back duly till now',\n",
       "       'credit_history_no credits taken/ all credits paid back duly',\n",
       "       'purpose_(vacation - does not exist?)', 'purpose_business',\n",
       "       'purpose_car (new)', 'purpose_car (used)',\n",
       "       'purpose_domestic appliances', 'purpose_education',\n",
       "       'purpose_furniture/equipment', 'purpose_radio/television',\n",
       "       'purpose_repairs', 'purpose_retraining', 'savings_.. >= 1000 DM ',\n",
       "       'savings_... < 100 DM', 'savings_100 <= ... < 500 DM',\n",
       "       'savings_500 <= ... < 1000 DM ', 'savings_unknown/ no savings account',\n",
       "       'present_emp_since_.. >= 7 years', 'present_emp_since_... < 1 year ',\n",
       "       'present_emp_since_1 <= ... < 4 years',\n",
       "       'present_emp_since_4 <= ... < 7 years', 'present_emp_since_unemployed',\n",
       "       'personal_status_sex_female : divorced/separated/married',\n",
       "       'personal_status_sex_male : divorced/separated',\n",
       "       'personal_status_sex_male : married/widowed',\n",
       "       'personal_status_sex_male : single', 'other_debtors_co-applicant',\n",
       "       'other_debtors_guarantor', 'other_debtors_none',\n",
       "       'property_if not A121 : building society savings agreement/ life insurance',\n",
       "       'property_if not A121/A122 : car or other, not in attribute 6',\n",
       "       'property_real estate', 'property_unknown / no property',\n",
       "       'other_installment_plans_bank', 'other_installment_plans_none',\n",
       "       'other_installment_plans_stores', 'housing_for free', 'housing_own',\n",
       "       'housing_rent',\n",
       "       'job_management/ self-employed/ highly qualified employee/ officer',\n",
       "       'job_skilled employee / official',\n",
       "       'job_unemployed/ unskilled - non-resident', 'job_unskilled - resident',\n",
       "       'telephone_none', 'telephone_yes, registered under the customers name ',\n",
       "       'foreign_worker_no', 'foreign_worker_yes'],\n",
       "      dtype='object')"
      ]
     },
     "execution_count": 11,
     "metadata": {},
     "output_type": "execute_result"
    }
   ],
   "source": [
    "df.columns"
   ]
  },
  {
   "cell_type": "markdown",
   "metadata": {},
   "source": [
    "# Drop the original variables which are converted to dummy"
   ]
  },
  {
   "cell_type": "code",
   "execution_count": null,
   "metadata": {},
   "outputs": [],
   "source": [
    "#The original column are being dropped when we perform the get dummies operation , hence no need for dropping again"
   ]
  },
  {
   "cell_type": "code",
   "execution_count": 16,
   "metadata": {},
   "outputs": [
    {
     "data": {
      "text/html": [
       "<div>\n",
       "<style scoped>\n",
       "    .dataframe tbody tr th:only-of-type {\n",
       "        vertical-align: middle;\n",
       "    }\n",
       "\n",
       "    .dataframe tbody tr th {\n",
       "        vertical-align: top;\n",
       "    }\n",
       "\n",
       "    .dataframe thead th {\n",
       "        text-align: right;\n",
       "    }\n",
       "</style>\n",
       "<table border=\"1\" class=\"dataframe\">\n",
       "  <thead>\n",
       "    <tr style=\"text-align: right;\">\n",
       "      <th></th>\n",
       "      <th>default</th>\n",
       "      <th>duration_in_month</th>\n",
       "      <th>credit_amount</th>\n",
       "      <th>installment_as_income_perc</th>\n",
       "      <th>present_res_since</th>\n",
       "      <th>age</th>\n",
       "      <th>credits_this_bank</th>\n",
       "      <th>people_under_maintenance</th>\n",
       "      <th>account_check_status_0 &lt;= ... &lt; 200 DM</th>\n",
       "      <th>account_check_status_&lt; 0 DM</th>\n",
       "      <th>...</th>\n",
       "      <th>housing_own</th>\n",
       "      <th>housing_rent</th>\n",
       "      <th>job_management/ self-employed/ highly qualified employee/ officer</th>\n",
       "      <th>job_skilled employee / official</th>\n",
       "      <th>job_unemployed/ unskilled - non-resident</th>\n",
       "      <th>job_unskilled - resident</th>\n",
       "      <th>telephone_none</th>\n",
       "      <th>telephone_yes, registered under the customers name</th>\n",
       "      <th>foreign_worker_no</th>\n",
       "      <th>foreign_worker_yes</th>\n",
       "    </tr>\n",
       "  </thead>\n",
       "  <tbody>\n",
       "    <tr>\n",
       "      <th>0</th>\n",
       "      <td>0</td>\n",
       "      <td>6</td>\n",
       "      <td>1169</td>\n",
       "      <td>4</td>\n",
       "      <td>4</td>\n",
       "      <td>67</td>\n",
       "      <td>2</td>\n",
       "      <td>1</td>\n",
       "      <td>0</td>\n",
       "      <td>1</td>\n",
       "      <td>...</td>\n",
       "      <td>1</td>\n",
       "      <td>0</td>\n",
       "      <td>0</td>\n",
       "      <td>1</td>\n",
       "      <td>0</td>\n",
       "      <td>0</td>\n",
       "      <td>0</td>\n",
       "      <td>1</td>\n",
       "      <td>0</td>\n",
       "      <td>1</td>\n",
       "    </tr>\n",
       "    <tr>\n",
       "      <th>1</th>\n",
       "      <td>1</td>\n",
       "      <td>48</td>\n",
       "      <td>5951</td>\n",
       "      <td>2</td>\n",
       "      <td>2</td>\n",
       "      <td>22</td>\n",
       "      <td>1</td>\n",
       "      <td>1</td>\n",
       "      <td>1</td>\n",
       "      <td>0</td>\n",
       "      <td>...</td>\n",
       "      <td>1</td>\n",
       "      <td>0</td>\n",
       "      <td>0</td>\n",
       "      <td>1</td>\n",
       "      <td>0</td>\n",
       "      <td>0</td>\n",
       "      <td>1</td>\n",
       "      <td>0</td>\n",
       "      <td>0</td>\n",
       "      <td>1</td>\n",
       "    </tr>\n",
       "    <tr>\n",
       "      <th>2</th>\n",
       "      <td>0</td>\n",
       "      <td>12</td>\n",
       "      <td>2096</td>\n",
       "      <td>2</td>\n",
       "      <td>3</td>\n",
       "      <td>49</td>\n",
       "      <td>1</td>\n",
       "      <td>2</td>\n",
       "      <td>0</td>\n",
       "      <td>0</td>\n",
       "      <td>...</td>\n",
       "      <td>1</td>\n",
       "      <td>0</td>\n",
       "      <td>0</td>\n",
       "      <td>0</td>\n",
       "      <td>0</td>\n",
       "      <td>1</td>\n",
       "      <td>1</td>\n",
       "      <td>0</td>\n",
       "      <td>0</td>\n",
       "      <td>1</td>\n",
       "    </tr>\n",
       "    <tr>\n",
       "      <th>3</th>\n",
       "      <td>0</td>\n",
       "      <td>42</td>\n",
       "      <td>7882</td>\n",
       "      <td>2</td>\n",
       "      <td>4</td>\n",
       "      <td>45</td>\n",
       "      <td>1</td>\n",
       "      <td>2</td>\n",
       "      <td>0</td>\n",
       "      <td>1</td>\n",
       "      <td>...</td>\n",
       "      <td>0</td>\n",
       "      <td>0</td>\n",
       "      <td>0</td>\n",
       "      <td>1</td>\n",
       "      <td>0</td>\n",
       "      <td>0</td>\n",
       "      <td>1</td>\n",
       "      <td>0</td>\n",
       "      <td>0</td>\n",
       "      <td>1</td>\n",
       "    </tr>\n",
       "    <tr>\n",
       "      <th>4</th>\n",
       "      <td>1</td>\n",
       "      <td>24</td>\n",
       "      <td>4870</td>\n",
       "      <td>3</td>\n",
       "      <td>4</td>\n",
       "      <td>53</td>\n",
       "      <td>2</td>\n",
       "      <td>2</td>\n",
       "      <td>0</td>\n",
       "      <td>1</td>\n",
       "      <td>...</td>\n",
       "      <td>0</td>\n",
       "      <td>0</td>\n",
       "      <td>0</td>\n",
       "      <td>1</td>\n",
       "      <td>0</td>\n",
       "      <td>0</td>\n",
       "      <td>1</td>\n",
       "      <td>0</td>\n",
       "      <td>0</td>\n",
       "      <td>1</td>\n",
       "    </tr>\n",
       "  </tbody>\n",
       "</table>\n",
       "<p>5 rows × 62 columns</p>\n",
       "</div>"
      ],
      "text/plain": [
       "   default  duration_in_month  credit_amount  installment_as_income_perc  \\\n",
       "0        0                  6           1169                           4   \n",
       "1        1                 48           5951                           2   \n",
       "2        0                 12           2096                           2   \n",
       "3        0                 42           7882                           2   \n",
       "4        1                 24           4870                           3   \n",
       "\n",
       "   present_res_since  age  credits_this_bank  people_under_maintenance  \\\n",
       "0                  4   67                  2                         1   \n",
       "1                  2   22                  1                         1   \n",
       "2                  3   49                  1                         2   \n",
       "3                  4   45                  1                         2   \n",
       "4                  4   53                  2                         2   \n",
       "\n",
       "   account_check_status_0 <= ... < 200 DM  account_check_status_< 0 DM  ...  \\\n",
       "0                                       0                            1  ...   \n",
       "1                                       1                            0  ...   \n",
       "2                                       0                            0  ...   \n",
       "3                                       0                            1  ...   \n",
       "4                                       0                            1  ...   \n",
       "\n",
       "   housing_own  housing_rent  \\\n",
       "0            1             0   \n",
       "1            1             0   \n",
       "2            1             0   \n",
       "3            0             0   \n",
       "4            0             0   \n",
       "\n",
       "   job_management/ self-employed/ highly qualified employee/ officer  \\\n",
       "0                                                  0                   \n",
       "1                                                  0                   \n",
       "2                                                  0                   \n",
       "3                                                  0                   \n",
       "4                                                  0                   \n",
       "\n",
       "   job_skilled employee / official  job_unemployed/ unskilled - non-resident  \\\n",
       "0                                1                                         0   \n",
       "1                                1                                         0   \n",
       "2                                0                                         0   \n",
       "3                                1                                         0   \n",
       "4                                1                                         0   \n",
       "\n",
       "   job_unskilled - resident  telephone_none  \\\n",
       "0                         0               0   \n",
       "1                         0               1   \n",
       "2                         1               1   \n",
       "3                         0               1   \n",
       "4                         0               1   \n",
       "\n",
       "   telephone_yes, registered under the customers name   foreign_worker_no  \\\n",
       "0                                                  1                    0   \n",
       "1                                                  0                    0   \n",
       "2                                                  0                    0   \n",
       "3                                                  0                    0   \n",
       "4                                                  0                    0   \n",
       "\n",
       "   foreign_worker_yes  \n",
       "0                   1  \n",
       "1                   1  \n",
       "2                   1  \n",
       "3                   1  \n",
       "4                   1  \n",
       "\n",
       "[5 rows x 62 columns]"
      ]
     },
     "execution_count": 16,
     "metadata": {},
     "output_type": "execute_result"
    }
   ],
   "source": [
    "df.head()"
   ]
  },
  {
   "cell_type": "markdown",
   "metadata": {},
   "source": [
    "### Split Train/Test data 70:30 ratio\n",
    "##### Hint:from sklearn.model_selection import train_test_split"
   ]
  },
  {
   "cell_type": "code",
   "execution_count": 18,
   "metadata": {},
   "outputs": [],
   "source": [
    "X = df.drop([\"default\"], axis = 1)\n",
    "Y = df[\"default\"]"
   ]
  },
  {
   "cell_type": "code",
   "execution_count": 21,
   "metadata": {},
   "outputs": [
    {
     "data": {
      "text/html": [
       "<div>\n",
       "<style scoped>\n",
       "    .dataframe tbody tr th:only-of-type {\n",
       "        vertical-align: middle;\n",
       "    }\n",
       "\n",
       "    .dataframe tbody tr th {\n",
       "        vertical-align: top;\n",
       "    }\n",
       "\n",
       "    .dataframe thead th {\n",
       "        text-align: right;\n",
       "    }\n",
       "</style>\n",
       "<table border=\"1\" class=\"dataframe\">\n",
       "  <thead>\n",
       "    <tr style=\"text-align: right;\">\n",
       "      <th></th>\n",
       "      <th>duration_in_month</th>\n",
       "      <th>credit_amount</th>\n",
       "      <th>installment_as_income_perc</th>\n",
       "      <th>present_res_since</th>\n",
       "      <th>age</th>\n",
       "      <th>credits_this_bank</th>\n",
       "      <th>people_under_maintenance</th>\n",
       "      <th>account_check_status_0 &lt;= ... &lt; 200 DM</th>\n",
       "      <th>account_check_status_&lt; 0 DM</th>\n",
       "      <th>account_check_status_&gt;= 200 DM / salary assignments for at least 1 year</th>\n",
       "      <th>...</th>\n",
       "      <th>housing_own</th>\n",
       "      <th>housing_rent</th>\n",
       "      <th>job_management/ self-employed/ highly qualified employee/ officer</th>\n",
       "      <th>job_skilled employee / official</th>\n",
       "      <th>job_unemployed/ unskilled - non-resident</th>\n",
       "      <th>job_unskilled - resident</th>\n",
       "      <th>telephone_none</th>\n",
       "      <th>telephone_yes, registered under the customers name</th>\n",
       "      <th>foreign_worker_no</th>\n",
       "      <th>foreign_worker_yes</th>\n",
       "    </tr>\n",
       "  </thead>\n",
       "  <tbody>\n",
       "    <tr>\n",
       "      <th>0</th>\n",
       "      <td>6</td>\n",
       "      <td>1169</td>\n",
       "      <td>4</td>\n",
       "      <td>4</td>\n",
       "      <td>67</td>\n",
       "      <td>2</td>\n",
       "      <td>1</td>\n",
       "      <td>0</td>\n",
       "      <td>1</td>\n",
       "      <td>0</td>\n",
       "      <td>...</td>\n",
       "      <td>1</td>\n",
       "      <td>0</td>\n",
       "      <td>0</td>\n",
       "      <td>1</td>\n",
       "      <td>0</td>\n",
       "      <td>0</td>\n",
       "      <td>0</td>\n",
       "      <td>1</td>\n",
       "      <td>0</td>\n",
       "      <td>1</td>\n",
       "    </tr>\n",
       "    <tr>\n",
       "      <th>1</th>\n",
       "      <td>48</td>\n",
       "      <td>5951</td>\n",
       "      <td>2</td>\n",
       "      <td>2</td>\n",
       "      <td>22</td>\n",
       "      <td>1</td>\n",
       "      <td>1</td>\n",
       "      <td>1</td>\n",
       "      <td>0</td>\n",
       "      <td>0</td>\n",
       "      <td>...</td>\n",
       "      <td>1</td>\n",
       "      <td>0</td>\n",
       "      <td>0</td>\n",
       "      <td>1</td>\n",
       "      <td>0</td>\n",
       "      <td>0</td>\n",
       "      <td>1</td>\n",
       "      <td>0</td>\n",
       "      <td>0</td>\n",
       "      <td>1</td>\n",
       "    </tr>\n",
       "  </tbody>\n",
       "</table>\n",
       "<p>2 rows × 61 columns</p>\n",
       "</div>"
      ],
      "text/plain": [
       "   duration_in_month  credit_amount  installment_as_income_perc  \\\n",
       "0                  6           1169                           4   \n",
       "1                 48           5951                           2   \n",
       "\n",
       "   present_res_since  age  credits_this_bank  people_under_maintenance  \\\n",
       "0                  4   67                  2                         1   \n",
       "1                  2   22                  1                         1   \n",
       "\n",
       "   account_check_status_0 <= ... < 200 DM  account_check_status_< 0 DM  \\\n",
       "0                                       0                            1   \n",
       "1                                       1                            0   \n",
       "\n",
       "   account_check_status_>= 200 DM / salary assignments for at least 1 year  \\\n",
       "0                                                  0                         \n",
       "1                                                  0                         \n",
       "\n",
       "   ...  housing_own  housing_rent  \\\n",
       "0  ...            1             0   \n",
       "1  ...            1             0   \n",
       "\n",
       "   job_management/ self-employed/ highly qualified employee/ officer  \\\n",
       "0                                                  0                   \n",
       "1                                                  0                   \n",
       "\n",
       "   job_skilled employee / official  job_unemployed/ unskilled - non-resident  \\\n",
       "0                                1                                         0   \n",
       "1                                1                                         0   \n",
       "\n",
       "   job_unskilled - resident  telephone_none  \\\n",
       "0                         0               0   \n",
       "1                         0               1   \n",
       "\n",
       "   telephone_yes, registered under the customers name   foreign_worker_no  \\\n",
       "0                                                  1                    0   \n",
       "1                                                  0                    0   \n",
       "\n",
       "   foreign_worker_yes  \n",
       "0                   1  \n",
       "1                   1  \n",
       "\n",
       "[2 rows x 61 columns]"
      ]
     },
     "execution_count": 21,
     "metadata": {},
     "output_type": "execute_result"
    }
   ],
   "source": [
    "X.head(2)"
   ]
  },
  {
   "cell_type": "code",
   "execution_count": 20,
   "metadata": {},
   "outputs": [],
   "source": [
    "from sklearn.model_selection import train_test_split\n",
    "\n",
    "X_train, X_test, Y_train, Y_test = train_test_split(X, Y, test_size=0.3, random_state=1)"
   ]
  },
  {
   "cell_type": "markdown",
   "metadata": {},
   "source": [
    "### Build Random Forest Model\n",
    "#### Hint:from sklearn.ensemble import RandomForestClassifier using n_jobs=2,n_estimators=500,criterion=\"entropy\",random_state=9999"
   ]
  },
  {
   "cell_type": "code",
   "execution_count": 57,
   "metadata": {},
   "outputs": [
    {
     "data": {
      "text/plain": [
       "RandomForestClassifier(bootstrap=True, class_weight=None, criterion='entropy',\n",
       "            max_depth=None, max_features=5, max_leaf_nodes=None,\n",
       "            min_impurity_decrease=0.0, min_impurity_split=None,\n",
       "            min_samples_leaf=1, min_samples_split=2,\n",
       "            min_weight_fraction_leaf=0.0, n_estimators=500, n_jobs=2,\n",
       "            oob_score=False, random_state=9999, verbose=0,\n",
       "            warm_start=False)"
      ]
     },
     "execution_count": 57,
     "metadata": {},
     "output_type": "execute_result"
    }
   ],
   "source": [
    "from sklearn.ensemble import RandomForestClassifier\n",
    "rfcl = RandomForestClassifier(n_jobs= 2, n_estimators = 500,max_features = 5,criterion=\"entropy\", random_state= 9999)\n",
    "rfcl.fit(X_train, Y_train)"
   ]
  },
  {
   "cell_type": "code",
   "execution_count": 58,
   "metadata": {},
   "outputs": [],
   "source": [
    "Y2_predict_test = rfcl.predict(X_test)"
   ]
  },
  {
   "cell_type": "markdown",
   "metadata": {},
   "source": [
    "### Calculate Confusion Matrix and Accuracy score\n",
    "##### Hint: Use confusion_matrix and accuracy_score"
   ]
  },
  {
   "cell_type": "code",
   "execution_count": 52,
   "metadata": {},
   "outputs": [],
   "source": [
    "from sklearn.metrics import accuracy_score\n",
    "from sklearn.metrics import classification_report,confusion_matrix"
   ]
  },
  {
   "cell_type": "code",
   "execution_count": 59,
   "metadata": {},
   "outputs": [
    {
     "name": "stdout",
     "output_type": "stream",
     "text": [
      "Test accuracy is 0.7533333333333333\n"
     ]
    }
   ],
   "source": [
    "print (\"Test accuracy is\" , accuracy_score(Y_test,Y2_predict_test))"
   ]
  },
  {
   "cell_type": "code",
   "execution_count": 60,
   "metadata": {},
   "outputs": [
    {
     "name": "stdout",
     "output_type": "stream",
     "text": [
      "[[201  13]\n",
      " [ 61  25]]\n"
     ]
    }
   ],
   "source": [
    "print (confusion_matrix(Y_test,Y2_predict_test))"
   ]
  },
  {
   "cell_type": "markdown",
   "metadata": {},
   "source": [
    "### Show the list of the features importance"
   ]
  },
  {
   "cell_type": "markdown",
   "metadata": {},
   "source": [
    "#### Print or display the list of features in descending orders of importance"
   ]
  },
  {
   "cell_type": "code",
   "execution_count": 67,
   "metadata": {},
   "outputs": [],
   "source": [
    "rfcl.feature_importances_\n",
    "dict1 = dict(zip(df.columns, rfcl.feature_importances_ ))"
   ]
  },
  {
   "cell_type": "code",
   "execution_count": 122,
   "metadata": {},
   "outputs": [
    {
     "name": "stdout",
     "output_type": "stream",
     "text": [
      "duration_in_month  : 0.09444464825402799\n",
      "present_res_since  : 0.0746058202599639\n",
      "default  : 0.07105335925255793\n",
      "account_check_status_>= 200 DM / salary assignments for at least 1 year  : 0.04356809894443111\n",
      "credit_amount  : 0.03782424330024505\n",
      "installment_as_income_perc  : 0.034285165154978245\n",
      "account_check_status_0 <= ... < 200 DM  : 0.029592520427963988\n",
      "credit_history_all credits at this bank paid back duly  : 0.02781592406583744\n",
      "savings_.. >= 1000 DM   : 0.02006504882065539\n",
      "age  : 0.018680162398804358\n",
      "purpose_business  : 0.01744736093864195\n",
      "other_installment_plans_bank  : 0.017097205815043426\n",
      "people_under_maintenance  : 0.01613408136536679\n",
      "personal_status_sex_male : married/widowed  : 0.016126001675713174\n",
      "present_emp_since_... < 1 year   : 0.015906768895028116\n",
      "credit_history_delay in paying off in the past  : 0.015889440032117886\n",
      "present_emp_since_unemployed  : 0.015875718272146268\n",
      "job_management/ self-employed/ highly qualified employee/ officer  : 0.015651973628889072\n",
      "purpose_car (used)  : 0.015402281038458074\n",
      "job_unskilled - resident  : 0.015225013045637486\n",
      "property_if not A121 : building society savings agreement/ life insurance  : 0.015184942753485482\n",
      "telephone_none  : 0.015010408005814912\n",
      "property_if not A121/A122 : car or other, not in attribute 6  : 0.015008399610831091\n",
      "present_emp_since_.. >= 7 years  : 0.014541847318294927\n",
      "property_unknown / no property  : 0.014302796775515542\n",
      "housing_for free  : 0.014101742525358237\n",
      "savings_500 <= ... < 1000 DM   : 0.013837860712251362\n",
      "savings_unknown/ no savings account  : 0.013791939194688173\n",
      "present_emp_since_1 <= ... < 4 years  : 0.013739332843857251\n",
      "other_debtors_none  : 0.01370480532154423\n",
      "purpose_furniture/equipment  : 0.013645148159984181\n",
      "credit_history_existing credits paid back duly till now  : 0.012230535698526467\n",
      "purpose_car (new)  : 0.012228450247946856\n",
      "housing_rent  : 0.012142834029262042\n",
      "housing_own  : 0.011608896366978531\n",
      "job_unemployed/ unskilled - non-resident  : 0.011356232654907136\n",
      "purpose_(vacation - does not exist?)  : 0.01123884546626718\n",
      "credits_this_bank  : 0.010685078062378004\n",
      "property_real estate  : 0.010593737827230448\n",
      "other_debtors_guarantor  : 0.010276114517664452\n",
      "credit_history_critical account/ other credits existing (not at this bank)  : 0.009680392615731665\n",
      "savings_... < 100 DM  : 0.009183577898192758\n",
      "other_debtors_co-applicant  : 0.008331830162833795\n",
      "purpose_retraining  : 0.008252922864447813\n",
      "present_emp_since_4 <= ... < 7 years  : 0.008244802697499781\n",
      "account_check_status_< 0 DM  : 0.008218125030749712\n",
      "personal_status_sex_male : divorced/separated  : 0.008146968042895478\n",
      "account_check_status_no checking account  : 0.008144001432859186\n",
      "personal_status_sex_male : single  : 0.00801470651295066\n",
      "other_installment_plans_none  : 0.00796322387990083\n",
      "other_installment_plans_stores  : 0.007066065973838669\n",
      "personal_status_sex_female : divorced/separated/married  : 0.006494129727683261\n",
      "savings_100 <= ... < 500 DM  : 0.006054397987401874\n",
      "credit_history_no credits taken/ all credits paid back duly  : 0.006017658428246023\n",
      "purpose_domestic appliances  : 0.004400290255257794\n",
      "foreign_worker_no  : 0.003150229464113689\n",
      "telephone_yes, registered under the customers name   : 0.0030249808569195297\n",
      "purpose_radio/television  : 0.002735749848738884\n",
      "job_skilled employee / official  : 0.001978845912494556\n",
      "purpose_education  : 0.0018414715427049861\n",
      "purpose_repairs  : 0.0011348451852449433\n"
     ]
    }
   ],
   "source": [
    "listofTuples = sorted(dict1.items() , reverse=True, key=lambda x: x[1])\n",
    " \n",
    "# Iterate over the sorted sequence\n",
    "for elem in listofTuples :\n",
    "    print(elem[0] , \" :\" , elem[1] )"
   ]
  },
  {
   "cell_type": "markdown",
   "metadata": {},
   "source": [
    "### K-fold cross-validation\n",
    "#### Check for k=10, 12, 15, 18, 20 and print the the cross validation score\n",
    "#### Hint: use cross_val_score from model_selection"
   ]
  },
  {
   "cell_type": "code",
   "execution_count": null,
   "metadata": {},
   "outputs": [],
   "source": [
    "# This question is mentioned as optional in class ,hence dropping this question "
   ]
  },
  {
   "cell_type": "code",
   "execution_count": null,
   "metadata": {},
   "outputs": [],
   "source": []
  },
  {
   "cell_type": "markdown",
   "metadata": {},
   "source": [
    "## Unsupervised Learning:\n",
    "## KMeans Clustering"
   ]
  },
  {
   "cell_type": "markdown",
   "metadata": {},
   "source": [
    "This section deals with clustering process. \n",
    "\n",
    "The data set has information about features of silhouette extracted from the images of different cars\n",
    "Four \"Corgie\" model vehicles were used for the experiment: a double decker bus, Cheverolet van, \n",
    "Saab 9000 and an Opel Manta 400 cars. \n",
    "This particular combination of vehicles was chosen with the expectation that the bus, van and either one of the cars would be readily distinguishable, but it would be more difficult to distinguish between the cars."
   ]
  },
  {
   "cell_type": "markdown",
   "metadata": {},
   "source": [
    "### Import the libraries and vehicle dataset"
   ]
  },
  {
   "cell_type": "markdown",
   "metadata": {},
   "source": [
    "Check for NAs, missing values in the dataset"
   ]
  },
  {
   "cell_type": "code",
   "execution_count": 70,
   "metadata": {},
   "outputs": [
    {
     "data": {
      "text/html": [
       "<div>\n",
       "<style scoped>\n",
       "    .dataframe tbody tr th:only-of-type {\n",
       "        vertical-align: middle;\n",
       "    }\n",
       "\n",
       "    .dataframe tbody tr th {\n",
       "        vertical-align: top;\n",
       "    }\n",
       "\n",
       "    .dataframe thead th {\n",
       "        text-align: right;\n",
       "    }\n",
       "</style>\n",
       "<table border=\"1\" class=\"dataframe\">\n",
       "  <thead>\n",
       "    <tr style=\"text-align: right;\">\n",
       "      <th></th>\n",
       "      <th>compactness</th>\n",
       "      <th>circularity</th>\n",
       "      <th>distance_circularity</th>\n",
       "      <th>radius_ratio</th>\n",
       "      <th>pr.axis_aspect_ratio</th>\n",
       "      <th>max.length_aspect_ratio</th>\n",
       "      <th>scatter_ratio</th>\n",
       "      <th>elongatedness</th>\n",
       "      <th>pr.axis_rectangularity</th>\n",
       "      <th>max.length_rectangularity</th>\n",
       "      <th>scaled_variance</th>\n",
       "      <th>scaled_variance.1</th>\n",
       "      <th>scaled_radius_of_gyration</th>\n",
       "      <th>scaled_radius_of_gyration.1</th>\n",
       "      <th>skewness_about</th>\n",
       "      <th>skewness_about.1</th>\n",
       "      <th>skewness_about.2</th>\n",
       "      <th>hollows_ratio</th>\n",
       "      <th>class</th>\n",
       "    </tr>\n",
       "  </thead>\n",
       "  <tbody>\n",
       "    <tr>\n",
       "      <th>0</th>\n",
       "      <td>95</td>\n",
       "      <td>48.0</td>\n",
       "      <td>83.0</td>\n",
       "      <td>178.0</td>\n",
       "      <td>72.0</td>\n",
       "      <td>10</td>\n",
       "      <td>162.0</td>\n",
       "      <td>42.0</td>\n",
       "      <td>20.0</td>\n",
       "      <td>159</td>\n",
       "      <td>176.0</td>\n",
       "      <td>379.0</td>\n",
       "      <td>184.0</td>\n",
       "      <td>70.0</td>\n",
       "      <td>6.0</td>\n",
       "      <td>16.0</td>\n",
       "      <td>187.0</td>\n",
       "      <td>197</td>\n",
       "      <td>van</td>\n",
       "    </tr>\n",
       "    <tr>\n",
       "      <th>1</th>\n",
       "      <td>91</td>\n",
       "      <td>41.0</td>\n",
       "      <td>84.0</td>\n",
       "      <td>141.0</td>\n",
       "      <td>57.0</td>\n",
       "      <td>9</td>\n",
       "      <td>149.0</td>\n",
       "      <td>45.0</td>\n",
       "      <td>19.0</td>\n",
       "      <td>143</td>\n",
       "      <td>170.0</td>\n",
       "      <td>330.0</td>\n",
       "      <td>158.0</td>\n",
       "      <td>72.0</td>\n",
       "      <td>9.0</td>\n",
       "      <td>14.0</td>\n",
       "      <td>189.0</td>\n",
       "      <td>199</td>\n",
       "      <td>van</td>\n",
       "    </tr>\n",
       "    <tr>\n",
       "      <th>2</th>\n",
       "      <td>104</td>\n",
       "      <td>50.0</td>\n",
       "      <td>106.0</td>\n",
       "      <td>209.0</td>\n",
       "      <td>66.0</td>\n",
       "      <td>10</td>\n",
       "      <td>207.0</td>\n",
       "      <td>32.0</td>\n",
       "      <td>23.0</td>\n",
       "      <td>158</td>\n",
       "      <td>223.0</td>\n",
       "      <td>635.0</td>\n",
       "      <td>220.0</td>\n",
       "      <td>73.0</td>\n",
       "      <td>14.0</td>\n",
       "      <td>9.0</td>\n",
       "      <td>188.0</td>\n",
       "      <td>196</td>\n",
       "      <td>car</td>\n",
       "    </tr>\n",
       "    <tr>\n",
       "      <th>3</th>\n",
       "      <td>93</td>\n",
       "      <td>41.0</td>\n",
       "      <td>82.0</td>\n",
       "      <td>159.0</td>\n",
       "      <td>63.0</td>\n",
       "      <td>9</td>\n",
       "      <td>144.0</td>\n",
       "      <td>46.0</td>\n",
       "      <td>19.0</td>\n",
       "      <td>143</td>\n",
       "      <td>160.0</td>\n",
       "      <td>309.0</td>\n",
       "      <td>127.0</td>\n",
       "      <td>63.0</td>\n",
       "      <td>6.0</td>\n",
       "      <td>10.0</td>\n",
       "      <td>199.0</td>\n",
       "      <td>207</td>\n",
       "      <td>van</td>\n",
       "    </tr>\n",
       "    <tr>\n",
       "      <th>4</th>\n",
       "      <td>85</td>\n",
       "      <td>44.0</td>\n",
       "      <td>70.0</td>\n",
       "      <td>205.0</td>\n",
       "      <td>103.0</td>\n",
       "      <td>52</td>\n",
       "      <td>149.0</td>\n",
       "      <td>45.0</td>\n",
       "      <td>19.0</td>\n",
       "      <td>144</td>\n",
       "      <td>241.0</td>\n",
       "      <td>325.0</td>\n",
       "      <td>188.0</td>\n",
       "      <td>127.0</td>\n",
       "      <td>9.0</td>\n",
       "      <td>11.0</td>\n",
       "      <td>180.0</td>\n",
       "      <td>183</td>\n",
       "      <td>bus</td>\n",
       "    </tr>\n",
       "  </tbody>\n",
       "</table>\n",
       "</div>"
      ],
      "text/plain": [
       "   compactness  circularity  distance_circularity  radius_ratio  \\\n",
       "0           95         48.0                  83.0         178.0   \n",
       "1           91         41.0                  84.0         141.0   \n",
       "2          104         50.0                 106.0         209.0   \n",
       "3           93         41.0                  82.0         159.0   \n",
       "4           85         44.0                  70.0         205.0   \n",
       "\n",
       "   pr.axis_aspect_ratio  max.length_aspect_ratio  scatter_ratio  \\\n",
       "0                  72.0                       10          162.0   \n",
       "1                  57.0                        9          149.0   \n",
       "2                  66.0                       10          207.0   \n",
       "3                  63.0                        9          144.0   \n",
       "4                 103.0                       52          149.0   \n",
       "\n",
       "   elongatedness  pr.axis_rectangularity  max.length_rectangularity  \\\n",
       "0           42.0                    20.0                        159   \n",
       "1           45.0                    19.0                        143   \n",
       "2           32.0                    23.0                        158   \n",
       "3           46.0                    19.0                        143   \n",
       "4           45.0                    19.0                        144   \n",
       "\n",
       "   scaled_variance  scaled_variance.1  scaled_radius_of_gyration  \\\n",
       "0            176.0              379.0                      184.0   \n",
       "1            170.0              330.0                      158.0   \n",
       "2            223.0              635.0                      220.0   \n",
       "3            160.0              309.0                      127.0   \n",
       "4            241.0              325.0                      188.0   \n",
       "\n",
       "   scaled_radius_of_gyration.1  skewness_about  skewness_about.1  \\\n",
       "0                         70.0             6.0              16.0   \n",
       "1                         72.0             9.0              14.0   \n",
       "2                         73.0            14.0               9.0   \n",
       "3                         63.0             6.0              10.0   \n",
       "4                        127.0             9.0              11.0   \n",
       "\n",
       "   skewness_about.2  hollows_ratio class  \n",
       "0             187.0            197   van  \n",
       "1             189.0            199   van  \n",
       "2             188.0            196   car  \n",
       "3             199.0            207   van  \n",
       "4             180.0            183   bus  "
      ]
     },
     "execution_count": 70,
     "metadata": {},
     "output_type": "execute_result"
    }
   ],
   "source": [
    "sf = pd.read_csv(\"vehicle.csv\")\n",
    "sf.head()"
   ]
  },
  {
   "cell_type": "code",
   "execution_count": 80,
   "metadata": {},
   "outputs": [
    {
     "data": {
      "text/plain": [
       "(846, 18)"
      ]
     },
     "execution_count": 80,
     "metadata": {},
     "output_type": "execute_result"
    }
   ],
   "source": [
    "sf.shape"
   ]
  },
  {
   "cell_type": "code",
   "execution_count": 78,
   "metadata": {},
   "outputs": [],
   "source": [
    "sf = sf.drop('class' , 1)"
   ]
  },
  {
   "cell_type": "code",
   "execution_count": 79,
   "metadata": {},
   "outputs": [
    {
     "data": {
      "text/html": [
       "<div>\n",
       "<style scoped>\n",
       "    .dataframe tbody tr th:only-of-type {\n",
       "        vertical-align: middle;\n",
       "    }\n",
       "\n",
       "    .dataframe tbody tr th {\n",
       "        vertical-align: top;\n",
       "    }\n",
       "\n",
       "    .dataframe thead th {\n",
       "        text-align: right;\n",
       "    }\n",
       "</style>\n",
       "<table border=\"1\" class=\"dataframe\">\n",
       "  <thead>\n",
       "    <tr style=\"text-align: right;\">\n",
       "      <th></th>\n",
       "      <th>compactness</th>\n",
       "      <th>circularity</th>\n",
       "      <th>distance_circularity</th>\n",
       "      <th>radius_ratio</th>\n",
       "      <th>pr.axis_aspect_ratio</th>\n",
       "      <th>max.length_aspect_ratio</th>\n",
       "      <th>scatter_ratio</th>\n",
       "      <th>elongatedness</th>\n",
       "      <th>pr.axis_rectangularity</th>\n",
       "      <th>max.length_rectangularity</th>\n",
       "      <th>scaled_variance</th>\n",
       "      <th>scaled_variance.1</th>\n",
       "      <th>scaled_radius_of_gyration</th>\n",
       "      <th>scaled_radius_of_gyration.1</th>\n",
       "      <th>skewness_about</th>\n",
       "      <th>skewness_about.1</th>\n",
       "      <th>skewness_about.2</th>\n",
       "      <th>hollows_ratio</th>\n",
       "    </tr>\n",
       "  </thead>\n",
       "  <tbody>\n",
       "    <tr>\n",
       "      <th>0</th>\n",
       "      <td>95</td>\n",
       "      <td>48.0</td>\n",
       "      <td>83.0</td>\n",
       "      <td>178.0</td>\n",
       "      <td>72.0</td>\n",
       "      <td>10</td>\n",
       "      <td>162.0</td>\n",
       "      <td>42.0</td>\n",
       "      <td>20.0</td>\n",
       "      <td>159</td>\n",
       "      <td>176.0</td>\n",
       "      <td>379.0</td>\n",
       "      <td>184.0</td>\n",
       "      <td>70.0</td>\n",
       "      <td>6.0</td>\n",
       "      <td>16.0</td>\n",
       "      <td>187.0</td>\n",
       "      <td>197</td>\n",
       "    </tr>\n",
       "    <tr>\n",
       "      <th>1</th>\n",
       "      <td>91</td>\n",
       "      <td>41.0</td>\n",
       "      <td>84.0</td>\n",
       "      <td>141.0</td>\n",
       "      <td>57.0</td>\n",
       "      <td>9</td>\n",
       "      <td>149.0</td>\n",
       "      <td>45.0</td>\n",
       "      <td>19.0</td>\n",
       "      <td>143</td>\n",
       "      <td>170.0</td>\n",
       "      <td>330.0</td>\n",
       "      <td>158.0</td>\n",
       "      <td>72.0</td>\n",
       "      <td>9.0</td>\n",
       "      <td>14.0</td>\n",
       "      <td>189.0</td>\n",
       "      <td>199</td>\n",
       "    </tr>\n",
       "    <tr>\n",
       "      <th>2</th>\n",
       "      <td>104</td>\n",
       "      <td>50.0</td>\n",
       "      <td>106.0</td>\n",
       "      <td>209.0</td>\n",
       "      <td>66.0</td>\n",
       "      <td>10</td>\n",
       "      <td>207.0</td>\n",
       "      <td>32.0</td>\n",
       "      <td>23.0</td>\n",
       "      <td>158</td>\n",
       "      <td>223.0</td>\n",
       "      <td>635.0</td>\n",
       "      <td>220.0</td>\n",
       "      <td>73.0</td>\n",
       "      <td>14.0</td>\n",
       "      <td>9.0</td>\n",
       "      <td>188.0</td>\n",
       "      <td>196</td>\n",
       "    </tr>\n",
       "    <tr>\n",
       "      <th>3</th>\n",
       "      <td>93</td>\n",
       "      <td>41.0</td>\n",
       "      <td>82.0</td>\n",
       "      <td>159.0</td>\n",
       "      <td>63.0</td>\n",
       "      <td>9</td>\n",
       "      <td>144.0</td>\n",
       "      <td>46.0</td>\n",
       "      <td>19.0</td>\n",
       "      <td>143</td>\n",
       "      <td>160.0</td>\n",
       "      <td>309.0</td>\n",
       "      <td>127.0</td>\n",
       "      <td>63.0</td>\n",
       "      <td>6.0</td>\n",
       "      <td>10.0</td>\n",
       "      <td>199.0</td>\n",
       "      <td>207</td>\n",
       "    </tr>\n",
       "    <tr>\n",
       "      <th>4</th>\n",
       "      <td>85</td>\n",
       "      <td>44.0</td>\n",
       "      <td>70.0</td>\n",
       "      <td>205.0</td>\n",
       "      <td>103.0</td>\n",
       "      <td>52</td>\n",
       "      <td>149.0</td>\n",
       "      <td>45.0</td>\n",
       "      <td>19.0</td>\n",
       "      <td>144</td>\n",
       "      <td>241.0</td>\n",
       "      <td>325.0</td>\n",
       "      <td>188.0</td>\n",
       "      <td>127.0</td>\n",
       "      <td>9.0</td>\n",
       "      <td>11.0</td>\n",
       "      <td>180.0</td>\n",
       "      <td>183</td>\n",
       "    </tr>\n",
       "  </tbody>\n",
       "</table>\n",
       "</div>"
      ],
      "text/plain": [
       "   compactness  circularity  distance_circularity  radius_ratio  \\\n",
       "0           95         48.0                  83.0         178.0   \n",
       "1           91         41.0                  84.0         141.0   \n",
       "2          104         50.0                 106.0         209.0   \n",
       "3           93         41.0                  82.0         159.0   \n",
       "4           85         44.0                  70.0         205.0   \n",
       "\n",
       "   pr.axis_aspect_ratio  max.length_aspect_ratio  scatter_ratio  \\\n",
       "0                  72.0                       10          162.0   \n",
       "1                  57.0                        9          149.0   \n",
       "2                  66.0                       10          207.0   \n",
       "3                  63.0                        9          144.0   \n",
       "4                 103.0                       52          149.0   \n",
       "\n",
       "   elongatedness  pr.axis_rectangularity  max.length_rectangularity  \\\n",
       "0           42.0                    20.0                        159   \n",
       "1           45.0                    19.0                        143   \n",
       "2           32.0                    23.0                        158   \n",
       "3           46.0                    19.0                        143   \n",
       "4           45.0                    19.0                        144   \n",
       "\n",
       "   scaled_variance  scaled_variance.1  scaled_radius_of_gyration  \\\n",
       "0            176.0              379.0                      184.0   \n",
       "1            170.0              330.0                      158.0   \n",
       "2            223.0              635.0                      220.0   \n",
       "3            160.0              309.0                      127.0   \n",
       "4            241.0              325.0                      188.0   \n",
       "\n",
       "   scaled_radius_of_gyration.1  skewness_about  skewness_about.1  \\\n",
       "0                         70.0             6.0              16.0   \n",
       "1                         72.0             9.0              14.0   \n",
       "2                         73.0            14.0               9.0   \n",
       "3                         63.0             6.0              10.0   \n",
       "4                        127.0             9.0              11.0   \n",
       "\n",
       "   skewness_about.2  hollows_ratio  \n",
       "0             187.0            197  \n",
       "1             189.0            199  \n",
       "2             188.0            196  \n",
       "3             199.0            207  \n",
       "4             180.0            183  "
      ]
     },
     "execution_count": 79,
     "metadata": {},
     "output_type": "execute_result"
    }
   ],
   "source": [
    "sf.head()"
   ]
  },
  {
   "cell_type": "code",
   "execution_count": 84,
   "metadata": {},
   "outputs": [
    {
     "data": {
      "text/plain": [
       "compactness                    0\n",
       "circularity                    5\n",
       "distance_circularity           4\n",
       "radius_ratio                   6\n",
       "pr.axis_aspect_ratio           2\n",
       "max.length_aspect_ratio        0\n",
       "scatter_ratio                  1\n",
       "elongatedness                  1\n",
       "pr.axis_rectangularity         3\n",
       "max.length_rectangularity      0\n",
       "scaled_variance                3\n",
       "scaled_variance.1              2\n",
       "scaled_radius_of_gyration      2\n",
       "scaled_radius_of_gyration.1    4\n",
       "skewness_about                 6\n",
       "skewness_about.1               1\n",
       "skewness_about.2               1\n",
       "hollows_ratio                  0\n",
       "dtype: int64"
      ]
     },
     "execution_count": 84,
     "metadata": {},
     "output_type": "execute_result"
    }
   ],
   "source": [
    "sf.isna().sum()"
   ]
  },
  {
   "cell_type": "code",
   "execution_count": 87,
   "metadata": {},
   "outputs": [],
   "source": [
    "sf.dropna(axis=0, inplace = True)"
   ]
  },
  {
   "cell_type": "code",
   "execution_count": 88,
   "metadata": {},
   "outputs": [
    {
     "data": {
      "text/plain": [
       "compactness                    0\n",
       "circularity                    0\n",
       "distance_circularity           0\n",
       "radius_ratio                   0\n",
       "pr.axis_aspect_ratio           0\n",
       "max.length_aspect_ratio        0\n",
       "scatter_ratio                  0\n",
       "elongatedness                  0\n",
       "pr.axis_rectangularity         0\n",
       "max.length_rectangularity      0\n",
       "scaled_variance                0\n",
       "scaled_variance.1              0\n",
       "scaled_radius_of_gyration      0\n",
       "scaled_radius_of_gyration.1    0\n",
       "skewness_about                 0\n",
       "skewness_about.1               0\n",
       "skewness_about.2               0\n",
       "hollows_ratio                  0\n",
       "dtype: int64"
      ]
     },
     "execution_count": 88,
     "metadata": {},
     "output_type": "execute_result"
    }
   ],
   "source": [
    "sf.isna().sum()"
   ]
  },
  {
   "cell_type": "markdown",
   "metadata": {},
   "source": [
    "### Standardize the data"
   ]
  },
  {
   "cell_type": "markdown",
   "metadata": {},
   "source": [
    "#### Hint: Use zscore from scipy.stats or StandardScaler"
   ]
  },
  {
   "cell_type": "code",
   "execution_count": 91,
   "metadata": {},
   "outputs": [],
   "source": [
    "from scipy.stats import zscore"
   ]
  },
  {
   "cell_type": "code",
   "execution_count": 92,
   "metadata": {},
   "outputs": [],
   "source": [
    "sf1 = zscore(sf)"
   ]
  },
  {
   "cell_type": "markdown",
   "metadata": {},
   "source": [
    "### Create a dummy array called distortion\n"
   ]
  },
  {
   "cell_type": "code",
   "execution_count": 93,
   "metadata": {},
   "outputs": [],
   "source": [
    "distortion =[]"
   ]
  },
  {
   "cell_type": "markdown",
   "metadata": {},
   "source": [
    "### Calculating distortion - C distance\n",
    "Iterating values of k from 1 to 10 fit K means model Using c distance - Get the measure for Sum of squares error.\n",
    "#### Here, logically K-Means attempts to minimize distortion defined by the the sum of the squared distances between each observation and its closest centroid."
   ]
  },
  {
   "cell_type": "code",
   "execution_count": 95,
   "metadata": {},
   "outputs": [],
   "source": [
    "from sklearn.cluster import KMeans\n",
    "from scipy.spatial import distance\n",
    "for k in range(1, 10):\n",
    "    model = KMeans(n_clusters=k).fit(sf1)\n",
    "    distortion.append(sum(np.min(distance.cdist(sf1, model.cluster_centers_,'euclidean'), axis=1))/(sf1.shape[0]))"
   ]
  },
  {
   "cell_type": "code",
   "execution_count": 96,
   "metadata": {},
   "outputs": [
    {
     "data": {
      "text/plain": [
       "[3.939299196727955,\n",
       " 2.966824380205441,\n",
       " 2.642794199692158,\n",
       " 2.548617081764424,\n",
       " 2.430171112602615,\n",
       " 2.315019488970958,\n",
       " 2.2421006157090035,\n",
       " 2.1802749491500193,\n",
       " 2.1033864358256382]"
      ]
     },
     "execution_count": 96,
     "metadata": {},
     "output_type": "execute_result"
    }
   ],
   "source": [
    "distortion"
   ]
  },
  {
   "cell_type": "markdown",
   "metadata": {},
   "source": [
    "### Plotting Elbow/ Scree Plot\n",
    "Use Matplotlib to plot the scree plot - Note: Scree plot plots distortion vs the no of clusters"
   ]
  },
  {
   "cell_type": "code",
   "execution_count": 99,
   "metadata": {},
   "outputs": [
    {
     "data": {
      "text/plain": [
       "[<matplotlib.lines.Line2D at 0x1cf6b3e98d0>]"
      ]
     },
     "execution_count": 99,
     "metadata": {},
     "output_type": "execute_result"
    },
    {
     "data": {
      "image/png": "[encoded data removed]",
      "text/plain": [
       "<Figure size 432x288 with 1 Axes>"
      ]
     },
     "metadata": {
      "needs_background": "light"
     },
     "output_type": "display_data"
    }
   ],
   "source": [
    "import matplotlib.pylab as plt\n",
    "import seaborn as sns; sns.set() \n",
    "%matplotlib inline\n",
    "plt.plot(range(1,10), distortion)"
   ]
  },
  {
   "cell_type": "markdown",
   "metadata": {},
   "source": [
    "### Find out the optimal value of K"
   ]
  },
  {
   "cell_type": "code",
   "execution_count": null,
   "metadata": {},
   "outputs": [],
   "source": [
    "#The optimal value of K is 3. Expected class variable also has 3 possible values . Hence choosing the value as 3"
   ]
  },
  {
   "cell_type": "markdown",
   "metadata": {},
   "source": [
    "### Using optimal value of K - Cluster the data.\n",
    "Note: Since the data has more than 2 dimension we cannot visualize the data. As an alternative, we can observe the centroids and note how they are distributed across different dimensions"
   ]
  },
  {
   "cell_type": "code",
   "execution_count": 100,
   "metadata": {},
   "outputs": [],
   "source": [
    "from sklearn.cluster import KMeans"
   ]
  },
  {
   "cell_type": "code",
   "execution_count": 101,
   "metadata": {},
   "outputs": [],
   "source": [
    "km = KMeans(n_clusters=3, \n",
    "            n_init=10, \n",
    "            max_iter=300,random_state=1)"
   ]
  },
  {
   "cell_type": "code",
   "execution_count": 102,
   "metadata": {},
   "outputs": [
    {
     "data": {
      "text/plain": [
       "KMeans(algorithm='auto', copy_x=True, init='k-means++', max_iter=300,\n",
       "    n_clusters=3, n_init=10, n_jobs=None, precompute_distances='auto',\n",
       "    random_state=1, tol=0.0001, verbose=0)"
      ]
     },
     "execution_count": 102,
     "metadata": {},
     "output_type": "execute_result"
    }
   ],
   "source": [
    "km.fit(sf1)"
   ]
  },
  {
   "cell_type": "markdown",
   "metadata": {},
   "source": [
    "You can use kmeans.cluster\\_centers\\_ function to pull the centroid information from the instance"
   ]
  },
  {
   "cell_type": "code",
   "execution_count": 105,
   "metadata": {},
   "outputs": [
    {
     "data": {
      "text/plain": [
       "array([[-0.91987072, -0.52009251, -0.89320752, -1.06435572, -0.50042171,\n",
       "        -0.2190738 , -0.7791213 ,  0.86589322, -0.74535635, -0.484632  ,\n",
       "        -0.78240328, -0.78341064, -0.38498232,  0.83878747, -0.09524349,\n",
       "        -0.30171562, -1.05420601, -1.11069466],\n",
       "       [ 1.13076532,  1.17094237,  1.19500584,  1.01909505,  0.21505188,\n",
       "         0.34250798,  1.27180461, -1.19061224,  1.27548416,  1.09266768,\n",
       "         1.22038121,  1.28132727,  1.07954232, -0.02879497,  0.16229031,\n",
       "         0.26566456, -0.00535553,  0.18380067],\n",
       "       [-0.2339617 , -0.57387481, -0.30776905, -0.03041322,  0.2050726 ,\n",
       "        -0.11653151, -0.45904181,  0.32506329, -0.48798836, -0.53604446,\n",
       "        -0.41380935, -0.46366305, -0.60155031, -0.61924057, -0.06177969,\n",
       "         0.01066762,  0.81278556,  0.69897299]])"
      ]
     },
     "execution_count": 105,
     "metadata": {},
     "output_type": "execute_result"
    }
   ],
   "source": [
    "centroids = km.cluster_centers_\n",
    "centroids"
   ]
  },
  {
   "cell_type": "markdown",
   "metadata": {},
   "source": [
    "### Store the centroids in a dataframe with column names from the original dataset given"
   ]
  },
  {
   "cell_type": "markdown",
   "metadata": {},
   "source": [
    "Hint: Use pd.Dataframe function "
   ]
  },
  {
   "cell_type": "code",
   "execution_count": 121,
   "metadata": {},
   "outputs": [
    {
     "data": {
      "text/html": [
       "<div>\n",
       "<style scoped>\n",
       "    .dataframe tbody tr th:only-of-type {\n",
       "        vertical-align: middle;\n",
       "    }\n",
       "\n",
       "    .dataframe tbody tr th {\n",
       "        vertical-align: top;\n",
       "    }\n",
       "\n",
       "    .dataframe thead th {\n",
       "        text-align: right;\n",
       "    }\n",
       "</style>\n",
       "<table border=\"1\" class=\"dataframe\">\n",
       "  <thead>\n",
       "    <tr style=\"text-align: right;\">\n",
       "      <th></th>\n",
       "      <th>compactness</th>\n",
       "      <th>circularity</th>\n",
       "      <th>distance_circularity</th>\n",
       "      <th>radius_ratio</th>\n",
       "      <th>pr.axis_aspect_ratio</th>\n",
       "      <th>max.length_aspect_ratio</th>\n",
       "      <th>scatter_ratio</th>\n",
       "      <th>elongatedness</th>\n",
       "      <th>pr.axis_rectangularity</th>\n",
       "      <th>max.length_rectangularity</th>\n",
       "      <th>scaled_variance</th>\n",
       "      <th>scaled_variance.1</th>\n",
       "      <th>scaled_radius_of_gyration</th>\n",
       "      <th>scaled_radius_of_gyration.1</th>\n",
       "      <th>skewness_about</th>\n",
       "      <th>skewness_about.1</th>\n",
       "      <th>skewness_about.2</th>\n",
       "      <th>hollows_ratio</th>\n",
       "    </tr>\n",
       "  </thead>\n",
       "  <tbody>\n",
       "    <tr>\n",
       "      <th>0</th>\n",
       "      <td>-0.919871</td>\n",
       "      <td>-0.520093</td>\n",
       "      <td>-0.893208</td>\n",
       "      <td>-1.064356</td>\n",
       "      <td>-0.500422</td>\n",
       "      <td>-0.219074</td>\n",
       "      <td>-0.779121</td>\n",
       "      <td>0.865893</td>\n",
       "      <td>-0.745356</td>\n",
       "      <td>-0.484632</td>\n",
       "      <td>-0.782403</td>\n",
       "      <td>-0.783411</td>\n",
       "      <td>-0.384982</td>\n",
       "      <td>0.838787</td>\n",
       "      <td>-0.095243</td>\n",
       "      <td>-0.301716</td>\n",
       "      <td>-1.054206</td>\n",
       "      <td>-1.110695</td>\n",
       "    </tr>\n",
       "    <tr>\n",
       "      <th>1</th>\n",
       "      <td>1.130765</td>\n",
       "      <td>1.170942</td>\n",
       "      <td>1.195006</td>\n",
       "      <td>1.019095</td>\n",
       "      <td>0.215052</td>\n",
       "      <td>0.342508</td>\n",
       "      <td>1.271805</td>\n",
       "      <td>-1.190612</td>\n",
       "      <td>1.275484</td>\n",
       "      <td>1.092668</td>\n",
       "      <td>1.220381</td>\n",
       "      <td>1.281327</td>\n",
       "      <td>1.079542</td>\n",
       "      <td>-0.028795</td>\n",
       "      <td>0.162290</td>\n",
       "      <td>0.265665</td>\n",
       "      <td>-0.005356</td>\n",
       "      <td>0.183801</td>\n",
       "    </tr>\n",
       "    <tr>\n",
       "      <th>2</th>\n",
       "      <td>-0.233962</td>\n",
       "      <td>-0.573875</td>\n",
       "      <td>-0.307769</td>\n",
       "      <td>-0.030413</td>\n",
       "      <td>0.205073</td>\n",
       "      <td>-0.116532</td>\n",
       "      <td>-0.459042</td>\n",
       "      <td>0.325063</td>\n",
       "      <td>-0.487988</td>\n",
       "      <td>-0.536044</td>\n",
       "      <td>-0.413809</td>\n",
       "      <td>-0.463663</td>\n",
       "      <td>-0.601550</td>\n",
       "      <td>-0.619241</td>\n",
       "      <td>-0.061780</td>\n",
       "      <td>0.010668</td>\n",
       "      <td>0.812786</td>\n",
       "      <td>0.698973</td>\n",
       "    </tr>\n",
       "  </tbody>\n",
       "</table>\n",
       "</div>"
      ],
      "text/plain": [
       "   compactness  circularity  distance_circularity  radius_ratio  \\\n",
       "0    -0.919871    -0.520093             -0.893208     -1.064356   \n",
       "1     1.130765     1.170942              1.195006      1.019095   \n",
       "2    -0.233962    -0.573875             -0.307769     -0.030413   \n",
       "\n",
       "   pr.axis_aspect_ratio  max.length_aspect_ratio  scatter_ratio  \\\n",
       "0             -0.500422                -0.219074      -0.779121   \n",
       "1              0.215052                 0.342508       1.271805   \n",
       "2              0.205073                -0.116532      -0.459042   \n",
       "\n",
       "   elongatedness  pr.axis_rectangularity  max.length_rectangularity  \\\n",
       "0       0.865893               -0.745356                  -0.484632   \n",
       "1      -1.190612                1.275484                   1.092668   \n",
       "2       0.325063               -0.487988                  -0.536044   \n",
       "\n",
       "   scaled_variance  scaled_variance.1  scaled_radius_of_gyration  \\\n",
       "0        -0.782403          -0.783411                  -0.384982   \n",
       "1         1.220381           1.281327                   1.079542   \n",
       "2        -0.413809          -0.463663                  -0.601550   \n",
       "\n",
       "   scaled_radius_of_gyration.1  skewness_about  skewness_about.1  \\\n",
       "0                     0.838787       -0.095243         -0.301716   \n",
       "1                    -0.028795        0.162290          0.265665   \n",
       "2                    -0.619241       -0.061780          0.010668   \n",
       "\n",
       "   skewness_about.2  hollows_ratio  \n",
       "0         -1.054206      -1.110695  \n",
       "1         -0.005356       0.183801  \n",
       "2          0.812786       0.698973  "
      ]
     },
     "execution_count": 121,
     "metadata": {},
     "output_type": "execute_result"
    }
   ],
   "source": [
    "km_df = pd.DataFrame(centroids, columns= sf.columns)\n",
    "km_df.head()"
   ]
  },
  {
   "cell_type": "markdown",
   "metadata": {},
   "source": [
    "### Use kmeans.labels_ function to print out the labels of the classes"
   ]
  },
  {
   "cell_type": "code",
   "execution_count": 120,
   "metadata": {},
   "outputs": [
    {
     "data": {
      "text/plain": [
       "array([2, 2, 1, 2, 0, 2, 2, 2, 2, 2, 2, 2, 2, 1, 0, 2, 1, 0, 0, 2, 2, 1,\n",
       "       2, 0, 1, 1, 0, 2, 2, 2, 1, 2, 0, 1, 1, 0, 1, 0, 0, 2, 1, 0, 0, 0,\n",
       "       0, 2, 0, 2, 1, 2, 1, 2, 2, 0, 1, 0, 1, 0, 0, 0, 2, 0, 1, 2, 1, 1,\n",
       "       2, 0, 2, 1, 2, 0, 0, 1, 2, 0, 2, 1, 2, 0, 2, 0, 1, 2, 1, 2, 0, 1,\n",
       "       0, 0, 1, 0, 0, 2, 2, 0, 1, 1, 0, 0, 1, 2, 2, 0, 0, 0, 2, 1, 1, 2,\n",
       "       0, 0, 2, 0, 0, 0, 0, 0, 2, 1, 1, 2, 2, 0, 1, 1, 0, 2, 0, 2, 2, 1,\n",
       "       0, 2, 1, 2, 2, 2, 2, 1, 2, 2, 1, 2, 1, 2, 0, 2, 0, 1, 2, 2, 1, 1,\n",
       "       2, 1, 0, 0, 1, 1, 2, 1, 2, 2, 2, 2, 0, 1, 0, 2, 0, 1, 2, 2, 2, 1,\n",
       "       2, 1, 2, 1, 2, 0, 1, 0, 0, 0, 2, 2, 1, 1, 2, 2, 2, 0, 1, 2, 2, 2,\n",
       "       1, 0, 0, 1, 0, 2, 1, 0, 0, 0, 2, 1, 2, 1, 0, 0, 0, 0, 1, 2, 0, 2,\n",
       "       1, 0, 2, 2, 0, 1, 0, 0, 2, 2, 1, 0, 1, 0, 2, 2, 1, 2, 2, 1, 1, 0,\n",
       "       2, 2, 2, 1, 0, 2, 2, 0, 0, 2, 2, 1, 2, 0, 0, 1, 2, 2, 0, 0, 1, 0,\n",
       "       2, 1, 0, 2, 1, 2, 2, 1, 2, 1, 0, 2, 2, 1, 2, 2, 2, 0, 2, 1, 1, 1,\n",
       "       1, 0, 2, 1, 0, 0, 0, 2, 0, 1, 1, 0, 1, 2, 0, 1, 2, 2, 2, 1, 1, 0,\n",
       "       1, 1, 0, 1, 2, 2, 2, 0, 0, 1, 1, 1, 2, 2, 2, 1, 0, 2, 0, 1, 2, 2,\n",
       "       1, 2, 1, 1, 1, 2, 0, 0, 1, 0, 0, 0, 2, 2, 2, 2, 0, 1, 1, 0, 0, 1,\n",
       "       0, 1, 0, 1, 2, 0, 2, 0, 1, 1, 0, 2, 2, 2, 1, 2, 2, 2, 2, 1, 2, 1,\n",
       "       2, 1, 2, 0, 0, 2, 2, 2, 0, 0, 2, 0, 1, 2, 2, 0, 0, 1, 2, 0, 2, 2,\n",
       "       1, 2, 1, 2, 1, 1, 0, 0, 1, 2, 0, 0, 2, 1, 1, 0, 2, 1, 1, 0, 1, 1,\n",
       "       1, 2, 2, 2, 2, 2, 1, 0, 0, 2, 1, 2, 2, 1, 2, 0, 1, 0, 0, 1, 2, 0,\n",
       "       1, 1, 1, 0, 1, 1, 0, 2, 0, 1, 1, 2, 2, 0, 0, 1, 2, 0, 1, 1, 2, 0,\n",
       "       1, 1, 2, 0, 0, 1, 1, 1, 0, 0, 1, 1, 1, 2, 2, 1, 0, 2, 1, 2, 0, 0,\n",
       "       2, 1, 0, 2, 2, 0, 2, 1, 2, 1, 1, 2, 0, 2, 1, 1, 0, 0, 2, 1, 2, 1,\n",
       "       1, 2, 2, 2, 2, 0, 0, 0, 2, 2, 1, 0, 0, 2, 0, 1, 2, 1, 0, 0, 1, 1,\n",
       "       2, 1, 2, 2, 2, 1, 2, 0, 2, 1, 2, 2, 0, 1, 1, 1, 1, 2, 0, 0, 0, 1,\n",
       "       1, 1, 2, 1, 0, 2, 1, 0, 0, 0, 2, 0, 1, 2, 2, 2, 2, 2, 2, 1, 2, 2,\n",
       "       1, 2, 2, 2, 0, 1, 0, 0, 2, 0, 2, 2, 0, 0, 1, 1, 0, 2, 1, 2, 1, 2,\n",
       "       2, 1, 2, 0, 1, 0, 1, 0, 0, 2, 0, 2, 1, 1, 0, 1, 2, 2, 0, 2, 0, 1,\n",
       "       2, 1, 0, 2, 2, 2, 0, 0, 0, 2, 1, 2, 1, 0, 2, 2, 2, 2, 1, 2, 0, 1,\n",
       "       2, 1, 2, 2, 1, 0, 1, 0, 2, 2, 2, 0, 1, 2, 0, 2, 1, 0, 1, 2, 2, 1,\n",
       "       0, 2, 0, 2, 2, 0, 2, 1, 1, 2, 2, 1, 1, 2, 2, 0, 2, 1, 1, 1, 1, 2,\n",
       "       1, 2, 2, 1, 1, 2, 1, 2, 1, 2, 0, 1, 2, 0, 1, 1, 1, 2, 1, 0, 0, 1,\n",
       "       1, 1, 2, 1, 2, 2, 1, 2, 0, 2, 0, 2, 1, 2, 0, 2, 2, 2, 0, 1, 0, 0,\n",
       "       0, 1, 1, 0, 1, 1, 0, 2, 2, 1, 2, 0, 1, 1, 0, 2, 2, 1, 1, 1, 0, 1,\n",
       "       2, 1, 1, 0, 0, 1, 0, 1, 2, 0, 2, 1, 1, 2, 0, 2, 1, 1, 2, 2, 0, 2,\n",
       "       2, 1, 0, 2, 1, 0, 0, 1, 0, 2, 0, 0, 0, 2, 1, 1, 2, 0, 1, 2, 1, 1,\n",
       "       0, 2, 1, 0, 0, 2, 2, 1, 0, 0, 1, 0, 2, 2, 2, 2, 2, 2, 1, 2, 0])"
      ]
     },
     "execution_count": 120,
     "metadata": {},
     "output_type": "execute_result"
    }
   ],
   "source": [
    "km.labels_"
   ]
  }
 ],
 "metadata": {
  "kernelspec": {
   "display_name": "Python 3",
   "language": "python",
   "name": "python3"
  },
  "language_info": {
   "codemirror_mode": {
    "name": "ipython",
    "version": 3
   },
   "file_extension": ".py",
   "mimetype": "text/x-python",
   "name": "python",
   "nbconvert_exporter": "python",
   "pygments_lexer": "ipython3",
   "version": "3.7.3"
  }
 },
 "nbformat": 4,
 "nbformat_minor": 2
}
